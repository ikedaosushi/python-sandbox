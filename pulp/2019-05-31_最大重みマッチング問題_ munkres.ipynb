{
 "cells": [
  {
   "cell_type": "code",
   "execution_count": 1,
   "metadata": {},
   "outputs": [
    {
     "name": "stdout",
     "output_type": "stream",
     "text": [
      "Collecting munkres\n",
      "  Downloading https://files.pythonhosted.org/packages/64/97/61ddc63578870e04db6eb1d3bee58ad4e727f682068a7c7405edb8b2cdeb/munkres-1.1.2-py2.py3-none-any.whl\n",
      "Installing collected packages: munkres\n",
      "Successfully installed munkres-1.1.2\n"
     ]
    }
   ],
   "source": [
    "%%bash\n",
    "pip install munkres"
   ]
  },
  {
   "cell_type": "code",
   "execution_count": 2,
   "metadata": {},
   "outputs": [],
   "source": [
    "matrix = [[5, 9, 1],\n",
    "          [10, 3, 2],\n",
    "          [8, 7, 4]]"
   ]
  },
  {
   "cell_type": "code",
   "execution_count": 10,
   "metadata": {},
   "outputs": [
    {
     "name": "stdout",
     "output_type": "stream",
     "text": [
      "Lowest cost through this matrix:\n",
      "[ 5,  9,  1]\n",
      "[10,  3,  2]\n",
      "[ 8,  7,  4]\n",
      "(0, 2) -> 1\n",
      "(1, 1) -> 3\n",
      "(2, 0) -> 8\n",
      "total cost: 12\n"
     ]
    }
   ],
   "source": [
    "from munkres import Munkres, print_matrix\n",
    "\n",
    "matrix = [[5, 9, 1],\n",
    "          [10, 3, 2],\n",
    "          [8, 7, 4]]\n",
    "m = Munkres()\n",
    "indexes = m.compute(matrix)\n",
    "print_matrix(matrix, msg='Lowest cost through this matrix:')\n",
    "total = 0\n",
    "for row, column in indexes:\n",
    "    value = matrix[row][column]\n",
    "    total += value\n",
    "    print(f'({row}, {column}) -> {value}')\n",
    "print(f'total cost: {total}')"
   ]
  },
  {
   "cell_type": "code",
   "execution_count": 12,
   "metadata": {},
   "outputs": [],
   "source": [
    "import sys"
   ]
  },
  {
   "cell_type": "code",
   "execution_count": 13,
   "metadata": {},
   "outputs": [
    {
     "name": "stdout",
     "output_type": "stream",
     "text": [
      "Highest profit through this matrix:\n",
      "[ 5,  9,  D]\n",
      "[10,  D,  2]\n",
      "[ 8,  7,  4]\n",
      "(0, 1) -> 9\n",
      "(1, 0) -> 10\n",
      "(2, 2) -> 4\n",
      "total profit=23\n"
     ]
    }
   ],
   "source": [
    "from munkres import Munkres, print_matrix, make_cost_matrix, DISALLOWED\n",
    "\n",
    "matrix = [[5, 9, DISALLOWED],\n",
    "          [10, DISALLOWED, 2],\n",
    "          [8, 7, 4]]\n",
    "cost_matrix = make_cost_matrix(matrix, lambda cost: (sys.maxsize - cost) if\n",
    "                                      (cost != DISALLOWED) else DISALLOWED)\n",
    "m = Munkres()\n",
    "indexes = m.compute(cost_matrix)\n",
    "print_matrix(matrix, msg='Highest profit through this matrix:')\n",
    "total = 0\n",
    "for row, column in indexes:\n",
    "    value = matrix[row][column]\n",
    "    total += value\n",
    "    print(f'({row}, {column}) -> {value}')\n",
    "print(f'total profit={total}')"
   ]
  }
 ],
 "metadata": {
  "kernelspec": {
   "display_name": "Python 3",
   "language": "python",
   "name": "python3"
  },
  "language_info": {
   "codemirror_mode": {
    "name": "ipython",
    "version": 3
   },
   "file_extension": ".py",
   "mimetype": "text/x-python",
   "name": "python",
   "nbconvert_exporter": "python",
   "pygments_lexer": "ipython3",
   "version": "3.6.5"
  }
 },
 "nbformat": 4,
 "nbformat_minor": 2
}
