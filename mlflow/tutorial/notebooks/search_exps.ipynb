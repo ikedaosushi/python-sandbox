{
 "cells": [
  {
   "cell_type": "code",
   "execution_count": 15,
   "metadata": {},
   "outputs": [],
   "source": [
    "import os\n",
    "from pathlib import Path\n",
    "\n",
    "import mlflow\n",
    "from mlflow.tracking.client import MlflowClient"
   ]
  },
  {
   "cell_type": "code",
   "execution_count": 6,
   "metadata": {},
   "outputs": [],
   "source": [
    "pj_dir = Path(os.getcwd()).parent"
   ]
  },
  {
   "cell_type": "code",
   "execution_count": 8,
   "metadata": {},
   "outputs": [],
   "source": [
    "mlflow.set_tracking_uri(str(pj_dir/'mlruns'))"
   ]
  },
  {
   "cell_type": "code",
   "execution_count": 24,
   "metadata": {},
   "outputs": [],
   "source": [
    "VERSION = \"v1\""
   ]
  },
  {
   "cell_type": "code",
   "execution_count": 23,
   "metadata": {},
   "outputs": [
    {
     "data": {
      "text/plain": [
       "[<Experiment: artifact_location='file:///Users/yutaro_ikeda/.ghq/github.com/ikedaosushi/python-sandbox/mlflow/tutorial/mlruns/0', experiment_id='0', lifecycle_stage='active', name='Default', tags={}>,\n",
       " <Experiment: artifact_location='file:///Users/yutaro_ikeda/.ghq/github.com/ikedaosushi/python-sandbox/mlflow/tutorial/mlruns/2', experiment_id='1', lifecycle_stage='active', name='v1', tags={}>]"
      ]
     },
     "execution_count": 23,
     "metadata": {},
     "output_type": "execute_result"
    }
   ],
   "source": [
    "MlflowClient().list_experiments()"
   ]
  },
  {
   "cell_type": "code",
   "execution_count": 27,
   "metadata": {},
   "outputs": [],
   "source": [
    "experiment_id = MlflowClient().get_experiment_by_name(VERSION).experiment_id"
   ]
  },
  {
   "cell_type": "code",
   "execution_count": 28,
   "metadata": {},
   "outputs": [
    {
     "data": {
      "text/html": [
       "<div>\n",
       "<style scoped>\n",
       "    .dataframe tbody tr th:only-of-type {\n",
       "        vertical-align: middle;\n",
       "    }\n",
       "\n",
       "    .dataframe tbody tr th {\n",
       "        vertical-align: top;\n",
       "    }\n",
       "\n",
       "    .dataframe thead th {\n",
       "        text-align: right;\n",
       "    }\n",
       "</style>\n",
       "<table border=\"1\" class=\"dataframe\">\n",
       "  <thead>\n",
       "    <tr style=\"text-align: right;\">\n",
       "      <th></th>\n",
       "      <th>run_id</th>\n",
       "      <th>experiment_id</th>\n",
       "      <th>status</th>\n",
       "      <th>artifact_uri</th>\n",
       "      <th>start_time</th>\n",
       "      <th>end_time</th>\n",
       "      <th>metrics.mae</th>\n",
       "      <th>metrics.r2</th>\n",
       "      <th>metrics.rmse</th>\n",
       "      <th>params.alpha</th>\n",
       "      <th>params.l1_ratio</th>\n",
       "      <th>tags.mlflow.source.git.commit</th>\n",
       "      <th>tags.mlflow.user</th>\n",
       "      <th>tags.mlflow.source.type</th>\n",
       "      <th>tags.mlflow.source.name</th>\n",
       "    </tr>\n",
       "  </thead>\n",
       "  <tbody>\n",
       "    <tr>\n",
       "      <th>0</th>\n",
       "      <td>fe09805e3d5041119dc349c798d6d101</td>\n",
       "      <td>1</td>\n",
       "      <td>FINISHED</td>\n",
       "      <td>file:///Users/yutaro_ikeda/.ghq/github.com/ike...</td>\n",
       "      <td>2019-11-25 09:18:13.639000+00:00</td>\n",
       "      <td>2019-11-25 09:18:13.806000+00:00</td>\n",
       "      <td>4.448717</td>\n",
       "      <td>0.608427</td>\n",
       "      <td>6.461649</td>\n",
       "      <td>0.9</td>\n",
       "      <td>0.3</td>\n",
       "      <td>e8574cdde6c6fbcd689ad8a1a453e4ed2478796e</td>\n",
       "      <td>yutaro_ikeda</td>\n",
       "      <td>LOCAL</td>\n",
       "      <td>train.py</td>\n",
       "    </tr>\n",
       "    <tr>\n",
       "      <th>1</th>\n",
       "      <td>010882832bd54b23a4856cc28a955e27</td>\n",
       "      <td>1</td>\n",
       "      <td>FINISHED</td>\n",
       "      <td>file:///Users/yutaro_ikeda/.ghq/github.com/ike...</td>\n",
       "      <td>2019-11-25 09:18:07.438000+00:00</td>\n",
       "      <td>2019-11-25 09:18:07.754000+00:00</td>\n",
       "      <td>3.808362</td>\n",
       "      <td>0.631563</td>\n",
       "      <td>5.463815</td>\n",
       "      <td>0.8</td>\n",
       "      <td>0.3</td>\n",
       "      <td>e8574cdde6c6fbcd689ad8a1a453e4ed2478796e</td>\n",
       "      <td>yutaro_ikeda</td>\n",
       "      <td>LOCAL</td>\n",
       "      <td>train.py</td>\n",
       "    </tr>\n",
       "    <tr>\n",
       "      <th>2</th>\n",
       "      <td>e85b3e8b3cf74ff4bb0c43c1bdad111e</td>\n",
       "      <td>1</td>\n",
       "      <td>FINISHED</td>\n",
       "      <td>file:///Users/yutaro_ikeda/.ghq/github.com/ike...</td>\n",
       "      <td>2019-11-25 09:17:59.451000+00:00</td>\n",
       "      <td>2019-11-25 09:17:59.620000+00:00</td>\n",
       "      <td>3.118114</td>\n",
       "      <td>0.783859</td>\n",
       "      <td>4.125335</td>\n",
       "      <td>0.5</td>\n",
       "      <td>0.5</td>\n",
       "      <td>e8574cdde6c6fbcd689ad8a1a453e4ed2478796e</td>\n",
       "      <td>yutaro_ikeda</td>\n",
       "      <td>LOCAL</td>\n",
       "      <td>train.py</td>\n",
       "    </tr>\n",
       "  </tbody>\n",
       "</table>\n",
       "</div>"
      ],
      "text/plain": [
       "                             run_id experiment_id    status  \\\n",
       "0  fe09805e3d5041119dc349c798d6d101             1  FINISHED   \n",
       "1  010882832bd54b23a4856cc28a955e27             1  FINISHED   \n",
       "2  e85b3e8b3cf74ff4bb0c43c1bdad111e             1  FINISHED   \n",
       "\n",
       "                                        artifact_uri  \\\n",
       "0  file:///Users/yutaro_ikeda/.ghq/github.com/ike...   \n",
       "1  file:///Users/yutaro_ikeda/.ghq/github.com/ike...   \n",
       "2  file:///Users/yutaro_ikeda/.ghq/github.com/ike...   \n",
       "\n",
       "                        start_time                         end_time  \\\n",
       "0 2019-11-25 09:18:13.639000+00:00 2019-11-25 09:18:13.806000+00:00   \n",
       "1 2019-11-25 09:18:07.438000+00:00 2019-11-25 09:18:07.754000+00:00   \n",
       "2 2019-11-25 09:17:59.451000+00:00 2019-11-25 09:17:59.620000+00:00   \n",
       "\n",
       "   metrics.mae  metrics.r2  metrics.rmse params.alpha params.l1_ratio  \\\n",
       "0     4.448717    0.608427      6.461649          0.9             0.3   \n",
       "1     3.808362    0.631563      5.463815          0.8             0.3   \n",
       "2     3.118114    0.783859      4.125335          0.5             0.5   \n",
       "\n",
       "              tags.mlflow.source.git.commit tags.mlflow.user  \\\n",
       "0  e8574cdde6c6fbcd689ad8a1a453e4ed2478796e     yutaro_ikeda   \n",
       "1  e8574cdde6c6fbcd689ad8a1a453e4ed2478796e     yutaro_ikeda   \n",
       "2  e8574cdde6c6fbcd689ad8a1a453e4ed2478796e     yutaro_ikeda   \n",
       "\n",
       "  tags.mlflow.source.type tags.mlflow.source.name  \n",
       "0                   LOCAL                train.py  \n",
       "1                   LOCAL                train.py  \n",
       "2                   LOCAL                train.py  "
      ]
     },
     "execution_count": 28,
     "metadata": {},
     "output_type": "execute_result"
    }
   ],
   "source": [
    "mlflow.search_runs(experiment_id)"
   ]
  }
 ],
 "metadata": {
  "kernelspec": {
   "display_name": "Python 3",
   "language": "python",
   "name": "python3"
  },
  "language_info": {
   "codemirror_mode": {
    "name": "ipython",
    "version": 3
   },
   "file_extension": ".py",
   "mimetype": "text/x-python",
   "name": "python",
   "nbconvert_exporter": "python",
   "pygments_lexer": "ipython3",
   "version": "3.6.5"
  }
 },
 "nbformat": 4,
 "nbformat_minor": 2
}
