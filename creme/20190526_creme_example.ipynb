{
 "cells": [
  {
   "cell_type": "markdown",
   "metadata": {},
   "source": [
    "# Doc\n",
    "- https://creme-ml.github.io/notebooks/introduction.html\n",
    "- https://maxhalford.github.io/slides/creme-pydata/\n",
    "- https://github.com/creme-ml/creme"
   ]
  },
  {
   "cell_type": "code",
   "execution_count": 1,
   "metadata": {},
   "outputs": [
    {
     "name": "stdout",
     "output_type": "stream",
     "text": [
      "Collecting creme\n",
      "  Downloading https://files.pythonhosted.org/packages/94/b1/5b3f46f8770c2751eeeeb654ec27546ad4f0fdf287fb1155a29733b1feb3/creme-0.1.0-py2.py3-none-any.whl (126kB)\n",
      "Requirement already satisfied: scipy>=1.0.1 in /Users/yutaro_ikeda/.pyenv/versions/3.6.5/lib/python3.6/site-packages (from creme) (1.0.1)\n",
      "Requirement already satisfied: scikit-learn>=0.19.0 in /Users/yutaro_ikeda/.pyenv/versions/3.6.5/lib/python3.6/site-packages (from creme) (0.21.0)\n",
      "Requirement already satisfied: numpy>=1.14.0 in /Users/yutaro_ikeda/.pyenv/versions/3.6.5/lib/python3.6/site-packages (from creme) (1.16.2)\n",
      "Requirement already satisfied: joblib>=0.11 in /Users/yutaro_ikeda/.pyenv/versions/3.6.5/lib/python3.6/site-packages (from scikit-learn>=0.19.0->creme) (0.11)\n",
      "Installing collected packages: creme\n",
      "Successfully installed creme-0.1.0\n"
     ]
    }
   ],
   "source": [
    "%%bash\n",
    "pip install creme"
   ]
  },
  {
   "cell_type": "markdown",
   "metadata": {},
   "source": [
    "# README Example"
   ]
  },
  {
   "cell_type": "code",
   "execution_count": 2,
   "metadata": {},
   "outputs": [],
   "source": [
    "from creme import compose\n",
    "from creme import linear_model\n",
    "from creme import metrics\n",
    "from creme import model_selection\n",
    "from creme import optim\n",
    "from creme import preprocessing\n",
    "from creme import stream\n",
    "from sklearn import datasets"
   ]
  },
  {
   "cell_type": "code",
   "execution_count": 31,
   "metadata": {},
   "outputs": [],
   "source": [
    "X_y = stream.iter_sklearn_dataset(\n",
    "    load_dataset=datasets.load_breast_cancer,\n",
    "    shuffle=True,\n",
    "    random_state=42\n",
    ")"
   ]
  },
  {
   "cell_type": "code",
   "execution_count": 32,
   "metadata": {},
   "outputs": [],
   "source": [
    "scaler = preprocessing.StandardScaler()\n",
    "lin_reg = linear_model.LogisticRegression(optimizer=optim.AdaGrad())\n",
    "model = scaler | lin_reg\n",
    "\n",
    "metric = metrics.F1Score()\n",
    "\n",
    "for x, y in X_y:\n",
    "    y_pred = model.predict_one(x)\n",
    "    model = model.fit_one(x, y)\n",
    "    metric = metric.update(y, y_pred)"
   ]
  },
  {
   "cell_type": "code",
   "execution_count": 5,
   "metadata": {},
   "outputs": [
    {
     "data": {
      "text/plain": [
       "F1Score: 0.97191"
      ]
     },
     "execution_count": 5,
     "metadata": {},
     "output_type": "execute_result"
    }
   ],
   "source": [
    "metric"
   ]
  },
  {
   "cell_type": "markdown",
   "metadata": {},
   "source": [
    "# Classification"
   ]
  },
  {
   "cell_type": "code",
   "execution_count": 16,
   "metadata": {},
   "outputs": [],
   "source": [
    "from sklearn.datasets import load_iris\n",
    "iris = load_iris()"
   ]
  },
  {
   "cell_type": "code",
   "execution_count": null,
   "metadata": {},
   "outputs": [],
   "source": [
    "iris"
   ]
  },
  {
   "cell_type": "code",
   "execution_count": 34,
   "metadata": {},
   "outputs": [],
   "source": [
    "# from creme.linear_model import LogisticRegression\n",
    "# model = LogisticRegression()\n",
    "\n",
    "# for x, y in zip(iris['data'], iris['target']):\n",
    "#     x_dict = \n",
    "#     y_pred_before = model.predict_one(x)\n",
    "#     model.fit_one(x, y)\n",
    "#     y_pred_after = model.predict_one(x)\n",
    "#     print(\"before:\", y_pred_before, \"after:\", y_pred_after)"
   ]
  },
  {
   "cell_type": "markdown",
   "metadata": {},
   "source": [
    "# Regression"
   ]
  },
  {
   "cell_type": "code",
   "execution_count": 15,
   "metadata": {},
   "outputs": [],
   "source": [
    "from creme.linear_model import LinearRegression"
   ]
  },
  {
   "cell_type": "code",
   "execution_count": 10,
   "metadata": {},
   "outputs": [],
   "source": [
    "from sklearn.datasets import load_boston\n",
    "boston = load_boston()"
   ]
  },
  {
   "cell_type": "code",
   "execution_count": 14,
   "metadata": {},
   "outputs": [
    {
     "name": "stdout",
     "output_type": "stream",
     "text": [
      "[6.320e-03 1.800e+01 2.310e+00 0.000e+00 5.380e-01 6.575e+00 6.520e+01\n",
      " 4.090e+00 1.000e+00 2.960e+02 1.530e+01 3.969e+02 4.980e+00] 24.0\n"
     ]
    }
   ],
   "source": [
    "for x, y in zip(boston['data'], boston['target']):\n",
    "    print(x, y)\n",
    "    break"
   ]
  }
 ],
 "metadata": {
  "kernelspec": {
   "display_name": "Python 3",
   "language": "python",
   "name": "python3"
  },
  "language_info": {
   "codemirror_mode": {
    "name": "ipython",
    "version": 3
   },
   "file_extension": ".py",
   "mimetype": "text/x-python",
   "name": "python",
   "nbconvert_exporter": "python",
   "pygments_lexer": "ipython3",
   "version": "3.6.5"
  }
 },
 "nbformat": 4,
 "nbformat_minor": 2
}
