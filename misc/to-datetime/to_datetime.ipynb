{
 "cells": [
  {
   "cell_type": "code",
   "execution_count": 55,
   "metadata": {},
   "outputs": [],
   "source": [
    "from pathlib import Path\n",
    "import pandas as pd\n",
    "import numpy as np\n",
    "import matplotlib.pyplot as plt\n",
    "plt.style.use(\"bmh\")"
   ]
  },
  {
   "cell_type": "code",
   "execution_count": 3,
   "metadata": {},
   "outputs": [],
   "source": [
    "import functools\n",
    "import gc\n",
    "import itertools\n",
    "import sys\n",
    "from timeit import default_timer as _timer\n",
    "\n",
    "def timeit(_func=None, *, repeat=3, number=1000, file=sys.stdout):\n",
    "    _repeat = functools.partial(itertools.repeat, None)\n",
    "\n",
    "    def wrap(func):\n",
    "        @functools.wraps(func)\n",
    "        def _timeit(*args, **kwargs):\n",
    "            gcold = gc.isenabled()\n",
    "            gc.disable()\n",
    "\n",
    "            try:\n",
    "                trials = []\n",
    "                for _ in _repeat(repeat):\n",
    "                    total = 0\n",
    "                    for _ in _repeat(number):\n",
    "                        start = _timer()\n",
    "                        result = func(*args, **kwargs)\n",
    "                        end = _timer()\n",
    "                        total += end - start\n",
    "                    trials.append(total)\n",
    "\n",
    "                best = min(trials) / number\n",
    "                print('Best of {} trials with {} function'\n",
    "                      ' calls per trial:'.format(repeat, number))\n",
    "                print('Function `{}` ran in average'\n",
    "                      ' of {:0.3f} seconds.'.format(func.__name__, best),\n",
    "                      end='\\n\\n', file=file)\n",
    "            finally:\n",
    "                if gcold:\n",
    "                    gc.enable()\n",
    "            return best, result\n",
    "        return _timeit\n",
    "    if _func is None:\n",
    "        return wrap\n",
    "    else:\n",
    "        return wrap(_func)\n"
   ]
  },
  {
   "cell_type": "code",
   "execution_count": 4,
   "metadata": {},
   "outputs": [],
   "source": [
    "df = pd.read_csv(Path.home()/'.kaggle/competitions/competitive-data-science-final-project/sales_train.csv.gz', compression='gzip')"
   ]
  },
  {
   "cell_type": "code",
   "execution_count": 5,
   "metadata": {},
   "outputs": [
    {
     "data": {
      "text/plain": [
       "0    02.01.2013\n",
       "1    03.01.2013\n",
       "2    05.01.2013\n",
       "3    06.01.2013\n",
       "4    15.01.2013\n",
       "Name: date, dtype: object"
      ]
     },
     "execution_count": 5,
     "metadata": {},
     "output_type": "execute_result"
    }
   ],
   "source": [
    "df['date'].head()"
   ]
  },
  {
   "cell_type": "code",
   "execution_count": 6,
   "metadata": {},
   "outputs": [
    {
     "data": {
      "text/plain": [
       "(2935849, 6)"
      ]
     },
     "execution_count": 6,
     "metadata": {},
     "output_type": "execute_result"
    }
   ],
   "source": [
    "df.shape"
   ]
  },
  {
   "cell_type": "code",
   "execution_count": 7,
   "metadata": {},
   "outputs": [],
   "source": [
    "df10000 = df.head(10000)"
   ]
  },
  {
   "cell_type": "code",
   "execution_count": 68,
   "metadata": {},
   "outputs": [],
   "source": [
    "@timeit(repeat=3, number=10)\n",
    "def convert_to_datetime(s):\n",
    "    return pd.to_datetime(s)"
   ]
  },
  {
   "cell_type": "code",
   "execution_count": 73,
   "metadata": {},
   "outputs": [],
   "source": [
    "@timeit(repeat=3, number=10)\n",
    "def convert_to_datetime_with_format(s, format_='%d.%m.%Y'):\n",
    "    return pd.to_datetime(s, format=format_)"
   ]
  },
  {
   "cell_type": "code",
   "execution_count": 33,
   "metadata": {},
   "outputs": [
    {
     "name": "stdout",
     "output_type": "stream",
     "text": [
      "Best of 3 trials with 10 function calls per trial:\n",
      "Function `convert_to_datetime` ran in average of 0.883 seconds.\n",
      "\n"
     ]
    }
   ],
   "source": [
    "best_time, parsed_datetime = convert_to_datetime(df10000['date'])"
   ]
  },
  {
   "cell_type": "code",
   "execution_count": 34,
   "metadata": {},
   "outputs": [
    {
     "name": "stdout",
     "output_type": "stream",
     "text": [
      "Best of 3 trials with 10 function calls per trial:\n",
      "Function `convert_to_datetime_with_format` ran in average of 0.024 seconds.\n",
      "\n"
     ]
    }
   ],
   "source": [
    "best_time, parsed_datetime = convert_to_datetime_with_format(df10000['date'])"
   ]
  },
  {
   "cell_type": "code",
   "execution_count": 28,
   "metadata": {},
   "outputs": [],
   "source": [
    "n_targets = [100, 1000, 10000, 100000, 1000000]"
   ]
  },
  {
   "cell_type": "code",
   "execution_count": 29,
   "metadata": {},
   "outputs": [
    {
     "name": "stdout",
     "output_type": "stream",
     "text": [
      "Best of 3 trials with 10 function calls per trial:\n",
      "Function `convert_to_datetime_with_format` ran in average of 0.001 seconds.\n",
      "\n",
      "Best of 3 trials with 10 function calls per trial:\n",
      "Function `convert_to_datetime` ran in average of 0.010 seconds.\n",
      "\n",
      "Best of 3 trials with 10 function calls per trial:\n",
      "Function `convert_to_datetime_with_format` ran in average of 0.002 seconds.\n",
      "\n",
      "Best of 3 trials with 10 function calls per trial:\n",
      "Function `convert_to_datetime` ran in average of 0.086 seconds.\n",
      "\n",
      "Best of 3 trials with 10 function calls per trial:\n",
      "Function `convert_to_datetime_with_format` ran in average of 0.022 seconds.\n",
      "\n",
      "Best of 3 trials with 10 function calls per trial:\n",
      "Function `convert_to_datetime` ran in average of 1.017 seconds.\n",
      "\n",
      "Best of 3 trials with 10 function calls per trial:\n",
      "Function `convert_to_datetime_with_format` ran in average of 0.252 seconds.\n",
      "\n",
      "Best of 3 trials with 10 function calls per trial:\n",
      "Function `convert_to_datetime` ran in average of 10.155 seconds.\n",
      "\n",
      "Best of 3 trials with 10 function calls per trial:\n",
      "Function `convert_to_datetime_with_format` ran in average of 2.628 seconds.\n",
      "\n",
      "Best of 3 trials with 10 function calls per trial:\n",
      "Function `convert_to_datetime` ran in average of 87.313 seconds.\n",
      "\n"
     ]
    }
   ],
   "source": [
    "normal_best_times = []\n",
    "format_best_times = []\n",
    "\n",
    "for n in n_targets:\n",
    "    target_df = df.head(n)\n",
    "\n",
    "    best_time, parsed_datetime = convert_to_datetime_with_format(target_df['date'])\n",
    "    format_best_times.append(best_time)\n",
    "\n",
    "    best_time, parsed_datetime = convert_to_datetime(target_df['date'])\n",
    "    normal_best_times.append(best_time)"
   ]
  },
  {
   "cell_type": "code",
   "execution_count": 76,
   "metadata": {},
   "outputs": [
    {
     "data": {
      "text/plain": [
       "<matplotlib.legend.Legend at 0x11285e470>"
      ]
     },
     "execution_count": 76,
     "metadata": {},
     "output_type": "execute_result"
    },
    {
     "data": {
      "image/png": "[encoded data removed]",
      "text/plain": [
       "<Figure size 1152x576 with 1 Axes>"
      ]
     },
     "metadata": {},
     "output_type": "display_data"
    }
   ],
   "source": [
    "plt.figure(figsize=(16, 8))\n",
    "ax = plt.subplot()\n",
    "ax.plot(n_targets, normal_best_times, color='C0', linewidth=5, label='normal')\n",
    "ax.plot(n_targets, format_best_times, color='C1', linewidth=5, label='with_format')\n",
    "plt.legend(fontsize=20)"
   ]
  },
  {
   "cell_type": "code",
   "execution_count": 79,
   "metadata": {
    "scrolled": true
   },
   "outputs": [
    {
     "name": "stdout",
     "output_type": "stream",
     "text": [
      "with_format parse take only 34.00 times faster than normal parse time\n"
     ]
    }
   ],
   "source": [
    "ratio = (np.array(normal_best_times) / np.array(format_best_times)).mean()\n",
    "print(f'with_format parse take only {ratio:.2f} times faster than normal parse time')"
   ]
  },
  {
   "cell_type": "code",
   "execution_count": 77,
   "metadata": {},
   "outputs": [],
   "source": [
    "df['new_date'] = pd.to_datetime(df['date'], format='%d.%m.%Y')"
   ]
  },
  {
   "cell_type": "code",
   "execution_count": 83,
   "metadata": {},
   "outputs": [
    {
     "name": "stdout",
     "output_type": "stream",
     "text": [
      "Best of 3 trials with 10 function calls per trial:\n",
      "Function `convert_to_datetime` ran in average of 0.005 seconds.\n",
      "\n",
      "Best of 3 trials with 10 function calls per trial:\n",
      "Function `convert_to_datetime_with_format` ran in average of 0.005 seconds.\n",
      "\n",
      "Best of 3 trials with 10 function calls per trial:\n",
      "Function `convert_to_datetime` ran in average of 2.884 seconds.\n",
      "\n",
      "Best of 3 trials with 10 function calls per trial:\n",
      "Function `convert_to_datetime_with_format` ran in average of 0.072 seconds.\n",
      "\n"
     ]
    }
   ],
   "source": [
    "target_s1 = pd.Series(['2018-10-03', '2018-10-02', '2018-10-01'] * 10000)\n",
    "target_s2 = pd.Series(['03.10.2018', '02.10.2018', '01.10.2018'] * 10000)\n",
    "\n",
    "best_time, parsed_datetime = convert_to_datetime(target_s1)\n",
    "best_time, parsed_datetime = convert_to_datetime_with_format(target_s1, format_='%Y-%m-%d')\n",
    "\n",
    "best_time, parsed_datetime = convert_to_datetime(target_s2)\n",
    "best_time, parsed_datetime = convert_to_datetime_with_format(target_s2, format_='%d.%m.%Y')"
   ]
  },
  {
   "cell_type": "code",
   "execution_count": 91,
   "metadata": {},
   "outputs": [
    {
     "data": {
      "image/png": "[encoded data removed]",
      "text/plain": [
       "<Figure size 1152x288 with 1 Axes>"
      ]
     },
     "metadata": {},
     "output_type": "display_data"
    }
   ],
   "source": [
    "plt.figure(figsize=(16, 4))\n",
    "ax = plt.subplot()\n",
    "ax.bar(['ISO', 'ISO with format', 'not ISO', 'not ISO with format'], [0.005, 0.005, 2.884, 0.072])\n",
    "ax.tick_params(labelsize='x-large')"
   ]
  }
 ],
 "metadata": {
  "kernelspec": {
   "display_name": "Python 3",
   "language": "python",
   "name": "python3"
  },
  "language_info": {
   "codemirror_mode": {
    "name": "ipython",
    "version": 3
   },
   "file_extension": ".py",
   "mimetype": "text/x-python",
   "name": "python",
   "nbconvert_exporter": "python",
   "pygments_lexer": "ipython3",
   "version": "3.6.5"
  }
 },
 "nbformat": 4,
 "nbformat_minor": 2
}
