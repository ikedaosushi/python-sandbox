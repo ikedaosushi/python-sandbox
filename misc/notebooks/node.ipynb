{
 "cells": [
  {
   "cell_type": "code",
   "execution_count": 1,
   "metadata": {
    "collapsed": false,
    "deletable": true,
    "editable": true
   },
   "outputs": [
    {
     "name": "stdout",
     "output_type": "stream",
     "text": [
      "hello\n"
     ]
    },
    {
     "data": {
      "text/plain": [
       "undefined"
      ]
     },
     "execution_count": 1,
     "metadata": {},
     "output_type": "execute_result"
    }
   ],
   "source": [
    "console.log('hello');"
   ]
  },
  {
   "cell_type": "code",
   "execution_count": 4,
   "metadata": {
    "collapsed": false,
    "deletable": true,
    "editable": true
   },
   "outputs": [
    {
     "data": {
      "text/plain": [
       "undefined"
      ]
     },
     "execution_count": 4,
     "metadata": {},
     "output_type": "execute_result"
    }
   ],
   "source": [
    "var client = require('cheerio-httpcli');\n",
    "\n",
    "// Googleで「node.js」について検索する。\n",
    "client.fetch('http://www.google.com/search', { q: 'node.js' }, function (err, $, res) {\n",
    "    // レスポンスヘッダを参照\n",
    "//     console.log(res.headers);\n",
    "\n",
    "//     // HTMLタイトルを表示\n",
    "//     console.log($('title').text());\n",
    "    // リンク一覧を表示\n",
    "//     $('a').each(function (idx) {\n",
    "//         console.log($(this).attr('href'));\n",
    "//     });\n",
    "});"
   ]
  },
  {
   "cell_type": "code",
   "execution_count": 5,
   "metadata": {
    "collapsed": false
   },
   "outputs": [
    {
     "data": {
      "text/plain": [
       "Promise {\n",
       "  _id: 1,\n",
       "  _label: undefined,\n",
       "  _state: undefined,\n",
       "  _result: undefined,\n",
       "  _subscribers: [] }"
      ]
     },
     "execution_count": 5,
     "metadata": {},
     "output_type": "execute_result"
    },
    {
     "name": "stdout",
     "output_type": "stream",
     "text": [
      "{ [Function: initialize]\n",
      "  fn: \n",
      "   initialize {\n",
      "     constructor: [Circular],\n",
      "     _originalRoot: \n",
      "      { type: 'root',\n",
      "        name: 'root',\n",
      "        attribs: {},\n",
      "        children: [Object],\n",
      "        next: null,\n",
      "        prev: null,\n",
      "        parent: null,\n",
      "        _documentInfo: [Object] } },\n",
      "  load: [Function],\n",
      "  html: [Function],\n",
      "  xml: [Function],\n",
      "  text: [Function],\n",
      "  parseHTML: [Function],\n",
      "  root: [Function],\n",
      "  contains: [Function],\n",
      "  _root: \n",
      "   { type: 'root',\n",
      "     name: 'root',\n",
      "     attribs: {},\n",
      "     children: [ [Object], [Object], [Object] ],\n",
      "     next: null,\n",
      "     prev: null,\n",
      "     parent: null,\n",
      "     _documentInfo: \n",
      "      { url: 'http://www.lpi.or.jp/ex/201/ex_2976.shtml',\n",
      "        encoding: 'shift_jis',\n",
      "        isXml: false } },\n",
      "  _options: \n",
      "   { decodeEntities: true,\n",
      "     xmlMode: false,\n",
      "     withDomLvl1: true,\n",
      "     normalizeWhitespace: false },\n",
      "  documentInfo: [Function],\n",
      "  entityHtml: [Function] }\n"
     ]
    }
   ],
   "source": [
    "client.fetch(\"http://www.lpi.or.jp/ex/201/ex_2976.shtml\")\n",
    ".then((result)=>{\n",
    "    console.log(result.$);\n",
    "    fetch_result = result;\n",
    "});"
   ]
  },
  {
   "cell_type": "code",
   "execution_count": 8,
   "metadata": {
    "collapsed": false
   },
   "outputs": [
    {
     "data": {
      "text/plain": [
       "{ [Function: initialize]\n",
       "  fn: \n",
       "   initialize {\n",
       "     constructor: [Circular],\n",
       "     _originalRoot: \n",
       "      { type: 'root',\n",
       "        name: 'root',\n",
       "        attribs: {},\n",
       "        children: [Object],\n",
       "        next: null,\n",
       "        prev: null,\n",
       "        parent: null,\n",
       "        _documentInfo: [Object] } },\n",
       "  load: [Function],\n",
       "  html: [Function],\n",
       "  xml: [Function],\n",
       "  text: [Function],\n",
       "  parseHTML: [Function],\n",
       "  root: [Function],\n",
       "  contains: [Function],\n",
       "  _root: \n",
       "   { type: 'root',\n",
       "     name: 'root',\n",
       "     attribs: {},\n",
       "     children: [ [Object], [Object], [Object] ],\n",
       "     next: null,\n",
       "     prev: null,\n",
       "     parent: null,\n",
       "     _documentInfo: \n",
       "      { url: 'http://www.lpi.or.jp/ex/201/ex_2976.shtml',\n",
       "        encoding: 'shift_jis',\n",
       "        isXml: false } },\n",
       "  _options: \n",
       "   { decodeEntities: true,\n",
       "     xmlMode: false,\n",
       "     withDomLvl1: true,\n",
       "     normalizeWhitespace: false },\n",
       "  documentInfo: [Function],\n",
       "  entityHtml: [Function] }"
      ]
     },
     "execution_count": 8,
     "metadata": {},
     "output_type": "execute_result"
    }
   ],
   "source": [
    "$ = fetch_result.$;"
   ]
  },
  {
   "cell_type": "code",
   "execution_count": 14,
   "metadata": {
    "collapsed": false
   },
   "outputs": [
    {
     "data": {
      "text/plain": [
       "initialize {\n",
       "  '0': \n",
       "   { type: 'tag',\n",
       "     name: 'div',\n",
       "     attribs: { class: 'exercise' },\n",
       "     children: \n",
       "      [ [Object],\n",
       "        [Object],\n",
       "        [Object],\n",
       "        [Object],\n",
       "        [Object],\n",
       "        [Object],\n",
       "        [Object],\n",
       "        [Object],\n",
       "        [Object],\n",
       "        [Object],\n",
       "        [Object],\n",
       "        [Object],\n",
       "        [Object],\n",
       "        [Object],\n",
       "        [Object],\n",
       "        [Object],\n",
       "        [Object],\n",
       "        [Object],\n",
       "        [Object],\n",
       "        [Object],\n",
       "        [Object],\n",
       "        [Object],\n",
       "        [Object],\n",
       "        [Object],\n",
       "        [Object],\n",
       "        [Object],\n",
       "        [Object],\n",
       "        [Object],\n",
       "        [Object],\n",
       "        [Object],\n",
       "        [Object],\n",
       "        [Object],\n",
       "        [Object],\n",
       "        [Object],\n",
       "        [Object],\n",
       "        [Object],\n",
       "        [Object],\n",
       "        [Object],\n",
       "        [Object],\n",
       "        [Object],\n",
       "        [Object],\n",
       "        [Object],\n",
       "        [Object],\n",
       "        [Object],\n",
       "        [Object],\n",
       "        [Object],\n",
       "        [Object],\n",
       "        [Object],\n",
       "        [Object],\n",
       "        [Object],\n",
       "        [Object],\n",
       "        [Object],\n",
       "        [Object],\n",
       "        [Object],\n",
       "        [Object],\n",
       "        [Object],\n",
       "        [Object],\n",
       "        [Object],\n",
       "        [Object],\n",
       "        [Object],\n",
       "        [Object],\n",
       "        [Object],\n",
       "        [Object],\n",
       "        [Object],\n",
       "        [Object],\n",
       "        [Object] ],\n",
       "     next: \n",
       "      { data: '\\n\\t',\n",
       "        type: 'text',\n",
       "        next: [Object],\n",
       "        prev: [Circular],\n",
       "        parent: [Object] },\n",
       "     prev: \n",
       "      { data: '\\n\\t',\n",
       "        type: 'text',\n",
       "        next: [Circular],\n",
       "        prev: [Object],\n",
       "        parent: [Object] },\n",
       "     parent: \n",
       "      { type: 'tag',\n",
       "        name: 'div',\n",
       "        attribs: [Object],\n",
       "        children: [Object],\n",
       "        next: [Object],\n",
       "        prev: [Object],\n",
       "        parent: [Object] } },\n",
       "  options: \n",
       "   { decodeEntities: true,\n",
       "     xmlMode: false,\n",
       "     withDomLvl1: true,\n",
       "     normalizeWhitespace: false },\n",
       "  _root: \n",
       "   initialize {\n",
       "     '0': \n",
       "      { type: 'root',\n",
       "        name: 'root',\n",
       "        attribs: {},\n",
       "        children: [Object],\n",
       "        next: null,\n",
       "        prev: null,\n",
       "        parent: null,\n",
       "        _documentInfo: [Object] },\n",
       "     options: \n",
       "      { decodeEntities: true,\n",
       "        xmlMode: false,\n",
       "        withDomLvl1: true,\n",
       "        normalizeWhitespace: false },\n",
       "     length: 1,\n",
       "     _root: [Circular] },\n",
       "  length: 1,\n",
       "  prevObject: \n",
       "   initialize {\n",
       "     '0': \n",
       "      { type: 'root',\n",
       "        name: 'root',\n",
       "        attribs: {},\n",
       "        children: [Object],\n",
       "        next: null,\n",
       "        prev: null,\n",
       "        parent: null,\n",
       "        _documentInfo: [Object] },\n",
       "     options: \n",
       "      { decodeEntities: true,\n",
       "        xmlMode: false,\n",
       "        withDomLvl1: true,\n",
       "        normalizeWhitespace: false },\n",
       "     length: 1,\n",
       "     _root: [Circular] } }"
      ]
     },
     "execution_count": 14,
     "metadata": {},
     "output_type": "execute_result"
    }
   ],
   "source": [
    "exercise = $('.exercise');"
   ]
  },
  {
   "cell_type": "code",
   "execution_count": 38,
   "metadata": {
    "collapsed": false
   },
   "outputs": [
    {
     "data": {
      "text/plain": [
       "'今回はLPIC201試験の試験範囲から、「206.2 バックアップ操作」についての例題を解いてみます。\\r\\n\\r\\n\\r\\nこのトピックの内容は以下の通りです。\\r\\n\\r\\n＜206.2 バックアップ操作＞\\r\\n重要度 3\\r\\n\\r\\n＜説明＞\\r\\n重要なシステムデータをバックアップするシステムツールを使用する。\\r\\n\\r\\n＜主要な知識範囲＞\\r\\n・バックアップに含める必要があるディレクトリについて知っている\\r\\n・Amanda、Bacula、BackupPCなどのネットワークバックアップソリューションについて知っている\\r\\n・テープ、CD-R、ディスク、またはその他のバックアップメディアの利点と欠点を知っている\\r\\n・部分的および手作業によるバックアップを実行する\\r\\n・バックアップファイルの整合性を確認する\\r\\n・バックアップを部分的または完全に復元する\\r\\n\\r\\n＜重要なファイル、用語、ユーティリティ＞\\r\\n/bin/sh\\r\\ndd\\r\\ntar\\r\\n/dev/st* and /dev/nst*\\r\\nmt\\r\\nrsyn\\r\\n\\r\\n\\r\\n\\r\\nバックアップメディアの説明として、適切なものを選択してください。\\r\\n\\r\\n1. 磁気テープは、大容量かつランダムアクセスが可能なメディアである\\r\\n2. ハードディスクは、大容量だが比較的障害に弱いメディアである\\r\\n3. DVDはデータの上書きはできない\\r\\n4. フラッシュメモリは、容量は小さいが長期間の利用が可能なメディアである\\r\\n\\r\\n※この例題は実際のLPIC試験問題とは異なります。\\r\\n\\r\\n'"
      ]
     },
     "execution_count": 38,
     "metadata": {},
     "output_type": "execute_result"
    }
   ],
   "source": [
    "text = exercise.html().replace(/<br>/g, '\\r\\n').replace(/<.+>/g, '');"
   ]
  },
  {
   "cell_type": "code",
   "execution_count": 25,
   "metadata": {
    "collapsed": false
   },
   "outputs": [
    {
     "data": {
      "text/plain": [
       "undefined"
      ]
     },
     "execution_count": 25,
     "metadata": {},
     "output_type": "execute_result"
    }
   ],
   "source": [
    "var CW = require('simple-cw-node'),\n",
    "    client = CW();"
   ]
  },
  {
   "cell_type": "code",
   "execution_count": 42,
   "metadata": {
    "collapsed": false
   },
   "outputs": [
    {
     "data": {
      "text/plain": [
       "undefined"
      ]
     },
     "execution_count": 42,
     "metadata": {},
     "output_type": "execute_result"
    },
    {
     "name": "stdout",
     "output_type": "stream",
     "text": [
      "posted\n"
     ]
    }
   ],
   "source": [
    "// initialize.\n",
    "client.init({ token: '03de1d3a24aeb0392fcba36381804d0b' });\n",
    "var room_id = 32236319;\n",
    "client.post('rooms/'+room_id+'/messages', {\n",
    "    body: text + $.documentInfo()['url'],\n",
    "}, function (err, res) {\n",
    "    console.log('posted');\n",
    "});"
   ]
  },
  {
   "cell_type": "code",
   "execution_count": 41,
   "metadata": {
    "collapsed": false
   },
   "outputs": [
    {
     "data": {
      "text/plain": [
       "'http://www.lpi.or.jp/ex/201/ex_2976.shtml'"
      ]
     },
     "execution_count": 41,
     "metadata": {},
     "output_type": "execute_result"
    }
   ],
   "source": [
    "$.documentInfo()['url'];"
   ]
  }
 ],
 "metadata": {
  "kernelspec": {
   "display_name": "Javascript (Node.js)",
   "language": "javascript",
   "name": "javascript"
  },
  "language_info": {
   "file_extension": ".js",
   "mimetype": "application/javascript",
   "name": "javascript",
   "version": "7.6.0"
  }
 },
 "nbformat": 4,
 "nbformat_minor": 1
}
