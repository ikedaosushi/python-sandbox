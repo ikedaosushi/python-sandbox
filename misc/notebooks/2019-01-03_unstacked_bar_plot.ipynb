{
 "cells": [
  {
   "cell_type": "code",
   "execution_count": 1,
   "metadata": {},
   "outputs": [],
   "source": [
    "%load_ext autoreload\n",
    "%autoreload 2\n",
    "%matplotlib inline\n",
    "from IPython.display import Image\n",
    "\n",
    "import os, sys, re, datetime, time\n",
    "from pathlib import Path\n",
    "\n",
    "pj_dir = Path(os.getcwd()).parents[0]\n",
    "data_dir = pj_dir/'data'\n",
    "img_dir = pj_dir/'images'\n",
    "src_dir = pj_dir/'src'\n",
    "sys.path.append(str(src_dir))\n",
    "\n",
    "from matplotlib import pyplot as plt\n",
    "import japanize_matplotlib\n",
    "import seaborn as sns\n",
    "plt.style.use(\"bmh\")\n",
    "import numpy as np\n",
    "import pandas as pd\n",
    "import dask.dataframe as dd\n",
    "\n",
    "from tqdm import tqdm_notebook\n",
    "from dotenv import load_dotenv"
   ]
  },
  {
   "cell_type": "code",
   "execution_count": 2,
   "metadata": {},
   "outputs": [],
   "source": [
    "import matplotlib\n",
    "matplotlib.rcParams[\"figure.figsize\"] = (16, 4)\n",
    "plt.rcParams[\"font.family\"] = \"IPAexGothic\"\n",
    "import logging\n",
    "logging.basicConfig(level=logging.INFO)"
   ]
  },
  {
   "cell_type": "code",
   "execution_count": 40,
   "metadata": {},
   "outputs": [],
   "source": [
    "activities = ['3次活動', '2次活動', '1次活動']\n",
    "weekday = ['平日', '土曜', '日曜']\n",
    "\n",
    "df = pd.DataFrame([\n",
    "    [400, 450, 500], \n",
    "    [400, 300, 200],\n",
    "    [600, 610, 620]\n",
    "], columns=weekday, index=activities)\n",
    "\n",
    "fig, axes = plt.subplots(3, 1, figsize=(16, 15))\n",
    "\n",
    "for i, (activity, ax) in enumerate(zip(activities, axes)):\n",
    "    tmp_df = df.loc[activity].reset_index()\n",
    "    sns.barplot(x='index', y=activity, data=tmp_df, ax=ax, color=f\"C{i+1}\")\n",
    "    ax.tick_params(axis='both', labelsize=20)\n",
    "    ax.yaxis.set_label_position(\"right\")\n",
    "    ax.set_xlabel('')\n",
    "    ax.set_ylabel(activity, fontsize=20)\n",
    "    ax.set_ylim(0, 630)\n",
    "    ax.grid(False)\n",
    "    "
   ]
  },
  {
   "cell_type": "code",
   "execution_count": null,
   "metadata": {},
   "outputs": [],
   "source": []
  }
 ],
 "metadata": {
  "kernelspec": {
   "display_name": "Python 3",
   "language": "python",
   "name": "python3"
  },
  "language_info": {
   "codemirror_mode": {
    "name": "ipython",
    "version": 3
   },
   "file_extension": ".py",
   "mimetype": "text/x-python",
   "name": "python",
   "nbconvert_exporter": "python",
   "pygments_lexer": "ipython3",
   "version": "3.6.5"
  }
 },
 "nbformat": 4,
 "nbformat_minor": 2
}
