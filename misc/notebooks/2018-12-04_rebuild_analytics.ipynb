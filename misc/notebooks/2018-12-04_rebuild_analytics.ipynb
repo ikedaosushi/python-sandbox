{
 "cells": [
  {
   "cell_type": "code",
   "execution_count": 27,
   "metadata": {},
   "outputs": [
    {
     "name": "stdout",
     "output_type": "stream",
     "text": [
      "The autoreload extension is already loaded. To reload it, use:\n",
      "  %reload_ext autoreload\n"
     ]
    }
   ],
   "source": [
    "%load_ext autoreload\n",
    "%autoreload 2\n",
    "%matplotlib inline\n",
    "from IPython.display import Image\n",
    "\n",
    "import os, sys, re, datetime, time\n",
    "from pathlib import Path\n",
    "from tqdm import tqdm_notebook\n",
    "\n",
    "pj_dir = Path(os.getcwd()).parents[0]\n",
    "data_dir = pj_dir/'data'\n",
    "img_dir = pj_dir/'images'\n",
    "src_dir = pj_dir/'src'\n",
    "sys.path.append(str(src_dir))\n",
    "\n",
    "from matplotlib import pyplot as plt\n",
    "import seaborn as sns\n",
    "plt.style.use(\"bmh\")\n",
    "import numpy as np\n",
    "import pandas as pd\n",
    "import dask.dataframe as dd\n",
    "from scipy import stats "
   ]
  },
  {
   "cell_type": "code",
   "execution_count": 28,
   "metadata": {},
   "outputs": [],
   "source": [
    "import japanize_matplotlib"
   ]
  },
  {
   "cell_type": "code",
   "execution_count": 29,
   "metadata": {},
   "outputs": [],
   "source": [
    "import matplotlib\n",
    "matplotlib.rcParams[\"figure.figsize\"] = (16, 4)\n",
    "import logging\n",
    "logging.basicConfig(level=logging.INFO)\n",
    "\n",
    "from dask.diagnostics import ProgressBar\n",
    "pbar = ProgressBar()\n",
    "pbar.register()"
   ]
  },
  {
   "cell_type": "code",
   "execution_count": 30,
   "metadata": {},
   "outputs": [],
   "source": [
    "import pandas as pd"
   ]
  },
  {
   "cell_type": "code",
   "execution_count": 31,
   "metadata": {},
   "outputs": [],
   "source": [
    "from requests_html import HTMLSession\n",
    "session = HTMLSession()"
   ]
  },
  {
   "cell_type": "code",
   "execution_count": 32,
   "metadata": {},
   "outputs": [],
   "source": [
    "endpoint = 'https://rebuild.fm/{}/'"
   ]
  },
  {
   "cell_type": "code",
   "execution_count": 37,
   "metadata": {},
   "outputs": [
    {
     "data": {
      "application/vnd.jupyter.widget-view+json": {
       "model_id": "4359883d22b54f56bd7e797c44607620",
       "version_major": 2,
       "version_minor": 0
      },
      "text/plain": [
       "HBox(children=(IntProgress(value=0, max=222), HTML(value='')))"
      ]
     },
     "metadata": {},
     "output_type": "display_data"
    },
    {
     "name": "stdout",
     "output_type": "stream",
     "text": [
      "\n",
      "error:  https://rebuild.fm/1a/\n",
      "error:  https://rebuild.fm/2a/\n",
      "error:  https://rebuild.fm/3a/\n",
      "error:  https://rebuild.fm/4a/\n",
      "error:  https://rebuild.fm/5a/\n",
      "error:  https://rebuild.fm/6a/\n",
      "error:  https://rebuild.fm/7a/\n",
      "error:  https://rebuild.fm/8a/\n",
      "error:  https://rebuild.fm/9a/\n",
      "error:  https://rebuild.fm/10a/\n",
      "error:  https://rebuild.fm/11a/\n",
      "error:  https://rebuild.fm/12a/\n",
      "error:  https://rebuild.fm/13a/\n",
      "error:  https://rebuild.fm/14a/\n",
      "error:  https://rebuild.fm/15a/\n",
      "error:  https://rebuild.fm/16a/\n",
      "error:  https://rebuild.fm/17a/\n",
      "error:  https://rebuild.fm/18a/\n",
      "error:  https://rebuild.fm/19a/\n",
      "error:  https://rebuild.fm/20a/\n",
      "error:  https://rebuild.fm/21a/\n",
      "error:  https://rebuild.fm/22a/\n",
      "error:  https://rebuild.fm/23a/\n",
      "error:  https://rebuild.fm/24a/\n",
      "error:  https://rebuild.fm/25a/\n",
      "error:  https://rebuild.fm/26a/\n",
      "error:  https://rebuild.fm/27a/\n",
      "error:  https://rebuild.fm/28a/\n",
      "error:  https://rebuild.fm/29a/\n",
      "error:  https://rebuild.fm/30a/\n",
      "error:  https://rebuild.fm/31a/\n",
      "error:  https://rebuild.fm/32a/\n",
      "error:  https://rebuild.fm/33a/\n",
      "error:  https://rebuild.fm/34a/\n",
      "error:  https://rebuild.fm/35a/\n",
      "error:  https://rebuild.fm/36a/\n",
      "error:  https://rebuild.fm/37a/\n",
      "error:  https://rebuild.fm/38a/\n",
      "error:  https://rebuild.fm/39a/\n",
      "error:  https://rebuild.fm/40a/\n",
      "error:  https://rebuild.fm/41a/\n",
      "error:  https://rebuild.fm/42a/\n",
      "error:  https://rebuild.fm/43a/\n",
      "error:  https://rebuild.fm/44a/\n",
      "error:  https://rebuild.fm/47a/\n",
      "error:  https://rebuild.fm/58a/\n",
      "error:  https://rebuild.fm/59a/\n",
      "error:  https://rebuild.fm/64a/\n",
      "error:  https://rebuild.fm/69a/\n",
      "error:  https://rebuild.fm/74a/\n",
      "error:  https://rebuild.fm/77a/\n",
      "error:  https://rebuild.fm/78a/\n",
      "error:  https://rebuild.fm/95a/\n",
      "error:  https://rebuild.fm/104a/\n",
      "error:  https://rebuild.fm/107a/\n",
      "error:  https://rebuild.fm/117a/\n",
      "error:  https://rebuild.fm/118a/\n",
      "error:  https://rebuild.fm/121a/\n",
      "error:  https://rebuild.fm/134a/\n",
      "error:  https://rebuild.fm/138a/\n",
      "error:  https://rebuild.fm/151a/\n",
      "error:  https://rebuild.fm/155a/\n",
      "error:  https://rebuild.fm/158a/\n",
      "error:  https://rebuild.fm/159a/\n",
      "error:  https://rebuild.fm/161a/\n",
      "error:  https://rebuild.fm/163a/\n",
      "error:  https://rebuild.fm/164a/\n",
      "error:  https://rebuild.fm/168a/\n",
      "error:  https://rebuild.fm/170a/\n",
      "error:  https://rebuild.fm/173a/\n",
      "error:  https://rebuild.fm/178a/\n",
      "error:  https://rebuild.fm/182a/\n",
      "error:  https://rebuild.fm/185a/\n",
      "error:  https://rebuild.fm/186a/\n",
      "error:  https://rebuild.fm/187a/\n",
      "error:  https://rebuild.fm/189a/\n",
      "error:  https://rebuild.fm/190a/\n",
      "error:  https://rebuild.fm/192a/\n",
      "error:  https://rebuild.fm/193a/\n",
      "error:  https://rebuild.fm/195a/\n",
      "error:  https://rebuild.fm/196a/\n",
      "error:  https://rebuild.fm/198a/\n",
      "error:  https://rebuild.fm/199a/\n",
      "error:  https://rebuild.fm/201a/\n",
      "error:  https://rebuild.fm/202a/\n",
      "error:  https://rebuild.fm/203a/\n",
      "error:  https://rebuild.fm/205a/\n",
      "error:  https://rebuild.fm/206a/\n",
      "error:  https://rebuild.fm/207a/\n",
      "error:  https://rebuild.fm/208a/\n",
      "error:  https://rebuild.fm/209a/\n",
      "error:  https://rebuild.fm/211a/\n",
      "error:  https://rebuild.fm/212a/\n",
      "error:  https://rebuild.fm/213a/\n",
      "error:  https://rebuild.fm/214a/\n",
      "error:  https://rebuild.fm/216a/\n",
      "error:  https://rebuild.fm/217a/\n",
      "error:  https://rebuild.fm/219a/\n",
      "error:  https://rebuild.fm/221a/\n",
      "error:  https://rebuild.fm/222a/\n",
      "\n"
     ]
    }
   ],
   "source": [
    "episodes = []\n",
    "for number in tqdm_notebook(range(1, 223)):\n",
    "    for plus in ['', 'a']: # Normal / Aftershow\n",
    "        url = endpoint.format(str(number)+plus)\n",
    "        r = session.get(url)\n",
    "        if r.status_code != 200:\n",
    "            print('error: ', url)\n",
    "            continue\n",
    "\n",
    "        date_ = r.html.find('#contents > div > span', first=True).text\n",
    "        date_ = date_.replace('\\n', '-')\n",
    "\n",
    "        record_time = r.html.find('#contents > div > div.post > p > i', first=True).text\n",
    "        record_time = record_time.replace('収録時間: ', '').replace(' |', '')\n",
    "\n",
    "        title = r.html.find('#contents > div > h2 > a', first=True).text\n",
    "\n",
    "        description = r.html.find('#contents > div > div.post > div.episode-description > p', first=True).text\n",
    "\n",
    "        persons = []\n",
    "        persion_elements = r.html.find('#contents > div > div.post > div.episode-description > div.episode-people > ul > li')\n",
    "        for person_element in persion_elements:\n",
    "            persons.append(person_element.text)\n",
    "\n",
    "        shownotes = []\n",
    "        shownote_elements = r.html.find('#show_notes_ > ul > li > a')\n",
    "        for shownote_element in shownote_elements:\n",
    "            shownotes.append(shownote_element.text)\n",
    "\n",
    "        episode = {\n",
    "            'date': date_,\n",
    "            'record_time': record_time, \n",
    "            'title': title, \n",
    "            'persons': persons,\n",
    "            'shownotes': shownotes\n",
    "        }\n",
    "        episodes.append(episode)\n",
    "        time.sleep(1)"
   ]
  },
  {
   "cell_type": "code",
   "execution_count": 38,
   "metadata": {},
   "outputs": [],
   "source": [
    "df = pd.DataFrame(episodes)"
   ]
  },
  {
   "cell_type": "code",
   "execution_count": null,
   "metadata": {},
   "outputs": [],
   "source": [
    "df.head(20)"
   ]
  },
  {
   "cell_type": "code",
   "execution_count": null,
   "metadata": {},
   "outputs": [],
   "source": [
    "fig = plt.figure(figsize=(16, 4))\n",
    "ax = fig.add_subplot(1, 1, 1)\n",
    "ax.plot([0, 1, 2, 3], [0, 2, 4, 6])"
   ]
  },
  {
   "cell_type": "code",
   "execution_count": null,
   "metadata": {},
   "outputs": [],
   "source": [
    "df['date'] = pd.to_datetime(df['date'])"
   ]
  },
  {
   "cell_type": "code",
   "execution_count": null,
   "metadata": {},
   "outputs": [],
   "source": [
    "fig = plt.figure(figsize=(16, 8))\n",
    "fig.patch.set_facecolor('white')\n",
    "ax = df.groupby(pd.Grouper(key='date', freq='1M')).size().plot(linewidth=5, linestyle='--')\n",
    "ax = df.groupby(pd.Grouper(key='date', freq='1M')).size().rolling(window=4).mean().plot(linewidth=5, ax=ax)\n",
    "ax.set_title('rebuild 一月あたりの更新回数', fontsize=20)\n",
    "ax.tick_params(axis='x', labelsize='xx-large')\n",
    "ax.set_xlabel('')\n",
    "ax.set_ylabel('')\n",
    "ax.patch.set_facecolor('white') "
   ]
  },
  {
   "cell_type": "code",
   "execution_count": 8,
   "metadata": {},
   "outputs": [
    {
     "ename": "SyntaxError",
     "evalue": "invalid syntax (<ipython-input-8-9c79a3d6fed3>, line 1)",
     "output_type": "error",
     "traceback": [
      "\u001b[0;36m  File \u001b[0;32m\"<ipython-input-8-9c79a3d6fed3>\"\u001b[0;36m, line \u001b[0;32m1\u001b[0m\n\u001b[0;31m    df.groupby(pd.Grouper([key='date', freq='1M'), '']).size().plot()\u001b[0m\n\u001b[0m                              ^\u001b[0m\n\u001b[0;31mSyntaxError\u001b[0m\u001b[0;31m:\u001b[0m invalid syntax\n"
     ]
    }
   ],
   "source": [
    "df.groupby(pd.Grouper([key='date', freq='1M'), '']).size().plot()"
   ]
  },
  {
   "cell_type": "code",
   "execution_count": null,
   "metadata": {},
   "outputs": [],
   "source": [
    "persons = []\n",
    "for i, row in df.iterrows():\n",
    "    tmp_persosn = row['persons']\n",
    "    persons.extend(tmp_persosn)"
   ]
  },
  {
   "cell_type": "code",
   "execution_count": null,
   "metadata": {},
   "outputs": [],
   "source": [
    "s_persons = pd.Series(persons)"
   ]
  },
  {
   "cell_type": "code",
   "execution_count": null,
   "metadata": {},
   "outputs": [],
   "source": [
    "s_persons = s_persons[s_persons != 'miyagawa']"
   ]
  },
  {
   "cell_type": "code",
   "execution_count": null,
   "metadata": {},
   "outputs": [],
   "source": [
    "fig = plt.figure(figsize=(16,8))\n",
    "fig.patch.set_facecolor('white')\n",
    "\n",
    "tmp_df = s_persons.value_counts()[:10].to_frame('value').reset_index().rename(columns={'index': 'name'})\n",
    "ax = sns.barplot(x='value', y='name', data=tmp_df)\n",
    "max_ = tmp_df['value'].max()\n",
    "\n",
    "for i, (_, row) in enumerate(tmp_df.iterrows()):\n",
    "    text = ax.text(row['value'] + max_*.03, i+0.1, row['value'], color='black', ha=\"center\", fontsize=20)\n",
    "\n",
    "[spine.set_visible(False) for spine in ax.spines.values()]\n",
    "ax.tick_params(bottom=False, left=False, labelbottom=False)\n",
    "ax.tick_params(axis='y', labelsize='x-large')\n",
    "ax.set_xlabel('')\n",
    "ax.set_ylabel('')\n",
    "ax.set_title('rebuild 出演回数ランキング', fontsize=20)\n",
    "ax.patch.set_facecolor('white') \n",
    "\n",
    "ax.patch.set_alpha(0)\n",
    "plt.grid(False)"
   ]
  },
  {
   "cell_type": "code",
   "execution_count": null,
   "metadata": {},
   "outputs": [],
   "source": [
    "shownotes = []\n",
    "for i, row in df.iterrows():\n",
    "    tmp_shownote = row['shownotes']\n",
    "    shownotes.extend(tmp_shownote)\n",
    "s_shownotes = pd.Series(shownotes)"
   ]
  },
  {
   "cell_type": "code",
   "execution_count": null,
   "metadata": {},
   "outputs": [],
   "source": [
    "plt.figure(figsize=(16,16))\n",
    "\n",
    "tmp_df = s_shownotes.value_counts()[:20].to_frame('value').reset_index().rename(columns={'index': 'name'})\n",
    "ax = sns.barplot(x='value', y='name', data=tmp_df)\n",
    "max_ = tmp_df['value'].max()\n",
    "\n",
    "for i, (_, row) in enumerate(tmp_df.iterrows()):\n",
    "    text = ax.text(row['value'] + max_*.03, i+0.1, row['value'], color='black', ha=\"center\", fontsize=20)\n",
    "\n",
    "[spine.set_visible(False) for spine in ax.spines.values()]\n",
    "ax.tick_params(bottom=False, left=False, labelbottom=False)\n",
    "ax.tick_params(axis='y', labelsize='x-large')\n",
    "ax.set_xlabel('')\n",
    "ax.set_ylabel('')\n",
    "ax.set_title('shownote ランキング', fontsize=20)\n",
    "\n",
    "ax.patch.set_alpha(0)\n",
    "plt.grid(False)"
   ]
  },
  {
   "cell_type": "code",
   "execution_count": null,
   "metadata": {},
   "outputs": [],
   "source": [
    "ignore_word = ['-', '–', 'to', 'for', 'the', 'and', '|', 'in', 'of', 'a', 'is', 'on', 'with', 'how', 'new', 'by', '2', 'at', 'rebuild:']"
   ]
  },
  {
   "cell_type": "code",
   "execution_count": null,
   "metadata": {},
   "outputs": [],
   "source": [
    "shownotes_split = []\n",
    "for i, row in df.iterrows():\n",
    "    tmp_shownote = row['shownotes']\n",
    "    for t in tmp_shownote:\n",
    "        tmp_split = t.split()\n",
    "        shownotes_split.extend(tmp_split)\n",
    "shownotes_split = [s for s in shownotes_split if s.lower() not in ignore_word]\n",
    "s_shownotes_split = pd.Series(shownotes_split)"
   ]
  },
  {
   "cell_type": "code",
   "execution_count": null,
   "metadata": {},
   "outputs": [],
   "source": [
    "plt.figure(figsize=(16,8))\n",
    "\n",
    "tmp_df = s_shownotes_split.value_counts()[:10].to_frame('value').reset_index().rename(columns={'index': 'name'})\n",
    "ax = sns.barplot(x='value', y='name', data=tmp_df)\n",
    "max_ = tmp_df['value'].max()\n",
    "\n",
    "for i, (_, row) in enumerate(tmp_df.iterrows()):\n",
    "    text = ax.text(row['value'] + max_*.03, i+0.1, row['value'], color='black', ha=\"center\", fontsize=20)\n",
    "\n",
    "[spine.set_visible(False) for spine in ax.spines.values()]\n",
    "ax.tick_params(bottom=False, left=False, labelbottom=False)\n",
    "ax.tick_params(axis='y', labelsize='x-large')\n",
    "ax.set_xlabel('')\n",
    "ax.set_ylabel('')\n",
    "ax.set_title('rebuild 話題ランキング', fontsize=20)\n",
    "\n",
    "ax.patch.set_alpha(0)\n",
    "ax.patch.set_facecolor('white') \n",
    "plt.grid(False)"
   ]
  },
  {
   "cell_type": "code",
   "execution_count": null,
   "metadata": {},
   "outputs": [],
   "source": [
    "(pj_dir/'data').mkdir(parents=True)"
   ]
  },
  {
   "cell_type": "code",
   "execution_count": 39,
   "metadata": {},
   "outputs": [],
   "source": [
    "df.to_csv(data_dir/'rebuildfm.csv', index=False)"
   ]
  },
  {
   "cell_type": "code",
   "execution_count": null,
   "metadata": {},
   "outputs": [],
   "source": []
  }
 ],
 "metadata": {
  "kernelspec": {
   "display_name": "Python 3",
   "language": "python",
   "name": "python3"
  },
  "language_info": {
   "codemirror_mode": {
    "name": "ipython",
    "version": 3
   },
   "file_extension": ".py",
   "mimetype": "text/x-python",
   "name": "python",
   "nbconvert_exporter": "python",
   "pygments_lexer": "ipython3",
   "version": "3.6.5"
  }
 },
 "nbformat": 4,
 "nbformat_minor": 2
}
