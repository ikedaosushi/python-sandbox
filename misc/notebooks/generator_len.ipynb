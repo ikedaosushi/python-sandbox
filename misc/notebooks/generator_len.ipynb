{
 "cells": [
  {
   "cell_type": "code",
   "execution_count": 2,
   "metadata": {},
   "outputs": [],
   "source": [
    "import os\n",
    "from pathlib import Path"
   ]
  },
  {
   "cell_type": "code",
   "execution_count": 26,
   "metadata": {},
   "outputs": [
    {
     "name": "stdout",
     "output_type": "stream",
     "text": [
      "<class 'generator'>\n"
     ]
    }
   ],
   "source": [
    "notebooks = Path(os.getcwd()).glob('*.ipynb')\n",
    "print(type(notebooks))"
   ]
  },
  {
   "cell_type": "code",
   "execution_count": 27,
   "metadata": {},
   "outputs": [
    {
     "name": "stdout",
     "output_type": "stream",
     "text": [
      "/Users/yutaro_ikeda/.ghq/github.com/ikedaosushi/python-sandbox/misc/notebooks/baysian for python.ipynb\n",
      "/Users/yutaro_ikeda/.ghq/github.com/ikedaosushi/python-sandbox/misc/notebooks/node.ipynb\n",
      "/Users/yutaro_ikeda/.ghq/github.com/ikedaosushi/python-sandbox/misc/notebooks/StatisticTesting.ipynb\n",
      "/Users/yutaro_ikeda/.ghq/github.com/ikedaosushi/python-sandbox/misc/notebooks/text2speech.ipynb\n",
      "/Users/yutaro_ikeda/.ghq/github.com/ikedaosushi/python-sandbox/misc/notebooks/2018-02-14 Dask-Example.ipynb\n",
      "/Users/yutaro_ikeda/.ghq/github.com/ikedaosushi/python-sandbox/misc/notebooks/2018-08-09_talk-assignment.ipynb\n",
      "/Users/yutaro_ikeda/.ghq/github.com/ikedaosushi/python-sandbox/misc/notebooks/devidedNN.ipynb\n",
      "/Users/yutaro_ikeda/.ghq/github.com/ikedaosushi/python-sandbox/misc/notebooks/2018-04-30 Profiling.ipynb\n",
      "/Users/yutaro_ikeda/.ghq/github.com/ikedaosushi/python-sandbox/misc/notebooks/2017-09-16 fitbit.ipynb\n",
      "/Users/yutaro_ikeda/.ghq/github.com/ikedaosushi/python-sandbox/misc/notebooks/ploty.ipynb\n",
      "/Users/yutaro_ikeda/.ghq/github.com/ikedaosushi/python-sandbox/misc/notebooks/python.ipynb\n",
      "/Users/yutaro_ikeda/.ghq/github.com/ikedaosushi/python-sandbox/misc/notebooks/edwards.ipynb\n",
      "/Users/yutaro_ikeda/.ghq/github.com/ikedaosushi/python-sandbox/misc/notebooks/generator_len.ipynb\n",
      "/Users/yutaro_ikeda/.ghq/github.com/ikedaosushi/python-sandbox/misc/notebooks/asyncio.ipynb\n",
      "/Users/yutaro_ikeda/.ghq/github.com/ikedaosushi/python-sandbox/misc/notebooks/2018-08-12_talk_assignment.ipynb\n",
      "/Users/yutaro_ikeda/.ghq/github.com/ikedaosushi/python-sandbox/misc/notebooks/2018-05-17_Baysian-AB-Test.ipynb\n"
     ]
    }
   ],
   "source": [
    "notebooks = Path(os.getcwd()).glob('*.ipynb')\n",
    "for n in notebooks:\n",
    "    print(n)"
   ]
  },
  {
   "cell_type": "code",
   "execution_count": 30,
   "metadata": {},
   "outputs": [
    {
     "name": "stdout",
     "output_type": "stream",
     "text": [
      "16\n"
     ]
    }
   ],
   "source": [
    "notebooks = Path(os.getcwd()).glob('*.ipynb')\n",
    "print(len(list(notebooks)))\n",
    "for n in notebooks:\n",
    "    print(n)"
   ]
  },
  {
   "cell_type": "code",
   "execution_count": 35,
   "metadata": {},
   "outputs": [],
   "source": [
    "from types import GeneratorType"
   ]
  },
  {
   "cell_type": "code",
   "execution_count": 36,
   "metadata": {},
   "outputs": [
    {
     "data": {
      "text/plain": [
       "False"
      ]
     },
     "execution_count": 36,
     "metadata": {},
     "output_type": "execute_result"
    }
   ],
   "source": []
  },
  {
   "cell_type": "code",
   "execution_count": 38,
   "metadata": {},
   "outputs": [
    {
     "name": "stdout",
     "output_type": "stream",
     "text": [
      "True\n",
      "False\n",
      "16\n",
      "/Users/yutaro_ikeda/.ghq/github.com/ikedaosushi/python-sandbox/misc/notebooks/baysian for python.ipynb\n",
      "/Users/yutaro_ikeda/.ghq/github.com/ikedaosushi/python-sandbox/misc/notebooks/node.ipynb\n",
      "/Users/yutaro_ikeda/.ghq/github.com/ikedaosushi/python-sandbox/misc/notebooks/StatisticTesting.ipynb\n",
      "/Users/yutaro_ikeda/.ghq/github.com/ikedaosushi/python-sandbox/misc/notebooks/text2speech.ipynb\n",
      "/Users/yutaro_ikeda/.ghq/github.com/ikedaosushi/python-sandbox/misc/notebooks/2018-02-14 Dask-Example.ipynb\n",
      "/Users/yutaro_ikeda/.ghq/github.com/ikedaosushi/python-sandbox/misc/notebooks/2018-08-09_talk-assignment.ipynb\n",
      "/Users/yutaro_ikeda/.ghq/github.com/ikedaosushi/python-sandbox/misc/notebooks/devidedNN.ipynb\n",
      "/Users/yutaro_ikeda/.ghq/github.com/ikedaosushi/python-sandbox/misc/notebooks/2018-04-30 Profiling.ipynb\n",
      "/Users/yutaro_ikeda/.ghq/github.com/ikedaosushi/python-sandbox/misc/notebooks/2017-09-16 fitbit.ipynb\n",
      "/Users/yutaro_ikeda/.ghq/github.com/ikedaosushi/python-sandbox/misc/notebooks/ploty.ipynb\n",
      "/Users/yutaro_ikeda/.ghq/github.com/ikedaosushi/python-sandbox/misc/notebooks/python.ipynb\n",
      "/Users/yutaro_ikeda/.ghq/github.com/ikedaosushi/python-sandbox/misc/notebooks/edwards.ipynb\n",
      "/Users/yutaro_ikeda/.ghq/github.com/ikedaosushi/python-sandbox/misc/notebooks/generator_len.ipynb\n",
      "/Users/yutaro_ikeda/.ghq/github.com/ikedaosushi/python-sandbox/misc/notebooks/asyncio.ipynb\n",
      "/Users/yutaro_ikeda/.ghq/github.com/ikedaosushi/python-sandbox/misc/notebooks/2018-08-12_talk_assignment.ipynb\n",
      "/Users/yutaro_ikeda/.ghq/github.com/ikedaosushi/python-sandbox/misc/notebooks/2018-05-17_Baysian-AB-Test.ipynb\n"
     ]
    }
   ],
   "source": [
    "notebooks = Path(os.getcwd()).glob('*.ipynb')\n",
    "print(isinstance(notebooks, GeneratorType))\n",
    "notebooks = list(notebooks)\n",
    "print(isinstance(notebooks, GeneratorType))\n",
    "print(len(list(notebooks)))\n",
    "for n in notebooks:\n",
    "    print(n)"
   ]
  }
 ],
 "metadata": {
  "kernelspec": {
   "display_name": "Python 3",
   "language": "python",
   "name": "python3"
  },
  "language_info": {
   "codemirror_mode": {
    "name": "ipython",
    "version": 3
   },
   "file_extension": ".py",
   "mimetype": "text/x-python",
   "name": "python",
   "nbconvert_exporter": "python",
   "pygments_lexer": "ipython3",
   "version": "3.6.5"
  }
 },
 "nbformat": 4,
 "nbformat_minor": 2
}
