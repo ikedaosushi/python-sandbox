{
 "cells": [
  {
   "cell_type": "code",
   "execution_count": 11,
   "metadata": {},
   "outputs": [
    {
     "name": "stdout",
     "output_type": "stream",
     "text": [
      "The autoreload extension is already loaded. To reload it, use:\n",
      "  %reload_ext autoreload\n"
     ]
    }
   ],
   "source": [
    "%load_ext autoreload\n",
    "%autoreload 2\n",
    "%matplotlib inline\n",
    "\n",
    "import os, sys, re, datetime\n",
    "from pathlib import Path\n",
    "from collections import defaultdict\n",
    "\n",
    "pj_dir = Path(os.getcwd()).parent\n",
    "data_dir = pj_dir/'data'\n",
    "src_dir = pj_dir/'src'\n",
    "sys.path.append(str(src_dir))\n",
    "\n",
    "from matplotlib import pyplot as plt\n",
    "plt.style.use(\"bmh\")\n",
    "import numpy as np\n",
    "import pandas as pd\n",
    "import dask.dataframe as dd\n",
    "from scipy import stats \n",
    "\n",
    "from tqdm import tqdm"
   ]
  },
  {
   "cell_type": "code",
   "execution_count": 2,
   "metadata": {},
   "outputs": [],
   "source": [
    "df = pd.read_csv(data_dir/'talklist.csv')"
   ]
  },
  {
   "cell_type": "markdown",
   "metadata": {},
   "source": [
    "### additional_infoに「キャンセルが入っていないものだけ抽出」"
   ]
  },
  {
   "cell_type": "code",
   "execution_count": 3,
   "metadata": {},
   "outputs": [],
   "source": [
    "df = df[df['additional_info'].isnull()]"
   ]
  },
  {
   "cell_type": "markdown",
   "metadata": {},
   "source": [
    "### audience_levelを{\"All\": 0, \"Beginner\": 1, \"Intermediate\": 2, \"Advanced\": 3}で変換"
   ]
  },
  {
   "cell_type": "code",
   "execution_count": 5,
   "metadata": {},
   "outputs": [],
   "source": [
    "df['level'] = df['audience_level'].replace({\"All\": 0, \"Beginner\": 1, \"Intermediate\": 2, \"Advanced\": 3})"
   ]
  },
  {
   "cell_type": "markdown",
   "metadata": {},
   "source": [
    "# 割当アルゴリズム"
   ]
  },
  {
   "cell_type": "code",
   "execution_count": 10,
   "metadata": {},
   "outputs": [],
   "source": [
    "def assign(df, df_assign):\n",
    "\n",
    "    assigned_ids = []\n",
    "    row_genre_dic = defaultdict(list)\n",
    "    row_lang_dic = defaultdict(list)\n",
    "    n_row, n_col = df_assign.shape\n",
    "    for c in range(n_col):\n",
    "        for r in range(n_row):\n",
    "            if df_assign.iloc[r, c] == -1:\n",
    "                print('割当できない時間帯です')\n",
    "                continue\n",
    "\n",
    "            target_index = 0\n",
    "            force_flg = False\n",
    "            while True:\n",
    "                df_rest = df.query('id not in @assigned_ids')\n",
    "                if df_rest.shape[0] == 0:\n",
    "                    print('割当てるトークがありません')\n",
    "                    df_assign.iloc[r, c] = -1\n",
    "                    break\n",
    "                try:\n",
    "                    target_s = df_rest.iloc[target_index]\n",
    "                except IndexError:\n",
    "                    print('割当できなかったので強制割当します')\n",
    "                    target_index = 0\n",
    "                    force_flg = True\n",
    "\n",
    "                target_id = target_s['id']\n",
    "                target_genre = target_s['genre']\n",
    "                target_lang = target_s['lang']\n",
    "\n",
    "                cond1 = target_genre in row_genre_dic[r]\n",
    "                cond2 = row_lang_dic[r].count(target_lang) > int(n_col/2)\n",
    "\n",
    "                if not force_flg and (cond1 or cond2) :\n",
    "                    target_index += 1\n",
    "                    continue\n",
    "\n",
    "                assigned_ids.append(target_id)\n",
    "                row_genre_dic[r].append(target_genre)\n",
    "                row_lang_dic[r].append(target_lang)\n",
    "                desc = describe(target_s)\n",
    "                df_assign.iloc[r, c] = desc\n",
    "                print(\"割り当てました\", desc)\n",
    "                break\n",
    "    \n",
    "    df_rest = df.query('id not in @assigned_ids')\n",
    "    if df_rest.shape[0] > 0:\n",
    "        print(\"割当てられていないトークがあります\")\n",
    "        for i, r in df.iterrows():\n",
    "            print(describe(r))\n",
    "        \n",
    "        \n",
    "    return df, df_assign"
   ]
  },
  {
   "cell_type": "markdown",
   "metadata": {},
   "source": [
    "# ユーティリティ"
   ]
  },
  {
   "cell_type": "code",
   "execution_count": 8,
   "metadata": {},
   "outputs": [],
   "source": [
    "def describe(s):\n",
    "    title = s['title']\n",
    "    id_ = s['id']\n",
    "    genre = int(s['genre'])\n",
    "    level = int(s['level'])\n",
    "    lang = s['lang']\n",
    "    \n",
    "    desc = \"{}:G{}_L{}_{}_{}\".format(id_, genre, level, lang, title)\n",
    "    return desc"
   ]
  },
  {
   "cell_type": "markdown",
   "metadata": {},
   "source": [
    "# 45分枠"
   ]
  },
  {
   "cell_type": "code",
   "execution_count": 6,
   "metadata": {},
   "outputs": [],
   "source": [
    "df45 = df.query('talk_format == \"Talk (45 minutes)\"').copy()"
   ]
  },
  {
   "cell_type": "markdown",
   "metadata": {},
   "source": [
    "### ソート"
   ]
  },
  {
   "cell_type": "code",
   "execution_count": 346,
   "metadata": {},
   "outputs": [],
   "source": [
    "df45.sort_values(['level', 'rating'], ascending=[True, False], inplace=True)"
   ]
  },
  {
   "cell_type": "markdown",
   "metadata": {},
   "source": [
    "### 枠を準備"
   ]
  },
  {
   "cell_type": "code",
   "execution_count": 38,
   "metadata": {},
   "outputs": [],
   "source": [
    "df_assign45 = pd.DataFrame(np.zeros((4, 7)))\n",
    "df_assign45.iloc[0:3, 2] = -1\n",
    "df_assign45.iloc[0:2, 3] = -1"
   ]
  },
  {
   "cell_type": "code",
   "execution_count": 37,
   "metadata": {},
   "outputs": [
    {
     "data": {
      "text/html": [
       "<div>\n",
       "<style scoped>\n",
       "    .dataframe tbody tr th:only-of-type {\n",
       "        vertical-align: middle;\n",
       "    }\n",
       "\n",
       "    .dataframe tbody tr th {\n",
       "        vertical-align: top;\n",
       "    }\n",
       "\n",
       "    .dataframe thead th {\n",
       "        text-align: right;\n",
       "    }\n",
       "</style>\n",
       "<table border=\"1\" class=\"dataframe\">\n",
       "  <thead>\n",
       "    <tr style=\"text-align: right;\">\n",
       "      <th></th>\n",
       "      <th>0</th>\n",
       "      <th>1</th>\n",
       "      <th>2</th>\n",
       "      <th>3</th>\n",
       "      <th>4</th>\n",
       "      <th>5</th>\n",
       "      <th>6</th>\n",
       "    </tr>\n",
       "  </thead>\n",
       "  <tbody>\n",
       "    <tr>\n",
       "      <th>0</th>\n",
       "      <td>0.0</td>\n",
       "      <td>0.0</td>\n",
       "      <td>-1.0</td>\n",
       "      <td>-1.0</td>\n",
       "      <td>0.0</td>\n",
       "      <td>0.0</td>\n",
       "      <td>0.0</td>\n",
       "    </tr>\n",
       "    <tr>\n",
       "      <th>1</th>\n",
       "      <td>0.0</td>\n",
       "      <td>0.0</td>\n",
       "      <td>-1.0</td>\n",
       "      <td>-1.0</td>\n",
       "      <td>0.0</td>\n",
       "      <td>0.0</td>\n",
       "      <td>0.0</td>\n",
       "    </tr>\n",
       "    <tr>\n",
       "      <th>2</th>\n",
       "      <td>0.0</td>\n",
       "      <td>0.0</td>\n",
       "      <td>-1.0</td>\n",
       "      <td>0.0</td>\n",
       "      <td>0.0</td>\n",
       "      <td>0.0</td>\n",
       "      <td>0.0</td>\n",
       "    </tr>\n",
       "    <tr>\n",
       "      <th>3</th>\n",
       "      <td>0.0</td>\n",
       "      <td>0.0</td>\n",
       "      <td>0.0</td>\n",
       "      <td>0.0</td>\n",
       "      <td>0.0</td>\n",
       "      <td>0.0</td>\n",
       "      <td>0.0</td>\n",
       "    </tr>\n",
       "  </tbody>\n",
       "</table>\n",
       "</div>"
      ],
      "text/plain": [
       "     0    1    2    3    4    5    6\n",
       "0  0.0  0.0 -1.0 -1.0  0.0  0.0  0.0\n",
       "1  0.0  0.0 -1.0 -1.0  0.0  0.0  0.0\n",
       "2  0.0  0.0 -1.0  0.0  0.0  0.0  0.0\n",
       "3  0.0  0.0  0.0  0.0  0.0  0.0  0.0"
      ]
     },
     "execution_count": 37,
     "metadata": {},
     "output_type": "execute_result"
    }
   ],
   "source": [
    "df_assign45"
   ]
  },
  {
   "cell_type": "code",
   "execution_count": 43,
   "metadata": {},
   "outputs": [
    {
     "name": "stdout",
     "output_type": "stream",
     "text": [
      "割り当てました 4:G0_L0_en_Build text classification models ( CBOW and Skip-gram) with FastText in python\n",
      "割り当てました 8:G0_L0_en_Probabilistic Programming and Bayesian Deep Learning (comparing Edward and ZhuSuan python libraries)\n",
      "割り当てました 9:G4_L0_ja_Pythonを使ったハードウェア開発について\n",
      "割り当てました 10:G0_L3_ja_実践・競馬データサイエンス\n",
      "割り当てました 11:G4_L1_en_HomeSecurity with Python\n",
      "割り当てました 12:G4_L1_ja_あなたと私いますぐパッケージン\n",
      "割り当てました 13:G1_L0_ja_DjangoではじめるPyCharm実践入門\n",
      "割り当てました 14:G2_L0_ja_「リモートペアプロでマントルを突き抜けろ！」AWS Cloud9でリモートペアプロ＆楽々サーバーレス開発\n",
      "割当できない時間帯です\n",
      "割当できない時間帯です\n",
      "割当できない時間帯です\n",
      "割り当てました 15:G1_L2_en_Integrate Full-text Search service with Django\n",
      "割当できない時間帯です\n",
      "割当できない時間帯です\n",
      "割り当てました 16:G3_L2_ja_JVM上で動くPython3処理系cafebabepyの実装詳解\n",
      "割り当てました 22:G4_L0_ja_PyCon JP における子ども向けワークショップの活動事例と実施の意義\n",
      "割り当てました 17:G1_L1_ja_Djangoだってカンバンつくれるもん(Django Channels + Vue)\n",
      "割り当てました 18:G2_L2_en_Applying serverless architecture pattern to distributed data processing\n",
      "割り当てました 19:G2_L1_ja_Pythonistaに贈るコンテナ入門\n",
      "割り当てました 26:G3_L0_en_Migrating from Py2 application to Py3: first trial in MonotaRO / Python2 から Python3 への移植: MonotaRO での取り組み\n",
      "割り当てました 28:G3_L0_ja_オンザフライ高速化パッケージの比較：Numba, TensorFlow, Dask, etc\n",
      "割り当てました 20:G1_L2_ja_Django REST Framework におけるAPI実装プラクティス\n",
      "割当できなかったので強制割当します\n",
      "割り当てました 29:G3_L0_en_Why you should care about types: Python Typing in the Facebook Backend\n",
      "割当できなかったので強制割当します\n",
      "割り当てました 27:G1_L1_ja_Webアプリケーションの仕組み\n",
      "割当できなかったので強制割当します\n",
      "割り当てました 25:G4_L0_ja_Sphinx-2.0 とドキュメントの未来\n",
      "割当できなかったので強制割当します\n",
      "割り当てました 24:G0_L0_ja_niconicoにおけるコンテンツレコメンドの取り組み\n",
      "割当できなかったので強制割当します\n",
      "割り当てました 23:G0_L2_ja_SymPyによる数式処理\n",
      "割当できなかったので強制割当します\n",
      "割り当てました 21:G1_L0_ja_Djangoアプリケーションにおけるトイル撲滅戦記\n"
     ]
    }
   ],
   "source": [
    "df45, df_assign45 = assign(df45, df_assign45)"
   ]
  },
  {
   "cell_type": "code",
   "execution_count": 44,
   "metadata": {},
   "outputs": [
    {
     "data": {
      "text/html": [
       "<div>\n",
       "<style scoped>\n",
       "    .dataframe tbody tr th:only-of-type {\n",
       "        vertical-align: middle;\n",
       "    }\n",
       "\n",
       "    .dataframe tbody tr th {\n",
       "        vertical-align: top;\n",
       "    }\n",
       "\n",
       "    .dataframe thead th {\n",
       "        text-align: right;\n",
       "    }\n",
       "</style>\n",
       "<table border=\"1\" class=\"dataframe\">\n",
       "  <thead>\n",
       "    <tr style=\"text-align: right;\">\n",
       "      <th></th>\n",
       "      <th>0</th>\n",
       "      <th>1</th>\n",
       "      <th>2</th>\n",
       "      <th>3</th>\n",
       "      <th>4</th>\n",
       "      <th>5</th>\n",
       "      <th>6</th>\n",
       "    </tr>\n",
       "  </thead>\n",
       "  <tbody>\n",
       "    <tr>\n",
       "      <th>0</th>\n",
       "      <td>4:G0_L0_en_Build text classification models ( ...</td>\n",
       "      <td>11:G4_L1_en_HomeSecurity with Python</td>\n",
       "      <td>-1</td>\n",
       "      <td>-1</td>\n",
       "      <td>17:G1_L1_ja_Djangoだってカンバンつくれるもん(Django Channel...</td>\n",
       "      <td>28:G3_L0_ja_オンザフライ高速化パッケージの比較：Numba, TensorFlo...</td>\n",
       "      <td>25:G4_L0_ja_Sphinx-2.0 とドキュメントの未来</td>\n",
       "    </tr>\n",
       "    <tr>\n",
       "      <th>1</th>\n",
       "      <td>8:G0_L0_en_Probabilistic Programming and Bayes...</td>\n",
       "      <td>12:G4_L1_ja_あなたと私いますぐパッケージン</td>\n",
       "      <td>-1</td>\n",
       "      <td>-1</td>\n",
       "      <td>18:G2_L2_en_Applying serverless architecture p...</td>\n",
       "      <td>20:G1_L2_ja_Django REST Framework におけるAPI実装プラクティス</td>\n",
       "      <td>24:G0_L0_ja_niconicoにおけるコンテンツレコメンドの取り組み</td>\n",
       "    </tr>\n",
       "    <tr>\n",
       "      <th>2</th>\n",
       "      <td>9:G4_L0_ja_Pythonを使ったハードウェア開発について</td>\n",
       "      <td>13:G1_L0_ja_DjangoではじめるPyCharm実践入門</td>\n",
       "      <td>-1</td>\n",
       "      <td>16:G3_L2_ja_JVM上で動くPython3処理系cafebabepyの実装詳解</td>\n",
       "      <td>19:G2_L1_ja_Pythonistaに贈るコンテナ入門</td>\n",
       "      <td>29:G3_L0_en_Why you should care about types: P...</td>\n",
       "      <td>23:G0_L2_ja_SymPyによる数式処理</td>\n",
       "    </tr>\n",
       "    <tr>\n",
       "      <th>3</th>\n",
       "      <td>10:G0_L3_ja_実践・競馬データサイエンス</td>\n",
       "      <td>14:G2_L0_ja_「リモートペアプロでマントルを突き抜けろ！」AWS Cloud9でリ...</td>\n",
       "      <td>15:G1_L2_en_Integrate Full-text Search service...</td>\n",
       "      <td>22:G4_L0_ja_PyCon JP における子ども向けワークショップの活動事例と実施の意義</td>\n",
       "      <td>26:G3_L0_en_Migrating from Py2 application to ...</td>\n",
       "      <td>27:G1_L1_ja_Webアプリケーションの仕組み</td>\n",
       "      <td>21:G1_L0_ja_Djangoアプリケーションにおけるトイル撲滅戦記</td>\n",
       "    </tr>\n",
       "  </tbody>\n",
       "</table>\n",
       "</div>"
      ],
      "text/plain": [
       "                                                   0  \\\n",
       "0  4:G0_L0_en_Build text classification models ( ...   \n",
       "1  8:G0_L0_en_Probabilistic Programming and Bayes...   \n",
       "2                  9:G4_L0_ja_Pythonを使ったハードウェア開発について   \n",
       "3                          10:G0_L3_ja_実践・競馬データサイエンス   \n",
       "\n",
       "                                                   1  \\\n",
       "0               11:G4_L1_en_HomeSecurity with Python   \n",
       "1                        12:G4_L1_ja_あなたと私いますぐパッケージン   \n",
       "2                 13:G1_L0_ja_DjangoではじめるPyCharm実践入門   \n",
       "3  14:G2_L0_ja_「リモートペアプロでマントルを突き抜けろ！」AWS Cloud9でリ...   \n",
       "\n",
       "                                                   2  \\\n",
       "0                                                 -1   \n",
       "1                                                 -1   \n",
       "2                                                 -1   \n",
       "3  15:G1_L2_en_Integrate Full-text Search service...   \n",
       "\n",
       "                                                  3  \\\n",
       "0                                                -1   \n",
       "1                                                -1   \n",
       "2      16:G3_L2_ja_JVM上で動くPython3処理系cafebabepyの実装詳解   \n",
       "3  22:G4_L0_ja_PyCon JP における子ども向けワークショップの活動事例と実施の意義   \n",
       "\n",
       "                                                   4  \\\n",
       "0  17:G1_L1_ja_Djangoだってカンバンつくれるもん(Django Channel...   \n",
       "1  18:G2_L2_en_Applying serverless architecture p...   \n",
       "2                    19:G2_L1_ja_Pythonistaに贈るコンテナ入門   \n",
       "3  26:G3_L0_en_Migrating from Py2 application to ...   \n",
       "\n",
       "                                                   5  \\\n",
       "0  28:G3_L0_ja_オンザフライ高速化パッケージの比較：Numba, TensorFlo...   \n",
       "1  20:G1_L2_ja_Django REST Framework におけるAPI実装プラクティス   \n",
       "2  29:G3_L0_en_Why you should care about types: P...   \n",
       "3                        27:G1_L1_ja_Webアプリケーションの仕組み   \n",
       "\n",
       "                                         6  \n",
       "0        25:G4_L0_ja_Sphinx-2.0 とドキュメントの未来  \n",
       "1  24:G0_L0_ja_niconicoにおけるコンテンツレコメンドの取り組み  \n",
       "2                 23:G0_L2_ja_SymPyによる数式処理  \n",
       "3    21:G1_L0_ja_Djangoアプリケーションにおけるトイル撲滅戦記  "
      ]
     },
     "execution_count": 44,
     "metadata": {},
     "output_type": "execute_result"
    }
   ],
   "source": [
    "df_assign45"
   ]
  },
  {
   "cell_type": "code",
   "execution_count": 45,
   "metadata": {},
   "outputs": [],
   "source": [
    "df_assign45.to_clipboard(sep=',', index=False)"
   ]
  },
  {
   "cell_type": "markdown",
   "metadata": {},
   "source": [
    "# 30分枠"
   ]
  },
  {
   "cell_type": "code",
   "execution_count": 14,
   "metadata": {},
   "outputs": [],
   "source": [
    "df30 = df.query('talk_format == \"Talk (30 minutes)\"').copy()\n",
    "df30.sort_values(['level', 'rating'], ascending=[True, False], inplace=True)"
   ]
  },
  {
   "cell_type": "markdown",
   "metadata": {},
   "source": [
    "### 枠を準備"
   ]
  },
  {
   "cell_type": "code",
   "execution_count": 27,
   "metadata": {},
   "outputs": [],
   "source": [
    "df_assign30 = pd.DataFrame(np.zeros((5, 6)))"
   ]
  },
  {
   "cell_type": "code",
   "execution_count": 28,
   "metadata": {
    "scrolled": false
   },
   "outputs": [
    {
     "name": "stdout",
     "output_type": "stream",
     "text": [
      "割り当てました 49:G4_L0_en_Fun with Python and Kanji\n",
      "割り当てました 5:G0_L0_en_Creative Music Applications in Python\n",
      "割り当てました 41:G4_L0_en_Make a Drone using RaspberryPi and Google VoiceKit by Python\n",
      "割り当てました 57:G0_L0_ja_1次元畳み込みフィルターを利用した音楽データのオートエンコーダ\n",
      "割り当てました 37:G0_L0_en_Visualizing Topic Models\n",
      "割り当てました 52:G0_L0_en_Detecting offensive messages using Deep Learning: A micro-service based approach\n",
      "割り当てました 36:G2_L0_ja_Jupyterで広がるPythonの可能性\n",
      "割り当てました 56:G1_L0_en_Adding JWT Authentication to Python and Django REST Framework Using Auth0\n",
      "割り当てました 34:G4_L0_ja_Pythonで解く大学入試数学\n",
      "割り当てました 7:G1_L0_ja_Pythonで始めるウェブスクレイピング実践入門\n",
      "割り当てました 30:G2_L0_en_Python, AWS and FinTech\n",
      "割り当てました 31:G4_L0_ja_Python研修の作り方-Teaching Is Learning-\n",
      "割り当てました 55:G0_L0_ja_メルカリにおける AI 活用事例\n",
      "割り当てました 44:G3_L1_ja_Pythonでざっくり学ぶUnixプロセス\n",
      "割り当てました 54:G4_L1_ja_AltJSとしてのPython - フロントエンドをPythonで書こう\n",
      "割り当てました 6:G1_L1_ja_自分が欲しいものをPythonで書く方法(Python for Myself)\n",
      "割り当てました 35:G1_L1_en_Notebook as Web API: Turn your notebook into Web API\n",
      "割り当てました 42:G2_L2_ja_複数アプリケーションのプロセスとログを管理するための新しいツールと手法\n",
      "割り当てました 50:G1_L2_en_From Data to Web Application: Anime Character Image Recognition with Transfer Learning\n",
      "割り当てました 51:G2_L2_ja_Django を Zappaで構築してServerless Python のベストプラクティスを探る\n",
      "割り当てました 53:G3_L3_ja_C拡張と共に乗り切るPython 2→3移行術\n",
      "割当できなかったので強制割当します\n",
      "割り当てました 32:G4_L2_ja_Pythonによる異常検知入門\n",
      "割当できなかったので強制割当します\n",
      "割り当てました 33:G0_L2_ja_料理写真が美味しく撮れる！ 開発現場から覗くAI料理カメラの裏側\n",
      "割当できなかったので強制割当します\n",
      "割り当てました 48:G0_L2_en_How to Data Wrangling? Tips for using python libraries for big-data analysis including scikit-learn.\n",
      "割当できなかったので強制割当します\n",
      "割り当てました 38:G4_L2_ja_WILDCAT SDKは量子コンピュータビジネスの味方となるのか！？\n",
      "割当できなかったので強制割当します\n",
      "割り当てました 39:G1_L2_en_The Modern OAuth 2.0\n",
      "割当できなかったので強制割当します\n",
      "割り当てました 43:G0_L2_ja_Pythonistaの選球眼（せんきゅうがん） - エンジニアリングと野球の目利きになる技術\n",
      "割当できなかったので強制割当します\n",
      "割り当てました 45:G0_L1_nan_Interpretable Machine Learning, making black box models explainable with Python!\n",
      "割当できなかったので強制割当します\n",
      "割り当てました 40:G0_L1_ja_Pythonで「お絵描きパズル」を解いてみた。\n",
      "割当できなかったので強制割当します\n",
      "割り当てました 47:G0_L1_ja_Interactive Network Visualization using Python 〜 NetworkX + BokehでPEPの参照関係を可視化する\n"
     ]
    }
   ],
   "source": [
    "df30, df_assign30 = assign(df30, df_assign30)"
   ]
  },
  {
   "cell_type": "code",
   "execution_count": 29,
   "metadata": {},
   "outputs": [
    {
     "data": {
      "text/html": [
       "<div>\n",
       "<style scoped>\n",
       "    .dataframe tbody tr th:only-of-type {\n",
       "        vertical-align: middle;\n",
       "    }\n",
       "\n",
       "    .dataframe tbody tr th {\n",
       "        vertical-align: top;\n",
       "    }\n",
       "\n",
       "    .dataframe thead th {\n",
       "        text-align: right;\n",
       "    }\n",
       "</style>\n",
       "<table border=\"1\" class=\"dataframe\">\n",
       "  <thead>\n",
       "    <tr style=\"text-align: right;\">\n",
       "      <th></th>\n",
       "      <th>0</th>\n",
       "      <th>1</th>\n",
       "      <th>2</th>\n",
       "      <th>3</th>\n",
       "      <th>4</th>\n",
       "      <th>5</th>\n",
       "    </tr>\n",
       "  </thead>\n",
       "  <tbody>\n",
       "    <tr>\n",
       "      <th>0</th>\n",
       "      <td>49:G4_L0_en_Fun with Python and Kanji</td>\n",
       "      <td>52:G0_L0_en_Detecting offensive messages using...</td>\n",
       "      <td>30:G2_L0_en_Python, AWS and FinTech</td>\n",
       "      <td>6:G1_L1_ja_自分が欲しいものをPythonで書く方法(Python for Mys...</td>\n",
       "      <td>53:G3_L3_ja_C拡張と共に乗り切るPython 2→3移行術</td>\n",
       "      <td>39:G1_L2_en_The Modern OAuth 2.0</td>\n",
       "    </tr>\n",
       "    <tr>\n",
       "      <th>1</th>\n",
       "      <td>5:G0_L0_en_Creative Music Applications in Python</td>\n",
       "      <td>36:G2_L0_ja_Jupyterで広がるPythonの可能性</td>\n",
       "      <td>31:G4_L0_ja_Python研修の作り方-Teaching Is Learning-</td>\n",
       "      <td>35:G1_L1_en_Notebook as Web API: Turn your not...</td>\n",
       "      <td>32:G4_L2_ja_Pythonによる異常検知入門</td>\n",
       "      <td>43:G0_L2_ja_Pythonistaの選球眼（せんきゅうがん） - エンジニアリング...</td>\n",
       "    </tr>\n",
       "    <tr>\n",
       "      <th>2</th>\n",
       "      <td>41:G4_L0_en_Make a Drone using RaspberryPi and...</td>\n",
       "      <td>56:G1_L0_en_Adding JWT Authentication to Pytho...</td>\n",
       "      <td>55:G0_L0_ja_メルカリにおける AI 活用事例</td>\n",
       "      <td>42:G2_L2_ja_複数アプリケーションのプロセスとログを管理するための新しいツールと手法</td>\n",
       "      <td>33:G0_L2_ja_料理写真が美味しく撮れる！ 開発現場から覗くAI料理カメラの裏側</td>\n",
       "      <td>45:G0_L1_nan_Interpretable Machine Learning, m...</td>\n",
       "    </tr>\n",
       "    <tr>\n",
       "      <th>3</th>\n",
       "      <td>57:G0_L0_ja_1次元畳み込みフィルターを利用した音楽データのオートエンコーダ</td>\n",
       "      <td>34:G4_L0_ja_Pythonで解く大学入試数学</td>\n",
       "      <td>44:G3_L1_ja_Pythonでざっくり学ぶUnixプロセス</td>\n",
       "      <td>50:G1_L2_en_From Data to Web Application: Anim...</td>\n",
       "      <td>48:G0_L2_en_How to Data Wrangling? Tips for us...</td>\n",
       "      <td>40:G0_L1_ja_Pythonで「お絵描きパズル」を解いてみた。</td>\n",
       "    </tr>\n",
       "    <tr>\n",
       "      <th>4</th>\n",
       "      <td>37:G0_L0_en_Visualizing Topic Models</td>\n",
       "      <td>7:G1_L0_ja_Pythonで始めるウェブスクレイピング実践入門</td>\n",
       "      <td>54:G4_L1_ja_AltJSとしてのPython - フロントエンドをPythonで書こう</td>\n",
       "      <td>51:G2_L2_ja_Django を Zappaで構築してServerless Pyth...</td>\n",
       "      <td>38:G4_L2_ja_WILDCAT SDKは量子コンピュータビジネスの味方となるのか！？</td>\n",
       "      <td>47:G0_L1_ja_Interactive Network Visualization ...</td>\n",
       "    </tr>\n",
       "  </tbody>\n",
       "</table>\n",
       "</div>"
      ],
      "text/plain": [
       "                                                   0  \\\n",
       "0              49:G4_L0_en_Fun with Python and Kanji   \n",
       "1   5:G0_L0_en_Creative Music Applications in Python   \n",
       "2  41:G4_L0_en_Make a Drone using RaspberryPi and...   \n",
       "3        57:G0_L0_ja_1次元畳み込みフィルターを利用した音楽データのオートエンコーダ   \n",
       "4               37:G0_L0_en_Visualizing Topic Models   \n",
       "\n",
       "                                                   1  \\\n",
       "0  52:G0_L0_en_Detecting offensive messages using...   \n",
       "1                  36:G2_L0_ja_Jupyterで広がるPythonの可能性   \n",
       "2  56:G1_L0_en_Adding JWT Authentication to Pytho...   \n",
       "3                        34:G4_L0_ja_Pythonで解く大学入試数学   \n",
       "4                7:G1_L0_ja_Pythonで始めるウェブスクレイピング実践入門   \n",
       "\n",
       "                                                  2  \\\n",
       "0               30:G2_L0_en_Python, AWS and FinTech   \n",
       "1    31:G4_L0_ja_Python研修の作り方-Teaching Is Learning-   \n",
       "2                      55:G0_L0_ja_メルカリにおける AI 活用事例   \n",
       "3                 44:G3_L1_ja_Pythonでざっくり学ぶUnixプロセス   \n",
       "4  54:G4_L1_ja_AltJSとしてのPython - フロントエンドをPythonで書こう   \n",
       "\n",
       "                                                   3  \\\n",
       "0  6:G1_L1_ja_自分が欲しいものをPythonで書く方法(Python for Mys...   \n",
       "1  35:G1_L1_en_Notebook as Web API: Turn your not...   \n",
       "2    42:G2_L2_ja_複数アプリケーションのプロセスとログを管理するための新しいツールと手法   \n",
       "3  50:G1_L2_en_From Data to Web Application: Anim...   \n",
       "4  51:G2_L2_ja_Django を Zappaで構築してServerless Pyth...   \n",
       "\n",
       "                                                   4  \\\n",
       "0                53:G3_L3_ja_C拡張と共に乗り切るPython 2→3移行術   \n",
       "1                        32:G4_L2_ja_Pythonによる異常検知入門   \n",
       "2       33:G0_L2_ja_料理写真が美味しく撮れる！ 開発現場から覗くAI料理カメラの裏側   \n",
       "3  48:G0_L2_en_How to Data Wrangling? Tips for us...   \n",
       "4     38:G4_L2_ja_WILDCAT SDKは量子コンピュータビジネスの味方となるのか！？   \n",
       "\n",
       "                                                   5  \n",
       "0                   39:G1_L2_en_The Modern OAuth 2.0  \n",
       "1  43:G0_L2_ja_Pythonistaの選球眼（せんきゅうがん） - エンジニアリング...  \n",
       "2  45:G0_L1_nan_Interpretable Machine Learning, m...  \n",
       "3                40:G0_L1_ja_Pythonで「お絵描きパズル」を解いてみた。  \n",
       "4  47:G0_L1_ja_Interactive Network Visualization ...  "
      ]
     },
     "execution_count": 29,
     "metadata": {},
     "output_type": "execute_result"
    }
   ],
   "source": [
    "df_assign30"
   ]
  },
  {
   "cell_type": "code",
   "execution_count": 30,
   "metadata": {},
   "outputs": [],
   "source": [
    "df_assign30.to_clipboard(sep=',', index=False)"
   ]
  },
  {
   "cell_type": "code",
   "execution_count": null,
   "metadata": {},
   "outputs": [],
   "source": []
  }
 ],
 "metadata": {
  "kernelspec": {
   "display_name": "Python 3",
   "language": "python",
   "name": "python3"
  },
  "language_info": {
   "codemirror_mode": {
    "name": "ipython",
    "version": 3
   },
   "file_extension": ".py",
   "mimetype": "text/x-python",
   "name": "python",
   "nbconvert_exporter": "python",
   "pygments_lexer": "ipython3",
   "version": "3.6.5"
  }
 },
 "nbformat": 4,
 "nbformat_minor": 2
}
