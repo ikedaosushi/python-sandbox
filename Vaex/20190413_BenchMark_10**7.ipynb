{
 "cells": [
  {
   "cell_type": "code",
   "execution_count": 1,
   "metadata": {},
   "outputs": [],
   "source": [
    "%matplotlib inline"
   ]
  },
  {
   "cell_type": "code",
   "execution_count": 2,
   "metadata": {},
   "outputs": [],
   "source": [
    "from google_drive_downloader import GoogleDriveDownloader as gdd\n",
    "import vaex\n",
    "import pandas as pd\n",
    "import dask\n",
    "import dask.dataframe as dd\n",
    "import numpy as np\n",
    "import multiprocessing\n",
    "from tqdm import tqdm\n",
    "import time"
   ]
  },
  {
   "cell_type": "code",
   "execution_count": 3,
   "metadata": {},
   "outputs": [],
   "source": [
    "n = 10**7\n",
    "s = np.arange(n).astype(str)\n",
    "vx_df = vaex.from_arrays(s=s)"
   ]
  },
  {
   "cell_type": "code",
   "execution_count": 4,
   "metadata": {},
   "outputs": [
    {
     "name": "stdout",
     "output_type": "stream",
     "text": [
      "[####################################----]:  90.00% estimated time:        0s =  0.0m =  0.0h "
     ]
    }
   ],
   "source": [
    "file = './data/test.hdf5'\n",
    "vx_df.export(file, progress=True, shuffle=True)"
   ]
  },
  {
   "cell_type": "code",
   "execution_count": 5,
   "metadata": {},
   "outputs": [],
   "source": [
    "vx_df = vaex.open(file)\n",
    "vx_df.executor.buffer_size = len(vx_df) // (multiprocessing.cpu_count() * 2)\n",
    "pd_df = vx_df.to_pandas_df()\n",
    "dd_df = dd.from_pandas(pd_df, npartitions=4)"
   ]
  },
  {
   "cell_type": "code",
   "execution_count": 6,
   "metadata": {},
   "outputs": [],
   "source": [
    "def timeit(expr, n, scope):\n",
    "    times = []\n",
    "    for i in range(n):\n",
    "        s = time.time()\n",
    "        eval(expr, scope)\n",
    "        e = time.time()\n",
    "        times.append(e - s)\n",
    "\n",
    "    return times"
   ]
  },
  {
   "cell_type": "code",
   "execution_count": 7,
   "metadata": {},
   "outputs": [],
   "source": [
    "methods = {\n",
    "\t'capitalize': 'df.s.str.capitalize()',\n",
    "\t'cat': 'df.s.str.cat(df.s)',\n",
    "\t'contains': 'df.s.str.contains(\"9\", regex=False)',\n",
    "\t'contains(regex)': 'df.s.str.contains(\"9\", regex=True)',\n",
    "\t'count': 'df.s.str.count(\"9\")',\n",
    "\t'endswith': 'df.s.str.endswith(\"9\")',\n",
    "\t'find': 'df.s.str.find(\"4\")',\n",
    "\t'get': 'df.s.str.get(1)',\n",
    "\t'split+join': 'df.s.str.split(\".\").str.join(\"-\")',\n",
    "\t'len': 'df.s.str.len()',\n",
    "\t'ljust': 'df.s.str.ljust(10)',\n",
    "\t'lower': 'df.s.str.lower()',\n",
    "\t'lstrip': 'df.s.str.lstrip(\"9\")',\n",
    "\t'match': 'df.s.str.match(\"1.*\")',\n",
    "\t'pad': 'df.s.str.pad(10)',\n",
    "\t'repeat': 'df.s.str.repeat(2)',\n",
    "\t'replace(:default)': 'df.s.str.replace(\"123\", \"321\")',\n",
    "\t'replace(:no regex)': 'df.s.str.replace(\"123\", \"321\", regex=False)',\n",
    "\t'replace(:regex)': 'df.s.str.replace(\"1?[45]4\", \"1004\", regex=True)',\n",
    "\t'rfind': 'df.s.str.rfind(\"4\")',\n",
    "\t'rjust': 'df.s.str.rjust(10)',\n",
    "\t'rstrip': 'df.s.str.rstrip(\"9\")',\n",
    "\t'slice': 'df.s.str.slice(1, 3)',\n",
    "\t'split': 'df.s.str.split(\".\")',\n",
    "\t'startswith': 'df.s.str.startswith(\"9\")',\n",
    "\t'strip': 'df.s.str.strip(\"0\")',\n",
    "\t'title': 'df.s.str.title()',\n",
    "\t'upper': 'df.s.str.upper()',\n",
    "\t'zfill': 'df.s.str.zfill(10)'\n",
    "}"
   ]
  },
  {
   "cell_type": "code",
   "execution_count": 8,
   "metadata": {},
   "outputs": [
    {
     "name": "stderr",
     "output_type": "stream",
     "text": [
      "  3%|▎         | 1/29 [00:14<06:54, 14.79s/it]"
     ]
    },
    {
     "name": "stdout",
     "output_type": "stream",
     "text": [
      "{'pandas': [2.3469278812408447, 2.345327615737915, 2.3469579219818115], 'dask': [2.551814317703247, 2.5453944206237793, 2.5809688568115234], 'vaex': [0.029462814331054688, 0.023248672485351562, 0.02373981475830078]}\n"
     ]
    },
    {
     "name": "stderr",
     "output_type": "stream",
     "text": [
      "\r",
      "  7%|▋         | 2/29 [00:25<06:05, 13.53s/it]"
     ]
    },
    {
     "name": "stdout",
     "output_type": "stream",
     "text": [
      "{'pandas': [1.6913318634033203, 1.686168909072876, 1.686662197113037], 'dask': [1.8222119808197021, 1.7954790592193604, 1.8037846088409424], 'vaex': [0.018706321716308594, 0.06171846389770508, 0.01777791976928711]}\n"
     ]
    },
    {
     "name": "stderr",
     "output_type": "stream",
     "text": [
      "\r",
      " 10%|█         | 3/29 [00:33<05:06, 11.78s/it]"
     ]
    },
    {
     "name": "stdout",
     "output_type": "stream",
     "text": [
      "{'pandas': [1.2792837619781494, 1.2611262798309326, 1.259763240814209], 'dask': [1.278820514678955, 1.2713673114776611, 1.276798963546753], 'vaex': [0.01836705207824707, 0.01744866371154785, 0.0168914794921875]}\n"
     ]
    },
    {
     "name": "stderr",
     "output_type": "stream",
     "text": [
      "\r",
      " 14%|█▍        | 4/29 [00:51<05:43, 13.76s/it]"
     ]
    },
    {
     "name": "stdout",
     "output_type": "stream",
     "text": [
      "{'pandas': [3.01278018951416, 3.0059239864349365, 2.9924252033233643], 'dask': [3.0434300899505615, 3.02413010597229, 3.0227608680725098], 'vaex': [0.09379291534423828, 0.09425711631774902, 0.09467887878417969]}\n"
     ]
    },
    {
     "name": "stderr",
     "output_type": "stream",
     "text": [
      "\r",
      " 17%|█▋        | 5/29 [01:19<07:09, 17.90s/it]"
     ]
    },
    {
     "name": "stdout",
     "output_type": "stream",
     "text": [
      "{'pandas': [4.547808885574341, 4.545640230178833, 4.555624961853027], 'dask': [4.646249532699585, 4.600705146789551, 4.619484186172485], 'vaex': [0.0181734561920166, 0.017597436904907227, 0.017820358276367188]}\n"
     ]
    },
    {
     "name": "stderr",
     "output_type": "stream",
     "text": [
      "\r",
      " 21%|██        | 6/29 [01:30<06:09, 16.08s/it]"
     ]
    },
    {
     "name": "stdout",
     "output_type": "stream",
     "text": [
      "{'pandas': [1.9606828689575195, 1.9526121616363525, 1.9576685428619385], 'dask': [1.9803838729858398, 1.9708387851715088, 1.9697062969207764], 'vaex': [0.016556739807128906, 0.016038179397583008, 0.016414165496826172]}\n"
     ]
    },
    {
     "name": "stderr",
     "output_type": "stream",
     "text": [
      "\r",
      " 24%|██▍       | 7/29 [01:55<06:50, 18.65s/it]"
     ]
    },
    {
     "name": "stdout",
     "output_type": "stream",
     "text": [
      "{'pandas': [4.071818828582764, 4.069927930831909, 4.068925619125366], 'dask': [4.129912853240967, 4.158913850784302, 4.093907356262207], 'vaex': [0.018540143966674805, 0.01726675033569336, 0.017591238021850586]}\n"
     ]
    },
    {
     "name": "stderr",
     "output_type": "stream",
     "text": [
      "\r",
      " 28%|██▊       | 8/29 [02:17<06:53, 19.71s/it]"
     ]
    },
    {
     "name": "stdout",
     "output_type": "stream",
     "text": [
      "{'pandas': [3.651580333709717, 3.648108959197998, 3.650230646133423], 'dask': [3.7116291522979736, 3.737844228744507, 3.709038496017456], 'vaex': [0.017177820205688477, 0.01789069175720215, 0.017749547958374023]}\n"
     ]
    },
    {
     "name": "stderr",
     "output_type": "stream",
     "text": [
      "\r",
      " 31%|███       | 9/29 [03:02<09:05, 27.27s/it]"
     ]
    },
    {
     "name": "stdout",
     "output_type": "stream",
     "text": [
      "{'pandas': [7.694142818450928, 6.7691240310668945, 7.780678987503052], 'dask': [7.024913549423218, 7.389866828918457, 8.069922685623169], 'vaex': [0.1264793872833252, 0.035629987716674805, 0.03569960594177246]}\n"
     ]
    },
    {
     "name": "stderr",
     "output_type": "stream",
     "text": [
      "\r",
      " 34%|███▍      | 10/29 [03:14<07:10, 22.67s/it]"
     ]
    },
    {
     "name": "stdout",
     "output_type": "stream",
     "text": [
      "{'pandas': [1.9689834117889404, 1.968111515045166, 1.9684195518493652], 'dask': [1.9640181064605713, 2.032365560531616, 1.9812114238739014], 'vaex': [0.016407012939453125, 0.015885353088378906, 0.015949726104736328]}\n"
     ]
    },
    {
     "name": "stderr",
     "output_type": "stream",
     "text": [
      "\r",
      " 38%|███▊      | 11/29 [03:30<06:10, 20.60s/it]"
     ]
    },
    {
     "name": "stdout",
     "output_type": "stream",
     "text": [
      "{'pandas': [2.5142016410827637, 2.5135691165924072, 2.5104427337646484], 'dask': [2.724616527557373, 2.721562623977661, 2.7265326976776123], 'vaex': [0.01963973045349121, 0.020162582397460938, 0.019227027893066406]}\n"
     ]
    },
    {
     "name": "stderr",
     "output_type": "stream",
     "text": [
      "\r",
      " 41%|████▏     | 12/29 [03:41<05:03, 17.83s/it]"
     ]
    },
    {
     "name": "stdout",
     "output_type": "stream",
     "text": [
      "{'pandas': [1.784785270690918, 1.789334774017334, 1.7821927070617676], 'dask': [1.969416618347168, 1.969167947769165, 1.9828932285308838], 'vaex': [0.02633810043334961, 0.02559208869934082, 0.025347471237182617]}\n"
     ]
    },
    {
     "name": "stderr",
     "output_type": "stream",
     "text": [
      "\r",
      " 45%|████▍     | 13/29 [03:52<04:11, 15.69s/it]"
     ]
    },
    {
     "name": "stdout",
     "output_type": "stream",
     "text": [
      "{'pandas': [1.6802704334259033, 1.686570405960083, 1.677518367767334], 'dask': [1.8538727760314941, 1.858980417251587, 1.8865399360656738], 'vaex': [0.019139528274536133, 0.017656803131103516, 0.0174558162689209]}\n"
     ]
    },
    {
     "name": "stderr",
     "output_type": "stream",
     "text": [
      "\r",
      " 48%|████▊     | 14/29 [04:14<04:26, 17.74s/it]"
     ]
    },
    {
     "name": "stdout",
     "output_type": "stream",
     "text": [
      "{'pandas': [3.4441890716552734, 3.533323287963867, 3.545001983642578], 'dask': [3.888432264328003, 3.932075023651123, 3.8613998889923096], 'vaex': [0.10392022132873535, 0.10460281372070312, 0.10017251968383789]}\n"
     ]
    },
    {
     "name": "stderr",
     "output_type": "stream",
     "text": [
      "\r",
      " 52%|█████▏    | 15/29 [04:30<04:01, 17.22s/it]"
     ]
    },
    {
     "name": "stdout",
     "output_type": "stream",
     "text": [
      "{'pandas': [2.564279794692993, 2.5517489910125732, 2.5413310527801514], 'dask': [2.7878878116607666, 2.758878469467163, 2.7581424713134766], 'vaex': [0.019182205200195312, 0.019287824630737305, 0.019779682159423828]}\n"
     ]
    },
    {
     "name": "stderr",
     "output_type": "stream",
     "text": [
      "\r",
      " 55%|█████▌    | 16/29 [05:24<06:06, 28.18s/it]"
     ]
    },
    {
     "name": "stdout",
     "output_type": "stream",
     "text": [
      "{'pandas': [8.862362146377563, 8.724038124084473, 8.748478174209595], 'dask': [9.139154434204102, 9.10944128036499, 9.122097492218018], 'vaex': [0.01850581169128418, 0.017906665802001953, 0.016649961471557617]}\n"
     ]
    },
    {
     "name": "stderr",
     "output_type": "stream",
     "text": [
      "\r",
      " 59%|█████▊    | 17/29 [05:46<05:16, 26.41s/it]"
     ]
    },
    {
     "name": "stdout",
     "output_type": "stream",
     "text": [
      "{'pandas': [3.506640911102295, 3.5000388622283936, 3.497736930847168], 'dask': [3.954078435897827, 3.80180287361145, 3.8741066455841064], 'vaex': [0.04443192481994629, 0.04292559623718262, 0.04448294639587402]}\n"
     ]
    },
    {
     "name": "stderr",
     "output_type": "stream",
     "text": [
      "\r",
      " 62%|██████▏   | 18/29 [06:01<04:11, 22.87s/it]"
     ]
    },
    {
     "name": "stdout",
     "output_type": "stream",
     "text": [
      "{'pandas': [2.2876689434051514, 2.3737332820892334, 2.2627832889556885], 'dask': [2.5545599460601807, 2.522167205810547, 2.474557876586914], 'vaex': [0.04446864128112793, 0.04383492469787598, 0.04343771934509277]}\n"
     ]
    },
    {
     "name": "stderr",
     "output_type": "stream",
     "text": [
      "\r",
      " 66%|██████▌   | 19/29 [06:46<04:56, 29.62s/it]"
     ]
    },
    {
     "name": "stdout",
     "output_type": "stream",
     "text": [
      "{'pandas': [7.081415891647339, 7.014830112457275, 7.063601970672607], 'dask': [7.9999518394470215, 7.8379223346710205, 7.79789662361145], 'vaex': [0.18966913223266602, 0.209275484085083, 0.1904001235961914]}\n"
     ]
    },
    {
     "name": "stderr",
     "output_type": "stream",
     "text": [
      "\r",
      " 69%|██████▉   | 20/29 [07:12<04:16, 28.54s/it]"
     ]
    },
    {
     "name": "stdout",
     "output_type": "stream",
     "text": [
      "{'pandas': [4.267908811569214, 4.33268666267395, 4.31142520904541], 'dask': [4.32475209236145, 4.367895841598511, 4.357091188430786], 'vaex': [0.017656803131103516, 0.017614364624023438, 0.017167329788208008]}\n"
     ]
    },
    {
     "name": "stderr",
     "output_type": "stream",
     "text": [
      "\r",
      " 72%|███████▏  | 21/29 [07:29<03:18, 24.84s/it]"
     ]
    },
    {
     "name": "stdout",
     "output_type": "stream",
     "text": [
      "{'pandas': [2.5627801418304443, 2.537045478820801, 2.524385452270508], 'dask': [2.896669626235962, 2.76839280128479, 2.8608429431915283], 'vaex': [0.019947052001953125, 0.018882036209106445, 0.018764734268188477]}\n"
     ]
    },
    {
     "name": "stderr",
     "output_type": "stream",
     "text": [
      "\r",
      " 76%|███████▌  | 22/29 [07:40<02:24, 20.66s/it]"
     ]
    },
    {
     "name": "stdout",
     "output_type": "stream",
     "text": [
      "{'pandas': [1.7287561893463135, 1.731903076171875, 1.7358715534210205], 'dask': [1.8943476676940918, 1.872014045715332, 1.900160789489746], 'vaex': [0.01842021942138672, 0.01798272132873535, 0.018413305282592773]}\n"
     ]
    },
    {
     "name": "stderr",
     "output_type": "stream",
     "text": [
      "\r",
      " 79%|███████▉  | 23/29 [07:51<01:48, 18.05s/it]"
     ]
    },
    {
     "name": "stdout",
     "output_type": "stream",
     "text": [
      "{'pandas': [1.8903253078460693, 1.8705766201019287, 1.886310338973999], 'dask': [2.1197352409362793, 2.0556960105895996, 2.068507194519043], 'vaex': [0.01809406280517578, 0.017890453338623047, 0.017827272415161133]}\n"
     ]
    },
    {
     "name": "stderr",
     "output_type": "stream",
     "text": [
      "\r",
      " 83%|████████▎ | 24/29 [08:33<02:06, 25.23s/it]"
     ]
    },
    {
     "name": "stdout",
     "output_type": "stream",
     "text": [
      "{'pandas': [6.170754909515381, 6.994188547134399, 7.0916407108306885], 'dask': [7.6854870319366455, 6.591862201690674, 7.388399600982666], 'vaex': [0.017712116241455078, 0.017171144485473633, 0.016744136810302734]}\n"
     ]
    },
    {
     "name": "stderr",
     "output_type": "stream",
     "text": [
      "\r",
      " 86%|████████▌ | 25/29 [08:46<01:25, 21.30s/it]"
     ]
    },
    {
     "name": "stdout",
     "output_type": "stream",
     "text": [
      "{'pandas': [1.9914302825927734, 1.988966941833496, 2.053725242614746], 'dask': [1.9926462173461914, 2.0522468090057373, 2.005605697631836], 'vaex': [0.015646934509277344, 0.01657891273498535, 0.016082763671875]}\n"
     ]
    },
    {
     "name": "stderr",
     "output_type": "stream",
     "text": [
      "\r",
      " 90%|████████▉ | 26/29 [08:57<00:54, 18.24s/it]"
     ]
    },
    {
     "name": "stdout",
     "output_type": "stream",
     "text": [
      "{'pandas': [1.7732269763946533, 1.7502610683441162, 1.7189953327178955], 'dask': [1.9522573947906494, 1.8886699676513672, 1.9701836109161377], 'vaex': [0.019839048385620117, 0.02004528045654297, 0.019766569137573242]}\n"
     ]
    },
    {
     "name": "stderr",
     "output_type": "stream",
     "text": [
      "\r",
      " 93%|█████████▎| 27/29 [09:12<00:34, 17.41s/it]"
     ]
    },
    {
     "name": "stdout",
     "output_type": "stream",
     "text": [
      "{'pandas': [2.5058960914611816, 2.5194079875946045, 2.4808385372161865], 'dask': [2.6055407524108887, 2.6451354026794434, 2.6162610054016113], 'vaex': [0.03360867500305176, 0.03363537788391113, 0.0334169864654541]}\n"
     ]
    },
    {
     "name": "stderr",
     "output_type": "stream",
     "text": [
      "\r",
      " 97%|█████████▋| 28/29 [09:24<00:15, 15.67s/it]"
     ]
    },
    {
     "name": "stdout",
     "output_type": "stream",
     "text": [
      "{'pandas': [1.8391427993774414, 1.8361310958862305, 1.8315632343292236], 'dask': [2.006927251815796, 2.011359214782715, 2.004960298538208], 'vaex': [0.02561807632446289, 0.024855852127075195, 0.024810314178466797]}\n"
     ]
    },
    {
     "name": "stderr",
     "output_type": "stream",
     "text": [
      "\r",
      "100%|██████████| 29/29 [09:40<00:00, 15.74s/it]"
     ]
    },
    {
     "name": "stdout",
     "output_type": "stream",
     "text": [
      "{'pandas': [2.532891035079956, 2.532890558242798, 2.530862808227539], 'dask': [2.7435102462768555, 2.7587029933929443, 2.743985414505005], 'vaex': [0.02018427848815918, 0.01881265640258789, 0.01905536651611328]}\n"
     ]
    },
    {
     "name": "stderr",
     "output_type": "stream",
     "text": [
      "\n"
     ]
    }
   ],
   "source": [
    "n = 3\n",
    "\n",
    "performances = {}\n",
    "for name, expr in tqdm(methods.items()):\n",
    "    # daskはcompute()で評価\n",
    "    dask_expr = expr + \".compute()\"\n",
    "    \n",
    "    # nop() はevaluateして結果を捨てるベンチマーク用のメソッド\n",
    "    vaex_expr = expr + \".nop()\" \n",
    "\n",
    "    t_pd = timeit(expr, n, scope={'df': pd_df})\n",
    "    t_dd = timeit(dask_expr, n, scope={'df': dd_df})\n",
    "    t_vx = timeit(vaex_expr, n, scope={'df': vx_df})\n",
    "    \n",
    "    performance = {\n",
    "        'pandas': t_pd,\n",
    "        'dask': t_dd,\n",
    "        'vaex': t_vx\n",
    "    }\n",
    "    print(performance)\n",
    "    performances[name] = performance"
   ]
  },
  {
   "cell_type": "code",
   "execution_count": 9,
   "metadata": {},
   "outputs": [
    {
     "data": {
      "text/plain": [
       "{'capitalize': {'pandas': [2.3469278812408447,\n",
       "   2.345327615737915,\n",
       "   2.3469579219818115],\n",
       "  'dask': [2.551814317703247, 2.5453944206237793, 2.5809688568115234],\n",
       "  'vaex': [0.029462814331054688, 0.023248672485351562, 0.02373981475830078]},\n",
       " 'cat': {'pandas': [1.6913318634033203, 1.686168909072876, 1.686662197113037],\n",
       "  'dask': [1.8222119808197021, 1.7954790592193604, 1.8037846088409424],\n",
       "  'vaex': [0.018706321716308594, 0.06171846389770508, 0.01777791976928711]},\n",
       " 'contains': {'pandas': [1.2792837619781494,\n",
       "   1.2611262798309326,\n",
       "   1.259763240814209],\n",
       "  'dask': [1.278820514678955, 1.2713673114776611, 1.276798963546753],\n",
       "  'vaex': [0.01836705207824707, 0.01744866371154785, 0.0168914794921875]},\n",
       " 'contains(regex)': {'pandas': [3.01278018951416,\n",
       "   3.0059239864349365,\n",
       "   2.9924252033233643],\n",
       "  'dask': [3.0434300899505615, 3.02413010597229, 3.0227608680725098],\n",
       "  'vaex': [0.09379291534423828, 0.09425711631774902, 0.09467887878417969]},\n",
       " 'count': {'pandas': [4.547808885574341, 4.545640230178833, 4.555624961853027],\n",
       "  'dask': [4.646249532699585, 4.600705146789551, 4.619484186172485],\n",
       "  'vaex': [0.0181734561920166, 0.017597436904907227, 0.017820358276367188]},\n",
       " 'endswith': {'pandas': [1.9606828689575195,\n",
       "   1.9526121616363525,\n",
       "   1.9576685428619385],\n",
       "  'dask': [1.9803838729858398, 1.9708387851715088, 1.9697062969207764],\n",
       "  'vaex': [0.016556739807128906, 0.016038179397583008, 0.016414165496826172]},\n",
       " 'find': {'pandas': [4.071818828582764, 4.069927930831909, 4.068925619125366],\n",
       "  'dask': [4.129912853240967, 4.158913850784302, 4.093907356262207],\n",
       "  'vaex': [0.018540143966674805, 0.01726675033569336, 0.017591238021850586]},\n",
       " 'get': {'pandas': [3.651580333709717, 3.648108959197998, 3.650230646133423],\n",
       "  'dask': [3.7116291522979736, 3.737844228744507, 3.709038496017456],\n",
       "  'vaex': [0.017177820205688477, 0.01789069175720215, 0.017749547958374023]},\n",
       " 'split+:join': {'pandas': [7.694142818450928,\n",
       "   6.7691240310668945,\n",
       "   7.780678987503052],\n",
       "  'dask': [7.024913549423218, 7.389866828918457, 8.069922685623169],\n",
       "  'vaex': [0.1264793872833252, 0.035629987716674805, 0.03569960594177246]},\n",
       " 'len': {'pandas': [1.9689834117889404, 1.968111515045166, 1.9684195518493652],\n",
       "  'dask': [1.9640181064605713, 2.032365560531616, 1.9812114238739014],\n",
       "  'vaex': [0.016407012939453125, 0.015885353088378906, 0.015949726104736328]},\n",
       " 'ljust': {'pandas': [2.5142016410827637,\n",
       "   2.5135691165924072,\n",
       "   2.5104427337646484],\n",
       "  'dask': [2.724616527557373, 2.721562623977661, 2.7265326976776123],\n",
       "  'vaex': [0.01963973045349121, 0.020162582397460938, 0.019227027893066406]},\n",
       " 'lower': {'pandas': [1.784785270690918,\n",
       "   1.789334774017334,\n",
       "   1.7821927070617676],\n",
       "  'dask': [1.969416618347168, 1.969167947769165, 1.9828932285308838],\n",
       "  'vaex': [0.02633810043334961, 0.02559208869934082, 0.025347471237182617]},\n",
       " 'lstrip': {'pandas': [1.6802704334259033,\n",
       "   1.686570405960083,\n",
       "   1.677518367767334],\n",
       "  'dask': [1.8538727760314941, 1.858980417251587, 1.8865399360656738],\n",
       "  'vaex': [0.019139528274536133, 0.017656803131103516, 0.0174558162689209]},\n",
       " 'match': {'pandas': [3.4441890716552734,\n",
       "   3.533323287963867,\n",
       "   3.545001983642578],\n",
       "  'dask': [3.888432264328003, 3.932075023651123, 3.8613998889923096],\n",
       "  'vaex': [0.10392022132873535, 0.10460281372070312, 0.10017251968383789]},\n",
       " 'pad': {'pandas': [2.564279794692993, 2.5517489910125732, 2.5413310527801514],\n",
       "  'dask': [2.7878878116607666, 2.758878469467163, 2.7581424713134766],\n",
       "  'vaex': [0.019182205200195312, 0.019287824630737305, 0.019779682159423828]},\n",
       " 'repeat': {'pandas': [8.862362146377563,\n",
       "   8.724038124084473,\n",
       "   8.748478174209595],\n",
       "  'dask': [9.139154434204102, 9.10944128036499, 9.122097492218018],\n",
       "  'vaex': [0.01850581169128418, 0.017906665802001953, 0.016649961471557617]},\n",
       " 'replace(:default)': {'pandas': [3.506640911102295,\n",
       "   3.5000388622283936,\n",
       "   3.497736930847168],\n",
       "  'dask': [3.954078435897827, 3.80180287361145, 3.8741066455841064],\n",
       "  'vaex': [0.04443192481994629, 0.04292559623718262, 0.04448294639587402]},\n",
       " 'replace(:no regex)': {'pandas': [2.2876689434051514,\n",
       "   2.3737332820892334,\n",
       "   2.2627832889556885],\n",
       "  'dask': [2.5545599460601807, 2.522167205810547, 2.474557876586914],\n",
       "  'vaex': [0.04446864128112793, 0.04383492469787598, 0.04343771934509277]},\n",
       " 'replace(:regex)': {'pandas': [7.081415891647339,\n",
       "   7.014830112457275,\n",
       "   7.063601970672607],\n",
       "  'dask': [7.9999518394470215, 7.8379223346710205, 7.79789662361145],\n",
       "  'vaex': [0.18966913223266602, 0.209275484085083, 0.1904001235961914]},\n",
       " 'rfind': {'pandas': [4.267908811569214, 4.33268666267395, 4.31142520904541],\n",
       "  'dask': [4.32475209236145, 4.367895841598511, 4.357091188430786],\n",
       "  'vaex': [0.017656803131103516, 0.017614364624023438, 0.017167329788208008]},\n",
       " 'rjust': {'pandas': [2.5627801418304443,\n",
       "   2.537045478820801,\n",
       "   2.524385452270508],\n",
       "  'dask': [2.896669626235962, 2.76839280128479, 2.8608429431915283],\n",
       "  'vaex': [0.019947052001953125, 0.018882036209106445, 0.018764734268188477]},\n",
       " 'rstrip': {'pandas': [1.7287561893463135,\n",
       "   1.731903076171875,\n",
       "   1.7358715534210205],\n",
       "  'dask': [1.8943476676940918, 1.872014045715332, 1.900160789489746],\n",
       "  'vaex': [0.01842021942138672, 0.01798272132873535, 0.018413305282592773]},\n",
       " 'slice': {'pandas': [1.8903253078460693,\n",
       "   1.8705766201019287,\n",
       "   1.886310338973999],\n",
       "  'dask': [2.1197352409362793, 2.0556960105895996, 2.068507194519043],\n",
       "  'vaex': [0.01809406280517578, 0.017890453338623047, 0.017827272415161133]},\n",
       " 'split': {'pandas': [6.170754909515381,\n",
       "   6.994188547134399,\n",
       "   7.0916407108306885],\n",
       "  'dask': [7.6854870319366455, 6.591862201690674, 7.388399600982666],\n",
       "  'vaex': [0.017712116241455078, 0.017171144485473633, 0.016744136810302734]},\n",
       " 'startswith': {'pandas': [1.9914302825927734,\n",
       "   1.988966941833496,\n",
       "   2.053725242614746],\n",
       "  'dask': [1.9926462173461914, 2.0522468090057373, 2.005605697631836],\n",
       "  'vaex': [0.015646934509277344, 0.01657891273498535, 0.016082763671875]},\n",
       " 'strip': {'pandas': [1.7732269763946533,\n",
       "   1.7502610683441162,\n",
       "   1.7189953327178955],\n",
       "  'dask': [1.9522573947906494, 1.8886699676513672, 1.9701836109161377],\n",
       "  'vaex': [0.019839048385620117, 0.02004528045654297, 0.019766569137573242]},\n",
       " 'title': {'pandas': [2.5058960914611816,\n",
       "   2.5194079875946045,\n",
       "   2.4808385372161865],\n",
       "  'dask': [2.6055407524108887, 2.6451354026794434, 2.6162610054016113],\n",
       "  'vaex': [0.03360867500305176, 0.03363537788391113, 0.0334169864654541]},\n",
       " 'upper': {'pandas': [1.8391427993774414,\n",
       "   1.8361310958862305,\n",
       "   1.8315632343292236],\n",
       "  'dask': [2.006927251815796, 2.011359214782715, 2.004960298538208],\n",
       "  'vaex': [0.02561807632446289, 0.024855852127075195, 0.024810314178466797]},\n",
       " 'zfill': {'pandas': [2.532891035079956, 2.532890558242798, 2.530862808227539],\n",
       "  'dask': [2.7435102462768555, 2.7587029933929443, 2.743985414505005],\n",
       "  'vaex': [0.02018427848815918, 0.01881265640258789, 0.01905536651611328]}}"
      ]
     },
     "execution_count": 9,
     "metadata": {},
     "output_type": "execute_result"
    }
   ],
   "source": [
    "performances"
   ]
  },
  {
   "cell_type": "code",
   "execution_count": 25,
   "metadata": {},
   "outputs": [],
   "source": [
    "dfs = []\n",
    "for name, p in performances.items():\n",
    "    tmp_df = pd.DataFrame(p).stack()\n",
    "    tmp_df = tmp_df.reset_index()\n",
    "    tmp_df = tmp_df.rename(columns={\"level_0\": \"n\", \"level_1\": \"type\", 0: \"time\"})\n",
    "    tmp_df['method'] = name\n",
    "    dfs.append(tmp_df)\n",
    "\n",
    "dfp = pd.concat(dfs)\n",
    "\n",
    "import seaborn as sns\n",
    "\n",
    "from matplotlib import pyplot as plt\n",
    "import seaborn as sns\n",
    "\n",
    "sns.set(style=\"ticks\", palette=\"pastel\")"
   ]
  },
  {
   "cell_type": "code",
   "execution_count": 26,
   "metadata": {},
   "outputs": [],
   "source": [
    "dfp['method'] = dfp['method'].str.replace(r':', '', regex=False)"
   ]
  },
  {
   "cell_type": "code",
   "execution_count": null,
   "metadata": {},
   "outputs": [],
   "source": [
    "g = sns.catplot(x=\"class\", y=\"survived\", hue=\"sex\", data=titanic,\n",
    "                height=6, kind=\"bar\", palette=\"muted\")\n",
    "g.despine(left=True)"
   ]
  },
  {
   "cell_type": "code",
   "execution_count": 30,
   "metadata": {},
   "outputs": [
    {
     "data": {
      "text/plain": [
       "Text(0, 0.5, '')"
      ]
     },
     "execution_count": 30,
     "metadata": {},
     "output_type": "execute_result"
    },
    {
     "data": {
      "image/png": "[encoded data removed]",
      "text/plain": [
       "<Figure size 1152x1440 with 1 Axes>"
      ]
     },
     "metadata": {},
     "output_type": "display_data"
    }
   ],
   "source": [
    "plt.figure(figsize=(16, 20))\n",
    "ax = sns.barplot(\n",
    "    data=dfp, y=\"method\", x=\"time\", hue=\"type\", palette=\"muted\"\n",
    ")\n",
    "ax.tick_params(axis='both', labelsize='xx-large')\n",
    "ax.legend(fontsize=22)\n",
    "ax.set_xlabel('time(s)', fontsize=22)\n",
    "ax.set_ylabel('')"
   ]
  },
  {
   "cell_type": "code",
   "execution_count": 39,
   "metadata": {},
   "outputs": [],
   "source": [
    "pd.pivot_table?"
   ]
  },
  {
   "cell_type": "code",
   "execution_count": 41,
   "metadata": {},
   "outputs": [],
   "source": [
    "dfp_c = dfp.groupby(['type', 'method'])['time'].mean().reset_index().pivot_table(values='time', columns='type', index='method')"
   ]
  },
  {
   "cell_type": "code",
   "execution_count": 43,
   "metadata": {},
   "outputs": [
    {
     "data": {
      "text/plain": [
       "133.621008212719"
      ]
     },
     "execution_count": 43,
     "metadata": {},
     "output_type": "execute_result"
    }
   ],
   "source": [
    "(dfp_c['pandas'] / dfp_c['vaex']).mean()"
   ]
  },
  {
   "cell_type": "code",
   "execution_count": null,
   "metadata": {},
   "outputs": [],
   "source": []
  },
  {
   "cell_type": "code",
   "execution_count": null,
   "metadata": {},
   "outputs": [],
   "source": []
  },
  {
   "cell_type": "code",
   "execution_count": null,
   "metadata": {},
   "outputs": [],
   "source": []
  },
  {
   "cell_type": "code",
   "execution_count": null,
   "metadata": {},
   "outputs": [],
   "source": []
  },
  {
   "cell_type": "code",
   "execution_count": null,
   "metadata": {},
   "outputs": [],
   "source": []
  },
  {
   "cell_type": "code",
   "execution_count": null,
   "metadata": {},
   "outputs": [],
   "source": []
  },
  {
   "cell_type": "code",
   "execution_count": null,
   "metadata": {},
   "outputs": [],
   "source": []
  }
 ],
 "metadata": {
  "kernelspec": {
   "display_name": "Python 3",
   "language": "python",
   "name": "python3"
  },
  "language_info": {
   "codemirror_mode": {
    "name": "ipython",
    "version": 3
   },
   "file_extension": ".py",
   "mimetype": "text/x-python",
   "name": "python",
   "nbconvert_exporter": "python",
   "pygments_lexer": "ipython3",
   "version": "3.7.2"
  }
 },
 "nbformat": 4,
 "nbformat_minor": 2
}
