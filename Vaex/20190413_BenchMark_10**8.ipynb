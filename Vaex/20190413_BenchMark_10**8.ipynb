{
 "cells": [
  {
   "cell_type": "code",
   "execution_count": 19,
   "metadata": {},
   "outputs": [],
   "source": [
    "%matplotlib inline"
   ]
  },
  {
   "cell_type": "code",
   "execution_count": 20,
   "metadata": {},
   "outputs": [],
   "source": [
    "from google_drive_downloader import GoogleDriveDownloader as gdd\n",
    "import vaex\n",
    "import pandas as pd\n",
    "import dask\n",
    "import dask.dataframe as dd\n",
    "import numpy as np\n",
    "import multiprocessing"
   ]
  },
  {
   "cell_type": "code",
   "execution_count": 21,
   "metadata": {},
   "outputs": [],
   "source": [
    "N = 10**8"
   ]
  },
  {
   "cell_type": "code",
   "execution_count": 22,
   "metadata": {},
   "outputs": [],
   "source": [
    "s = np.arange(N).astype(str)\n",
    "vx_df = vaex.from_arrays(s=s)"
   ]
  },
  {
   "cell_type": "code",
   "execution_count": 23,
   "metadata": {},
   "outputs": [
    {
     "name": "stdout",
     "output_type": "stream",
     "text": [
      "[########################################]:  100.00% elapsed time  :       32s =  0.5m =  0.0h               \n",
      "  "
     ]
    }
   ],
   "source": [
    "file = './data/test.hdf5'\n",
    "vx_df.export(file, progress=True, shuffle=True)"
   ]
  },
  {
   "cell_type": "code",
   "execution_count": 24,
   "metadata": {},
   "outputs": [],
   "source": [
    "vx_df = vaex.open(file)\n",
    "vx_df.executor.buffer_size = len(vx_df) // (multiprocessing.cpu_count() * 2)\n",
    "pd_df = vx_df.to_pandas_df()\n",
    "dd_df = dd.from_pandas(pd_df, npartitions=4)"
   ]
  },
  {
   "cell_type": "code",
   "execution_count": 25,
   "metadata": {},
   "outputs": [
    {
     "name": "stdout",
     "output_type": "stream",
     "text": [
      "CPU times: user 20.7 s, sys: 2.73 s, total: 23.4 s\n",
      "Wall time: 23.4 s\n"
     ]
    },
    {
     "data": {
      "text/plain": [
       "0    94680571\n",
       "1    62404133\n",
       "2    56924666\n",
       "3    80522795\n",
       "4    22217908\n",
       "Name: s, dtype: object"
      ]
     },
     "execution_count": 25,
     "metadata": {},
     "output_type": "execute_result"
    }
   ],
   "source": [
    "%%time\n",
    "pd_df.s.str.capitalize().head()"
   ]
  },
  {
   "cell_type": "code",
   "execution_count": 29,
   "metadata": {},
   "outputs": [
    {
     "name": "stdout",
     "output_type": "stream",
     "text": [
      "CPU times: user 7.25 s, sys: 3.22 s, total: 10.5 s\n",
      "Wall time: 10.4 s\n"
     ]
    },
    {
     "data": {
      "text/plain": [
       "array(['94680571', '62404133', '56924666', ..., '17749823', '56091159',\n",
       "       '88271125'], dtype=object)"
      ]
     },
     "execution_count": 29,
     "metadata": {},
     "output_type": "execute_result"
    }
   ],
   "source": [
    "%%time\n",
    "vx_df.evaluate(vx_df.s.str.capitalize())"
   ]
  },
  {
   "cell_type": "code",
   "execution_count": 28,
   "metadata": {},
   "outputs": [
    {
     "name": "stdout",
     "output_type": "stream",
     "text": [
      "CPU times: user 22.1 s, sys: 3.44 s, total: 25.6 s\n",
      "Wall time: 25.3 s\n"
     ]
    },
    {
     "data": {
      "text/plain": [
       "0    94680571\n",
       "1    62404133\n",
       "2    56924666\n",
       "3    80522795\n",
       "4    22217908\n",
       "Name: s, dtype: object"
      ]
     },
     "execution_count": 28,
     "metadata": {},
     "output_type": "execute_result"
    }
   ],
   "source": [
    "%%time\n",
    "dd_df.s.str.capitalize().compute().head()"
   ]
  },
  {
   "cell_type": "code",
   "execution_count": 35,
   "metadata": {},
   "outputs": [],
   "source": [
    "N = 10**6"
   ]
  },
  {
   "cell_type": "code",
   "execution_count": null,
   "metadata": {},
   "outputs": [],
   "source": [
    "vx_df = vaex.open(file)\n",
    "vx_df.executor.buffer_size = len(vx_df) // (multiprocessing.cpu_count() * 2)\n",
    "pd_df = vx_df.to_pandas_df()\n",
    "dd_df = dd.from_pandas(pd_df, npartitions=4)"
   ]
  },
  {
   "cell_type": "code",
   "execution_count": 27,
   "metadata": {},
   "outputs": [],
   "source": [
    "def timeit():\n",
    "    times = []\n",
    "    for i in range(N):\n",
    "        s = time.time()\n",
    "        eval(expr, scope)\n",
    "        e = time.time()\n",
    "        times.append(e - s)\n",
    "    return times"
   ]
  },
  {
   "cell_type": "code",
   "execution_count": 34,
   "metadata": {},
   "outputs": [],
   "source": [
    "methods = {\n",
    "\t'capitalize': 'df.s.str.capitalize()',\n",
    "\t'cat': 'df.s.str.cat(df.s)',\n",
    "\t'contains': 'df.s.str.contains(\"9\", regex=False)',\n",
    "\t'contains(regex)': 'df.s.str.contains(\"9\", regex=True)',\n",
    "\t'count': 'df.s.str.count(\"9\")',\n",
    "\t'endswith': 'df.s.str.endswith(\"9\")',\n",
    "\t'find': 'df.s.str.find(\"4\")',\n",
    "\t'get': 'df.s.str.get(1)',\n",
    "\t'split+:join': 'df.s.str.split(\".\").str.join(\"-\")',\n",
    "\t'len': 'df.s.str.len()',\n",
    "\t'ljust': 'df.s.str.ljust(10)',\n",
    "\t'lower': 'df.s.str.lower()',\n",
    "\t'lstrip': 'df.s.str.lstrip(\"9\")',\n",
    "\t'match': 'df.s.str.match(\"1.*\")',\n",
    "\t'pad': 'df.s.str.pad(10)',\n",
    "\t'repeat': 'df.s.str.repeat(2)',\n",
    "\t'replace(:default)': 'df.s.str.replace(\"123\", \"321\")',\n",
    "\t'replace(:no regex)': 'df.s.str.replace(\"123\", \"321\", regex=False)',\n",
    "\t'replace(:regex)': 'df.s.str.replace(\"1?[45]4\", \"1004\", regex=True)',\n",
    "\t'rfind': 'df.s.str.rfind(\"4\")',\n",
    "\t'rjust': 'df.s.str.rjust(10)',\n",
    "\t'rstrip': 'df.s.str.rstrip(\"9\")',\n",
    "\t'slice': 'df.s.str.slice(1, 3)',\n",
    "\t'split': 'df.s.str.split(\".\")',\n",
    "\t'startswith': 'df.s.str.startswith(\"9\")',\n",
    "\t'strip': 'df.s.str.strip(\"0\")',\n",
    "\t'title': 'df.s.str.title()',\n",
    "\t'upper': 'df.s.str.upper()',\n",
    "\t'zfill': 'df.s.str.zfill(10)'\n",
    "}"
   ]
  },
  {
   "cell_type": "code",
   "execution_count": null,
   "metadata": {},
   "outputs": [],
   "source": [
    "n = 3\n",
    "for name, method in methods.items():\n",
    "    t_vaex = (timeit(vaex_expr, n, scope={'df': df_vaex}))/(10**args.n)"
   ]
  }
 ],
 "metadata": {
  "kernelspec": {
   "display_name": "Python 3",
   "language": "python",
   "name": "python3"
  },
  "language_info": {
   "codemirror_mode": {
    "name": "ipython",
    "version": 3
   },
   "file_extension": ".py",
   "mimetype": "text/x-python",
   "name": "python",
   "nbconvert_exporter": "python",
   "pygments_lexer": "ipython3",
   "version": "3.7.2"
  }
 },
 "nbformat": 4,
 "nbformat_minor": 2
}
