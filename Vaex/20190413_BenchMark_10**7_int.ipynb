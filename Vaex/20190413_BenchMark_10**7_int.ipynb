{
 "cells": [
  {
   "cell_type": "code",
   "execution_count": 1,
   "metadata": {},
   "outputs": [],
   "source": [
    "%matplotlib inline"
   ]
  },
  {
   "cell_type": "code",
   "execution_count": 2,
   "metadata": {},
   "outputs": [],
   "source": [
    "from google_drive_downloader import GoogleDriveDownloader as gdd\n",
    "import vaex\n",
    "import pandas as pd\n",
    "import dask\n",
    "import dask.dataframe as dd\n",
    "import numpy as np\n",
    "import multiprocessing\n",
    "from tqdm import tqdm\n",
    "import time"
   ]
  },
  {
   "cell_type": "code",
   "execution_count": 3,
   "metadata": {},
   "outputs": [],
   "source": [
    "n = 10**7\n",
    "a = np.arange(n)\n",
    "b = np.arange(n, 2*n)\n",
    "c = np.arange(2*n, 3*n)\n",
    "vx_df = vaex.from_arrays(a=a, b=b, c=c)"
   ]
  },
  {
   "cell_type": "code",
   "execution_count": 4,
   "metadata": {},
   "outputs": [
    {
     "name": "stdout",
     "output_type": "stream",
     "text": [
      "[########################################]:  100.00% elapsed time  :        0s =  0.0m =  0.0h\n",
      "      "
     ]
    }
   ],
   "source": [
    "file = './data/test_10_7_ops.hdf5'\n",
    "vx_df.export(file, progress=True, shuffle=True)"
   ]
  },
  {
   "cell_type": "code",
   "execution_count": 5,
   "metadata": {},
   "outputs": [],
   "source": [
    "vx_df = vaex.open(file)\n",
    "vx_df.executor.buffer_size = len(vx_df) // (multiprocessing.cpu_count() * 2)\n",
    "pd_df = vx_df.to_pandas_df()\n",
    "dd_df = dd.from_pandas(pd_df, npartitions=4)"
   ]
  },
  {
   "cell_type": "code",
   "execution_count": 6,
   "metadata": {},
   "outputs": [],
   "source": [
    "def timeit(expr, n, scope):\n",
    "    times = []\n",
    "    for i in range(n):\n",
    "        s = time.time()\n",
    "        eval(expr, scope)\n",
    "        e = time.time()\n",
    "        times.append(e - s)\n",
    "\n",
    "    return times"
   ]
  },
  {
   "cell_type": "code",
   "execution_count": 8,
   "metadata": {},
   "outputs": [],
   "source": [
    "methods = {\n",
    "\t'plus': 'df[\"a\"] + df[\"b\"]',\n",
    "    'minus': 'df[\"a\"] - df[\"b\"]',\n",
    "    'mult': 'df[\"a\"] * df[\"b\"]',\n",
    "    'div':  'df[\"a\"] / df[\"b\"]',\n",
    "}"
   ]
  },
  {
   "cell_type": "code",
   "execution_count": 14,
   "metadata": {},
   "outputs": [
    {
     "name": "stderr",
     "output_type": "stream",
     "text": [
      " 50%|█████     | 2/4 [00:00<00:00,  6.89it/s]"
     ]
    },
    {
     "name": "stdout",
     "output_type": "stream",
     "text": [
      "{'pandas': [0.0466766357421875, 0.045812368392944336, 0.0456995964050293], 'vaex': [0.0026144981384277344, 0.002197742462158203, 0.0021588802337646484]}\n",
      "{'pandas': [0.045745134353637695, 0.04561281204223633, 0.045554399490356445], 'vaex': [0.002500772476196289, 0.002172231674194336, 0.002171039581298828]}\n"
     ]
    },
    {
     "name": "stderr",
     "output_type": "stream",
     "text": [
      "\r",
      " 75%|███████▌  | 3/4 [00:00<00:00,  6.86it/s]"
     ]
    },
    {
     "name": "stdout",
     "output_type": "stream",
     "text": [
      "{'pandas': [0.046497344970703125, 0.046605587005615234, 0.046588897705078125], 'vaex': [0.0026090145111083984, 0.0021703243255615234, 0.002577543258666992]}\n"
     ]
    },
    {
     "name": "stderr",
     "output_type": "stream",
     "text": [
      "\r",
      "100%|██████████| 4/4 [00:00<00:00,  6.05it/s]"
     ]
    },
    {
     "name": "stdout",
     "output_type": "stream",
     "text": [
      "{'pandas': [0.06768250465393066, 0.06771397590637207, 0.06767439842224121], 'vaex': [0.0025482177734375, 0.002294301986694336, 0.002251148223876953]}\n"
     ]
    },
    {
     "name": "stderr",
     "output_type": "stream",
     "text": [
      "\n"
     ]
    }
   ],
   "source": [
    "n = 3\n",
    "\n",
    "performances = {}\n",
    "for name, expr in tqdm(methods.items()):\n",
    "    # daskはcompute()で評価\n",
    "    dask_expr = expr + \".compute()\"\n",
    "    \n",
    "    # nop() はevaluateして結果を捨てるベンチマーク用のメソッド\n",
    "    vaex_expr = expr + \".nop()\" \n",
    "\n",
    "    t_pd = timeit(expr, n, scope={'df': pd_df})\n",
    "#     t_dd = timeit(dask_expr, n, scope={'df': dd_df})\n",
    "    t_vx = timeit(vaex_expr, n, scope={'df': vx_df})\n",
    "    \n",
    "    performance = {\n",
    "        'pandas': t_pd,\n",
    "#         'dask': t_dd,\n",
    "        'vaex': t_vx\n",
    "    }\n",
    "    print(performance)\n",
    "    performances[name] = performance"
   ]
  },
  {
   "cell_type": "code",
   "execution_count": 15,
   "metadata": {},
   "outputs": [],
   "source": [
    "dfs = []\n",
    "for name, p in performances.items():\n",
    "    tmp_df = pd.DataFrame(p).stack()\n",
    "    tmp_df = tmp_df.reset_index()\n",
    "    tmp_df = tmp_df.rename(columns={\"level_0\": \"n\", \"level_1\": \"type\", 0: \"time\"})\n",
    "    tmp_df['method'] = name\n",
    "    dfs.append(tmp_df)\n",
    "\n",
    "dfp = pd.concat(dfs)\n",
    "\n",
    "import seaborn as sns\n",
    "\n",
    "from matplotlib import pyplot as plt\n",
    "import seaborn as sns\n",
    "\n",
    "sns.set(style=\"ticks\", palette=\"pastel\")"
   ]
  },
  {
   "cell_type": "code",
   "execution_count": 16,
   "metadata": {},
   "outputs": [
    {
     "data": {
      "text/plain": [
       "Text(0, 0.5, '')"
      ]
     },
     "execution_count": 16,
     "metadata": {},
     "output_type": "execute_result"
    },
    {
     "data": {
      "image/png": "[encoded data removed]",
      "text/plain": [
       "<Figure size 1152x360 with 1 Axes>"
      ]
     },
     "metadata": {},
     "output_type": "display_data"
    }
   ],
   "source": [
    "plt.figure(figsize=(16, 5))\n",
    "ax = sns.barplot(\n",
    "    data=dfp, y=\"method\", x=\"time\", hue=\"type\", palette=\"muted\"\n",
    ")\n",
    "ax.tick_params(axis='both', labelsize='xx-large')\n",
    "ax.legend(fontsize=22)\n",
    "ax.set_xlabel('time(s)', fontsize=22)\n",
    "ax.set_ylabel('')"
   ]
  },
  {
   "cell_type": "code",
   "execution_count": 39,
   "metadata": {},
   "outputs": [],
   "source": [
    "pd.pivot_table?"
   ]
  },
  {
   "cell_type": "code",
   "execution_count": 41,
   "metadata": {},
   "outputs": [],
   "source": [
    "dfp_c = dfp.groupby(['type', 'method'])['time'].mean().reset_index().pivot_table(values='time', columns='type', index='method')"
   ]
  },
  {
   "cell_type": "code",
   "execution_count": 43,
   "metadata": {},
   "outputs": [
    {
     "data": {
      "text/plain": [
       "133.621008212719"
      ]
     },
     "execution_count": 43,
     "metadata": {},
     "output_type": "execute_result"
    }
   ],
   "source": [
    "(dfp_c['pandas'] / dfp_c['vaex']).mean()"
   ]
  },
  {
   "cell_type": "code",
   "execution_count": null,
   "metadata": {},
   "outputs": [],
   "source": []
  },
  {
   "cell_type": "code",
   "execution_count": null,
   "metadata": {},
   "outputs": [],
   "source": []
  },
  {
   "cell_type": "code",
   "execution_count": null,
   "metadata": {},
   "outputs": [],
   "source": []
  },
  {
   "cell_type": "code",
   "execution_count": null,
   "metadata": {},
   "outputs": [],
   "source": []
  },
  {
   "cell_type": "code",
   "execution_count": null,
   "metadata": {},
   "outputs": [],
   "source": []
  },
  {
   "cell_type": "code",
   "execution_count": null,
   "metadata": {},
   "outputs": [],
   "source": []
  },
  {
   "cell_type": "code",
   "execution_count": null,
   "metadata": {},
   "outputs": [],
   "source": []
  }
 ],
 "metadata": {
  "kernelspec": {
   "display_name": "Python 3",
   "language": "python",
   "name": "python3"
  },
  "language_info": {
   "codemirror_mode": {
    "name": "ipython",
    "version": 3
   },
   "file_extension": ".py",
   "mimetype": "text/x-python",
   "name": "python",
   "nbconvert_exporter": "python",
   "pygments_lexer": "ipython3",
   "version": "3.7.2"
  }
 },
 "nbformat": 4,
 "nbformat_minor": 2
}
