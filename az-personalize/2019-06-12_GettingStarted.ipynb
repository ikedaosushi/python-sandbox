{
 "cells": [
  {
   "cell_type": "code",
   "execution_count": 1,
   "metadata": {},
   "outputs": [],
   "source": [
    "import boto3\n",
    "\n",
    "import json\n",
    "import numpy as np\n",
    "import pandas as pd\n",
    "import time\n",
    "\n",
    "personalize = boto3.client('personalize')\n",
    "personalize_runtime = boto3.client('personalize-runtime')"
   ]
  },
  {
   "cell_type": "code",
   "execution_count": 10,
   "metadata": {},
   "outputs": [],
   "source": [
    "bucket = \"personalize-example-ikedaosushi\"       # replace with the name of your S3 bucket\n",
    "filename = \"movie-lens-100k.csv\"  # replace with a name that you want to save the dataset under"
   ]
  },
  {
   "cell_type": "code",
   "execution_count": 3,
   "metadata": {},
   "outputs": [
    {
     "name": "stdout",
     "output_type": "stream",
     "text": [
      "Archive:  ml-100k.zip\n",
      "   creating: ml-100k/\n",
      "  inflating: ml-100k/allbut.pl       \n",
      "  inflating: ml-100k/mku.sh          \n",
      "  inflating: ml-100k/README          \n",
      "  inflating: ml-100k/u.data          \n",
      "  inflating: ml-100k/u.genre         \n",
      "  inflating: ml-100k/u.info          \n",
      "  inflating: ml-100k/u.item          \n",
      "  inflating: ml-100k/u.occupation    \n",
      "  inflating: ml-100k/u.user          \n",
      "  inflating: ml-100k/u1.base         \n",
      "  inflating: ml-100k/u1.test         \n",
      "  inflating: ml-100k/u2.base         \n",
      "  inflating: ml-100k/u2.test         \n",
      "  inflating: ml-100k/u3.base         \n",
      "  inflating: ml-100k/u3.test         \n",
      "  inflating: ml-100k/u4.base         \n",
      "  inflating: ml-100k/u4.test         \n",
      "  inflating: ml-100k/u5.base         \n",
      "  inflating: ml-100k/u5.test         \n",
      "  inflating: ml-100k/ua.base         \n",
      "  inflating: ml-100k/ua.test         \n",
      "  inflating: ml-100k/ub.base         \n",
      "  inflating: ml-100k/ub.test         \n"
     ]
    },
    {
     "name": "stderr",
     "output_type": "stream",
     "text": [
      "--2019-06-12 13:33:49--  http://files.grouplens.org/datasets/movielens/ml-100k.zip\n",
      "Resolving files.grouplens.org (files.grouplens.org)... 128.101.65.152\n",
      "Connecting to files.grouplens.org (files.grouplens.org)|128.101.65.152|:80... connected.\n",
      "HTTP request sent, awaiting response... 200 OK\n",
      "Length: 4924029 (4.7M) [application/zip]\n",
      "Saving to: ‘ml-100k.zip’\n",
      "\n",
      "     0K .......... .......... .......... .......... ..........  1% 98.6K 48s\n",
      "    50K .......... .......... .......... .......... ..........  2%  294K 32s\n",
      "   100K .......... .......... .......... .......... ..........  3% 20.9M 21s\n",
      "   150K .......... .......... .......... .......... ..........  4%  222K 21s\n",
      "   200K .......... .......... .......... .......... ..........  5% 12.6M 17s\n",
      "   250K .......... .......... .......... .......... ..........  6%  314K 16s\n",
      "   300K .......... .......... .......... .......... ..........  7%  358K 15s\n",
      "   350K .......... .......... .......... .......... ..........  8% 2.58M 14s\n",
      "   400K .......... .......... .......... .......... ..........  9%  139K 15s\n",
      "   450K .......... .......... .......... .......... .......... 10% 9.71M 14s\n",
      "   500K .......... .......... .......... .......... .......... 11%  328K 13s\n",
      "   550K .......... .......... .......... .......... .......... 12% 9.69M 12s\n",
      "   600K .......... .......... .......... .......... .......... 13%  246K 12s\n",
      "   650K .......... .......... .......... .......... .......... 14%  328K 12s\n",
      "   700K .......... .......... .......... .......... .......... 15% 7.79M 11s\n",
      "   750K .......... .......... .......... .......... .......... 16%  329K 11s\n",
      "   800K .......... .......... .......... .......... .......... 17% 9.17M 11s\n",
      "   850K .......... .......... .......... .......... .......... 18%  148K 11s\n",
      "   900K .......... .......... .......... .......... .......... 19% 12.6M 11s\n",
      "   950K .......... .......... .......... .......... .......... 20%  325K 11s\n",
      "  1000K .......... .......... .......... .......... .......... 21%  210K 11s\n",
      "  1050K .......... .......... .......... .......... .......... 22% 20.0M 10s\n",
      "  1100K .......... .......... .......... .......... .......... 23%  325K 10s\n",
      "  1150K .......... .......... .......... .......... .......... 24% 14.4M 10s\n",
      "  1200K .......... .......... .......... .......... .......... 25%  323K 9s\n",
      "  1250K .......... .......... .......... .......... .......... 27% 5.82M 9s\n",
      "  1300K .......... .......... .......... .......... .......... 28%  152K 9s\n",
      "  1350K .......... .......... .......... .......... .......... 29% 16.6M 9s\n",
      "  1400K .......... .......... .......... .......... .......... 30%  322K 9s\n",
      "  1450K .......... .......... .......... .......... .......... 31% 11.8M 8s\n",
      "  1500K .......... .......... .......... .......... .......... 32%  219K 9s\n",
      "  1550K .......... .......... .......... .......... .......... 33% 21.3M 8s\n",
      "  1600K .......... .......... .......... .......... .......... 34%  322K 8s\n",
      "  1650K .......... .......... .......... .......... .......... 35% 10.4M 8s\n",
      "  1700K .......... .......... .......... .......... .......... 36%  331K 8s\n",
      "  1750K .......... .......... .......... .......... .......... 37% 13.0M 7s\n",
      "  1800K .......... .......... .......... .......... .......... 38%  134K 8s\n",
      "  1850K .......... .......... .......... .......... .......... 39% 41.5M 7s\n",
      "  1900K .......... .......... .......... .......... .......... 40%  328K 7s\n",
      "  1950K .......... .......... .......... .......... .......... 41%  240K 7s\n",
      "  2000K .......... .......... .......... .......... .......... 42%  330K 7s\n",
      "  2050K .......... .......... .......... .......... .......... 43% 48.6M 7s\n",
      "  2100K .......... .......... .......... .......... .......... 44% 29.3M 6s\n",
      "  2150K .......... .......... .......... .......... .......... 45% 16.8M 6s\n",
      "  2200K .......... .......... .......... .......... .......... 46%  321K 6s\n",
      "  2250K .......... .......... .......... .......... .......... 47%  147K 6s\n",
      "  2300K .......... .......... .......... .......... .......... 48% 3.22M 6s\n",
      "  2350K .......... .......... .......... .......... .......... 49%  322K 6s\n",
      "  2400K .......... .......... .......... .......... .......... 50% 15.3M 6s\n",
      "  2450K .......... .......... .......... .......... .......... 51%  226K 6s\n",
      "  2500K .......... .......... .......... .......... .......... 53% 16.3M 5s\n",
      "  2550K .......... .......... .......... .......... .......... 54%  323K 5s\n",
      "  2600K .......... .......... .......... .......... .......... 55% 8.31M 5s\n",
      "  2650K .......... .......... .......... .......... .......... 56%  323K 5s\n",
      "  2700K .......... .......... .......... .......... .......... 57% 7.08M 5s\n",
      "  2750K .......... .......... .......... .......... .......... 58%  152K 5s\n",
      "  2800K .......... .......... .......... .......... .......... 59% 9.51M 5s\n",
      "  2850K .......... .......... .......... .......... .......... 60%  317K 5s\n",
      "  2900K .......... .......... .......... .......... .......... 61% 15.7M 4s\n",
      "  2950K .......... .......... .......... .......... .......... 62%  222K 4s\n",
      "  3000K .......... .......... .......... .......... .......... 63% 3.68M 4s\n",
      "  3050K .......... .......... .......... .......... .......... 64% 6.42M 4s\n",
      "  3100K .......... .......... .......... .......... .......... 65%  315K 4s\n",
      "  3150K .......... .......... .......... .......... .......... 66% 8.08M 4s\n",
      "  3200K .......... .......... .......... .......... .......... 67%  323K 4s\n",
      "  3250K .......... .......... .......... .......... .......... 68% 12.0M 3s\n",
      "  3300K .......... .......... .......... .......... .......... 69%  161K 3s\n",
      "  3350K .......... .......... .......... .......... .......... 70% 14.9M 3s\n",
      "  3400K .......... .......... .......... .......... .......... 71% 1.26M 3s\n",
      "  3450K .......... .......... .......... .......... .......... 72%  335K 3s\n",
      "  3500K .......... .......... .......... .......... .......... 73% 5.59M 3s\n",
      "  3550K .......... .......... .......... .......... .......... 74%  257K 3s\n",
      "  3600K .......... .......... .......... .......... .......... 75% 8.81M 3s\n",
      "  3650K .......... .......... .......... .......... .......... 76%  321K 3s\n",
      "  3700K .......... .......... .......... .......... .......... 77% 16.1M 2s\n",
      "  3750K .......... .......... .......... .......... .......... 79%  532K 2s\n",
      "  3800K .......... .......... .......... .......... .......... 80%  784K 2s\n",
      "  3850K .......... .......... .......... .......... .......... 81% 8.07M 2s\n",
      "  3900K .......... .......... .......... .......... .......... 82%  152K 2s\n",
      "  3950K .......... .......... .......... .......... .......... 83% 27.5M 2s\n",
      "  4000K .......... .......... .......... .......... .......... 84%  317K 2s\n",
      "  4050K .......... .......... .......... .......... .......... 85% 3.76M 2s\n",
      "  4100K .......... .......... .......... .......... .......... 86% 7.51M 1s\n",
      "  4150K .......... .......... .......... .......... .......... 87%  235K 1s\n",
      "  4200K .......... .......... .......... .......... .......... 88% 6.84M 1s\n",
      "  4250K .......... .......... .......... .......... .......... 89%  336K 1s\n",
      "  4300K .......... .......... .......... .......... .......... 90% 8.80M 1s\n",
      "  4350K .......... .......... .......... .......... .......... 91%  350K 1s\n",
      "  4400K .......... .......... .......... .......... .......... 92% 3.64M 1s\n",
      "  4450K .......... .......... .......... .......... .......... 93% 6.86M 1s\n",
      "  4500K .......... .......... .......... .......... .......... 94%  150K 1s\n",
      "  4550K .......... .......... .......... .......... .......... 95%  982K 0s\n",
      "  4600K .......... .......... .......... .......... .......... 96%  351K 0s\n",
      "  4650K .......... .......... .......... .......... .......... 97% 3.01M 0s\n",
      "  4700K .......... .......... .......... .......... .......... 98% 2.24M 0s\n",
      "  4750K .......... .......... .......... .......... .......... 99%  310K 0s\n",
      "  4800K ........                                              100% 22.5M=10s\n",
      "\n",
      "2019-06-12 13:34:00 (465 KB/s) - ‘ml-100k.zip’ saved [4924029/4924029]\n",
      "\n"
     ]
    }
   ],
   "source": [
    "%%bash\n",
    "wget -N http://files.grouplens.org/datasets/movielens/ml-100k.zip\n",
    "unzip -o ml-100k.zip"
   ]
  },
  {
   "cell_type": "code",
   "execution_count": 12,
   "metadata": {},
   "outputs": [],
   "source": [
    "data = pd.read_csv('./ml-100k/u.data', sep='\\t', names=['USER_ID', 'ITEM_ID', 'RATING', 'TIMESTAMP'])"
   ]
  },
  {
   "cell_type": "code",
   "execution_count": 13,
   "metadata": {},
   "outputs": [
    {
     "data": {
      "text/html": [
       "<div>\n",
       "<style scoped>\n",
       "    .dataframe tbody tr th:only-of-type {\n",
       "        vertical-align: middle;\n",
       "    }\n",
       "\n",
       "    .dataframe tbody tr th {\n",
       "        vertical-align: top;\n",
       "    }\n",
       "\n",
       "    .dataframe thead th {\n",
       "        text-align: right;\n",
       "    }\n",
       "</style>\n",
       "<table border=\"1\" class=\"dataframe\">\n",
       "  <thead>\n",
       "    <tr style=\"text-align: right;\">\n",
       "      <th></th>\n",
       "      <th>USER_ID</th>\n",
       "      <th>ITEM_ID</th>\n",
       "      <th>RATING</th>\n",
       "      <th>TIMESTAMP</th>\n",
       "    </tr>\n",
       "  </thead>\n",
       "  <tbody>\n",
       "    <tr>\n",
       "      <th>0</th>\n",
       "      <td>196</td>\n",
       "      <td>242</td>\n",
       "      <td>3</td>\n",
       "      <td>881250949</td>\n",
       "    </tr>\n",
       "    <tr>\n",
       "      <th>1</th>\n",
       "      <td>186</td>\n",
       "      <td>302</td>\n",
       "      <td>3</td>\n",
       "      <td>891717742</td>\n",
       "    </tr>\n",
       "    <tr>\n",
       "      <th>2</th>\n",
       "      <td>22</td>\n",
       "      <td>377</td>\n",
       "      <td>1</td>\n",
       "      <td>878887116</td>\n",
       "    </tr>\n",
       "    <tr>\n",
       "      <th>3</th>\n",
       "      <td>244</td>\n",
       "      <td>51</td>\n",
       "      <td>2</td>\n",
       "      <td>880606923</td>\n",
       "    </tr>\n",
       "    <tr>\n",
       "      <th>4</th>\n",
       "      <td>166</td>\n",
       "      <td>346</td>\n",
       "      <td>1</td>\n",
       "      <td>886397596</td>\n",
       "    </tr>\n",
       "  </tbody>\n",
       "</table>\n",
       "</div>"
      ],
      "text/plain": [
       "   USER_ID  ITEM_ID  RATING  TIMESTAMP\n",
       "0      196      242       3  881250949\n",
       "1      186      302       3  891717742\n",
       "2       22      377       1  878887116\n",
       "3      244       51       2  880606923\n",
       "4      166      346       1  886397596"
      ]
     },
     "execution_count": 13,
     "metadata": {},
     "output_type": "execute_result"
    }
   ],
   "source": [
    "data.head()"
   ]
  },
  {
   "cell_type": "code",
   "execution_count": 14,
   "metadata": {},
   "outputs": [],
   "source": [
    "data = data[data['RATING'] > 3.6]                # keep only movies rated 3.6 and above\n",
    "data = data[['USER_ID', 'ITEM_ID', 'TIMESTAMP']] # select columns that match the columns in the schema below\n",
    "data.to_csv(filename, index=False)\n",
    "\n",
    "boto3.Session().resource('s3').Bucket(bucket).Object(filename).upload_file(filename)"
   ]
  },
  {
   "cell_type": "code",
   "execution_count": 15,
   "metadata": {},
   "outputs": [
    {
     "name": "stdout",
     "output_type": "stream",
     "text": [
      "{\n",
      "  \"schemaArn\": \"arn:aws:personalize:ap-northeast-1:081200852128:schema/DEMO-schema\",\n",
      "  \"ResponseMetadata\": {\n",
      "    \"RequestId\": \"578ab013-ab66-4d7f-a5d5-6e141d60bd99\",\n",
      "    \"HTTPStatusCode\": 200,\n",
      "    \"HTTPHeaders\": {\n",
      "      \"content-type\": \"application/x-amz-json-1.1\",\n",
      "      \"date\": \"Wed, 12 Jun 2019 04:38:20 GMT\",\n",
      "      \"x-amzn-requestid\": \"578ab013-ab66-4d7f-a5d5-6e141d60bd99\",\n",
      "      \"content-length\": \"82\",\n",
      "      \"connection\": \"keep-alive\"\n",
      "    },\n",
      "    \"RetryAttempts\": 0\n",
      "  }\n",
      "}\n"
     ]
    }
   ],
   "source": [
    "schema = {\n",
    "    \"type\": \"record\",\n",
    "    \"name\": \"Interactions\",\n",
    "    \"namespace\": \"com.amazonaws.personalize.schema\",\n",
    "    \"fields\": [\n",
    "        {\n",
    "            \"name\": \"USER_ID\",\n",
    "            \"type\": \"string\"\n",
    "        },\n",
    "        {\n",
    "            \"name\": \"ITEM_ID\",\n",
    "            \"type\": \"string\"\n",
    "        },\n",
    "        {\n",
    "            \"name\": \"TIMESTAMP\",\n",
    "            \"type\": \"long\"\n",
    "        }\n",
    "    ],\n",
    "    \"version\": \"1.0\"\n",
    "}\n",
    "\n",
    "create_schema_response = personalize.create_schema(\n",
    "    name = \"DEMO-schema\",\n",
    "    schema = json.dumps(schema)\n",
    ")\n",
    "\n",
    "schema_arn = create_schema_response['schemaArn']\n",
    "print(json.dumps(create_schema_response, indent=2))"
   ]
  },
  {
   "cell_type": "code",
   "execution_count": 17,
   "metadata": {},
   "outputs": [
    {
     "name": "stdout",
     "output_type": "stream",
     "text": [
      "{\n",
      "  \"datasetGroupArn\": \"arn:aws:personalize:ap-northeast-1:081200852128:dataset-group/DEMO-dataset-group\",\n",
      "  \"ResponseMetadata\": {\n",
      "    \"RequestId\": \"84b3aa9b-060b-4815-9e68-0e445911b187\",\n",
      "    \"HTTPStatusCode\": 200,\n",
      "    \"HTTPHeaders\": {\n",
      "      \"content-type\": \"application/x-amz-json-1.1\",\n",
      "      \"date\": \"Wed, 12 Jun 2019 04:39:19 GMT\",\n",
      "      \"x-amzn-requestid\": \"84b3aa9b-060b-4815-9e68-0e445911b187\",\n",
      "      \"content-length\": \"102\",\n",
      "      \"connection\": \"keep-alive\"\n",
      "    },\n",
      "    \"RetryAttempts\": 0\n",
      "  }\n",
      "}\n"
     ]
    }
   ],
   "source": [
    "create_dataset_group_response = personalize.create_dataset_group(\n",
    "    name = \"DEMO-dataset-group\"\n",
    ")\n",
    "\n",
    "dataset_group_arn = create_dataset_group_response['datasetGroupArn']\n",
    "print(json.dumps(create_dataset_group_response, indent=2))"
   ]
  },
  {
   "cell_type": "code",
   "execution_count": 18,
   "metadata": {},
   "outputs": [
    {
     "name": "stdout",
     "output_type": "stream",
     "text": [
      "DatasetGroup: ACTIVE\n"
     ]
    }
   ],
   "source": [
    "max_time = time.time() + 3*60*60 # 3 hours\n",
    "while time.time() < max_time:\n",
    "    describe_dataset_group_response = personalize.describe_dataset_group(\n",
    "        datasetGroupArn = dataset_group_arn\n",
    "    )\n",
    "    status = describe_dataset_group_response[\"datasetGroup\"][\"status\"]\n",
    "    print(\"DatasetGroup: {}\".format(status))\n",
    "    \n",
    "    if status == \"ACTIVE\" or status == \"CREATE FAILED\":\n",
    "        break\n",
    "        \n",
    "    time.sleep(60)"
   ]
  },
  {
   "cell_type": "code",
   "execution_count": 19,
   "metadata": {},
   "outputs": [
    {
     "name": "stdout",
     "output_type": "stream",
     "text": [
      "{\n",
      "  \"datasetArn\": \"arn:aws:personalize:ap-northeast-1:081200852128:dataset/DEMO-dataset-group/INTERACTIONS\",\n",
      "  \"ResponseMetadata\": {\n",
      "    \"RequestId\": \"08dbec05-f9b2-4869-994b-306af2137aa7\",\n",
      "    \"HTTPStatusCode\": 200,\n",
      "    \"HTTPHeaders\": {\n",
      "      \"content-type\": \"application/x-amz-json-1.1\",\n",
      "      \"date\": \"Wed, 12 Jun 2019 04:39:49 GMT\",\n",
      "      \"x-amzn-requestid\": \"08dbec05-f9b2-4869-994b-306af2137aa7\",\n",
      "      \"content-length\": \"104\",\n",
      "      \"connection\": \"keep-alive\"\n",
      "    },\n",
      "    \"RetryAttempts\": 0\n",
      "  }\n",
      "}\n"
     ]
    }
   ],
   "source": [
    "dataset_type = \"INTERACTIONS\"\n",
    "create_dataset_response = personalize.create_dataset(\n",
    "    name = \"DEMO-dataset\",\n",
    "    datasetType = dataset_type,\n",
    "    datasetGroupArn = dataset_group_arn,\n",
    "    schemaArn = schema_arn\n",
    ")\n",
    "\n",
    "dataset_arn = create_dataset_response['datasetArn']\n",
    "print(json.dumps(create_dataset_response, indent=2))"
   ]
  },
  {
   "cell_type": "code",
   "execution_count": 20,
   "metadata": {},
   "outputs": [
    {
     "data": {
      "text/plain": [
       "{'ResponseMetadata': {'RequestId': '973BF231A84D6CE5',\n",
       "  'HostId': 'nqAstTNHUjQp0p3xUKrOFgPOz9+1tH2s0HvEwgz8fZR1qS6tJYxfbRkLtBX2ZrAx7YwcPYW6sdk=',\n",
       "  'HTTPStatusCode': 204,\n",
       "  'HTTPHeaders': {'x-amz-id-2': 'nqAstTNHUjQp0p3xUKrOFgPOz9+1tH2s0HvEwgz8fZR1qS6tJYxfbRkLtBX2ZrAx7YwcPYW6sdk=',\n",
       "   'x-amz-request-id': '973BF231A84D6CE5',\n",
       "   'date': 'Wed, 12 Jun 2019 04:40:00 GMT',\n",
       "   'server': 'AmazonS3'},\n",
       "  'RetryAttempts': 0}}"
      ]
     },
     "execution_count": 20,
     "metadata": {},
     "output_type": "execute_result"
    }
   ],
   "source": [
    "s3 = boto3.client(\"s3\")\n",
    "\n",
    "policy = {\n",
    "    \"Version\": \"2012-10-17\",\n",
    "    \"Id\": \"PersonalizeS3BucketAccessPolicy\",\n",
    "    \"Statement\": [\n",
    "        {\n",
    "            \"Sid\": \"PersonalizeS3BucketAccessPolicy\",\n",
    "            \"Effect\": \"Allow\",\n",
    "            \"Principal\": {\n",
    "                \"Service\": \"personalize.amazonaws.com\"\n",
    "            },\n",
    "            \"Action\": [\n",
    "                \"s3:GetObject\",\n",
    "                \"s3:ListBucket\"\n",
    "            ],\n",
    "            \"Resource\": [\n",
    "                \"arn:aws:s3:::{}\".format(bucket),\n",
    "                \"arn:aws:s3:::{}/*\".format(bucket)\n",
    "            ]\n",
    "        }\n",
    "    ]\n",
    "}\n",
    "\n",
    "s3.put_bucket_policy(Bucket=bucket, Policy=json.dumps(policy))"
   ]
  },
  {
   "cell_type": "code",
   "execution_count": 21,
   "metadata": {},
   "outputs": [
    {
     "name": "stdout",
     "output_type": "stream",
     "text": [
      "arn:aws:iam::081200852128:role/PersonalizeRole\n"
     ]
    }
   ],
   "source": [
    "iam = boto3.client(\"iam\")\n",
    "\n",
    "role_name = \"PersonalizeRole\"\n",
    "assume_role_policy_document = {\n",
    "    \"Version\": \"2012-10-17\",\n",
    "    \"Statement\": [\n",
    "        {\n",
    "          \"Effect\": \"Allow\",\n",
    "          \"Principal\": {\n",
    "            \"Service\": \"personalize.amazonaws.com\"\n",
    "          },\n",
    "          \"Action\": \"sts:AssumeRole\"\n",
    "        }\n",
    "    ]\n",
    "}\n",
    "\n",
    "create_role_response = iam.create_role(\n",
    "    RoleName = role_name,\n",
    "    AssumeRolePolicyDocument = json.dumps(assume_role_policy_document)\n",
    ")\n",
    "\n",
    "# AmazonPersonalizeFullAccess provides access to any S3 bucket with a name that includes \"personalize\" or \"Personalize\" \n",
    "# if you would like to use a bucket with a different name, please consider creating and attaching a new policy\n",
    "# that provides read access to your bucket or attaching the AmazonS3ReadOnlyAccess policy to the role\n",
    "policy_arn = \"arn:aws:iam::aws:policy/service-role/AmazonPersonalizeFullAccess\"\n",
    "iam.attach_role_policy(\n",
    "    RoleName = role_name,\n",
    "    PolicyArn = policy_arn\n",
    ")\n",
    "\n",
    "time.sleep(60) # wait for a minute to allow IAM role policy attachment to propagate\n",
    "\n",
    "role_arn = create_role_response[\"Role\"][\"Arn\"]\n",
    "print(role_arn)"
   ]
  },
  {
   "cell_type": "code",
   "execution_count": 22,
   "metadata": {},
   "outputs": [
    {
     "name": "stdout",
     "output_type": "stream",
     "text": [
      "{\n",
      "  \"datasetImportJobArn\": \"arn:aws:personalize:ap-northeast-1:081200852128:dataset-import-job/DEMO-dataset-import-job\",\n",
      "  \"ResponseMetadata\": {\n",
      "    \"RequestId\": \"21b0da23-0a67-45f5-a30d-5544c726abaf\",\n",
      "    \"HTTPStatusCode\": 200,\n",
      "    \"HTTPHeaders\": {\n",
      "      \"content-type\": \"application/x-amz-json-1.1\",\n",
      "      \"date\": \"Wed, 12 Jun 2019 04:41:20 GMT\",\n",
      "      \"x-amzn-requestid\": \"21b0da23-0a67-45f5-a30d-5544c726abaf\",\n",
      "      \"content-length\": \"116\",\n",
      "      \"connection\": \"keep-alive\"\n",
      "    },\n",
      "    \"RetryAttempts\": 0\n",
      "  }\n",
      "}\n"
     ]
    }
   ],
   "source": [
    "create_dataset_import_job_response = personalize.create_dataset_import_job(\n",
    "    jobName = \"DEMO-dataset-import-job\",\n",
    "    datasetArn = dataset_arn,\n",
    "    dataSource = {\n",
    "        \"dataLocation\": \"s3://{}/{}\".format(bucket, filename)\n",
    "    },\n",
    "    roleArn = role_arn\n",
    ")\n",
    "\n",
    "dataset_import_job_arn = create_dataset_import_job_response['datasetImportJobArn']\n",
    "print(json.dumps(create_dataset_import_job_response, indent=2))"
   ]
  },
  {
   "cell_type": "code",
   "execution_count": 23,
   "metadata": {},
   "outputs": [
    {
     "name": "stdout",
     "output_type": "stream",
     "text": [
      "DatasetImportJob: CREATE PENDING\n",
      "DatasetImportJob: CREATE IN_PROGRESS\n",
      "DatasetImportJob: CREATE IN_PROGRESS\n",
      "DatasetImportJob: CREATE IN_PROGRESS\n",
      "DatasetImportJob: CREATE IN_PROGRESS\n",
      "DatasetImportJob: CREATE IN_PROGRESS\n",
      "DatasetImportJob: CREATE IN_PROGRESS\n",
      "DatasetImportJob: CREATE IN_PROGRESS\n",
      "DatasetImportJob: CREATE IN_PROGRESS\n",
      "DatasetImportJob: CREATE IN_PROGRESS\n",
      "DatasetImportJob: ACTIVE\n"
     ]
    }
   ],
   "source": [
    "max_time = time.time() + 3*60*60 # 3 hours\n",
    "while time.time() < max_time:\n",
    "    describe_dataset_import_job_response = personalize.describe_dataset_import_job(\n",
    "        datasetImportJobArn = dataset_import_job_arn\n",
    "    )\n",
    "    status = describe_dataset_import_job_response[\"datasetImportJob\"]['status']\n",
    "    print(\"DatasetImportJob: {}\".format(status))\n",
    "    \n",
    "    if status == \"ACTIVE\" or status == \"CREATE FAILED\":\n",
    "        break\n",
    "        \n",
    "    time.sleep(60)\n"
   ]
  },
  {
   "cell_type": "code",
   "execution_count": 24,
   "metadata": {},
   "outputs": [
    {
     "data": {
      "text/plain": [
       "{'recipes': [{'name': 'aws-hrnn',\n",
       "   'recipeArn': 'arn:aws:personalize:::recipe/aws-hrnn',\n",
       "   'status': 'ACTIVE',\n",
       "   'creationDateTime': datetime.datetime(2018, 11, 26, 9, 0, tzinfo=tzlocal()),\n",
       "   'lastUpdatedDateTime': datetime.datetime(1970, 1, 1, 9, 0, tzinfo=tzlocal())},\n",
       "  {'name': 'aws-hrnn-coldstart',\n",
       "   'recipeArn': 'arn:aws:personalize:::recipe/aws-hrnn-coldstart',\n",
       "   'status': 'ACTIVE',\n",
       "   'creationDateTime': datetime.datetime(2018, 11, 26, 9, 0, tzinfo=tzlocal()),\n",
       "   'lastUpdatedDateTime': datetime.datetime(1970, 1, 1, 9, 0, tzinfo=tzlocal())},\n",
       "  {'name': 'aws-hrnn-metadata',\n",
       "   'recipeArn': 'arn:aws:personalize:::recipe/aws-hrnn-metadata',\n",
       "   'status': 'ACTIVE',\n",
       "   'creationDateTime': datetime.datetime(2018, 11, 26, 9, 0, tzinfo=tzlocal()),\n",
       "   'lastUpdatedDateTime': datetime.datetime(1970, 1, 1, 9, 0, tzinfo=tzlocal())},\n",
       "  {'name': 'aws-personalized-ranking',\n",
       "   'recipeArn': 'arn:aws:personalize:::recipe/aws-personalized-ranking',\n",
       "   'status': 'ACTIVE',\n",
       "   'creationDateTime': datetime.datetime(2018, 11, 26, 9, 0, tzinfo=tzlocal()),\n",
       "   'lastUpdatedDateTime': datetime.datetime(1970, 1, 1, 9, 0, tzinfo=tzlocal())},\n",
       "  {'name': 'aws-popularity-count',\n",
       "   'recipeArn': 'arn:aws:personalize:::recipe/aws-popularity-count',\n",
       "   'status': 'ACTIVE',\n",
       "   'creationDateTime': datetime.datetime(2018, 11, 26, 9, 0, tzinfo=tzlocal()),\n",
       "   'lastUpdatedDateTime': datetime.datetime(1970, 1, 1, 9, 0, tzinfo=tzlocal())},\n",
       "  {'name': 'aws-sims',\n",
       "   'recipeArn': 'arn:aws:personalize:::recipe/aws-sims',\n",
       "   'status': 'ACTIVE',\n",
       "   'creationDateTime': datetime.datetime(2018, 11, 26, 9, 0, tzinfo=tzlocal()),\n",
       "   'lastUpdatedDateTime': datetime.datetime(1970, 1, 1, 9, 0, tzinfo=tzlocal())}],\n",
       " 'ResponseMetadata': {'RequestId': '59ccc26d-c1e0-4aa5-a771-a6cb8a44433c',\n",
       "  'HTTPStatusCode': 200,\n",
       "  'HTTPHeaders': {'content-type': 'application/x-amz-json-1.1',\n",
       "   'date': 'Wed, 12 Jun 2019 04:51:21 GMT',\n",
       "   'x-amzn-requestid': '59ccc26d-c1e0-4aa5-a771-a6cb8a44433c',\n",
       "   'content-length': '989',\n",
       "   'connection': 'keep-alive'},\n",
       "  'RetryAttempts': 0}}"
      ]
     },
     "execution_count": 24,
     "metadata": {},
     "output_type": "execute_result"
    }
   ],
   "source": [
    "list_recipes_response = personalize.list_recipes()\n",
    "recipe_arn = \"arn:aws:personalize:::recipe/aws-hrnn\" # aws-hrnn selected for demo purposes\n",
    "list_recipes_response"
   ]
  },
  {
   "cell_type": "code",
   "execution_count": 25,
   "metadata": {},
   "outputs": [
    {
     "name": "stdout",
     "output_type": "stream",
     "text": [
      "{\n",
      "  \"solutionArn\": \"arn:aws:personalize:ap-northeast-1:081200852128:solution/DEMO-solution\",\n",
      "  \"ResponseMetadata\": {\n",
      "    \"RequestId\": \"b6dbcbcb-7f47-45e4-b18a-c687f688917a\",\n",
      "    \"HTTPStatusCode\": 200,\n",
      "    \"HTTPHeaders\": {\n",
      "      \"content-type\": \"application/x-amz-json-1.1\",\n",
      "      \"date\": \"Wed, 12 Jun 2019 04:51:20 GMT\",\n",
      "      \"x-amzn-requestid\": \"b6dbcbcb-7f47-45e4-b18a-c687f688917a\",\n",
      "      \"content-length\": \"88\",\n",
      "      \"connection\": \"keep-alive\"\n",
      "    },\n",
      "    \"RetryAttempts\": 0\n",
      "  }\n",
      "}\n"
     ]
    }
   ],
   "source": [
    "create_solution_response = personalize.create_solution(\n",
    "    name = \"DEMO-solution\",\n",
    "    datasetGroupArn = dataset_group_arn,\n",
    "    recipeArn = recipe_arn\n",
    ")\n",
    "\n",
    "solution_arn = create_solution_response['solutionArn']\n",
    "print(json.dumps(create_solution_response, indent=2))"
   ]
  },
  {
   "cell_type": "code",
   "execution_count": 26,
   "metadata": {},
   "outputs": [
    {
     "name": "stdout",
     "output_type": "stream",
     "text": [
      "{\n",
      "  \"solutionVersionArn\": \"arn:aws:personalize:ap-northeast-1:081200852128:solution/DEMO-solution/55115762\",\n",
      "  \"ResponseMetadata\": {\n",
      "    \"RequestId\": \"2ec734f1-1e71-406e-886f-507173d688dd\",\n",
      "    \"HTTPStatusCode\": 200,\n",
      "    \"HTTPHeaders\": {\n",
      "      \"content-type\": \"application/x-amz-json-1.1\",\n",
      "      \"date\": \"Wed, 12 Jun 2019 04:51:22 GMT\",\n",
      "      \"x-amzn-requestid\": \"2ec734f1-1e71-406e-886f-507173d688dd\",\n",
      "      \"content-length\": \"104\",\n",
      "      \"connection\": \"keep-alive\"\n",
      "    },\n",
      "    \"RetryAttempts\": 0\n",
      "  }\n",
      "}\n"
     ]
    }
   ],
   "source": [
    "create_solution_version_response = personalize.create_solution_version(\n",
    "    solutionArn = solution_arn\n",
    ")\n",
    "\n",
    "solution_version_arn = create_solution_version_response['solutionVersionArn']\n",
    "print(json.dumps(create_solution_version_response, indent=2))"
   ]
  },
  {
   "cell_type": "code",
   "execution_count": 27,
   "metadata": {},
   "outputs": [
    {
     "name": "stdout",
     "output_type": "stream",
     "text": [
      "SolutionVersion: CREATE PENDING\n",
      "SolutionVersion: CREATE IN_PROGRESS\n",
      "SolutionVersion: CREATE IN_PROGRESS\n",
      "SolutionVersion: CREATE IN_PROGRESS\n",
      "SolutionVersion: CREATE IN_PROGRESS\n",
      "SolutionVersion: CREATE IN_PROGRESS\n",
      "SolutionVersion: CREATE IN_PROGRESS\n",
      "SolutionVersion: CREATE IN_PROGRESS\n",
      "SolutionVersion: CREATE IN_PROGRESS\n",
      "SolutionVersion: CREATE IN_PROGRESS\n",
      "SolutionVersion: CREATE IN_PROGRESS\n",
      "SolutionVersion: CREATE IN_PROGRESS\n",
      "SolutionVersion: CREATE IN_PROGRESS\n",
      "SolutionVersion: CREATE IN_PROGRESS\n",
      "SolutionVersion: CREATE IN_PROGRESS\n",
      "SolutionVersion: CREATE IN_PROGRESS\n",
      "SolutionVersion: CREATE IN_PROGRESS\n",
      "SolutionVersion: CREATE IN_PROGRESS\n",
      "SolutionVersion: CREATE IN_PROGRESS\n",
      "SolutionVersion: CREATE IN_PROGRESS\n",
      "SolutionVersion: CREATE IN_PROGRESS\n",
      "SolutionVersion: CREATE IN_PROGRESS\n",
      "SolutionVersion: CREATE IN_PROGRESS\n",
      "SolutionVersion: CREATE IN_PROGRESS\n",
      "SolutionVersion: CREATE IN_PROGRESS\n",
      "SolutionVersion: CREATE IN_PROGRESS\n",
      "SolutionVersion: CREATE IN_PROGRESS\n",
      "SolutionVersion: ACTIVE\n"
     ]
    }
   ],
   "source": [
    "max_time = time.time() + 3*60*60 # 3 hours\n",
    "while time.time() < max_time:\n",
    "    describe_solution_version_response = personalize.describe_solution_version(\n",
    "        solutionVersionArn = solution_version_arn\n",
    "    )\n",
    "    status = describe_solution_version_response[\"solutionVersion\"][\"status\"]\n",
    "    print(\"SolutionVersion: {}\".format(status))\n",
    "    \n",
    "    if status == \"ACTIVE\" or status == \"CREATE FAILED\":\n",
    "        break\n",
    "        \n",
    "    time.sleep(60)"
   ]
  },
  {
   "cell_type": "code",
   "execution_count": 28,
   "metadata": {},
   "outputs": [
    {
     "name": "stdout",
     "output_type": "stream",
     "text": [
      "{\n",
      "  \"solutionVersionArn\": \"arn:aws:personalize:ap-northeast-1:081200852128:solution/DEMO-solution/55115762\",\n",
      "  \"metrics\": {\n",
      "    \"coverage\": 0.2362,\n",
      "    \"mean_reciprocal_rank_at_25\": 0.049,\n",
      "    \"normalized_discounted_cumulative_gain_at_10\": 0.0676,\n",
      "    \"normalized_discounted_cumulative_gain_at_25\": 0.0919,\n",
      "    \"normalized_discounted_cumulative_gain_at_5\": 0.0518,\n",
      "    \"precision_at_10\": 0.0125,\n",
      "    \"precision_at_25\": 0.0091,\n",
      "    \"precision_at_5\": 0.0159\n",
      "  },\n",
      "  \"ResponseMetadata\": {\n",
      "    \"RequestId\": \"1c4072c5-c151-4b3a-ac3e-8b62da4b44bf\",\n",
      "    \"HTTPStatusCode\": 200,\n",
      "    \"HTTPHeaders\": {\n",
      "      \"content-type\": \"application/x-amz-json-1.1\",\n",
      "      \"date\": \"Wed, 12 Jun 2019 05:18:25 GMT\",\n",
      "      \"x-amzn-requestid\": \"1c4072c5-c151-4b3a-ac3e-8b62da4b44bf\",\n",
      "      \"content-length\": \"401\",\n",
      "      \"connection\": \"keep-alive\"\n",
      "    },\n",
      "    \"RetryAttempts\": 0\n",
      "  }\n",
      "}\n"
     ]
    }
   ],
   "source": [
    "get_solution_metrics_response = personalize.get_solution_metrics(\n",
    "    solutionVersionArn = solution_version_arn\n",
    ")\n",
    "\n",
    "print(json.dumps(get_solution_metrics_response, indent=2))"
   ]
  },
  {
   "cell_type": "code",
   "execution_count": 29,
   "metadata": {},
   "outputs": [
    {
     "name": "stdout",
     "output_type": "stream",
     "text": [
      "{\n",
      "  \"campaignArn\": \"arn:aws:personalize:ap-northeast-1:081200852128:campaign/DEMO-campaign\",\n",
      "  \"ResponseMetadata\": {\n",
      "    \"RequestId\": \"b290b256-774d-459c-a3a6-92902db75346\",\n",
      "    \"HTTPStatusCode\": 200,\n",
      "    \"HTTPHeaders\": {\n",
      "      \"content-type\": \"application/x-amz-json-1.1\",\n",
      "      \"date\": \"Wed, 12 Jun 2019 05:18:25 GMT\",\n",
      "      \"x-amzn-requestid\": \"b290b256-774d-459c-a3a6-92902db75346\",\n",
      "      \"content-length\": \"88\",\n",
      "      \"connection\": \"keep-alive\"\n",
      "    },\n",
      "    \"RetryAttempts\": 0\n",
      "  }\n",
      "}\n"
     ]
    }
   ],
   "source": [
    "create_campaign_response = personalize.create_campaign(\n",
    "    name = \"DEMO-campaign\",\n",
    "    solutionVersionArn = solution_version_arn,\n",
    "    minProvisionedTPS = 1\n",
    ")\n",
    "\n",
    "campaign_arn = create_campaign_response['campaignArn']\n",
    "print(json.dumps(create_campaign_response, indent=2))"
   ]
  },
  {
   "cell_type": "code",
   "execution_count": 30,
   "metadata": {},
   "outputs": [
    {
     "name": "stdout",
     "output_type": "stream",
     "text": [
      "Campaign: CREATE PENDING\n",
      "Campaign: CREATE IN_PROGRESS\n",
      "Campaign: CREATE IN_PROGRESS\n",
      "Campaign: CREATE IN_PROGRESS\n",
      "Campaign: CREATE IN_PROGRESS\n",
      "Campaign: CREATE IN_PROGRESS\n",
      "Campaign: CREATE IN_PROGRESS\n",
      "Campaign: CREATE IN_PROGRESS\n",
      "Campaign: CREATE IN_PROGRESS\n",
      "Campaign: CREATE IN_PROGRESS\n",
      "Campaign: CREATE IN_PROGRESS\n",
      "Campaign: ACTIVE\n"
     ]
    }
   ],
   "source": [
    "max_time = time.time() + 3*60*60 # 3 hours\n",
    "while time.time() < max_time:\n",
    "    describe_campaign_response = personalize.describe_campaign(\n",
    "        campaignArn = campaign_arn\n",
    "    )\n",
    "    status = describe_campaign_response[\"campaign\"][\"status\"]\n",
    "    print(\"Campaign: {}\".format(status))\n",
    "    \n",
    "    if status == \"ACTIVE\" or status == \"CREATE FAILED\":\n",
    "        break\n",
    "        \n",
    "    time.sleep(60)"
   ]
  },
  {
   "cell_type": "code",
   "execution_count": 38,
   "metadata": {},
   "outputs": [
    {
     "name": "stdout",
     "output_type": "stream",
     "text": [
      "USER: 771\n",
      "ITEM: Empire Strikes Back, The (1980)\n"
     ]
    }
   ],
   "source": [
    "items = pd.read_csv('./ml-100k/u.item', sep='|', usecols=[0,1], header=None, encoding=\"ISO-8859-1\")\n",
    "items.columns = ['ITEM_ID', 'TITLE']\n",
    "\n",
    "user_id, item_id, _ = data.sample().values[0]\n",
    "item_title = items.loc[items['ITEM_ID'] == item_id].values[0][-1]\n",
    "print(\"USER: {}\".format(user_id))\n",
    "print(\"ITEM: {}\".format(item_title))"
   ]
  },
  {
   "cell_type": "code",
   "execution_count": 40,
   "metadata": {},
   "outputs": [
    {
     "data": {
      "text/html": [
       "<div>\n",
       "<style scoped>\n",
       "    .dataframe tbody tr th:only-of-type {\n",
       "        vertical-align: middle;\n",
       "    }\n",
       "\n",
       "    .dataframe tbody tr th {\n",
       "        vertical-align: top;\n",
       "    }\n",
       "\n",
       "    .dataframe thead th {\n",
       "        text-align: right;\n",
       "    }\n",
       "</style>\n",
       "<table border=\"1\" class=\"dataframe\">\n",
       "  <thead>\n",
       "    <tr style=\"text-align: right;\">\n",
       "      <th></th>\n",
       "      <th>ITEM_ID</th>\n",
       "      <th>TITLE</th>\n",
       "    </tr>\n",
       "  </thead>\n",
       "  <tbody>\n",
       "    <tr>\n",
       "      <th>0</th>\n",
       "      <td>1</td>\n",
       "      <td>Toy Story (1995)</td>\n",
       "    </tr>\n",
       "    <tr>\n",
       "      <th>1</th>\n",
       "      <td>2</td>\n",
       "      <td>GoldenEye (1995)</td>\n",
       "    </tr>\n",
       "    <tr>\n",
       "      <th>2</th>\n",
       "      <td>3</td>\n",
       "      <td>Four Rooms (1995)</td>\n",
       "    </tr>\n",
       "    <tr>\n",
       "      <th>3</th>\n",
       "      <td>4</td>\n",
       "      <td>Get Shorty (1995)</td>\n",
       "    </tr>\n",
       "    <tr>\n",
       "      <th>4</th>\n",
       "      <td>5</td>\n",
       "      <td>Copycat (1995)</td>\n",
       "    </tr>\n",
       "  </tbody>\n",
       "</table>\n",
       "</div>"
      ],
      "text/plain": [
       "   ITEM_ID              TITLE\n",
       "0        1   Toy Story (1995)\n",
       "1        2   GoldenEye (1995)\n",
       "2        3  Four Rooms (1995)\n",
       "3        4  Get Shorty (1995)\n",
       "4        5     Copycat (1995)"
      ]
     },
     "execution_count": 40,
     "metadata": {},
     "output_type": "execute_result"
    }
   ],
   "source": [
    "items.head()"
   ]
  },
  {
   "cell_type": "code",
   "execution_count": 41,
   "metadata": {},
   "outputs": [
    {
     "name": "stdout",
     "output_type": "stream",
     "text": [
      "Recommendations: [\n",
      "  \"Star Wars (1977)\",\n",
      "  \"Chasing Amy (1997)\",\n",
      "  \"Independence Day (ID4) (1996)\",\n",
      "  \"Contact (1997)\",\n",
      "  \"My Best Friend's Wedding (1997)\",\n",
      "  \"Evita (1996)\",\n",
      "  \"Titanic (1997)\",\n",
      "  \"Fly Away Home (1996)\",\n",
      "  \"Birdcage, The (1996)\",\n",
      "  \"Jackal, The (1997)\",\n",
      "  \"Jerry Maguire (1996)\",\n",
      "  \"Gattaca (1997)\",\n",
      "  \"Toy Story (1995)\",\n",
      "  \"2 Days in the Valley (1996)\",\n",
      "  \"Willy Wonka and the Chocolate Factory (1971)\",\n",
      "  \"Devil's Own, The (1997)\",\n",
      "  \"Conspiracy Theory (1997)\",\n",
      "  \"Kingpin (1996)\",\n",
      "  \"Apt Pupil (1998)\",\n",
      "  \"Fargo (1996)\",\n",
      "  \"Ransom (1996)\",\n",
      "  \"Leaving Las Vegas (1995)\",\n",
      "  \"Volcano (1997)\",\n",
      "  \"Fifth Element, The (1997)\",\n",
      "  \"Chasing Amy (1997)\"\n",
      "]\n"
     ]
    }
   ],
   "source": [
    "get_recommendations_response = personalize_runtime.get_recommendations(\n",
    "    campaignArn = campaign_arn,\n",
    "    userId = str(user_id),\n",
    "    itemId = str(item_id)\n",
    ")\n",
    "\n",
    "item_list = get_recommendations_response['itemList']\n",
    "title_list = [items.loc[items['ITEM_ID'] == np.int(item['itemId'])].values[0][-1] for item in item_list]\n",
    "\n",
    "print(\"Recommendations: {}\".format(json.dumps(title_list, indent=2)))"
   ]
  },
  {
   "cell_type": "code",
   "execution_count": null,
   "metadata": {},
   "outputs": [],
   "source": []
  }
 ],
 "metadata": {
  "kernelspec": {
   "display_name": "Python 3",
   "language": "python",
   "name": "python3"
  },
  "language_info": {
   "codemirror_mode": {
    "name": "ipython",
    "version": 3
   },
   "file_extension": ".py",
   "mimetype": "text/x-python",
   "name": "python",
   "nbconvert_exporter": "python",
   "pygments_lexer": "ipython3",
   "version": "3.6.5"
  }
 },
 "nbformat": 4,
 "nbformat_minor": 2
}
