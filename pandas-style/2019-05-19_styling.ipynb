{
 "cells": [
  {
   "cell_type": "code",
   "execution_count": 9,
   "metadata": {},
   "outputs": [],
   "source": [
    "import os\n",
    "import pandas as pd"
   ]
  },
  {
   "cell_type": "code",
   "execution_count": 12,
   "metadata": {},
   "outputs": [
    {
     "data": {
      "text/plain": [
       "['test.csv', 'train.csv', 'gender_submission.csv']"
      ]
     },
     "execution_count": 12,
     "metadata": {},
     "output_type": "execute_result"
    }
   ],
   "source": [
    "os.listdir(\"/Users/yutaro_ikeda/.kaggle/competitions/titanic\")"
   ]
  },
  {
   "cell_type": "code",
   "execution_count": 13,
   "metadata": {},
   "outputs": [],
   "source": [
    "df = pd.read_csv(\"~/.kaggle/competitions/titanic/train.csv\")"
   ]
  },
  {
   "cell_type": "code",
   "execution_count": 15,
   "metadata": {},
   "outputs": [
    {
     "data": {
      "text/html": [
       "<div>\n",
       "<style scoped>\n",
       "    .dataframe tbody tr th:only-of-type {\n",
       "        vertical-align: middle;\n",
       "    }\n",
       "\n",
       "    .dataframe tbody tr th {\n",
       "        vertical-align: top;\n",
       "    }\n",
       "\n",
       "    .dataframe thead th {\n",
       "        text-align: right;\n",
       "    }\n",
       "</style>\n",
       "<table border=\"1\" class=\"dataframe\">\n",
       "  <thead>\n",
       "    <tr style=\"text-align: right;\">\n",
       "      <th></th>\n",
       "      <th>PassengerId</th>\n",
       "      <th>Survived</th>\n",
       "      <th>Pclass</th>\n",
       "      <th>Name</th>\n",
       "      <th>Sex</th>\n",
       "      <th>Age</th>\n",
       "      <th>SibSp</th>\n",
       "      <th>Parch</th>\n",
       "      <th>Ticket</th>\n",
       "      <th>Fare</th>\n",
       "      <th>Cabin</th>\n",
       "      <th>Embarked</th>\n",
       "    </tr>\n",
       "  </thead>\n",
       "  <tbody>\n",
       "    <tr>\n",
       "      <th>0</th>\n",
       "      <td>1</td>\n",
       "      <td>0</td>\n",
       "      <td>3</td>\n",
       "      <td>Braund, Mr. Owen Harris</td>\n",
       "      <td>male</td>\n",
       "      <td>22.0</td>\n",
       "      <td>1</td>\n",
       "      <td>0</td>\n",
       "      <td>A/5 21171</td>\n",
       "      <td>7.2500</td>\n",
       "      <td>NaN</td>\n",
       "      <td>S</td>\n",
       "    </tr>\n",
       "    <tr>\n",
       "      <th>1</th>\n",
       "      <td>2</td>\n",
       "      <td>1</td>\n",
       "      <td>1</td>\n",
       "      <td>Cumings, Mrs. John Bradley (Florence Briggs Th...</td>\n",
       "      <td>female</td>\n",
       "      <td>38.0</td>\n",
       "      <td>1</td>\n",
       "      <td>0</td>\n",
       "      <td>PC 17599</td>\n",
       "      <td>71.2833</td>\n",
       "      <td>C85</td>\n",
       "      <td>C</td>\n",
       "    </tr>\n",
       "    <tr>\n",
       "      <th>2</th>\n",
       "      <td>3</td>\n",
       "      <td>1</td>\n",
       "      <td>3</td>\n",
       "      <td>Heikkinen, Miss. Laina</td>\n",
       "      <td>female</td>\n",
       "      <td>26.0</td>\n",
       "      <td>0</td>\n",
       "      <td>0</td>\n",
       "      <td>STON/O2. 3101282</td>\n",
       "      <td>7.9250</td>\n",
       "      <td>NaN</td>\n",
       "      <td>S</td>\n",
       "    </tr>\n",
       "    <tr>\n",
       "      <th>3</th>\n",
       "      <td>4</td>\n",
       "      <td>1</td>\n",
       "      <td>1</td>\n",
       "      <td>Futrelle, Mrs. Jacques Heath (Lily May Peel)</td>\n",
       "      <td>female</td>\n",
       "      <td>35.0</td>\n",
       "      <td>1</td>\n",
       "      <td>0</td>\n",
       "      <td>113803</td>\n",
       "      <td>53.1000</td>\n",
       "      <td>C123</td>\n",
       "      <td>S</td>\n",
       "    </tr>\n",
       "    <tr>\n",
       "      <th>4</th>\n",
       "      <td>5</td>\n",
       "      <td>0</td>\n",
       "      <td>3</td>\n",
       "      <td>Allen, Mr. William Henry</td>\n",
       "      <td>male</td>\n",
       "      <td>35.0</td>\n",
       "      <td>0</td>\n",
       "      <td>0</td>\n",
       "      <td>373450</td>\n",
       "      <td>8.0500</td>\n",
       "      <td>NaN</td>\n",
       "      <td>S</td>\n",
       "    </tr>\n",
       "  </tbody>\n",
       "</table>\n",
       "</div>"
      ],
      "text/plain": [
       "   PassengerId  Survived  Pclass  \\\n",
       "0            1         0       3   \n",
       "1            2         1       1   \n",
       "2            3         1       3   \n",
       "3            4         1       1   \n",
       "4            5         0       3   \n",
       "\n",
       "                                                Name     Sex   Age  SibSp  \\\n",
       "0                            Braund, Mr. Owen Harris    male  22.0      1   \n",
       "1  Cumings, Mrs. John Bradley (Florence Briggs Th...  female  38.0      1   \n",
       "2                             Heikkinen, Miss. Laina  female  26.0      0   \n",
       "3       Futrelle, Mrs. Jacques Heath (Lily May Peel)  female  35.0      1   \n",
       "4                           Allen, Mr. William Henry    male  35.0      0   \n",
       "\n",
       "   Parch            Ticket     Fare Cabin Embarked  \n",
       "0      0         A/5 21171   7.2500   NaN        S  \n",
       "1      0          PC 17599  71.2833   C85        C  \n",
       "2      0  STON/O2. 3101282   7.9250   NaN        S  \n",
       "3      0            113803  53.1000  C123        S  \n",
       "4      0            373450   8.0500   NaN        S  "
      ]
     },
     "execution_count": 15,
     "metadata": {},
     "output_type": "execute_result"
    }
   ],
   "source": [
    "df.head()"
   ]
  },
  {
   "cell_type": "markdown",
   "metadata": {},
   "source": [
    "# .format()"
   ]
  },
  {
   "cell_type": "code",
   "execution_count": 21,
   "metadata": {},
   "outputs": [
    {
     "data": {
      "text/html": [
       "<div>\n",
       "<style scoped>\n",
       "    .dataframe tbody tr th:only-of-type {\n",
       "        vertical-align: middle;\n",
       "    }\n",
       "\n",
       "    .dataframe tbody tr th {\n",
       "        vertical-align: top;\n",
       "    }\n",
       "\n",
       "    .dataframe thead th {\n",
       "        text-align: right;\n",
       "    }\n",
       "</style>\n",
       "<table border=\"1\" class=\"dataframe\">\n",
       "  <thead>\n",
       "    <tr style=\"text-align: right;\">\n",
       "      <th></th>\n",
       "      <th>Fare</th>\n",
       "    </tr>\n",
       "  </thead>\n",
       "  <tbody>\n",
       "    <tr>\n",
       "      <th>0</th>\n",
       "      <td>7.2500</td>\n",
       "    </tr>\n",
       "    <tr>\n",
       "      <th>1</th>\n",
       "      <td>71.2833</td>\n",
       "    </tr>\n",
       "    <tr>\n",
       "      <th>2</th>\n",
       "      <td>7.9250</td>\n",
       "    </tr>\n",
       "    <tr>\n",
       "      <th>3</th>\n",
       "      <td>53.1000</td>\n",
       "    </tr>\n",
       "    <tr>\n",
       "      <th>4</th>\n",
       "      <td>8.0500</td>\n",
       "    </tr>\n",
       "  </tbody>\n",
       "</table>\n",
       "</div>"
      ],
      "text/plain": [
       "      Fare\n",
       "0   7.2500\n",
       "1  71.2833\n",
       "2   7.9250\n",
       "3  53.1000\n",
       "4   8.0500"
      ]
     },
     "execution_count": 21,
     "metadata": {},
     "output_type": "execute_result"
    }
   ],
   "source": [
    "df[['Fare']].head()"
   ]
  },
  {
   "cell_type": "code",
   "execution_count": 20,
   "metadata": {},
   "outputs": [
    {
     "data": {
      "text/html": [
       "<style  type=\"text/css\" >\n",
       "</style>  \n",
       "<table id=\"T_6c9af3e2_7a0f_11e9_ae75_8c8590cb0b95\" > \n",
       "<thead>    <tr> \n",
       "        <th class=\"blank level0\" ></th> \n",
       "        <th class=\"col_heading level0 col0\" >Fare</th> \n",
       "    </tr></thead> \n",
       "<tbody>    <tr> \n",
       "        <th id=\"T_6c9af3e2_7a0f_11e9_ae75_8c8590cb0b95level0_row0\" class=\"row_heading level0 row0\" >0</th> \n",
       "        <td id=\"T_6c9af3e2_7a0f_11e9_ae75_8c8590cb0b95row0_col0\" class=\"data row0 col0\" >$7.25</td> \n",
       "    </tr>    <tr> \n",
       "        <th id=\"T_6c9af3e2_7a0f_11e9_ae75_8c8590cb0b95level0_row1\" class=\"row_heading level0 row1\" >1</th> \n",
       "        <td id=\"T_6c9af3e2_7a0f_11e9_ae75_8c8590cb0b95row1_col0\" class=\"data row1 col0\" >$71.28</td> \n",
       "    </tr>    <tr> \n",
       "        <th id=\"T_6c9af3e2_7a0f_11e9_ae75_8c8590cb0b95level0_row2\" class=\"row_heading level0 row2\" >2</th> \n",
       "        <td id=\"T_6c9af3e2_7a0f_11e9_ae75_8c8590cb0b95row2_col0\" class=\"data row2 col0\" >$7.92</td> \n",
       "    </tr>    <tr> \n",
       "        <th id=\"T_6c9af3e2_7a0f_11e9_ae75_8c8590cb0b95level0_row3\" class=\"row_heading level0 row3\" >3</th> \n",
       "        <td id=\"T_6c9af3e2_7a0f_11e9_ae75_8c8590cb0b95row3_col0\" class=\"data row3 col0\" >$53.10</td> \n",
       "    </tr>    <tr> \n",
       "        <th id=\"T_6c9af3e2_7a0f_11e9_ae75_8c8590cb0b95level0_row4\" class=\"row_heading level0 row4\" >4</th> \n",
       "        <td id=\"T_6c9af3e2_7a0f_11e9_ae75_8c8590cb0b95row4_col0\" class=\"data row4 col0\" >$8.05</td> \n",
       "    </tr></tbody> \n",
       "</table> "
      ],
      "text/plain": [
       "<pandas.io.formats.style.Styler at 0x11ae8b470>"
      ]
     },
     "execution_count": 20,
     "metadata": {},
     "output_type": "execute_result"
    }
   ],
   "source": [
    "df[['Fare']].head().style.format('${0:,.2f}')"
   ]
  },
  {
   "cell_type": "markdown",
   "metadata": {},
   "source": [
    "# .hide_index()"
   ]
  },
  {
   "cell_type": "code",
   "execution_count": 23,
   "metadata": {},
   "outputs": [
    {
     "data": {
      "text/html": [
       "<style  type=\"text/css\" >\n",
       "</style>  \n",
       "<table id=\"T_7f958df4_7a0f_11e9_8085_8c8590cb0b95\" > \n",
       "<thead>    <tr> \n",
       "        <th class=\"col_heading level0 col0\" >PassengerId</th> \n",
       "        <th class=\"col_heading level0 col1\" >Survived</th> \n",
       "        <th class=\"col_heading level0 col2\" >Pclass</th> \n",
       "        <th class=\"col_heading level0 col3\" >Name</th> \n",
       "        <th class=\"col_heading level0 col4\" >Sex</th> \n",
       "        <th class=\"col_heading level0 col5\" >Age</th> \n",
       "        <th class=\"col_heading level0 col6\" >SibSp</th> \n",
       "        <th class=\"col_heading level0 col7\" >Parch</th> \n",
       "        <th class=\"col_heading level0 col8\" >Ticket</th> \n",
       "        <th class=\"col_heading level0 col9\" >Fare</th> \n",
       "        <th class=\"col_heading level0 col10\" >Cabin</th> \n",
       "        <th class=\"col_heading level0 col11\" >Embarked</th> \n",
       "    </tr></thead> \n",
       "<tbody>    <tr> \n",
       "        <td id=\"T_7f958df4_7a0f_11e9_8085_8c8590cb0b95row0_col0\" class=\"data row0 col0\" >1</td> \n",
       "        <td id=\"T_7f958df4_7a0f_11e9_8085_8c8590cb0b95row0_col1\" class=\"data row0 col1\" >0</td> \n",
       "        <td id=\"T_7f958df4_7a0f_11e9_8085_8c8590cb0b95row0_col2\" class=\"data row0 col2\" >3</td> \n",
       "        <td id=\"T_7f958df4_7a0f_11e9_8085_8c8590cb0b95row0_col3\" class=\"data row0 col3\" >Braund, Mr. Owen Harris</td> \n",
       "        <td id=\"T_7f958df4_7a0f_11e9_8085_8c8590cb0b95row0_col4\" class=\"data row0 col4\" >male</td> \n",
       "        <td id=\"T_7f958df4_7a0f_11e9_8085_8c8590cb0b95row0_col5\" class=\"data row0 col5\" >22</td> \n",
       "        <td id=\"T_7f958df4_7a0f_11e9_8085_8c8590cb0b95row0_col6\" class=\"data row0 col6\" >1</td> \n",
       "        <td id=\"T_7f958df4_7a0f_11e9_8085_8c8590cb0b95row0_col7\" class=\"data row0 col7\" >0</td> \n",
       "        <td id=\"T_7f958df4_7a0f_11e9_8085_8c8590cb0b95row0_col8\" class=\"data row0 col8\" >A/5 21171</td> \n",
       "        <td id=\"T_7f958df4_7a0f_11e9_8085_8c8590cb0b95row0_col9\" class=\"data row0 col9\" >7.25</td> \n",
       "        <td id=\"T_7f958df4_7a0f_11e9_8085_8c8590cb0b95row0_col10\" class=\"data row0 col10\" >nan</td> \n",
       "        <td id=\"T_7f958df4_7a0f_11e9_8085_8c8590cb0b95row0_col11\" class=\"data row0 col11\" >S</td> \n",
       "    </tr>    <tr> \n",
       "        <td id=\"T_7f958df4_7a0f_11e9_8085_8c8590cb0b95row1_col0\" class=\"data row1 col0\" >2</td> \n",
       "        <td id=\"T_7f958df4_7a0f_11e9_8085_8c8590cb0b95row1_col1\" class=\"data row1 col1\" >1</td> \n",
       "        <td id=\"T_7f958df4_7a0f_11e9_8085_8c8590cb0b95row1_col2\" class=\"data row1 col2\" >1</td> \n",
       "        <td id=\"T_7f958df4_7a0f_11e9_8085_8c8590cb0b95row1_col3\" class=\"data row1 col3\" >Cumings, Mrs. John Bradley (Florence Briggs Thayer)</td> \n",
       "        <td id=\"T_7f958df4_7a0f_11e9_8085_8c8590cb0b95row1_col4\" class=\"data row1 col4\" >female</td> \n",
       "        <td id=\"T_7f958df4_7a0f_11e9_8085_8c8590cb0b95row1_col5\" class=\"data row1 col5\" >38</td> \n",
       "        <td id=\"T_7f958df4_7a0f_11e9_8085_8c8590cb0b95row1_col6\" class=\"data row1 col6\" >1</td> \n",
       "        <td id=\"T_7f958df4_7a0f_11e9_8085_8c8590cb0b95row1_col7\" class=\"data row1 col7\" >0</td> \n",
       "        <td id=\"T_7f958df4_7a0f_11e9_8085_8c8590cb0b95row1_col8\" class=\"data row1 col8\" >PC 17599</td> \n",
       "        <td id=\"T_7f958df4_7a0f_11e9_8085_8c8590cb0b95row1_col9\" class=\"data row1 col9\" >71.2833</td> \n",
       "        <td id=\"T_7f958df4_7a0f_11e9_8085_8c8590cb0b95row1_col10\" class=\"data row1 col10\" >C85</td> \n",
       "        <td id=\"T_7f958df4_7a0f_11e9_8085_8c8590cb0b95row1_col11\" class=\"data row1 col11\" >C</td> \n",
       "    </tr>    <tr> \n",
       "        <td id=\"T_7f958df4_7a0f_11e9_8085_8c8590cb0b95row2_col0\" class=\"data row2 col0\" >3</td> \n",
       "        <td id=\"T_7f958df4_7a0f_11e9_8085_8c8590cb0b95row2_col1\" class=\"data row2 col1\" >1</td> \n",
       "        <td id=\"T_7f958df4_7a0f_11e9_8085_8c8590cb0b95row2_col2\" class=\"data row2 col2\" >3</td> \n",
       "        <td id=\"T_7f958df4_7a0f_11e9_8085_8c8590cb0b95row2_col3\" class=\"data row2 col3\" >Heikkinen, Miss. Laina</td> \n",
       "        <td id=\"T_7f958df4_7a0f_11e9_8085_8c8590cb0b95row2_col4\" class=\"data row2 col4\" >female</td> \n",
       "        <td id=\"T_7f958df4_7a0f_11e9_8085_8c8590cb0b95row2_col5\" class=\"data row2 col5\" >26</td> \n",
       "        <td id=\"T_7f958df4_7a0f_11e9_8085_8c8590cb0b95row2_col6\" class=\"data row2 col6\" >0</td> \n",
       "        <td id=\"T_7f958df4_7a0f_11e9_8085_8c8590cb0b95row2_col7\" class=\"data row2 col7\" >0</td> \n",
       "        <td id=\"T_7f958df4_7a0f_11e9_8085_8c8590cb0b95row2_col8\" class=\"data row2 col8\" >STON/O2. 3101282</td> \n",
       "        <td id=\"T_7f958df4_7a0f_11e9_8085_8c8590cb0b95row2_col9\" class=\"data row2 col9\" >7.925</td> \n",
       "        <td id=\"T_7f958df4_7a0f_11e9_8085_8c8590cb0b95row2_col10\" class=\"data row2 col10\" >nan</td> \n",
       "        <td id=\"T_7f958df4_7a0f_11e9_8085_8c8590cb0b95row2_col11\" class=\"data row2 col11\" >S</td> \n",
       "    </tr>    <tr> \n",
       "        <td id=\"T_7f958df4_7a0f_11e9_8085_8c8590cb0b95row3_col0\" class=\"data row3 col0\" >4</td> \n",
       "        <td id=\"T_7f958df4_7a0f_11e9_8085_8c8590cb0b95row3_col1\" class=\"data row3 col1\" >1</td> \n",
       "        <td id=\"T_7f958df4_7a0f_11e9_8085_8c8590cb0b95row3_col2\" class=\"data row3 col2\" >1</td> \n",
       "        <td id=\"T_7f958df4_7a0f_11e9_8085_8c8590cb0b95row3_col3\" class=\"data row3 col3\" >Futrelle, Mrs. Jacques Heath (Lily May Peel)</td> \n",
       "        <td id=\"T_7f958df4_7a0f_11e9_8085_8c8590cb0b95row3_col4\" class=\"data row3 col4\" >female</td> \n",
       "        <td id=\"T_7f958df4_7a0f_11e9_8085_8c8590cb0b95row3_col5\" class=\"data row3 col5\" >35</td> \n",
       "        <td id=\"T_7f958df4_7a0f_11e9_8085_8c8590cb0b95row3_col6\" class=\"data row3 col6\" >1</td> \n",
       "        <td id=\"T_7f958df4_7a0f_11e9_8085_8c8590cb0b95row3_col7\" class=\"data row3 col7\" >0</td> \n",
       "        <td id=\"T_7f958df4_7a0f_11e9_8085_8c8590cb0b95row3_col8\" class=\"data row3 col8\" >113803</td> \n",
       "        <td id=\"T_7f958df4_7a0f_11e9_8085_8c8590cb0b95row3_col9\" class=\"data row3 col9\" >53.1</td> \n",
       "        <td id=\"T_7f958df4_7a0f_11e9_8085_8c8590cb0b95row3_col10\" class=\"data row3 col10\" >C123</td> \n",
       "        <td id=\"T_7f958df4_7a0f_11e9_8085_8c8590cb0b95row3_col11\" class=\"data row3 col11\" >S</td> \n",
       "    </tr>    <tr> \n",
       "        <td id=\"T_7f958df4_7a0f_11e9_8085_8c8590cb0b95row4_col0\" class=\"data row4 col0\" >5</td> \n",
       "        <td id=\"T_7f958df4_7a0f_11e9_8085_8c8590cb0b95row4_col1\" class=\"data row4 col1\" >0</td> \n",
       "        <td id=\"T_7f958df4_7a0f_11e9_8085_8c8590cb0b95row4_col2\" class=\"data row4 col2\" >3</td> \n",
       "        <td id=\"T_7f958df4_7a0f_11e9_8085_8c8590cb0b95row4_col3\" class=\"data row4 col3\" >Allen, Mr. William Henry</td> \n",
       "        <td id=\"T_7f958df4_7a0f_11e9_8085_8c8590cb0b95row4_col4\" class=\"data row4 col4\" >male</td> \n",
       "        <td id=\"T_7f958df4_7a0f_11e9_8085_8c8590cb0b95row4_col5\" class=\"data row4 col5\" >35</td> \n",
       "        <td id=\"T_7f958df4_7a0f_11e9_8085_8c8590cb0b95row4_col6\" class=\"data row4 col6\" >0</td> \n",
       "        <td id=\"T_7f958df4_7a0f_11e9_8085_8c8590cb0b95row4_col7\" class=\"data row4 col7\" >0</td> \n",
       "        <td id=\"T_7f958df4_7a0f_11e9_8085_8c8590cb0b95row4_col8\" class=\"data row4 col8\" >373450</td> \n",
       "        <td id=\"T_7f958df4_7a0f_11e9_8085_8c8590cb0b95row4_col9\" class=\"data row4 col9\" >8.05</td> \n",
       "        <td id=\"T_7f958df4_7a0f_11e9_8085_8c8590cb0b95row4_col10\" class=\"data row4 col10\" >nan</td> \n",
       "        <td id=\"T_7f958df4_7a0f_11e9_8085_8c8590cb0b95row4_col11\" class=\"data row4 col11\" >S</td> \n",
       "    </tr></tbody> \n",
       "</table> "
      ],
      "text/plain": [
       "<pandas.io.formats.style.Styler at 0x11ae8b4e0>"
      ]
     },
     "execution_count": 23,
     "metadata": {},
     "output_type": "execute_result"
    }
   ],
   "source": [
    "df.head().style.hide_index()"
   ]
  },
  {
   "cell_type": "markdown",
   "metadata": {},
   "source": [
    "# sparklines"
   ]
  },
  {
   "cell_type": "code",
   "execution_count": 5,
   "metadata": {},
   "outputs": [],
   "source": [
    "import numpy as np\n",
    "from sparklines import sparklines\n",
    "\n",
    "def sparkline_(x):\n",
    "    bins = np.histogram(x)[0]\n",
    "    sl = ''.join(sparklines(bins))\n",
    "    return sl"
   ]
  },
  {
   "cell_type": "code",
   "execution_count": 7,
   "metadata": {},
   "outputs": [
    {
     "name": "stderr",
     "output_type": "stream",
     "text": [
      "/Users/yutaro_ikeda/.pyenv/versions/3.6.5/lib/python3.6/site-packages/pandas/core/groupby/groupby.py:4658: FutureWarning: using a dict with renaming is deprecated and will be removed in a future version\n",
      "  return super(DataFrameGroupBy, self).aggregate(arg, *args, **kwargs)\n"
     ]
    },
    {
     "data": {
      "text/html": [
       "<div>\n",
       "<style scoped>\n",
       "    .dataframe tbody tr th:only-of-type {\n",
       "        vertical-align: middle;\n",
       "    }\n",
       "\n",
       "    .dataframe tbody tr th {\n",
       "        vertical-align: top;\n",
       "    }\n",
       "\n",
       "    .dataframe thead tr th {\n",
       "        text-align: left;\n",
       "    }\n",
       "\n",
       "    .dataframe thead tr:last-of-type th {\n",
       "        text-align: right;\n",
       "    }\n",
       "</style>\n",
       "<table border=\"1\" class=\"dataframe\">\n",
       "  <thead>\n",
       "    <tr>\n",
       "      <th></th>\n",
       "      <th colspan=\"2\" halign=\"left\">mean</th>\n",
       "      <th colspan=\"2\" halign=\"left\">hist</th>\n",
       "    </tr>\n",
       "    <tr>\n",
       "      <th></th>\n",
       "      <th>AGE</th>\n",
       "      <th>PRICE</th>\n",
       "      <th>AGE</th>\n",
       "      <th>PRICE</th>\n",
       "    </tr>\n",
       "    <tr>\n",
       "      <th>RAD</th>\n",
       "      <th></th>\n",
       "      <th></th>\n",
       "      <th></th>\n",
       "      <th></th>\n",
       "    </tr>\n",
       "  </thead>\n",
       "  <tbody>\n",
       "    <tr>\n",
       "      <th>1.0</th>\n",
       "      <td>45.025000</td>\n",
       "      <td>24.365000</td>\n",
       "      <td>▂█▇▂▄▁▄▂▄▄</td>\n",
       "      <td>▂▄█▄▂▄▁▁▁▂</td>\n",
       "    </tr>\n",
       "    <tr>\n",
       "      <th>2.0</th>\n",
       "      <td>64.770833</td>\n",
       "      <td>26.833333</td>\n",
       "      <td>▂▁█▁▁▆▄▄▄▆</td>\n",
       "      <td>▃▄█▂▃▂▄▁▂▃</td>\n",
       "    </tr>\n",
       "    <tr>\n",
       "      <th>3.0</th>\n",
       "      <td>49.310526</td>\n",
       "      <td>27.928947</td>\n",
       "      <td>▃▄▁▃██▇▁▂▄</td>\n",
       "      <td>▄█▆▆▃█▄▁▁▁</td>\n",
       "    </tr>\n",
       "    <tr>\n",
       "      <th>4.0</th>\n",
       "      <td>60.841818</td>\n",
       "      <td>21.387273</td>\n",
       "      <td>▁▃▅▂▂▂▁▁▄█</td>\n",
       "      <td>▁▄▆█▃▂▁▁▁▂</td>\n",
       "    </tr>\n",
       "    <tr>\n",
       "      <th>5.0</th>\n",
       "      <td>69.223478</td>\n",
       "      <td>25.706957</td>\n",
       "      <td>▁▁▂▃▂▂▂▂▃█</td>\n",
       "      <td>▃▄█▄▃▂▂▁▂▂</td>\n",
       "    </tr>\n",
       "    <tr>\n",
       "      <th>6.0</th>\n",
       "      <td>60.142308</td>\n",
       "      <td>20.976923</td>\n",
       "      <td>▁▃▃▃▁▄▄█▆▄</td>\n",
       "      <td>▁▁█▁▁▁█▄▄▁</td>\n",
       "    </tr>\n",
       "    <tr>\n",
       "      <th>7.0</th>\n",
       "      <td>40.141176</td>\n",
       "      <td>27.105882</td>\n",
       "      <td>█▆▁▃▄▃▁▃▆▄</td>\n",
       "      <td>▄▄█▄▆▁▄▃▁▃</td>\n",
       "    </tr>\n",
       "    <tr>\n",
       "      <th>8.0</th>\n",
       "      <td>67.350000</td>\n",
       "      <td>30.358333</td>\n",
       "      <td>▄▂▁▄▁▂██▇▇</td>\n",
       "      <td>▄▅█▅█▁▂▂▂▅</td>\n",
       "    </tr>\n",
       "    <tr>\n",
       "      <th>24.0</th>\n",
       "      <td>89.805303</td>\n",
       "      <td>16.403788</td>\n",
       "      <td>▁▁▁▁▁▁▂▃▃█</td>\n",
       "      <td>▄█▆▅▂▂▁▁▁▂</td>\n",
       "    </tr>\n",
       "  </tbody>\n",
       "</table>\n",
       "</div>"
      ],
      "text/plain": [
       "           mean                   hist            \n",
       "            AGE      PRICE         AGE       PRICE\n",
       "RAD                                               \n",
       "1.0   45.025000  24.365000  ▂█▇▂▄▁▄▂▄▄  ▂▄█▄▂▄▁▁▁▂\n",
       "2.0   64.770833  26.833333  ▂▁█▁▁▆▄▄▄▆  ▃▄█▂▃▂▄▁▂▃\n",
       "3.0   49.310526  27.928947  ▃▄▁▃██▇▁▂▄  ▄█▆▆▃█▄▁▁▁\n",
       "4.0   60.841818  21.387273  ▁▃▅▂▂▂▁▁▄█  ▁▄▆█▃▂▁▁▁▂\n",
       "5.0   69.223478  25.706957  ▁▁▂▃▂▂▂▂▃█  ▃▄█▄▃▂▂▁▂▂\n",
       "6.0   60.142308  20.976923  ▁▃▃▃▁▄▄█▆▄  ▁▁█▁▁▁█▄▄▁\n",
       "7.0   40.141176  27.105882  █▆▁▃▄▃▁▃▆▄  ▄▄█▄▆▁▄▃▁▃\n",
       "8.0   67.350000  30.358333  ▄▂▁▄▁▂██▇▇  ▄▅█▅█▁▂▂▂▅\n",
       "24.0  89.805303  16.403788  ▁▁▁▁▁▁▂▃▃█  ▄█▆▅▂▂▁▁▁▂"
      ]
     },
     "execution_count": 7,
     "metadata": {},
     "output_type": "execute_result"
    }
   ],
   "source": [
    "df.groupby('RAD')[['AGE', 'PRICE']].agg({'mean': \"mean\", 'hist': sparkline_})"
   ]
  },
  {
   "cell_type": "code",
   "execution_count": null,
   "metadata": {},
   "outputs": [],
   "source": []
  },
  {
   "cell_type": "code",
   "execution_count": null,
   "metadata": {},
   "outputs": [],
   "source": []
  },
  {
   "cell_type": "code",
   "execution_count": null,
   "metadata": {},
   "outputs": [],
   "source": []
  },
  {
   "cell_type": "code",
   "execution_count": null,
   "metadata": {},
   "outputs": [],
   "source": []
  },
  {
   "cell_type": "code",
   "execution_count": null,
   "metadata": {},
   "outputs": [],
   "source": []
  }
 ],
 "metadata": {
  "kernelspec": {
   "display_name": "Python 3",
   "language": "python",
   "name": "python3"
  },
  "language_info": {
   "codemirror_mode": {
    "name": "ipython",
    "version": 3
   },
   "file_extension": ".py",
   "mimetype": "text/x-python",
   "name": "python",
   "nbconvert_exporter": "python",
   "pygments_lexer": "ipython3",
   "version": "3.6.5"
  }
 },
 "nbformat": 4,
 "nbformat_minor": 2
}
