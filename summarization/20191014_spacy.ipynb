{
 "cells": [
  {
   "cell_type": "code",
   "execution_count": 4,
   "metadata": {},
   "outputs": [],
   "source": [
    "import spacy\n",
    "nlp = spacy.load('ja_ginza')"
   ]
  },
  {
   "cell_type": "code",
   "execution_count": 6,
   "metadata": {},
   "outputs": [],
   "source": []
  },
  {
   "cell_type": "code",
   "execution_count": null,
   "metadata": {},
   "outputs": [],
   "source": []
  },
  {
   "cell_type": "code",
   "execution_count": 7,
   "metadata": {},
   "outputs": [
    {
     "name": "stdout",
     "output_type": "stream",
     "text": [
      "0 依存 依存 NOUN 名詞-普通名詞-サ変可能 compound 2\n",
      "1 構造 構造 NOUN 名詞-普通名詞-一般 compound 2\n",
      "2 解析 解析 NOUN 名詞-普通名詞-サ変可能 nmod 4\n",
      "3 の の ADP 助詞-格助詞 case 2\n",
      "4 実験 実験 NOUN 名詞-普通名詞-サ変可能 obj 6\n",
      "5 を を ADP 助詞-格助詞 case 4\n",
      "6 行っ 行う VERB 動詞-一般 ROOT 6\n",
      "7 て て SCONJ 助詞-接続助詞 mark 6\n",
      "8 い 居る AUX 動詞-非自立可能 aux 6\n",
      "9 ます ます AUX 助動詞 aux 6\n",
      "10 。 。 PUNCT 補助記号-句点 punct 6\n",
      "EOS\n"
     ]
    }
   ],
   "source": [
    "doc = nlp('依存構造解析の実験を行っています。')\n",
    "for sent in doc.sents:\n",
    "    for token in sent:\n",
    "        print(token.i, token.orth_, token.lemma_, token.pos_, token.tag_, token.dep_, token.head.i)\n",
    "    print('EOS')"
   ]
  },
  {
   "cell_type": "code",
   "execution_count": null,
   "metadata": {},
   "outputs": [],
   "source": []
  }
 ],
 "metadata": {
  "kernelspec": {
   "display_name": "Python 3",
   "language": "python",
   "name": "python3"
  },
  "language_info": {
   "codemirror_mode": {
    "name": "ipython",
    "version": 3
   },
   "file_extension": ".py",
   "mimetype": "text/x-python",
   "name": "python",
   "nbconvert_exporter": "python",
   "pygments_lexer": "ipython3",
   "version": "3.7.0"
  }
 },
 "nbformat": 4,
 "nbformat_minor": 2
}
