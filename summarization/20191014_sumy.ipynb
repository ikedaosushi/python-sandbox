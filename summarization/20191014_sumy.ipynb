{
 "cells": [
  {
   "cell_type": "code",
   "execution_count": 78,
   "metadata": {},
   "outputs": [],
   "source": [
    "from sumy.parsers.html import HtmlParser\n",
    "from sumy.parsers.plaintext import PlaintextParser\n",
    "from sumy.nlp.tokenizers import Tokenizer\n",
    "from sumy.summarizers.lsa import LsaSummarizer\n",
    "from sumy.summarizers.lex_rank import LexRankSummarizer\n",
    "from sumy.nlp.stemmers import Stemmer\n",
    "from sumy.utils import get_stop_words"
   ]
  },
  {
   "cell_type": "markdown",
   "metadata": {},
   "source": [
    "# punktのダウンロード"
   ]
  },
  {
   "cell_type": "code",
   "execution_count": 2,
   "metadata": {},
   "outputs": [],
   "source": [
    "# import nltk; nltk.download('punkt')"
   ]
  },
  {
   "cell_type": "markdown",
   "metadata": {},
   "source": [
    "# English"
   ]
  },
  {
   "cell_type": "code",
   "execution_count": 3,
   "metadata": {},
   "outputs": [
    {
     "name": "stdout",
     "output_type": "stream",
     "text": [
      "In contrast, abstractive methods build an internal semantic representation and then use natural language generation techniques to create a summary that is closer to what a human might express.\n",
      "Some techniques and algorithms which naturally model summarization problems are TextRank and PageRank, Submodular set function , Determinantal point process , maximal marginal relevance (MMR) etc.\n",
      "\"The Army Corps of Engineers, rushing to meet President Bush's promise to protect New Orleans by the start of the 2006 hurricane season, installed defective flood-control pumps last year despite warnings from its own expert that the equipment would fail during a storm, according to documents obtained by The Associated Press\".\n",
      "Although the system exhibited good results, the researchers wanted to explore the effectiveness of a maximum entropy (ME) classifier for the meeting summarization task, as ME is known to be robust against feature dependencies.\n",
      "Automatic summaries present information extracted from multiple sources algorithmically, without any editorial touch or subjective human intervention, thus making it completely unbiased.\n",
      "LexRank deals with diversity as a heuristic final stage using CSIS, and other systems have used similar methods, such as Maximal Marginal Relevance (MMR), [10] in trying to eliminate redundancy in information retrieval results.\n",
      "There is a general purpose graph-based ranking algorithm like Page/Lex/TextRank that handles both \"centrality\" and \"diversity\" in a unified mathematical framework based on absorbing Markov chain random walks.\n",
      "^ Rada Mihalcea and Paul Tarau, 2004: TextRank: Bringing Order into Texts , Department of Computer Science University of North Texas \"Archived copy\" (PDF) .\n",
      "^ Sebastian Tschiatschek, Rishabh Iyer, Hoachen Wei and Jeff Bilmes, Learning Mixtures of Submodular Functions for Image Collection Summarization , In Advances of Neural Information Processing Systems (NIPS), Montreal, Canada, December - 2014.\n",
      ", Published in Proceeding RIAO'10 Adaptivity, Personalization and Fusion of Heterogeneous Information, CID Paris, France Xiaojin, Zhu, Andrew Goldberg, Jurgen Van Gael, and David Andrzejewski (2007).\n"
     ]
    }
   ],
   "source": [
    "LANGUAGE = \"english\"\n",
    "SENTENCES_COUNT = 10\n",
    "\n",
    "url = \"https://en.wikipedia.org/wiki/Automatic_summarization\"\n",
    "parser = HtmlParser.from_url(url, Tokenizer(LANGUAGE))\n",
    "# or for plain text files\n",
    "# parser = PlaintextParser.from_file(\"document.txt\", Tokenizer(LANGUAGE))\n",
    "stemmer = Stemmer(LANGUAGE)\n",
    "\n",
    "summarizer = Summarizer(stemmer)\n",
    "summarizer.stop_words = get_stop_words(LANGUAGE)\n",
    "\n",
    "for sentence in summarizer(parser.document, SENTENCES_COUNT):\n",
    "    print(sentence)"
   ]
  },
  {
   "cell_type": "markdown",
   "metadata": {},
   "source": [
    "# 日本語"
   ]
  },
  {
   "cell_type": "code",
   "execution_count": 190,
   "metadata": {},
   "outputs": [],
   "source": [
    "import spacy\n",
    "nlp = spacy.load('ja_ginza')"
   ]
  },
  {
   "cell_type": "code",
   "execution_count": 11,
   "metadata": {},
   "outputs": [],
   "source": [
    "from requests_html import HTMLSession"
   ]
  },
  {
   "cell_type": "code",
   "execution_count": 140,
   "metadata": {},
   "outputs": [],
   "source": [
    "import re\n",
    "import tinysegmenter"
   ]
  },
  {
   "cell_type": "code",
   "execution_count": 12,
   "metadata": {},
   "outputs": [],
   "source": [
    "sess = HTMLSession()"
   ]
  },
  {
   "cell_type": "code",
   "execution_count": 141,
   "metadata": {},
   "outputs": [],
   "source": [
    "url = \"https://ja.wikipedia.org/wiki/%E3%83%8E%E3%82%B9%E3%83%88%E3%83%A9%E3%83%80%E3%83%A0%E3%82%B9\""
   ]
  },
  {
   "cell_type": "code",
   "execution_count": 142,
   "metadata": {},
   "outputs": [],
   "source": [
    "resp = sess.get(url)"
   ]
  },
  {
   "cell_type": "code",
   "execution_count": 143,
   "metadata": {},
   "outputs": [],
   "source": [
    "text = resp.html.find(\"body\", first=True).text"
   ]
  },
  {
   "cell_type": "code",
   "execution_count": 164,
   "metadata": {},
   "outputs": [],
   "source": [
    "test_text = \"\"\"\n",
    "この説は、後にノストラダムスの秘書となったジャン＝エメ・ド・シャヴィニーによるものだが[17]、史料による確認が取れず、ノストラダムス自身が後の私信で、医学と判断占星術の研究歴を1521年頃から起算していることとも整合していない[18]ためである。\n",
    "\"\"\""
   ]
  },
  {
   "cell_type": "code",
   "execution_count": 171,
   "metadata": {},
   "outputs": [
    {
     "data": {
      "text/plain": [
       "[\n",
       " この説は、後にノストラダムスの秘書となったジャン＝エメ・ド・シャヴィニーによるものだが[,\n",
       " 17]、史料による確認が取れず、ノストラダムス自身が後の私信で、医学と判断占星術の研究歴を1521年頃から起算していることとも整合していない[18,\n",
       " ]ためである。]"
      ]
     },
     "execution_count": 171,
     "metadata": {},
     "output_type": "execute_result"
    }
   ],
   "source": [
    "[s for s in nlp(test_text).sents]"
   ]
  },
  {
   "cell_type": "code",
   "execution_count": 181,
   "metadata": {},
   "outputs": [],
   "source": [
    "text = re.sub(\"\\[.+\\]\", \"\", text)\n",
    "text = re.sub(\"-\", \"\", text)"
   ]
  },
  {
   "cell_type": "code",
   "execution_count": 183,
   "metadata": {},
   "outputs": [],
   "source": [
    "doc = nlp(text)"
   ]
  },
  {
   "cell_type": "code",
   "execution_count": 184,
   "metadata": {},
   "outputs": [],
   "source": [
    "corpus = []\n",
    "originals = []\n",
    "\n",
    "for s in doc.sents:\n",
    "    originals.append(s)\n",
    "    tokens = [t.lemma_ for t in s]\n",
    "    corpus.append(' '.join(tokens))"
   ]
  },
  {
   "cell_type": "code",
   "execution_count": 185,
   "metadata": {},
   "outputs": [
    {
     "data": {
      "text/plain": [
       "[ノストラダムス 出典: フリー百科事典,\n",
       " 『ウィキペディア（Wikipedia）』 ナビゲーションに移動 検索に移動,\n",
       " この項目では、ルネサンス期フランスの人物について説明しています。,\n",
       " その他の用法については「ノストラダムス (曖昧さ回避)」をご覧ください。,\n",
       " ミシェル・ド・ノートルダム Michel de Nostredame ノストラダムスの肖像画（1614年頃）,\n",
       " ペンネーム ノストラダムス Nostradamus 誕生,\n",
       " 1503年12月14日 サン＝レミ＝ド＝プロヴァンス 死没 (15660702) 1566年7月2日（62歳没）,\n",
       " サロン＝ド＝プロヴァンス 職業 医師,\n",
       " 占星術師 詩人 料理,\n",
       " 研究家 国籍 フランス ジャンル 詩 予言]"
      ]
     },
     "execution_count": 185,
     "metadata": {},
     "output_type": "execute_result"
    }
   ],
   "source": [
    "originals[:10]"
   ]
  },
  {
   "cell_type": "code",
   "execution_count": 186,
   "metadata": {},
   "outputs": [
    {
     "data": {
      "text/plain": [
       "['ノストラダムス 出典 ： フリー 百科事典',\n",
       " '『 ウィキペディア （ ウィキペディア ） 』 ナビゲーション に 移動 検索 に 移動',\n",
       " '此の 項目 で は 、 ルネサンス 期 フランス の 人物 に つく て 説明 為る て 居る ます 。',\n",
       " '其の 他 の 用法 に つく て は 「 ノストラダムス （ 曖昧 さ 回避 ） 」 を 御覧 下さる 。',\n",
       " 'ミシェール ・ ド ・ ノートル・ダム ミヒエル デ nostredame ノストラダムス の 肖像画 （ 1614 年 頃 ）',\n",
       " 'ペンネーム ノストラダムス nostradamus 誕生',\n",
       " '1503 年 12 月 14 日 サン ＝ レミー ＝ ド ＝ プロバンス 死没 （ 15660702 ） 1566 年 7 月 2 日 （ 62 歳 没 ）',\n",
       " 'サロン ＝ ド ＝ プロバンス 職業 医師',\n",
       " '占星 術師 詩人 料理',\n",
       " '研究家 国籍 フランス ジャンル 詩 予言']"
      ]
     },
     "execution_count": 186,
     "metadata": {},
     "output_type": "execute_result"
    }
   ],
   "source": [
    "corpus[:10]"
   ]
  },
  {
   "cell_type": "code",
   "execution_count": 188,
   "metadata": {},
   "outputs": [],
   "source": [
    "# 連結したcorpusを再度tinysegmenterでトークナイズさせる\n",
    "string = ''.join(corpus)\n",
    "parser = PlaintextParser.from_string(string, Tokenizer('japanese'))"
   ]
  },
  {
   "cell_type": "code",
   "execution_count": 189,
   "metadata": {},
   "outputs": [
    {
     "name": "stdout",
     "output_type": "stream",
     "text": [
      "現代では、しばしばこれがノストラダムスの予言通りであったとして大いに話題になったとされるが、現在的中例として有名な詩が取り沙汰されたのは、実際には17世紀に入ってからのことであった。\n",
      "これも医師としての著作と言えるが、内容的には、医学的というより哲学的であるとも指摘されている。\n",
      "カトリーヌの書簡は19世紀にまとめて出版されているが、その中にもこれへの返書が含まれていないからである。\n",
      "1964年に製作されたが、サロン＝ド＝プロヴァンスに現在飾られているものは1999年に復元されたものである。\n",
      "1555年5月4日  『ミシェル・ノストラダムス師の予言集』の初版を刊行する。\n",
      "1557年9月6日  『予言集』の増補版を刊行する。\n",
      "1561年頃  パリで『予言集』の海賊版が刊行される。\n",
      "^ ノストラダムスの最初の結婚について語っている同時代の証言はシャヴィニーの伝記しかないが、彼は家族の死因については何も語っていない。\n",
      "^ これを1556年7月としている文献も多い。\n",
      "^ この時期は確定できていないが、息子セザールの証言通りアルルでのことだったのなら、1564年11月16日から12月17日の間だったことになる。\n"
     ]
    }
   ],
   "source": [
    "summarizer = LexRankSummarizer()\n",
    "summarizer.stop_words = [' ']  # スペースも1単語として認識されるため、ストップワードにすることで除外する\n",
    "\n",
    "# sentencres_countに要約後の文の数を指定します。\n",
    "summary = summarizer(document=parser.document, sentences_count=10)\n",
    "\n",
    "# 元の文を表示\n",
    "for sentence in summary:\n",
    "    print(originals[corpus.index(str(sentence))])"
   ]
  },
  {
   "cell_type": "code",
   "execution_count": null,
   "metadata": {},
   "outputs": [],
   "source": []
  },
  {
   "cell_type": "code",
   "execution_count": null,
   "metadata": {},
   "outputs": [],
   "source": []
  },
  {
   "cell_type": "code",
   "execution_count": null,
   "metadata": {},
   "outputs": [],
   "source": []
  },
  {
   "cell_type": "code",
   "execution_count": null,
   "metadata": {},
   "outputs": [],
   "source": []
  },
  {
   "cell_type": "code",
   "execution_count": null,
   "metadata": {},
   "outputs": [],
   "source": []
  },
  {
   "cell_type": "code",
   "execution_count": null,
   "metadata": {},
   "outputs": [],
   "source": []
  },
  {
   "cell_type": "code",
   "execution_count": null,
   "metadata": {},
   "outputs": [],
   "source": []
  }
 ],
 "metadata": {
  "kernelspec": {
   "display_name": "Python 3",
   "language": "python",
   "name": "python3"
  },
  "language_info": {
   "codemirror_mode": {
    "name": "ipython",
    "version": 3
   },
   "file_extension": ".py",
   "mimetype": "text/x-python",
   "name": "python",
   "nbconvert_exporter": "python",
   "pygments_lexer": "ipython3",
   "version": "3.7.0"
  }
 },
 "nbformat": 4,
 "nbformat_minor": 2
}
