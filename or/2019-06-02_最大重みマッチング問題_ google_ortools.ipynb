{
 "cells": [
  {
   "cell_type": "code",
   "execution_count": 2,
   "metadata": {},
   "outputs": [
    {
     "name": "stdout",
     "output_type": "stream",
     "text": [
      "Requirement already up-to-date: ortools in /Users/yutaro_ikeda/.pyenv/versions/3.6.5/lib/python3.6/site-packages (7.1.6720)\n",
      "Requirement already satisfied, skipping upgrade: six>=1.10 in /Users/yutaro_ikeda/.pyenv/versions/3.6.5/lib/python3.6/site-packages (from ortools) (1.11.0)\n",
      "Requirement already satisfied, skipping upgrade: protobuf>=3.7.1 in /Users/yutaro_ikeda/.pyenv/versions/3.6.5/lib/python3.6/site-packages (from ortools) (3.8.0)\n",
      "Requirement already satisfied, skipping upgrade: setuptools in /Users/yutaro_ikeda/.pyenv/versions/3.6.5/lib/python3.6/site-packages (from protobuf>=3.7.1->ortools) (39.0.1)\n"
     ]
    }
   ],
   "source": [
    "%%bash\n",
    "pip install -U ortools"
   ]
  },
  {
   "cell_type": "code",
   "execution_count": 3,
   "metadata": {},
   "outputs": [],
   "source": [
    "from ortools.graph import pywrapgraph"
   ]
  },
  {
   "cell_type": "code",
   "execution_count": 24,
   "metadata": {},
   "outputs": [
    {
     "name": "stdout",
     "output_type": "stream",
     "text": [
      "Total point: 380\n",
      "\n",
      "Speaker 0 assigned to Schedule 0 (Point: 90)\n",
      "Speaker 1 assigned to Schedule 1 (Point: 85)\n",
      "Speaker 2 assigned to Schedule 2 (Point: 90)\n",
      "Speaker 3 assigned to Schedule 3 (Point: 115)\n"
     ]
    }
   ],
   "source": [
    "points = [\n",
    "    [90, 76, 75, 70],\n",
    "    [35, 85, 55, 65],\n",
    "    [125, 95, 90, 105],\n",
    "    [45, 110, 95, 115]\n",
    "]\n",
    "max_points = max(max(points))\n",
    "points = [[max_points - v for v in row] for row in points]\n",
    "\n",
    "assignment = pywrapgraph.LinearSumAssignment()\n",
    "for speaker_idx in range(len(points)):\n",
    "    for schedule_idx in range(len(points[0])):\n",
    "        point = points[speaker_idx][schedule_idx]\n",
    "        if point:\n",
    "            assignment.AddArcWithCost(speaker_idx, schedule_idx, point)\n",
    "            \n",
    "solve_status = assignment.Solve()\n",
    "if solve_status == assignment.OPTIMAL:\n",
    "    print(f'Total point: {max_points * 4 - assignment.OptimalCost()}', )\n",
    "    print()\n",
    "    for i in range(0, assignment.NumNodes()):\n",
    "        print(f\"Speaker {i} assigned to Schedule {assignment.RightMate(i)}\", end=\" \")\n",
    "        print(f\"(Point: {max_points - assignment.AssignmentCost(i)})\")\n",
    "elif solve_status == assignment.INFEASIBLE:\n",
    "    print(\"No assignment is possible.\")\n",
    "elif solve_status == assignment.POSSIBLE_OVERFLOW:\n",
    "    print(\"Some input costs are too large and may cause an integer overflow.\")"
   ]
  },
  {
   "cell_type": "code",
   "execution_count": 15,
   "metadata": {},
   "outputs": [
    {
     "name": "stdout",
     "output_type": "stream",
     "text": [
      "Total cost =  276\n",
      "\n",
      "Speaker 0 assigned to Schedule 1 (Cost = 76)\n",
      "Speaker 1 assigned to Schedule 3 (Cost = 65)\n",
      "Speaker 2 assigned to Schedule 2 (Cost = 90)\n",
      "Speaker 3 assigned to Schedule 0 (Cost = 45)\n"
     ]
    }
   ],
   "source": [
    "points = [\n",
    "    [90, 76, 75, \"NA\"],\n",
    "    [35, 85, 55, 65],\n",
    "    [125, \"NA\", 90, 105],\n",
    "    [45, 110, 95, 115]\n",
    "]\n",
    "\n",
    "assignment = pywrapgraph.LinearSumAssignment()\n",
    "for speaker_idx in range(len(points)):\n",
    "    for schedule_idx in range(len(points[0])):\n",
    "        point = points[speaker_idx][schedule_idx]\n",
    "        if point and point != \"NA\":\n",
    "            assignment.AddArcWithCost(speaker_idx, schedule_idx, point)\n",
    "            \n",
    "solve_status = assignment.Solve()\n",
    "if solve_status == assignment.OPTIMAL:\n",
    "    print('Total cost = ', assignment.OptimalCost())\n",
    "    print()\n",
    "    for i in range(0, assignment.NumNodes()):\n",
    "        print(f\"Speaker {i} assigned to Schedule {assignment.RightMate(i)}\", end=\" \")\n",
    "        print(f\"(Cost = {assignment.AssignmentCost(i)})\")\n",
    "elif solve_status == assignment.INFEASIBLE:\n",
    "    print(\"No assignment is possible.\")\n",
    "elif solve_status == assignment.POSSIBLE_OVERFLOW:\n",
    "    print(\"Some input costs are too large and may cause an integer overflow.\")"
   ]
  }
 ],
 "metadata": {
  "kernelspec": {
   "display_name": "Python 3",
   "language": "python",
   "name": "python3"
  },
  "language_info": {
   "codemirror_mode": {
    "name": "ipython",
    "version": 3
   },
   "file_extension": ".py",
   "mimetype": "text/x-python",
   "name": "python",
   "nbconvert_exporter": "python",
   "pygments_lexer": "ipython3",
   "version": "3.6.5"
  }
 },
 "nbformat": 4,
 "nbformat_minor": 2
}
