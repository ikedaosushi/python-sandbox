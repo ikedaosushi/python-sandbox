{
 "cells": [
  {
   "cell_type": "code",
   "execution_count": 5,
   "metadata": {},
   "outputs": [],
   "source": [
    "# from pulp import *\n",
    "from pulp import LpProblem, LpMaximize, LpVariable, LpInteger, LpStatus, lpSum, value"
   ]
  },
  {
   "cell_type": "code",
   "execution_count": 6,
   "metadata": {},
   "outputs": [
    {
     "name": "stdout",
     "output_type": "stream",
     "text": [
      "Optimal\n",
      "e_1_3: 1.0\n",
      "e_2_1: 1.0\n",
      "e_3_2: 1.0\n",
      "e_3_4: 1.0\n",
      "1.6\n"
     ]
    }
   ],
   "source": [
    "from_nodes = [1, 2, 3]\n",
    "to_nodes = [1, 2, 3, 4]\n",
    "ucap = {1: 1, 2: 2, 3: 2}\n",
    "vcap = {1: 1, 2: 1, 3: 1, 4: 1}\n",
    "\n",
    "prob = LpProblem(\"WBM Problem\", LpMaximize)\n",
    "choices = LpVariable.dicts(\"e\", (from_nodes, to_nodes), 0, 1, LpInteger)\n",
    "\n",
    "wt = {\n",
    "    1: {1: 0.5, 2: 0, 3: 0.3, 4: 0},\n",
    "    2: {1: 0.4, 2: 0, 3: 0, 4: 0.1},\n",
    "    3: {1: 0, 2: 0.7, 3: 0, 4: 0.2}\n",
    "}\n",
    "\n",
    "objective = []\n",
    "for u in from_nodes:\n",
    "    for v in to_nodes:\n",
    "        objective.append(wt[u][v] * choices[u][v])\n",
    "\n",
    "prob += lpSum(objective), \"\"\n",
    "\n",
    "for u in from_nodes:\n",
    "    prob += lpSum([choices[u][v] for v in to_nodes]) <= ucap[u], \"\"\n",
    "\n",
    "for v in to_nodes:\n",
    "    prob += lpSum([choices[u][v] for u in from_nodes]) <= vcap[v], \"\"\n",
    "\n",
    "prob.writeLP(\"WBM.lp\")\n",
    "\n",
    "# The problem is solved using PuLP's choice of Solver\n",
    "prob.solve()\n",
    "\n",
    "# The status of the solution is printed to the screen\n",
    "print(LpStatus[prob.status])\n",
    "\n",
    "for v in prob.variables():\n",
    "    if v.varValue:\n",
    "        print(f'{v.name}: {v.varValue}')\n",
    "\n",
    "print(f\"{value(prob.objective):.1f}\")"
   ]
  },
  {
   "cell_type": "code",
   "execution_count": 7,
   "metadata": {},
   "outputs": [],
   "source": [
    "import networkx as nx\n",
    "import matplotlib.pyplot as plt"
   ]
  },
  {
   "cell_type": "code",
   "execution_count": 19,
   "metadata": {},
   "outputs": [
    {
     "data": {
      "image/png": "[encoded data removed]",
      "text/plain": [
       "<Figure size 432x288 with 1 Axes>"
      ]
     },
     "metadata": {},
     "output_type": "display_data"
    }
   ],
   "source": [
    "graph = nx.Graph()\n",
    "for v in prob.variables():\n",
    "    if v.value():\n",
    "        _, u, v = v.name.split(\"_\")\n",
    "        graph.add_edge('u_'+ str(u), 'v_' + str(v))\n",
    "        \n",
    "pos = {}\n",
    "for i, n in enumerate(graph.nodes()):\n",
    "    x = 0 if 'u' in n else 1 #u:0, v:1\n",
    "    pos[n] = (x,i)\n",
    "    \n",
    "    \n",
    "pos_labels = {}\n",
    "for k, v in pos.items():\n",
    "    pos_labels[k] = (v[0], v[1]+1)\n",
    "\n",
    "nx.draw_networkx(graph, pos, edge_color=\"blue\", font_size=20, alpha=0.5, width=3)\n",
    "# nx.draw_networkx_labels(graph, pos_labels, labels)\n",
    "\n",
    "plt.axis('off')\n",
    "plt.show() "
   ]
  },
  {
   "cell_type": "markdown",
   "metadata": {},
   "source": [
    "# Ref\n",
    "- [python - Solving a Maximum weight bipartite b-matching - Stack Overflow](https://stackoverflow.com/questions/50908267/solving-a-maximum-weight-bipartite-b-matching)"
   ]
  }
 ],
 "metadata": {
  "kernelspec": {
   "display_name": "Python 3",
   "language": "python",
   "name": "python3"
  },
  "language_info": {
   "codemirror_mode": {
    "name": "ipython",
    "version": 3
   },
   "file_extension": ".py",
   "mimetype": "text/x-python",
   "name": "python",
   "nbconvert_exporter": "python",
   "pygments_lexer": "ipython3",
   "version": "3.6.5"
  }
 },
 "nbformat": 4,
 "nbformat_minor": 2
}
