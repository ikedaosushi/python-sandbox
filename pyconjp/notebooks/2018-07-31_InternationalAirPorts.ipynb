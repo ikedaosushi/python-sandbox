{
 "cells": [
  {
   "cell_type": "code",
   "execution_count": 1,
   "metadata": {},
   "outputs": [],
   "source": [
    "from requests_html import HTMLSession\n",
    "import pandas as pd"
   ]
  },
  {
   "cell_type": "markdown",
   "metadata": {},
   "source": [
    "## アメリカ以外"
   ]
  },
  {
   "cell_type": "code",
   "execution_count": 2,
   "metadata": {},
   "outputs": [],
   "source": [
    "url = 'https://ja.wikipedia.org/wiki/%E5%9B%BD%E9%9A%9B%E7%A9%BA%E6%B8%AF%E3%81%AE%E4%B8%80%E8%A6%A7'"
   ]
  },
  {
   "cell_type": "code",
   "execution_count": 3,
   "metadata": {},
   "outputs": [],
   "source": [
    "session = HTMLSession()\n",
    "r = session.get(url)"
   ]
  },
  {
   "cell_type": "code",
   "execution_count": 4,
   "metadata": {},
   "outputs": [],
   "source": [
    "tables = r.html.find('.mw-parser-output .wikitable')"
   ]
  },
  {
   "cell_type": "code",
   "execution_count": 5,
   "metadata": {},
   "outputs": [],
   "source": [
    "headlines = r.html.find('.mw-parser-output .mw-headline')"
   ]
  },
  {
   "cell_type": "code",
   "execution_count": 6,
   "metadata": {},
   "outputs": [],
   "source": [
    "remove_names = ['アメリカ合衆国', 'フランス', 'アンドラ', 'サンマリノ', 'バチカン', 'リヒテンシュタイン', '関連項目']\n",
    "ext_headlines = []\n",
    "for h in headlines:\n",
    "    if len(h.text)==1:\n",
    "        continue\n",
    "    \n",
    "    if h.text in remove_names:\n",
    "        continue\n",
    "    \n",
    "    ext_headlines.append(h)\n",
    "#     print(h.text)"
   ]
  },
  {
   "cell_type": "code",
   "execution_count": 7,
   "metadata": {},
   "outputs": [
    {
     "name": "stdout",
     "output_type": "stream",
     "text": [
      "199\n",
      "199\n"
     ]
    }
   ],
   "source": [
    "print(len(tables))\n",
    "print(len(ext_headlines))"
   ]
  },
  {
   "cell_type": "code",
   "execution_count": 8,
   "metadata": {},
   "outputs": [],
   "source": [
    "infos = []\n",
    "\n",
    "for table, country in zip(tables, ext_headlines):\n",
    "    country_name = country.text\n",
    "    trs = table.find('tr')[1:]\n",
    "    for tr in trs:\n",
    "        th = tr.find('th', first=True)\n",
    "        tds = tr.find('td')\n",
    "\n",
    "        ja_name = th.text\n",
    "        en_name = tds[0].text\n",
    "        area_name = tds[2].text\n",
    "        iata = tds[3].text\n",
    "        icao = tds[4].text\n",
    "        \n",
    "        info = [country_name, ja_name, en_name, area_name, iata, icao]\n",
    "        infos.append(info)"
   ]
  },
  {
   "cell_type": "code",
   "execution_count": 70,
   "metadata": {},
   "outputs": [],
   "source": [
    "df = pd.DataFrame(infos)"
   ]
  },
  {
   "cell_type": "markdown",
   "metadata": {},
   "source": [
    "## アメリカ"
   ]
  },
  {
   "cell_type": "code",
   "execution_count": 73,
   "metadata": {},
   "outputs": [],
   "source": [
    "url = 'https://ja.wikipedia.org/wiki/%E3%82%A2%E3%83%A1%E3%83%AA%E3%82%AB%E5%90%88%E8%A1%86%E5%9B%BD%E3%81%AE%E7%A9%BA%E6%B8%AF%E3%81%AE%E4%B8%80%E8%A6%A7'\n",
    "r = session.get(url)"
   ]
  },
  {
   "cell_type": "code",
   "execution_count": 97,
   "metadata": {},
   "outputs": [],
   "source": [
    "tables = r.html.find(\"table[border='0']\")"
   ]
  },
  {
   "cell_type": "code",
   "execution_count": 90,
   "metadata": {},
   "outputs": [],
   "source": [
    "headlines = r.html.find('.mw-headline')"
   ]
  },
  {
   "cell_type": "code",
   "execution_count": 101,
   "metadata": {},
   "outputs": [],
   "source": [
    "rm_headline = ['注釈', '参考文献', 'デラウェア州']\n",
    "ext_headlines = []\n",
    "for h in headlines:\n",
    "    if h.text in rm_headline:\n",
    "        continue\n",
    "        \n",
    "    ext_headlines.append(h)"
   ]
  },
  {
   "cell_type": "code",
   "execution_count": 103,
   "metadata": {},
   "outputs": [],
   "source": [
    "infos = []\n",
    "country_name = 'アメリカ合衆国'\n",
    "for table, headline in zip(tables, headlines):\n",
    "    trs = table.find('tr')[1:]\n",
    "    area_name = headline.text\n",
    "    for tr in trs:\n",
    "        tds = tr.find('td')\n",
    "        ja_name = tds[0].text\n",
    "        iata = tds[1].text\n",
    "        icao = tds[2].text\n",
    "        en_name = tds[3].text\n",
    "        \n",
    "        info =  [country_name, ja_name, en_name, area_name, iata, icao]\n",
    "        infos.append(info)"
   ]
  },
  {
   "cell_type": "markdown",
   "metadata": {},
   "source": [
    "## 結合"
   ]
  },
  {
   "cell_type": "code",
   "execution_count": 104,
   "metadata": {},
   "outputs": [],
   "source": [
    "df_us = pd.DataFrame(infos)\n",
    "df_all = pd.concat([df, df_us])\n",
    "df_all.columns = ['country_name', 'ja_name', 'en_name', 'area_name', 'iata', 'icao']"
   ]
  },
  {
   "cell_type": "code",
   "execution_count": 116,
   "metadata": {},
   "outputs": [],
   "source": [
    "df_all.to_clipboard(sep='-')"
   ]
  }
 ],
 "metadata": {
  "kernelspec": {
   "display_name": "Python 3",
   "language": "python",
   "name": "python3"
  },
  "language_info": {
   "codemirror_mode": {
    "name": "ipython",
    "version": 3
   },
   "file_extension": ".py",
   "mimetype": "text/x-python",
   "name": "python",
   "nbconvert_exporter": "python",
   "pygments_lexer": "ipython3",
   "version": "3.6.5"
  }
 },
 "nbformat": 4,
 "nbformat_minor": 2
}
