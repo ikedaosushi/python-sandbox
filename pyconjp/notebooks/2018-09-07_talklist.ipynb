{
 "cells": [
  {
   "cell_type": "code",
   "execution_count": 25,
   "metadata": {},
   "outputs": [
    {
     "name": "stdout",
     "output_type": "stream",
     "text": [
      "The autoreload extension is already loaded. To reload it, use:\n",
      "  %reload_ext autoreload\n"
     ]
    }
   ],
   "source": [
    "%load_ext autoreload\n",
    "%autoreload 2\n",
    "%matplotlib inline\n",
    "from IPython.display import Image\n",
    "\n",
    "import os, sys, re, datetime\n",
    "from pathlib import Path\n",
    "\n",
    "pj_dir = Path(os.getcwd()).parents[0]\n",
    "data_dir = pj_dir/'data'\n",
    "img_dir = pj_dir/'images'\n",
    "src_dir = pj_dir/'src'\n",
    "sys.path.append(str(src_dir))\n",
    "\n",
    "from matplotlib import pyplot as plt\n",
    "plt.style.use(\"bmh\")\n",
    "import numpy as np\n",
    "import pandas as pd\n",
    "import dask.dataframe as dd\n",
    "from scipy import stats \n",
    "import sqlalchemy as  sa\n",
    "from google.cloud import bigquery\n",
    "\n",
    "from tqdm import tqdm\n",
    "from dotenv import load_dotenv"
   ]
  },
  {
   "cell_type": "code",
   "execution_count": 26,
   "metadata": {},
   "outputs": [],
   "source": [
    "from itertools import product"
   ]
  },
  {
   "cell_type": "code",
   "execution_count": 65,
   "metadata": {},
   "outputs": [],
   "source": [
    "df = pd.read_csv(data_dir/'pyconjp/talklist_20180907.csv')"
   ]
  },
  {
   "cell_type": "code",
   "execution_count": 66,
   "metadata": {},
   "outputs": [],
   "source": [
    "id_room_ref = {\n",
    "    'ra': 'A+B会議室',\n",
    "    'rb': '小展示ホール',\n",
    "    'rc': '特別会議室',\n",
    "    'rd1': 'コンベンションホール',\n",
    "    'rd2': 'コンベンションホール 梅',\n",
    "    'rd3': 'コンベンションホール 鶯',\n",
    "    're': 'C会議室',\n",
    "    'rf': 'D会議室'\n",
    "}\n",
    "room_id_ref = {room: id_ for id_, room in id_room_ref.items()}"
   ]
  },
  {
   "cell_type": "code",
   "execution_count": 67,
   "metadata": {},
   "outputs": [],
   "source": [
    "room_id_ref['小展示'] = 'rb'"
   ]
  },
  {
   "cell_type": "code",
   "execution_count": 68,
   "metadata": {},
   "outputs": [],
   "source": [
    "timelist = list(df.groupby(['発表日', '時間']).groups.keys())"
   ]
  },
  {
   "cell_type": "code",
   "execution_count": 69,
   "metadata": {},
   "outputs": [],
   "source": [
    "tt_no_dict = {\n",
    " '1日目13:30 - 14:15': 1,\n",
    " '1日目14:30 - 15:15': 2,\n",
    " '1日目15:45 - 16:15': 3,\n",
    " '1日目16:30 - 17:00': 4,\n",
    " '2日目11:15 - 12:00': 1,\n",
    " '2日目13:30 - 14:15': 2,\n",
    " '2日目14:30 - 15:00': 3,\n",
    " '2日目15:45 - 16:15': 4,\n",
    " '2日目16:30 - 17:00': 5\n",
    "}"
   ]
  },
  {
   "cell_type": "code",
   "execution_count": 70,
   "metadata": {},
   "outputs": [],
   "source": [
    "talk_format_dict = {\n",
    " '1日目13:30 - 14:15': 45,\n",
    " '1日目14:30 - 15:15': 45,\n",
    " '1日目15:45 - 16:15': 30,\n",
    " '1日目16:30 - 17:00': 30,\n",
    " '2日目11:15 - 12:00': 45,\n",
    " '2日目13:30 - 14:15': 45,\n",
    " '2日目14:30 - 15:00': 30,\n",
    " '2日目15:45 - 16:15': 30,\n",
    " '2日目16:30 - 17:00': 30\n",
    "}"
   ]
  },
  {
   "cell_type": "code",
   "execution_count": 71,
   "metadata": {},
   "outputs": [],
   "source": [
    "df['no'] = (df['発表日'] + df['時間']).replace(tt_no_dict)"
   ]
  },
  {
   "cell_type": "code",
   "execution_count": 72,
   "metadata": {},
   "outputs": [],
   "source": [
    "df['room_id'] = df['部屋'].replace(room_id_ref)"
   ]
  },
  {
   "cell_type": "code",
   "execution_count": 73,
   "metadata": {},
   "outputs": [],
   "source": [
    "df['day'] = df['発表日'].replace({'1日目': 1, '2日目': 2})"
   ]
  },
  {
   "cell_type": "code",
   "execution_count": 74,
   "metadata": {},
   "outputs": [
    {
     "data": {
      "text/plain": [
       "Index(['id', '名前', 'プロフィール/Your Profile', 'タイトル', 'トークの概要/Talk abstract',\n",
       "       'audience_level', '発表資料の言語/Language of presentation materials',\n",
       "       '発表で使用する言語/Presentation language', '発表日', '時間', '部屋', '階数',\n",
       "       'description', 'tag', 'location', 'bio', 'organization', 'no',\n",
       "       'room_id', 'day'],\n",
       "      dtype='object')"
      ]
     },
     "execution_count": 74,
     "metadata": {},
     "output_type": "execute_result"
    }
   ],
   "source": [
    "df.columns"
   ]
  },
  {
   "cell_type": "code",
   "execution_count": 75,
   "metadata": {},
   "outputs": [],
   "source": [
    "lang_of_slide_dict = {\n",
    "    '日本語のみ/Japanese Only': 'ja',\n",
    "    'English Only': 'en',\n",
    "    '日本語と英語/Japanese and English': 'ja_en'\n",
    "}"
   ]
  },
  {
   "cell_type": "code",
   "execution_count": 76,
   "metadata": {},
   "outputs": [],
   "source": [
    "lang_of_talk_dict = {\n",
    "    '日本語/Japanese': 'ja', \n",
    "    '英語/English': 'en'\n",
    "}"
   ]
  },
  {
   "cell_type": "code",
   "execution_count": 77,
   "metadata": {},
   "outputs": [],
   "source": [
    "df['name'] = df['名前']\n",
    "df['room'] = df['部屋']\n",
    "df['floor'] = df['階数']\n",
    "df['title'] = df['タイトル']\n",
    "df['abstract'] = df['トークの概要/Talk abstract']\n",
    "df['profile'] = df['プロフィール/Your Profile']\n",
    "df['abstract'] = df['トークの概要/Talk abstract']\n",
    "df['talk_format'] = (df['発表日'] + df['時間']).replace(talk_format_dict)\n",
    "df['lang_of_slide'] = df['発表資料の言語/Language of presentation materials'].replace(lang_of_slide_dict)\n",
    "df['lang_of_talk'] = df['発表で使用する言語/Presentation language'].replace(lang_of_talk_dict)\n",
    "df['tags'] = df['tag']"
   ]
  },
  {
   "cell_type": "markdown",
   "metadata": {},
   "source": [
    "# 二日目のコンベンションルーム対応"
   ]
  },
  {
   "cell_type": "code",
   "execution_count": 78,
   "metadata": {},
   "outputs": [
    {
     "data": {
      "text/plain": [
       "3    13\n",
       "2    13\n",
       "4    12\n",
       "1    12\n",
       "5     6\n",
       "Name: no, dtype: int64"
      ]
     },
     "execution_count": 78,
     "metadata": {},
     "output_type": "execute_result"
    }
   ],
   "source": [
    "df['no'].value_counts()"
   ]
  },
  {
   "cell_type": "code",
   "execution_count": 79,
   "metadata": {},
   "outputs": [],
   "source": [
    "taget_index = df.query('day == 2').query('no == 1').query('room_id == \"rd1\"').index.values[0]"
   ]
  },
  {
   "cell_type": "code",
   "execution_count": 80,
   "metadata": {},
   "outputs": [],
   "source": [
    "df.loc[taget_index, \"room_id\"] = 'rd2'"
   ]
  },
  {
   "cell_type": "code",
   "execution_count": 81,
   "metadata": {},
   "outputs": [
    {
     "data": {
      "text/plain": [
       "Index(['id', '名前', 'プロフィール/Your Profile', 'タイトル', 'トークの概要/Talk abstract',\n",
       "       'audience_level', '発表資料の言語/Language of presentation materials',\n",
       "       '発表で使用する言語/Presentation language', '発表日', '時間', '部屋', '階数',\n",
       "       'description', 'tag', 'location', 'bio', 'organization', 'no',\n",
       "       'room_id', 'day', 'name', 'room', 'floor', 'title', 'abstract',\n",
       "       'profile', 'talk_format', 'lang_of_slide', 'lang_of_talk', 'tags'],\n",
       "      dtype='object')"
      ]
     },
     "execution_count": 81,
     "metadata": {},
     "output_type": "execute_result"
    }
   ],
   "source": [
    "df.columns"
   ]
  },
  {
   "cell_type": "code",
   "execution_count": 82,
   "metadata": {},
   "outputs": [],
   "source": [
    "cols = [\n",
    "    'id', 'name', 'title', 'abstract', 'talk_format', 'profile', 'room', 'day', 'no', 'room_id',\n",
    "    'lang_of_slide', 'lang_of_talk', 'audience_level', 'tags', 'description'\n",
    "]"
   ]
  },
  {
   "cell_type": "code",
   "execution_count": 83,
   "metadata": {},
   "outputs": [],
   "source": [
    "df[cols].to_csv(data_dir/'pyconjp/talkApiData.csv', index=False)"
   ]
  },
  {
   "cell_type": "code",
   "execution_count": 86,
   "metadata": {},
   "outputs": [],
   "source": [
    "df['date'] = df['発表日'] + ' ' + df['時間']"
   ]
  },
  {
   "cell_type": "code",
   "execution_count": 87,
   "metadata": {},
   "outputs": [],
   "source": [
    "dates = df['date'].unique().tolist()"
   ]
  },
  {
   "cell_type": "code",
   "execution_count": 90,
   "metadata": {},
   "outputs": [
    {
     "data": {
      "text/plain": [
       "['1日目 13:30 - 14:15',\n",
       " '1日目 14:30 - 15:15',\n",
       " '1日目 15:45 - 16:15',\n",
       " '1日目 16:30 - 17:00',\n",
       " '2日目 11:15 - 12:00',\n",
       " '2日目 13:30 - 14:15',\n",
       " '2日目 14:30 - 15:00',\n",
       " '2日目 15:45 - 16:15',\n",
       " '2日目 16:30 - 17:00']"
      ]
     },
     "execution_count": 90,
     "metadata": {},
     "output_type": "execute_result"
    }
   ],
   "source": [
    "dates"
   ]
  },
  {
   "cell_type": "code",
   "execution_count": 91,
   "metadata": {},
   "outputs": [],
   "source": [
    "date_ = dates[0]"
   ]
  },
  {
   "cell_type": "code",
   "execution_count": 94,
   "metadata": {},
   "outputs": [
    {
     "data": {
      "text/plain": [
       "4     en\n",
       "12    ja\n",
       "26    ja\n",
       "43    ja\n",
       "44    en\n",
       "51    ja\n",
       "Name: lang_of_talk, dtype: object"
      ]
     },
     "execution_count": 94,
     "metadata": {},
     "output_type": "execute_result"
    }
   ],
   "source": [
    "df.query('date == @date_')['lang_of_talk']"
   ]
  }
 ],
 "metadata": {
  "kernelspec": {
   "display_name": "Python 3",
   "language": "python",
   "name": "python3"
  },
  "language_info": {
   "codemirror_mode": {
    "name": "ipython",
    "version": 3
   },
   "file_extension": ".py",
   "mimetype": "text/x-python",
   "name": "python",
   "nbconvert_exporter": "python",
   "pygments_lexer": "ipython3",
   "version": "3.6.5"
  }
 },
 "nbformat": 4,
 "nbformat_minor": 2
}
