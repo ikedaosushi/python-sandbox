{
 "cells": [
  {
   "cell_type": "code",
   "execution_count": 1,
   "metadata": {},
   "outputs": [],
   "source": [
    "import requests\n",
    "import pandas as pd"
   ]
  },
  {
   "cell_type": "code",
   "execution_count": 26,
   "metadata": {},
   "outputs": [],
   "source": [
    "token = \"8a4d7c68509907868913e318cb8d0ae8\"\n",
    "state = \"waitlist\"\n",
    "per_page = 1000\n",
    "endpoint = f\"https://www.papercall.io/api/v1/submissions?_token={token}&state={state}&per_page={per_page}\"\n",
    "res = requests.get(endpoint)"
   ]
  },
  {
   "cell_type": "code",
   "execution_count": 27,
   "metadata": {},
   "outputs": [],
   "source": [
    "submissions = res.json()"
   ]
  },
  {
   "cell_type": "code",
   "execution_count": 28,
   "metadata": {},
   "outputs": [
    {
     "data": {
      "text/plain": [
       "30"
      ]
     },
     "execution_count": 28,
     "metadata": {},
     "output_type": "execute_result"
    }
   ],
   "source": [
    "len(submissions)"
   ]
  },
  {
   "cell_type": "code",
   "execution_count": null,
   "metadata": {},
   "outputs": [],
   "source": []
  },
  {
   "cell_type": "code",
   "execution_count": 47,
   "metadata": {},
   "outputs": [],
   "source": [
    "talks = [ [\\\n",
    "    None, s['talk']['talk_format'], None, None, None, s['talk']['title'], s['talk']['audience_level'], \n",
    "    s['tags'], s['state'], s['rating'], s['confirmed'], None\n",
    "    ] for s in submissions\n",
    "]"
   ]
  },
  {
   "cell_type": "code",
   "execution_count": 48,
   "metadata": {
    "scrolled": false
   },
   "outputs": [],
   "source": [
    "df = pd.DataFrame(talks, columns=['name', 'talk_format', 'lang', 'genre', 'priority', 'title', 'audience_level', 'tags', 'rating', 'state', 'confirmed', 'created_at'])"
   ]
  },
  {
   "cell_type": "code",
   "execution_count": 53,
   "metadata": {},
   "outputs": [],
   "source": [
    "t1 = df[df['title'].str.contains('Rust')]\n",
    "t2 = df[df['title'].str.contains('初心者が読み解くvenvのナカミ')]\n",
    "t3 = df[df['title'].str.contains('Building Maintainable Python Web App using Flask')]\n",
    "t4 = df[df['title'].str.contains('契約書データ関連のAI開発に伴う')]"
   ]
  },
  {
   "cell_type": "code",
   "execution_count": 55,
   "metadata": {},
   "outputs": [],
   "source": [
    "df_extract = pd.concat([t1, t2, t3, t4])"
   ]
  },
  {
   "cell_type": "code",
   "execution_count": 58,
   "metadata": {},
   "outputs": [],
   "source": [
    "df_extract.to_clipboard(sep=';')"
   ]
  },
  {
   "cell_type": "code",
   "execution_count": 60,
   "metadata": {},
   "outputs": [],
   "source": [
    "t5 = df[df['title'].str.contains('REST API に疲れたあなたへ贈る GraphQL 入門')]\n",
    "t6 = df[df['title'].str.contains('Pythonで時系列のデータを分析してみよう')]"
   ]
  },
  {
   "cell_type": "code",
   "execution_count": 62,
   "metadata": {},
   "outputs": [],
   "source": [
    "df_extract = pd.concat([t5, t6])\n",
    "df_extract.to_clipboard(sep=';')"
   ]
  }
 ],
 "metadata": {
  "kernelspec": {
   "display_name": "Python 3",
   "language": "python",
   "name": "python3"
  },
  "language_info": {
   "codemirror_mode": {
    "name": "ipython",
    "version": 3
   },
   "file_extension": ".py",
   "mimetype": "text/x-python",
   "name": "python",
   "nbconvert_exporter": "python",
   "pygments_lexer": "ipython3",
   "version": "3.6.5"
  }
 },
 "nbformat": 4,
 "nbformat_minor": 2
}
