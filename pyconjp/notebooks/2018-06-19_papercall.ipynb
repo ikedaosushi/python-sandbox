{
 "cells": [
  {
   "cell_type": "code",
   "execution_count": 1,
   "metadata": {},
   "outputs": [],
   "source": [
    "import requests"
   ]
  },
  {
   "cell_type": "code",
   "execution_count": 12,
   "metadata": {},
   "outputs": [],
   "source": [
    "id_ = \"43945\"\n",
    "token = \"8a4d7c68509907868913e318cb8d0ae8\"\n",
    "endpoint = f\"https://www.papercall.io/api/v1/submissions/{id_}/ratings?_token={token}\"\n",
    "res = requests.get(endpoint)"
   ]
  },
  {
   "cell_type": "code",
   "execution_count": 16,
   "metadata": {},
   "outputs": [
    {
     "data": {
      "text/plain": [
       "'https://www.papercall.io/api/v1/submissions/43945/ratings?_token=8a4d7c68509907868913e318cb8d0ae8'"
      ]
     },
     "execution_count": 16,
     "metadata": {},
     "output_type": "execute_result"
    }
   ],
   "source": [
    "endpoint"
   ]
  },
  {
   "cell_type": "code",
   "execution_count": 15,
   "metadata": {},
   "outputs": [
    {
     "data": {
      "text/plain": [
       "[{'id': 122770,\n",
       "  'submission_id': 43945,\n",
       "  'value': 71,\n",
       "  'comments': '',\n",
       "  'created_at': '2018-06-08T05:31:06.909Z',\n",
       "  'updated_at': '2018-06-08T05:31:06.909Z',\n",
       "  'user': {'name': 'Jonas Obrist',\n",
       "   'avatar': 'https://secure.gravatar.com/avatar/cd8230fed9704d106d4f3693371b7885?s=500',\n",
       "   'email': 'ojiidotch@gmail.com'}},\n",
       " {'id': 122468,\n",
       "  'submission_id': 43945,\n",
       "  'value': 75,\n",
       "  'comments': 'Since authentication is important, I am glad that you can tell me like this.',\n",
       "  'created_at': '2018-06-07T03:25:55.552Z',\n",
       "  'updated_at': '2018-06-07T03:25:55.552Z',\n",
       "  'user': {'name': 'Iosif Huideyeren Takakura Yusuke',\n",
       "   'avatar': 'https://secure.gravatar.com/avatar/bdfd2144e6127282a3d897ea991ae326?s=500',\n",
       "   'email': 'takakura.yusuke@gmail.com'}}]"
      ]
     },
     "execution_count": 15,
     "metadata": {},
     "output_type": "execute_result"
    }
   ],
   "source": [
    "res.json()"
   ]
  }
 ],
 "metadata": {
  "kernelspec": {
   "display_name": "Python 3",
   "language": "python",
   "name": "python3"
  },
  "language_info": {
   "codemirror_mode": {
    "name": "ipython",
    "version": 3
   },
   "file_extension": ".py",
   "mimetype": "text/x-python",
   "name": "python",
   "nbconvert_exporter": "python",
   "pygments_lexer": "ipython3",
   "version": "3.6.5"
  }
 },
 "nbformat": 4,
 "nbformat_minor": 2
}
