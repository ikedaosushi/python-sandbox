{
 "cells": [
  {
   "cell_type": "code",
   "execution_count": 1,
   "metadata": {},
   "outputs": [],
   "source": [
    "from sklearn.ensemble import RandomForestRegressor\n",
    "from sklearn.linear_model import LinearRegression\n",
    "from sklearn.neighbors import KNeighborsRegressor\n",
    "from sklearn.neighbors import KNeighborsRegressor\n",
    "from sklearn.model_selection import cross_val_score\n",
    "from sklearn.datasets import load_boston\n",
    "from sklearn.model_selection import KFold\n",
    "from sklearn.model_selection import cross_val_score\n",
    "from sklearn.model_selection import train_test_split\n",
    "from sklearn.metrics import mean_absolute_error\n",
    "from sklearn.metrics import accuracy_score\n",
    "from sklearn.metrics import mean_absolute_error\n",
    "from catboost import CatBoostRegressor\n",
    "from sklearn.ensemble import ExtraTreesRegressor\n",
    "from sklearn.linear_model import Ridge\n",
    "from xgboost import XGBRegressor\n",
    "import numpy as np"
   ]
  },
  {
   "cell_type": "code",
   "execution_count": 2,
   "metadata": {},
   "outputs": [],
   "source": [
    "seed = 42"
   ]
  },
  {
   "cell_type": "markdown",
   "metadata": {},
   "source": [
    "# Dataload"
   ]
  },
  {
   "cell_type": "code",
   "execution_count": 3,
   "metadata": {},
   "outputs": [],
   "source": [
    "X, y = load_boston(return_X_y=True)\n",
    "X_train, X_val, y_train, y_val = train_test_split(X, y, test_size=0.05, random_state=seed)"
   ]
  },
  {
   "cell_type": "markdown",
   "metadata": {},
   "source": [
    "# Baseline"
   ]
  },
  {
   "cell_type": "code",
   "execution_count": 4,
   "metadata": {},
   "outputs": [
    {
     "name": "stdout",
     "output_type": "stream",
     "text": [
      "random forest : 2.23\n",
      "linear regression : 3.47\n",
      "knn : 4.45\n"
     ]
    },
    {
     "name": "stderr",
     "output_type": "stream",
     "text": [
      "/Users/yutaro_ikeda/.pyenv/versions/3.6.5/lib/python3.6/site-packages/scipy/linalg/basic.py:1226: RuntimeWarning: internal gelsd driver lwork query error, required iwork dimension not returned. This is likely the result of LAPACK bug 0038, fixed in LAPACK 3.2.2 (released July 21, 2010). Falling back to 'gelss' driver.\n",
      "  warnings.warn(mesg, RuntimeWarning)\n"
     ]
    },
    {
     "name": "stdout",
     "output_type": "stream",
     "text": [
      "catboost : 2.20\n",
      "CPU times: user 1min 43s, sys: 16.9 s, total: 2min\n",
      "Wall time: 46.8 s\n"
     ]
    }
   ],
   "source": [
    "%%time\n",
    "models_dic = {\n",
    "    'random forest': RandomForestRegressor(n_estimators=50, random_state=seed),\n",
    "    'linear regression': LinearRegression(normalize=True),\n",
    "    'knn': KNeighborsRegressor(),\n",
    "    'catboost': CatBoostRegressor(custom_metric=['MAE'], random_seed=seed, logging_level='Silent')\n",
    "}\n",
    "\n",
    "for name, model in models_dic.items():\n",
    "    kfold = KFold(n_splits=10, random_state=seed)\n",
    "    cv_results = cross_val_score(model, X_train, y_train, cv=kfold, scoring=\"neg_mean_absolute_error\")\n",
    "    print(f'{name} : {-np.mean(cv_results):.2f}')"
   ]
  },
  {
   "cell_type": "markdown",
   "metadata": {},
   "source": [
    "# heamy"
   ]
  },
  {
   "cell_type": "code",
   "execution_count": 5,
   "metadata": {},
   "outputs": [],
   "source": [
    "from heamy.dataset import Dataset\n",
    "from heamy.estimator import Regressor, Classifier\n",
    "from heamy.pipeline import ModelsPipeline"
   ]
  },
  {
   "cell_type": "markdown",
   "metadata": {},
   "source": [
    "### stacking"
   ]
  },
  {
   "cell_type": "code",
   "execution_count": 6,
   "metadata": {},
   "outputs": [
    {
     "name": "stdout",
     "output_type": "stream",
     "text": [
      "stacking: -2.16\n",
      "CPU times: user 34.1 ms, sys: 6.63 ms, total: 40.7 ms\n",
      "Wall time: 114 ms\n"
     ]
    }
   ],
   "source": [
    "%%time\n",
    "# datasetを準備\n",
    "dataset = Dataset(X_train, y_train, X_val) # X_testは今回使わないが入れないとエラーになる\n",
    "\n",
    "# アンサンブルに使うモデルを定義\n",
    "models = [\n",
    "    Regressor(dataset=dataset, estimator=RandomForestRegressor, parameters={'n_estimators': 50, 'random_state': seed}, name='rf'),\n",
    "    Regressor(dataset=dataset, estimator=LinearRegression, parameters={'normalize': True}, name='lr'),\n",
    "    Regressor(dataset=dataset, estimator=KNeighborsRegressor, name='kr'),\n",
    "    Regressor(dataset=dataset, estimator=CatBoostRegressor, parameters={'custom_metric': ['MAE'], 'random_seed': seed, 'logging_level': 'Silent'}, name='cr')\n",
    "]\n",
    "\n",
    "# pipelineを定義\n",
    "pipeline = ModelsPipeline(*models)\n",
    "stack_ds = pipeline.stack(k=10, seed=seed)\n",
    "\n",
    "# modelを作ってvalidation\n",
    "stacker = Regressor(dataset=stack_ds, estimator=LinearRegression)\n",
    "y_trues, y_preds = stacker.validate(k=10)\n",
    "\n",
    "# 精度出力\n",
    "cv_results = []\n",
    "for y_true, y_pred in zip(y_trues, y_preds):\n",
    "    cv_result = mean_absolute_error(y_true, y_pred)\n",
    "    cv_results.append(cv_result)\n",
    "print(f'stacking: {-np.mean(cv_results):.2f}')"
   ]
  },
  {
   "cell_type": "markdown",
   "metadata": {},
   "source": [
    "### Blending"
   ]
  },
  {
   "cell_type": "code",
   "execution_count": 7,
   "metadata": {},
   "outputs": [
    {
     "name": "stdout",
     "output_type": "stream",
     "text": [
      "blending: -3.04\n",
      "CPU times: user 30.5 ms, sys: 4.41 ms, total: 34.9 ms\n",
      "Wall time: 60 ms\n"
     ]
    }
   ],
   "source": [
    "%%time\n",
    "# datasetを準備\n",
    "dataset = Dataset(X_train, y_train, X_val) # X_testは今回使わないが入れないとエラーになる\n",
    "\n",
    "# アンサンブルに使うモデルを定義\n",
    "models = [\n",
    "    Regressor(dataset=dataset, estimator=RandomForestRegressor, parameters={'n_estimators': 50, 'random_state': seed}, name='rf'),\n",
    "    Regressor(dataset=dataset, estimator=LinearRegression, parameters={'normalize': True}, name='lr'),\n",
    "    Regressor(dataset=dataset, estimator=KNeighborsRegressor, name='kr'),\n",
    "    Regressor(dataset=dataset, estimator=CatBoostRegressor, parameters={'custom_metric': ['MAE'], 'random_seed': seed, 'logging_level': 'Silent'}, name='cr')\n",
    "]\n",
    "\n",
    "# pipelineを定義\n",
    "pipeline = ModelsPipeline(*models)\n",
    "stack_ds = pipeline.blend(proportion=0.2, seed=seed)\n",
    "\n",
    "# modelを作ってvalidation\n",
    "stacker = Regressor(dataset=stack_ds, estimator=LinearRegression)\n",
    "y_trues, y_preds = stacker.validate(k=10)\n",
    "\n",
    "# 精度出力\n",
    "cv_results = []\n",
    "for y_true, y_pred in zip(y_trues, y_preds):\n",
    "    cv_result = mean_absolute_error(y_true, y_pred)\n",
    "    cv_results.append(cv_result)\n",
    "print(f'blending: {-np.mean(cv_results):.2f}')"
   ]
  },
  {
   "cell_type": "markdown",
   "metadata": {},
   "source": [
    "### Weighted Average"
   ]
  },
  {
   "cell_type": "code",
   "execution_count": 8,
   "metadata": {},
   "outputs": [
    {
     "name": "stdout",
     "output_type": "stream",
     "text": [
      "Best Score (mean_absolute_error): 1.9893582436999917\n",
      "Best Weights: [2.18887575e-01 1.94297608e-17 7.96579612e-18 7.81112425e-01]\n",
      "Metric: mean_absolute_error\n",
      "Folds accuracy: [1.978630110432124, 2.137259891149993, 2.145816457861829, 1.4496619629760552, 2.3527743239776573, 2.910698591290202, 2.0799869355876592, 1.74754010963542, 3.114361238261376, 2.3891019916145555]\n",
      "Mean accuracy: 2.2305831612786875\n",
      "Standard Deviation: 0.47211251675696475\n",
      "Variance: 0.22289022847859533\n",
      "weighted averag: -2.23\n",
      "CPU times: user 50.4 ms, sys: 9.36 ms, total: 59.7 ms\n",
      "Wall time: 94.9 ms\n"
     ]
    }
   ],
   "source": [
    "%%time\n",
    "# datasetを準備\n",
    "dataset = Dataset(X_train, y_train, X_val) # X_testは今回使わないが入れないとエラーになる\n",
    "\n",
    "# アンサンブルに使うモデルを定義\n",
    "models = [\n",
    "    Regressor(dataset=dataset, estimator=RandomForestRegressor, parameters={'n_estimators': 50, 'random_state': seed}, name='rf'),\n",
    "    Regressor(dataset=dataset, estimator=LinearRegression, parameters={'normalize': True}, name='lr'),\n",
    "    Regressor(dataset=dataset, estimator=KNeighborsRegressor, name='kr'),\n",
    "    Regressor(dataset=dataset, estimator=CatBoostRegressor, parameters={'custom_metric': ['MAE'], 'random_seed': seed, 'logging_level': 'Silent'}, name='cr')\n",
    "]\n",
    "\n",
    "# pipelineを定義\n",
    "pipeline = ModelsPipeline(*models)\n",
    "\n",
    "# 最適な重みを探索\n",
    "weights = pipeline.find_weights(mean_absolute_error)\n",
    "pipeline_apply = pipeline.weight(weights)\n",
    "\n",
    "# 精度を出力\n",
    "cv_results = pipeline_apply.validate(scorer=mean_absolute_error, k=10)\n",
    "print(f'weighted averag: {-np.mean(cv_results):.2f}')"
   ]
  },
  {
   "cell_type": "markdown",
   "metadata": {},
   "source": [
    "# pystacknet"
   ]
  },
  {
   "cell_type": "code",
   "execution_count": 9,
   "metadata": {},
   "outputs": [],
   "source": [
    "from pystacknet.pystacknet import StackNetRegressor"
   ]
  },
  {
   "cell_type": "code",
   "execution_count": 10,
   "metadata": {},
   "outputs": [
    {
     "name": "stdout",
     "output_type": "stream",
     "text": [
      "catboost :  2.2010970199601947\n",
      "CPU times: user 30.3 s, sys: 18.8 s, total: 49.1 s\n",
      "Wall time: 11min 31s\n"
     ]
    }
   ],
   "source": [
    "%%time\n",
    "# アンサンブルに使うモデルを定義\n",
    "models=[ \n",
    "    # 1st level\n",
    "    [\n",
    "        RandomForestRegressor(n_estimators=50, random_state=seed),\n",
    "        LinearRegression(normalize=True),\n",
    "        CatBoostRegressor(custom_metric=['MAE'], random_seed=seed, logging_level='Silent')     \n",
    "    ],\n",
    "    # 2nd level\n",
    "    [\n",
    "        Ridge(normalize=True),\n",
    "        ExtraTreesRegressor(random_state=seed),\n",
    "        XGBRegressor(random_state=seed)\n",
    "    ],\n",
    "    [\n",
    "        LinearRegression(normalize=True)\n",
    "    ]\n",
    "]\n",
    "\n",
    "# StackNetモデルを作成\n",
    "model = StackNetRegressor(\n",
    "    models, folds=10,\n",
    "    restacking=False, use_retraining=True,\n",
    "    random_state=seed, n_jobs=-1\n",
    ")\n",
    "\n",
    "# 精度出力\n",
    "kfold = KFold(n_splits=10, random_state=seed)\n",
    "cv_results = cross_val_score(model, X_train, y_train, cv=kfold, scoring=\"neg_mean_absolute_error\")\n",
    "print(name, ': ', -np.mean(cv_results))"
   ]
  },
  {
   "cell_type": "code",
   "execution_count": null,
   "metadata": {},
   "outputs": [],
   "source": []
  }
 ],
 "metadata": {
  "kernelspec": {
   "display_name": "Python 3",
   "language": "python",
   "name": "python3"
  },
  "language_info": {
   "codemirror_mode": {
    "name": "ipython",
    "version": 3
   },
   "file_extension": ".py",
   "mimetype": "text/x-python",
   "name": "python",
   "nbconvert_exporter": "python",
   "pygments_lexer": "ipython3",
   "version": "3.6.5"
  }
 },
 "nbformat": 4,
 "nbformat_minor": 2
}
