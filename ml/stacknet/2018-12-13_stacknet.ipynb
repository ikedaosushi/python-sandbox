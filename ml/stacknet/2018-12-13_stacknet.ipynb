{
 "cells": [
  {
   "cell_type": "code",
   "execution_count": 5,
   "metadata": {},
   "outputs": [],
   "source": [
    "from sklearn.ensemble import RandomForestClassifier, ExtraTreesClassifier, GradientBoostingClassifier\n",
    "from sklearn.linear_model import LogisticRegression\n",
    "\n",
    "models=[ \n",
    "    ######## First level ########\n",
    "    [RandomForestClassifier (n_estimators=100, criterion=\"entropy\", max_depth=5, max_features=0.5, random_state=1),\n",
    "     ExtraTreesClassifier (n_estimators=100, criterion=\"entropy\", max_depth=5, max_features=0.5, random_state=1),\n",
    "     GradientBoostingClassifier(n_estimators=100, learning_rate=0.1, max_depth=5, max_features=0.5, random_state=1),\n",
    "     LogisticRegression(random_state=1)\n",
    "     ],\n",
    "    ######## Second level ########\n",
    "    [RandomForestClassifier (n_estimators=200, criterion=\"entropy\", max_depth=5, max_features=0.5, random_state=1)]\n",
    "]"
   ]
  },
  {
   "cell_type": "code",
   "execution_count": 1,
   "metadata": {},
   "outputs": [],
   "source": [
    "from sklearn.model_selection import train_test_split\n",
    "from sklearn.metrics import mean_absolute_error\n",
    "from sklearn.ensemble import RandomForestRegressor\n",
    "from sklearn.linear_model import LinearRegression\n",
    "from sklearn.neighbors import KNeighborsRegressor"
   ]
  },
  {
   "cell_type": "code",
   "execution_count": 11,
   "metadata": {},
   "outputs": [],
   "source": [
    "from sklearn.datasets import load_breast_cancer\n",
    "data = load_breast_cancer()\n",
    "X, y = data['data'], data['target']\n",
    "X_train, X_test, y_train, y_test = train_test_split(X, y, test_size=0.1, random_state=111)"
   ]
  },
  {
   "cell_type": "code",
   "execution_count": 12,
   "metadata": {},
   "outputs": [
    {
     "name": "stdout",
     "output_type": "stream",
     "text": [
      "====================== Start of Level 0 ======================\n",
      "Input Dimensionality 30 at Level 0 \n",
      "5 models included in Level 0 \n",
      "Fold 1/4 , model 0 , auc===0.998598 \n",
      "Fold 1/4 , model 1 , auc===0.998879 \n",
      "Fold 1/4 , model 2 , auc===0.999159 \n",
      "Fold 1/4 , model 3 , auc===0.996355 \n",
      "=========== end of fold 1 in level 0 ===========\n",
      "Fold 2/4 , model 0 , auc===0.985525 \n",
      "Fold 2/4 , model 1 , auc===0.984848 \n",
      "Fold 2/4 , model 2 , auc===0.979708 \n",
      "Fold 2/4 , model 3 , auc===0.978626 \n",
      "=========== end of fold 2 in level 0 ===========\n",
      "Fold 3/4 , model 0 , auc===0.989622 \n",
      "Fold 3/4 , model 1 , auc===0.990363 \n",
      "Fold 3/4 , model 2 , auc===0.981715 \n",
      "Fold 3/4 , model 3 , auc===0.995552 \n",
      "=========== end of fold 3 in level 0 ===========\n",
      "Fold 4/4 , model 0 , auc===0.990256 \n",
      "Fold 4/4 , model 1 , auc===0.994359 \n",
      "Fold 4/4 , model 2 , auc===0.986923 \n",
      "Fold 4/4 , model 3 , auc===0.994872 \n",
      "=========== end of fold 4 in level 0 ===========\n",
      "Level 0, model 0 , auc===0.991000 \n",
      "Level 0, model 2 , auc===0.986876 \n",
      "Level 0, model 3 , auc===0.991351 \n",
      "Output dimensionality of level 0 is 8 \n",
      "====================== End of Level 0 ======================\n",
      " level 0 lasted 2.750369 seconds \n",
      "====================== Start of Level 1 ======================\n",
      "Input Dimensionality 8 at Level 1 \n",
      "1 models included in Level 1 \n",
      "Fold 1/4 , model 0 , auc===0.998598 \n",
      "=========== end of fold 1 in level 1 ===========\n",
      "Fold 2/4 , model 0 , auc===0.979167 \n",
      "=========== end of fold 2 in level 1 ===========\n",
      "Fold 3/4 , model 0 , auc===0.987645 \n",
      "=========== end of fold 3 in level 1 ===========\n",
      "Fold 4/4 , model 0 , auc===0.996667 \n",
      "=========== end of fold 4 in level 1 ===========\n",
      "Level 1, model 0 , auc===0.990519 \n",
      "Output dimensionality of level 1 is 1 \n",
      "====================== End of Level 1 ======================\n",
      " level 1 lasted 1.491229 seconds \n",
      "====================== End of fit ======================\n",
      " fit() lasted 4.242601 seconds \n",
      "====================== Start of Level 0 ======================\n",
      "1 estimators included in Level 0 \n",
      "====================== Start of Level 1 ======================\n",
      "1 estimators included in Level 1 \n"
     ]
    }
   ],
   "source": [
    "from pystacknet.pystacknet import StackNetClassifier, StackNetRegressor\n",
    "\n",
    "model = StackNetRegressor(models, folds=10,\n",
    "\trestacking=False, use_retraining=True\n",
    "\trandom_state=12345, n_jobs=1, verbose=1)\n",
    "\n",
    "model.fit(X_train, y_train)\n",
    "preds = model.predict_proba(X_test)"
   ]
  },
  {
   "cell_type": "code",
   "execution_count": null,
   "metadata": {},
   "outputs": [],
   "source": []
  }
 ],
 "metadata": {
  "kernelspec": {
   "display_name": "Python 3",
   "language": "python",
   "name": "python3"
  },
  "language_info": {
   "codemirror_mode": {
    "name": "ipython",
    "version": 3
   },
   "file_extension": ".py",
   "mimetype": "text/x-python",
   "name": "python",
   "nbconvert_exporter": "python",
   "pygments_lexer": "ipython3",
   "version": "3.6.5"
  }
 },
 "nbformat": 4,
 "nbformat_minor": 2
}
