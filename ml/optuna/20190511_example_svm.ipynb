{
 "cells": [
  {
   "cell_type": "code",
   "execution_count": 49,
   "metadata": {},
   "outputs": [],
   "source": [
    "from functools import partial\n",
    "\n",
    "import optuna\n",
    "from sklearn.model_selection import StratifiedKFold\n",
    "from sklearn.model_selection import cross_validate\n",
    "from sklearn.model_selection import train_test_split\n",
    "from sklearn.svm import SVC\n",
    "from sklearn import datasets"
   ]
  },
  {
   "cell_type": "code",
   "execution_count": 10,
   "metadata": {},
   "outputs": [],
   "source": [
    "def objective(X, y, trial):\n",
    "    \"\"\"最小化する目的関数\"\"\"\n",
    "    params = {\n",
    "        'kernel': trial.suggest_categorical('kernel', ['rbf', 'sigmoid']),\n",
    "        'C': trial.suggest_loguniform('C', 1e+0, 1e+2),\n",
    "        'gamma': trial.suggest_loguniform('gamma', 1e-2, 1e+1),\n",
    "    }\n",
    "\n",
    "    # モデルを作る\n",
    "    model = SVC(**params)\n",
    "\n",
    "    # 5-Fold CV / Accuracy でモデルを評価する\n",
    "    kf = StratifiedKFold(n_splits=10, shuffle=True, random_state=42)\n",
    "    scores = cross_validate(model, X=X, y=y, cv=kf)\n",
    "    # 最小化なので 1.0 からスコアを引く\n",
    "    return 1.0 - scores['test_score'].mean()"
   ]
  },
  {
   "cell_type": "code",
   "execution_count": 18,
   "metadata": {},
   "outputs": [],
   "source": [
    "import os\n",
    "import pandas as pd"
   ]
  },
  {
   "cell_type": "code",
   "execution_count": 46,
   "metadata": {},
   "outputs": [],
   "source": [
    "data = pd.read_csv(\"~/.kaggle/competitions/titanic/train.csv\")"
   ]
  },
  {
   "cell_type": "code",
   "execution_count": 47,
   "metadata": {},
   "outputs": [],
   "source": [
    "X = data[['Pclass', 'Sex', 'Age', 'SibSp', 'Parch', 'Cabin', 'Embarked']]\n",
    "X = pd.get_dummies(X, columns=['Pclass', 'Sex', 'SibSp', 'Parch', 'Cabin', 'Embarked']).fillna(0)\n",
    "y = data['Survived']"
   ]
  },
  {
   "cell_type": "code",
   "execution_count": 53,
   "metadata": {},
   "outputs": [],
   "source": [
    "X_train, X_test, y_train, y_test = train_test_split(X, y, test_size=.2, random_state=42)"
   ]
  },
  {
   "cell_type": "code",
   "execution_count": 55,
   "metadata": {},
   "outputs": [
    {
     "name": "stdout",
     "output_type": "stream",
     "text": [
      "0.6983240223463687\n"
     ]
    }
   ],
   "source": [
    "model = SVC()\n",
    "model.fit(X_train, y_train)\n",
    "print(model.score(X_test, y_test))"
   ]
  },
  {
   "cell_type": "code",
   "execution_count": 56,
   "metadata": {
    "scrolled": true
   },
   "outputs": [
    {
     "name": "stderr",
     "output_type": "stream",
     "text": [
      "[I 2019-05-11 18:16:11,400] Finished trial#0 resulted in value: 0.20775489618762033. Current best value is 0.20775489618762033 with parameters: {'kernel': 'rbf', 'C': 1.4932678560000918, 'gamma': 0.029592310333118994}.\n",
      "[I 2019-05-11 18:16:11,837] Finished trial#1 resulted in value: 0.43551638652028235. Current best value is 0.20775489618762033 with parameters: {'kernel': 'rbf', 'C': 1.4932678560000918, 'gamma': 0.029592310333118994}.\n",
      "[I 2019-05-11 18:16:12,286] Finished trial#2 resulted in value: 0.4565449334403484. Current best value is 0.20775489618762033 with parameters: {'kernel': 'rbf', 'C': 1.4932678560000918, 'gamma': 0.029592310333118994}.\n",
      "[I 2019-05-11 18:16:12,815] Finished trial#3 resulted in value: 0.393340681893274. Current best value is 0.20775489618762033 with parameters: {'kernel': 'rbf', 'C': 1.4932678560000918, 'gamma': 0.029592310333118994}.\n",
      "[I 2019-05-11 18:16:13,312] Finished trial#4 resulted in value: 0.5127360602637798. Current best value is 0.20775489618762033 with parameters: {'kernel': 'rbf', 'C': 1.4932678560000918, 'gamma': 0.029592310333118994}.\n",
      "[I 2019-05-11 18:16:13,863] Finished trial#5 resulted in value: 0.4018212134484236. Current best value is 0.20775489618762033 with parameters: {'kernel': 'rbf', 'C': 1.4932678560000918, 'gamma': 0.029592310333118994}.\n",
      "[I 2019-05-11 18:16:14,415] Finished trial#6 resulted in value: 0.19799437402074493. Current best value is 0.19799437402074493 with parameters: {'kernel': 'rbf', 'C': 6.825300216838075, 'gamma': 0.029451461858612697}.\n",
      "[I 2019-05-11 18:16:15,117] Finished trial#7 resulted in value: 0.258322069499774. Current best value is 0.19799437402074493 with parameters: {'kernel': 'rbf', 'C': 6.825300216838075, 'gamma': 0.029451461858612697}.\n",
      "[I 2019-05-11 18:16:15,766] Finished trial#8 resulted in value: 0.21353783565350837. Current best value is 0.19799437402074493 with parameters: {'kernel': 'rbf', 'C': 6.825300216838075, 'gamma': 0.029451461858612697}.\n",
      "[I 2019-05-11 18:16:16,366] Finished trial#9 resulted in value: 0.21212896582989482. Current best value is 0.19799437402074493 with parameters: {'kernel': 'rbf', 'C': 6.825300216838075, 'gamma': 0.029451461858612697}.\n",
      "[I 2019-05-11 18:16:17,054] Finished trial#10 resulted in value: 0.24996070755735122. Current best value is 0.19799437402074493 with parameters: {'kernel': 'rbf', 'C': 6.825300216838075, 'gamma': 0.029451461858612697}.\n",
      "[I 2019-05-11 18:16:17,793] Finished trial#11 resulted in value: 0.25420589798773796. Current best value is 0.19799437402074493 with parameters: {'kernel': 'rbf', 'C': 6.825300216838075, 'gamma': 0.029451461858612697}.\n",
      "[I 2019-05-11 18:16:18,414] Finished trial#12 resulted in value: 0.25278759797788874. Current best value is 0.19799437402074493 with parameters: {'kernel': 'rbf', 'C': 6.825300216838075, 'gamma': 0.029451461858612697}.\n",
      "[I 2019-05-11 18:16:19,116] Finished trial#13 resulted in value: 0.3160412357595457. Current best value is 0.19799437402074493 with parameters: {'kernel': 'rbf', 'C': 6.825300216838075, 'gamma': 0.029451461858612697}.\n",
      "[I 2019-05-11 18:16:19,715] Finished trial#14 resulted in value: 0.21637443567320713. Current best value is 0.19799437402074493 with parameters: {'kernel': 'rbf', 'C': 6.825300216838075, 'gamma': 0.029451461858612697}.\n",
      "[I 2019-05-11 18:16:20,415] Finished trial#15 resulted in value: 0.339866845770352. Current best value is 0.19799437402074493 with parameters: {'kernel': 'rbf', 'C': 6.825300216838075, 'gamma': 0.029451461858612697}.\n",
      "[I 2019-05-11 18:16:21,083] Finished trial#16 resulted in value: 0.25561448839842615. Current best value is 0.19799437402074493 with parameters: {'kernel': 'rbf', 'C': 6.825300216838075, 'gamma': 0.029451461858612697}.\n",
      "[I 2019-05-11 18:16:21,704] Finished trial#17 resulted in value: 0.2021505015811279. Current best value is 0.19799437402074493 with parameters: {'kernel': 'rbf', 'C': 6.825300216838075, 'gamma': 0.029451461858612697}.\n",
      "[I 2019-05-11 18:16:22,294] Finished trial#18 resulted in value: 0.19237014109654216. Current best value is 0.19237014109654216 with parameters: {'kernel': 'rbf', 'C': 2.51646196585552, 'gamma': 0.04448217316047363}.\n",
      "[I 2019-05-11 18:16:22,918] Finished trial#19 resulted in value: 0.2106016249258683. Current best value is 0.19237014109654216 with parameters: {'kernel': 'rbf', 'C': 2.51646196585552, 'gamma': 0.04448217316047363}.\n",
      "[I 2019-05-11 18:16:23,564] Finished trial#20 resulted in value: 0.214787300403123. Current best value is 0.19237014109654216 with parameters: {'kernel': 'rbf', 'C': 2.51646196585552, 'gamma': 0.04448217316047363}.\n",
      "[I 2019-05-11 18:16:24,140] Finished trial#21 resulted in value: 0.224805580993774. Current best value is 0.19237014109654216 with parameters: {'kernel': 'rbf', 'C': 2.51646196585552, 'gamma': 0.04448217316047363}.\n",
      "[I 2019-05-11 18:16:24,679] Finished trial#22 resulted in value: 0.18533759717457643. Current best value is 0.18533759717457643 with parameters: {'kernel': 'rbf', 'C': 7.0898706115848, 'gamma': 0.019733102115916366}.\n",
      "[I 2019-05-11 18:16:25,291] Finished trial#23 resulted in value: 0.22041139362086326. Current best value is 0.18533759717457643 with parameters: {'kernel': 'rbf', 'C': 7.0898706115848, 'gamma': 0.019733102115916366}.\n",
      "[I 2019-05-11 18:16:25,906] Finished trial#24 resulted in value: 0.23869282251062296. Current best value is 0.18533759717457643 with parameters: {'kernel': 'rbf', 'C': 7.0898706115848, 'gamma': 0.019733102115916366}.\n",
      "[I 2019-05-11 18:16:26,424] Finished trial#25 resulted in value: 0.47348671705878786. Current best value is 0.18533759717457643 with parameters: {'kernel': 'rbf', 'C': 7.0898706115848, 'gamma': 0.019733102115916366}.\n",
      "[I 2019-05-11 18:16:27,003] Finished trial#26 resulted in value: 0.2107404931498429. Current best value is 0.18533759717457643 with parameters: {'kernel': 'rbf', 'C': 7.0898706115848, 'gamma': 0.019733102115916366}.\n",
      "[I 2019-05-11 18:16:27,592] Finished trial#27 resulted in value: 0.18536742450437382. Current best value is 0.18533759717457643 with parameters: {'kernel': 'rbf', 'C': 7.0898706115848, 'gamma': 0.019733102115916366}.\n",
      "[I 2019-05-11 18:16:28,113] Finished trial#28 resulted in value: 0.18957307800580203. Current best value is 0.18533759717457643 with parameters: {'kernel': 'rbf', 'C': 7.0898706115848, 'gamma': 0.019733102115916366}.\n",
      "[I 2019-05-11 18:16:28,599] Finished trial#29 resulted in value: 0.43832343862310896. Current best value is 0.18533759717457643 with parameters: {'kernel': 'rbf', 'C': 7.0898706115848, 'gamma': 0.019733102115916366}.\n",
      "[I 2019-05-11 18:16:29,186] Finished trial#30 resulted in value: 0.22333775504287945. Current best value is 0.18533759717457643 with parameters: {'kernel': 'rbf', 'C': 7.0898706115848, 'gamma': 0.019733102115916366}.\n",
      "[I 2019-05-11 18:16:29,651] Finished trial#31 resulted in value: 0.43265980847641017. Current best value is 0.18533759717457643 with parameters: {'kernel': 'rbf', 'C': 7.0898706115848, 'gamma': 0.019733102115916366}.\n",
      "[I 2019-05-11 18:16:30,200] Finished trial#32 resulted in value: 0.1952071602356289. Current best value is 0.18533759717457643 with parameters: {'kernel': 'rbf', 'C': 7.0898706115848, 'gamma': 0.019733102115916366}.\n",
      "[I 2019-05-11 18:16:30,709] Finished trial#33 resulted in value: 0.4018212134484236. Current best value is 0.18533759717457643 with parameters: {'kernel': 'rbf', 'C': 7.0898706115848, 'gamma': 0.019733102115916366}.\n",
      "[I 2019-05-11 18:16:31,280] Finished trial#34 resulted in value: 0.5870793176456947. Current best value is 0.18533759717457643 with parameters: {'kernel': 'rbf', 'C': 7.0898706115848, 'gamma': 0.019733102115916366}.\n",
      "[I 2019-05-11 18:16:31,990] Finished trial#35 resulted in value: 0.35814771583426064. Current best value is 0.18533759717457643 with parameters: {'kernel': 'rbf', 'C': 7.0898706115848, 'gamma': 0.019733102115916366}.\n",
      "[I 2019-05-11 18:16:32,542] Finished trial#36 resulted in value: 0.20083125345336905. Current best value is 0.18533759717457643 with parameters: {'kernel': 'rbf', 'C': 7.0898706115848, 'gamma': 0.019733102115916366}.\n"
     ]
    },
    {
     "name": "stderr",
     "output_type": "stream",
     "text": [
      "[I 2019-05-11 18:16:32,987] Finished trial#37 resulted in value: 0.4706198705899036. Current best value is 0.18533759717457643 with parameters: {'kernel': 'rbf', 'C': 7.0898706115848, 'gamma': 0.019733102115916366}.\n",
      "[I 2019-05-11 18:16:33,544] Finished trial#38 resulted in value: 0.22059007818672194. Current best value is 0.18533759717457643 with parameters: {'kernel': 'rbf', 'C': 7.0898706115848, 'gamma': 0.019733102115916366}.\n",
      "[I 2019-05-11 18:16:34,175] Finished trial#39 resulted in value: 0.2541466624475315. Current best value is 0.18533759717457643 with parameters: {'kernel': 'rbf', 'C': 7.0898706115848, 'gamma': 0.019733102115916366}.\n",
      "[I 2019-05-11 18:16:34,619] Finished trial#40 resulted in value: 0.4312612070778088. Current best value is 0.18533759717457643 with parameters: {'kernel': 'rbf', 'C': 7.0898706115848, 'gamma': 0.019733102115916366}.\n",
      "[I 2019-05-11 18:16:35,301] Finished trial#41 resulted in value: 0.2527970281641243. Current best value is 0.18533759717457643 with parameters: {'kernel': 'rbf', 'C': 7.0898706115848, 'gamma': 0.019733102115916366}.\n",
      "[I 2019-05-11 18:16:35,986] Finished trial#42 resulted in value: 0.35814771583426064. Current best value is 0.18533759717457643 with parameters: {'kernel': 'rbf', 'C': 7.0898706115848, 'gamma': 0.019733102115916366}.\n",
      "[I 2019-05-11 18:16:36,541] Finished trial#43 resulted in value: 0.18957307800580203. Current best value is 0.18533759717457643 with parameters: {'kernel': 'rbf', 'C': 7.0898706115848, 'gamma': 0.019733102115916366}.\n",
      "[I 2019-05-11 18:16:37,100] Finished trial#44 resulted in value: 0.22901165361459042. Current best value is 0.18533759717457643 with parameters: {'kernel': 'rbf', 'C': 7.0898706115848, 'gamma': 0.019733102115916366}.\n",
      "[I 2019-05-11 18:16:37,579] Finished trial#45 resulted in value: 0.468031039981894. Current best value is 0.18533759717457643 with parameters: {'kernel': 'rbf', 'C': 7.0898706115848, 'gamma': 0.019733102115916366}.\n",
      "[I 2019-05-11 18:16:38,175] Finished trial#46 resulted in value: 0.22900152489604098. Current best value is 0.18533759717457643 with parameters: {'kernel': 'rbf', 'C': 7.0898706115848, 'gamma': 0.019733102115916366}.\n",
      "[I 2019-05-11 18:16:38,815] Finished trial#47 resulted in value: 0.24299724848121618. Current best value is 0.18533759717457643 with parameters: {'kernel': 'rbf', 'C': 7.0898706115848, 'gamma': 0.019733102115916366}.\n",
      "[I 2019-05-11 18:16:39,464] Finished trial#48 resulted in value: 0.25421588699982467. Current best value is 0.18533759717457643 with parameters: {'kernel': 'rbf', 'C': 7.0898706115848, 'gamma': 0.019733102115916366}.\n",
      "[I 2019-05-11 18:16:40,090] Finished trial#49 resulted in value: 0.21475775248625106. Current best value is 0.18533759717457643 with parameters: {'kernel': 'rbf', 'C': 7.0898706115848, 'gamma': 0.019733102115916366}.\n",
      "[I 2019-05-11 18:16:40,694] Finished trial#50 resulted in value: 0.20495769339041747. Current best value is 0.18533759717457643 with parameters: {'kernel': 'rbf', 'C': 7.0898706115848, 'gamma': 0.019733102115916366}.\n",
      "[I 2019-05-11 18:16:41,141] Finished trial#51 resulted in value: 0.4298626056792074. Current best value is 0.18533759717457643 with parameters: {'kernel': 'rbf', 'C': 7.0898706115848, 'gamma': 0.019733102115916366}.\n",
      "[I 2019-05-11 18:16:41,749] Finished trial#52 resulted in value: 0.21779287538951908. Current best value is 0.18533759717457643 with parameters: {'kernel': 'rbf', 'C': 7.0898706115848, 'gamma': 0.019733102115916366}.\n",
      "[I 2019-05-11 18:16:42,363] Finished trial#53 resulted in value: 0.2092526891747749. Current best value is 0.18533759717457643 with parameters: {'kernel': 'rbf', 'C': 7.0898706115848, 'gamma': 0.019733102115916366}.\n",
      "[I 2019-05-11 18:16:43,091] Finished trial#54 resulted in value: 0.339866845770352. Current best value is 0.18533759717457643 with parameters: {'kernel': 'rbf', 'C': 7.0898706115848, 'gamma': 0.019733102115916366}.\n",
      "[I 2019-05-11 18:16:43,638] Finished trial#55 resulted in value: 0.2050665945781318. Current best value is 0.18533759717457643 with parameters: {'kernel': 'rbf', 'C': 7.0898706115848, 'gamma': 0.019733102115916366}.\n",
      "[I 2019-05-11 18:16:44,270] Finished trial#56 resulted in value: 0.2429973881876789. Current best value is 0.18533759717457643 with parameters: {'kernel': 'rbf', 'C': 7.0898706115848, 'gamma': 0.019733102115916366}.\n",
      "[I 2019-05-11 18:16:44,750] Finished trial#57 resulted in value: 0.43265980847641017. Current best value is 0.18533759717457643 with parameters: {'kernel': 'rbf', 'C': 7.0898706115848, 'gamma': 0.019733102115916366}.\n",
      "[I 2019-05-11 18:16:45,311] Finished trial#58 resulted in value: 0.22058022888109785. Current best value is 0.18533759717457643 with parameters: {'kernel': 'rbf', 'C': 7.0898706115848, 'gamma': 0.019733102115916366}.\n",
      "[I 2019-05-11 18:16:45,887] Finished trial#59 resulted in value: 0.20364843427474544. Current best value is 0.18533759717457643 with parameters: {'kernel': 'rbf', 'C': 7.0898706115848, 'gamma': 0.019733102115916366}.\n",
      "[I 2019-05-11 18:16:46,449] Finished trial#60 resulted in value: 0.18673633827964076. Current best value is 0.18533759717457643 with parameters: {'kernel': 'rbf', 'C': 7.0898706115848, 'gamma': 0.019733102115916366}.\n",
      "[I 2019-05-11 18:16:46,936] Finished trial#61 resulted in value: 0.4703721011782144. Current best value is 0.18533759717457643 with parameters: {'kernel': 'rbf', 'C': 7.0898706115848, 'gamma': 0.019733102115916366}.\n",
      "[I 2019-05-11 18:16:47,603] Finished trial#62 resulted in value: 0.2556241979975873. Current best value is 0.18533759717457643 with parameters: {'kernel': 'rbf', 'C': 7.0898706115848, 'gamma': 0.019733102115916366}.\n",
      "[I 2019-05-11 18:16:48,301] Finished trial#63 resulted in value: 0.29917866570548635. Current best value is 0.18533759717457643 with parameters: {'kernel': 'rbf', 'C': 7.0898706115848, 'gamma': 0.019733102115916366}.\n",
      "[I 2019-05-11 18:16:48,924] Finished trial#64 resulted in value: 0.2485324185354152. Current best value is 0.18533759717457643 with parameters: {'kernel': 'rbf', 'C': 7.0898706115848, 'gamma': 0.019733102115916366}.\n",
      "[I 2019-05-11 18:16:49,469] Finished trial#65 resulted in value: 0.18533759717457643. Current best value is 0.18533759717457643 with parameters: {'kernel': 'rbf', 'C': 7.0898706115848, 'gamma': 0.019733102115916366}.\n",
      "[I 2019-05-11 18:16:50,021] Finished trial#66 resulted in value: 0.20083125345336905. Current best value is 0.18533759717457643 with parameters: {'kernel': 'rbf', 'C': 7.0898706115848, 'gamma': 0.019733102115916366}.\n",
      "[I 2019-05-11 18:16:50,582] Finished trial#67 resulted in value: 0.1867460478788019. Current best value is 0.18533759717457643 with parameters: {'kernel': 'rbf', 'C': 7.0898706115848, 'gamma': 0.019733102115916366}.\n",
      "[I 2019-05-11 18:16:51,171] Finished trial#68 resulted in value: 0.18955323968809135. Current best value is 0.18533759717457643 with parameters: {'kernel': 'rbf', 'C': 7.0898706115848, 'gamma': 0.019733102115916366}.\n",
      "[I 2019-05-11 18:16:51,757] Finished trial#69 resulted in value: 0.22481570971232345. Current best value is 0.18533759717457643 with parameters: {'kernel': 'rbf', 'C': 7.0898706115848, 'gamma': 0.019733102115916366}.\n",
      "[I 2019-05-11 18:16:52,377] Finished trial#70 resulted in value: 0.1895729382993393. Current best value is 0.18533759717457643 with parameters: {'kernel': 'rbf', 'C': 7.0898706115848, 'gamma': 0.019733102115916366}.\n",
      "[I 2019-05-11 18:16:52,958] Finished trial#71 resulted in value: 0.19238013010862876. Current best value is 0.18533759717457643 with parameters: {'kernel': 'rbf', 'C': 7.0898706115848, 'gamma': 0.019733102115916366}.\n",
      "[I 2019-05-11 18:16:53,501] Finished trial#72 resulted in value: 0.22625398774634609. Current best value is 0.18533759717457643 with parameters: {'kernel': 'rbf', 'C': 7.0898706115848, 'gamma': 0.019733102115916366}.\n",
      "[I 2019-05-11 18:16:54,156] Finished trial#73 resulted in value: 0.2584216802077155. Current best value is 0.18533759717457643 with parameters: {'kernel': 'rbf', 'C': 7.0898706115848, 'gamma': 0.019733102115916366}.\n"
     ]
    },
    {
     "name": "stderr",
     "output_type": "stream",
     "text": [
      "[I 2019-05-11 18:16:54,899] Finished trial#74 resulted in value: 0.22035215808065678. Current best value is 0.18533759717457643 with parameters: {'kernel': 'rbf', 'C': 7.0898706115848, 'gamma': 0.019733102115916366}.\n",
      "[I 2019-05-11 18:16:55,431] Finished trial#75 resulted in value: 0.4298626056792074. Current best value is 0.18533759717457643 with parameters: {'kernel': 'rbf', 'C': 7.0898706115848, 'gamma': 0.019733102115916366}.\n",
      "[I 2019-05-11 18:16:56,027] Finished trial#76 resulted in value: 0.20220002752217314. Current best value is 0.18533759717457643 with parameters: {'kernel': 'rbf', 'C': 7.0898706115848, 'gamma': 0.019733102115916366}.\n",
      "[I 2019-05-11 18:16:56,600] Finished trial#77 resulted in value: 0.19097153969794056. Current best value is 0.18533759717457643 with parameters: {'kernel': 'rbf', 'C': 7.0898706115848, 'gamma': 0.019733102115916366}.\n",
      "[I 2019-05-11 18:16:57,200] Finished trial#78 resulted in value: 0.22203834523283128. Current best value is 0.18533759717457643 with parameters: {'kernel': 'rbf', 'C': 7.0898706115848, 'gamma': 0.019733102115916366}.\n",
      "[I 2019-05-11 18:16:57,722] Finished trial#79 resulted in value: 0.5422552674575449. Current best value is 0.18533759717457643 with parameters: {'kernel': 'rbf', 'C': 7.0898706115848, 'gamma': 0.019733102115916366}.\n",
      "[I 2019-05-11 18:16:58,315] Finished trial#80 resulted in value: 0.216384284978831. Current best value is 0.18533759717457643 with parameters: {'kernel': 'rbf', 'C': 7.0898706115848, 'gamma': 0.019733102115916366}.\n",
      "[I 2019-05-11 18:16:58,937] Finished trial#81 resulted in value: 0.20222999455843327. Current best value is 0.18533759717457643 with parameters: {'kernel': 'rbf', 'C': 7.0898706115848, 'gamma': 0.019733102115916366}.\n",
      "[I 2019-05-11 18:16:59,546] Finished trial#82 resulted in value: 0.22057037957547398. Current best value is 0.18533759717457643 with parameters: {'kernel': 'rbf', 'C': 7.0898706115848, 'gamma': 0.019733102115916366}.\n",
      "[I 2019-05-11 18:17:00,272] Finished trial#83 resulted in value: 0.35814771583426064. Current best value is 0.18533759717457643 with parameters: {'kernel': 'rbf', 'C': 7.0898706115848, 'gamma': 0.019733102115916366}.\n",
      "[I 2019-05-11 18:17:00,789] Finished trial#84 resulted in value: 0.393340681893274. Current best value is 0.18533759717457643 with parameters: {'kernel': 'rbf', 'C': 7.0898706115848, 'gamma': 0.019733102115916366}.\n",
      "[I 2019-05-11 18:17:01,406] Finished trial#85 resulted in value: 0.23590546901904408. Current best value is 0.18533759717457643 with parameters: {'kernel': 'rbf', 'C': 7.0898706115848, 'gamma': 0.019733102115916366}.\n",
      "[I 2019-05-11 18:17:01,961] Finished trial#86 resulted in value: 0.18394898478806176. Current best value is 0.18394898478806176 with parameters: {'kernel': 'rbf', 'C': 7.660525691175324, 'gamma': 0.013116664828190997}.\n",
      "[I 2019-05-11 18:17:02,659] Finished trial#87 resulted in value: 0.3455107773058027. Current best value is 0.18394898478806176 with parameters: {'kernel': 'rbf', 'C': 7.660525691175324, 'gamma': 0.013116664828190997}.\n",
      "[I 2019-05-11 18:17:03,249] Finished trial#88 resulted in value: 0.1993829864072596. Current best value is 0.18394898478806176 with parameters: {'kernel': 'rbf', 'C': 7.660525691175324, 'gamma': 0.013116664828190997}.\n",
      "[I 2019-05-11 18:17:03,728] Finished trial#89 resulted in value: 0.4733872460573091. Current best value is 0.18394898478806176 with parameters: {'kernel': 'rbf', 'C': 7.660525691175324, 'gamma': 0.013116664828190997}.\n",
      "[I 2019-05-11 18:17:04,291] Finished trial#90 resulted in value: 0.18955323968809135. Current best value is 0.18394898478806176 with parameters: {'kernel': 'rbf', 'C': 7.660525691175324, 'gamma': 0.013116664828190997}.\n",
      "[I 2019-05-11 18:17:04,873] Finished trial#91 resulted in value: 0.21496584526251894. Current best value is 0.18394898478806176 with parameters: {'kernel': 'rbf', 'C': 7.660525691175324, 'gamma': 0.013116664828190997}.\n",
      "[I 2019-05-11 18:17:05,411] Finished trial#92 resulted in value: 0.20643564805986148. Current best value is 0.18394898478806176 with parameters: {'kernel': 'rbf', 'C': 7.660525691175324, 'gamma': 0.013116664828190997}.\n",
      "[I 2019-05-11 18:17:06,085] Finished trial#93 resulted in value: 0.25561448839842615. Current best value is 0.18394898478806176 with parameters: {'kernel': 'rbf', 'C': 7.660525691175324, 'gamma': 0.013116664828190997}.\n",
      "[I 2019-05-11 18:17:06,570] Finished trial#94 resulted in value: 0.4706198705899036. Current best value is 0.18394898478806176 with parameters: {'kernel': 'rbf', 'C': 7.660525691175324, 'gamma': 0.013116664828190997}.\n",
      "[I 2019-05-11 18:17:07,127] Finished trial#95 resulted in value: 0.1881347999717793. Current best value is 0.18394898478806176 with parameters: {'kernel': 'rbf', 'C': 7.660525691175324, 'gamma': 0.013116664828190997}.\n",
      "[I 2019-05-11 18:17:07,778] Finished trial#96 resulted in value: 0.1923504424852942. Current best value is 0.18394898478806176 with parameters: {'kernel': 'rbf', 'C': 7.660525691175324, 'gamma': 0.013116664828190997}.\n",
      "[I 2019-05-11 18:17:08,337] Finished trial#97 resulted in value: 0.2135475452526696. Current best value is 0.18394898478806176 with parameters: {'kernel': 'rbf', 'C': 7.660525691175324, 'gamma': 0.013116664828190997}.\n",
      "[I 2019-05-11 18:17:08,983] Finished trial#98 resulted in value: 0.2513593089559526. Current best value is 0.18394898478806176 with parameters: {'kernel': 'rbf', 'C': 7.660525691175324, 'gamma': 0.013116664828190997}.\n",
      "[I 2019-05-11 18:17:09,431] Finished trial#99 resulted in value: 0.47059004326010623. Current best value is 0.18394898478806176 with parameters: {'kernel': 'rbf', 'C': 7.660525691175324, 'gamma': 0.013116664828190997}.\n"
     ]
    },
    {
     "name": "stdout",
     "output_type": "stream",
     "text": [
      "params: {'kernel': 'rbf', 'C': 7.660525691175324, 'gamma': 0.013116664828190997}\n"
     ]
    }
   ],
   "source": [
    "# 目的関数にデータを適用する\n",
    "f = partial(objective, X_train, y_train)\n",
    "\n",
    "# 最適化のセッションを作る\n",
    "study = optuna.create_study()\n",
    "\n",
    "# 100 回試行する\n",
    "study.optimize(f, n_trials=100)\n",
    "\n",
    "# 最適化したパラメータを出力する\n",
    "print('params:', study.best_params)"
   ]
  },
  {
   "cell_type": "code",
   "execution_count": 58,
   "metadata": {},
   "outputs": [
    {
     "name": "stdout",
     "output_type": "stream",
     "text": [
      "0.8156424581005587\n"
     ]
    }
   ],
   "source": [
    "op_model = SVC(**study.best_params)\n",
    "op_model.fit(X_train, y_train)\n",
    "print(op_model.score(X_test, y_test))"
   ]
  }
 ],
 "metadata": {
  "kernelspec": {
   "display_name": "Python 3",
   "language": "python",
   "name": "python3"
  },
  "language_info": {
   "codemirror_mode": {
    "name": "ipython",
    "version": 3
   },
   "file_extension": ".py",
   "mimetype": "text/x-python",
   "name": "python",
   "nbconvert_exporter": "python",
   "pygments_lexer": "ipython3",
   "version": "3.6.5"
  }
 },
 "nbformat": 4,
 "nbformat_minor": 2
}
