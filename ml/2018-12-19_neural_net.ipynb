{
 "cells": [
  {
   "cell_type": "code",
   "execution_count": 76,
   "metadata": {},
   "outputs": [],
   "source": [
    "import numpy as np\n",
    "import pandas as pd\n",
    "import math\n",
    "import random\n",
    "from matplotlib import pyplot\n",
    "from tqdm import tqdm_notebook"
   ]
  },
  {
   "cell_type": "code",
   "execution_count": 68,
   "metadata": {},
   "outputs": [],
   "source": [
    "class Neural:\n",
    "    def __init__(self, n_input, n_hidden, n_output):\n",
    "        self.hidden_weight = numpy.random.random_sample((n_hidden, n_input + 1))\n",
    "        self.output_weight = numpy.random.random_sample((n_output, n_hidden + 1))\n",
    "        self.hidden_momentum = numpy.zeros((n_hidden, n_input + 1))\n",
    "        self.output_momentum = numpy.zeros((n_output, n_hidden + 1))\n",
    "\n",
    "    def train(self, X, Y, epsilon, mu, epoch):\n",
    "        self.error = numpy.zeros(epoch)\n",
    "        n = X.shape[0]\n",
    "        m = X.shape[1]\n",
    "        Y = self.__prepare_Y(Y)\n",
    "        for epo in tqdm_notebook(range(epoch)):\n",
    "            for i in range(N):\n",
    "                x = X[i, :]\n",
    "                y = Y[i, :]\n",
    "                self.__update_weight(x, y, epsilon, mu)\n",
    "\n",
    "            self.error[epo] = self.__calc_error(X, Y)\n",
    "\n",
    "    def predict(self, X):\n",
    "        N = X.shape[0]\n",
    "        C = numpy.zeros(N).astype('int')\n",
    "        Y = numpy.zeros((N, X.shape[1]))\n",
    "        for i in range(N):\n",
    "            x = X[i, :]\n",
    "            z, y = self.__forward(x)\n",
    "            Y[i] = y\n",
    "            C[i] = y.argmax()\n",
    "\n",
    "        return (C, Y)\n",
    "\n",
    "    def error_graph(self):\n",
    "        pyplot.ylim(0.0, 2.0)\n",
    "        pyplot.plot(numpy.arange(0, self.error.shape[0]), self.error)\n",
    "        pyplot.show()\n",
    "\n",
    "    def __sigmoid(self, arr):\n",
    "        return numpy.vectorize(lambda x: 1.0 / (1.0 + math.exp(-x)))(arr)\n",
    "\n",
    "\n",
    "    def __forward(self, x):\n",
    "        # z: output in hidden layer, y: output in output layer\n",
    "        z = self.__sigmoid(self.hidden_weight.dot(numpy.r_[numpy.array([1]), x]))\n",
    "        y = self.__sigmoid(self.output_weight.dot(numpy.r_[numpy.array([1]), z]))\n",
    "\n",
    "        return (z, y)\n",
    "\n",
    "    def __update_weight(self, x, t, epsilon, mu):\n",
    "        z, y = self.__forward(x)\n",
    "\n",
    "        # update output_weight\n",
    "        output_delta = (y - t) * y * (1.0 - y)\n",
    "        _output_weight = self.output_weight\n",
    "        self.output_weight -= epsilon * output_delta.reshape((-1, 1)) * numpy.r_[numpy.array([1]), z] - mu * self.output_momentum\n",
    "        self.output_momentum = self.output_weight - _output_weight\n",
    "\n",
    "        # update hidden_weight\n",
    "        hidden_delta = (self.output_weight[:, 1:].T.dot(output_delta)) * z * (1.0 - z)\n",
    "        _hidden_weight = self.hidden_weight\n",
    "        self.hidden_weight -= epsilon * hidden_delta.reshape((-1, 1)) * numpy.r_[numpy.array([1]), x]\n",
    "        self.hidden_momentum = self.hidden_weight - _hidden_weight\n",
    "\n",
    "    def __prepare_Y(self, Y):\n",
    "        new_Y = []\n",
    "        for y in Y:\n",
    "            tmp_y = np.zeros(m)\n",
    "            tmp_y[t] = 1\n",
    "            new_Y.append(tmp_y)\n",
    "            \n",
    "        return np.array(new_Y)\n",
    "\n",
    "    def __calc_error(self, X, Y):\n",
    "        N = X.shape[0]\n",
    "        err = 0.0\n",
    "        for i in range(N):\n",
    "            x = X[i, :]\n",
    "            y = Y[i, :]\n",
    "\n",
    "            z, y_pred = self.__forward(x)\n",
    "            err += (y_pred - y).dot((y_pred - y).reshape((-1, 1))) / 2.0\n",
    "\n",
    "        return err"
   ]
  },
  {
   "cell_type": "code",
   "execution_count": 73,
   "metadata": {},
   "outputs": [
    {
     "data": {
      "application/vnd.jupyter.widget-view+json": {
       "model_id": "",
       "version_major": 2,
       "version_minor": 0
      },
      "text/plain": [
       "HBox(children=(IntProgress(value=0, max=10000), HTML(value='')))"
      ]
     },
     "metadata": {},
     "output_type": "display_data"
    },
    {
     "name": "stdout",
     "output_type": "stream",
     "text": [
      "\n"
     ]
    }
   ],
   "source": [
    "X = numpy.array([[0, 0], [0, 1], [1, 0], [1, 1]])\n",
    "Y = numpy.array([1, 0, 0, 1])\n",
    "N = X.shape[0] # number of data\n",
    "\n",
    "input_size = X.shape[1]\n",
    "hidden_size = 2\n",
    "output_size = 2\n",
    "epsilon = 0.1\n",
    "mu = 0.9\n",
    "epoch = 10000\n",
    "\n",
    "nn = Neural(input_size, hidden_size, output_size)\n",
    "nn.train(X, Y, epsilon, mu, epoch)"
   ]
  },
  {
   "cell_type": "code",
   "execution_count": 74,
   "metadata": {},
   "outputs": [
    {
     "data": {
      "image/png": "[encoded data removed]",
      "text/plain": [
       "<Figure size 432x288 with 1 Axes>"
      ]
     },
     "metadata": {},
     "output_type": "display_data"
    }
   ],
   "source": [
    "nn.error_graph()"
   ]
  },
  {
   "cell_type": "code",
   "execution_count": 75,
   "metadata": {},
   "outputs": [
    {
     "data": {
      "text/html": [
       "<div>\n",
       "<style scoped>\n",
       "    .dataframe tbody tr th:only-of-type {\n",
       "        vertical-align: middle;\n",
       "    }\n",
       "\n",
       "    .dataframe tbody tr th {\n",
       "        vertical-align: top;\n",
       "    }\n",
       "\n",
       "    .dataframe thead th {\n",
       "        text-align: right;\n",
       "    }\n",
       "</style>\n",
       "<table border=\"1\" class=\"dataframe\">\n",
       "  <thead>\n",
       "    <tr style=\"text-align: right;\">\n",
       "      <th></th>\n",
       "      <th>X1</th>\n",
       "      <th>X2</th>\n",
       "      <th>Y</th>\n",
       "      <th>0の確率</th>\n",
       "      <th>1の確率</th>\n",
       "      <th>答え</th>\n",
       "    </tr>\n",
       "  </thead>\n",
       "  <tbody>\n",
       "    <tr>\n",
       "      <th>0</th>\n",
       "      <td>0</td>\n",
       "      <td>0</td>\n",
       "      <td>1</td>\n",
       "      <td>0.008588</td>\n",
       "      <td>0.991063</td>\n",
       "      <td>1</td>\n",
       "    </tr>\n",
       "    <tr>\n",
       "      <th>1</th>\n",
       "      <td>0</td>\n",
       "      <td>1</td>\n",
       "      <td>0</td>\n",
       "      <td>0.006737</td>\n",
       "      <td>0.993367</td>\n",
       "      <td>1</td>\n",
       "    </tr>\n",
       "    <tr>\n",
       "      <th>2</th>\n",
       "      <td>1</td>\n",
       "      <td>0</td>\n",
       "      <td>0</td>\n",
       "      <td>0.005368</td>\n",
       "      <td>0.994971</td>\n",
       "      <td>1</td>\n",
       "    </tr>\n",
       "    <tr>\n",
       "      <th>3</th>\n",
       "      <td>1</td>\n",
       "      <td>1</td>\n",
       "      <td>1</td>\n",
       "      <td>0.004683</td>\n",
       "      <td>0.995750</td>\n",
       "      <td>1</td>\n",
       "    </tr>\n",
       "  </tbody>\n",
       "</table>\n",
       "</div>"
      ],
      "text/plain": [
       "   X1  X2  Y      0の確率      1の確率  答え\n",
       "0   0   0  1  0.008588  0.991063   1\n",
       "1   0   1  0  0.006737  0.993367   1\n",
       "2   1   0  0  0.005368  0.994971   1\n",
       "3   1   1  1  0.004683  0.995750   1"
      ]
     },
     "execution_count": 75,
     "metadata": {},
     "output_type": "execute_result"
    }
   ],
   "source": [
    "df_X = pd.DataFrame(X, columns=['X1', 'X2'])\n",
    "df_y = pd.DataFrame(Y, columns=['Y'])\n",
    "\n",
    "C, Y_prob = nn.predict(X)\n",
    "df_y_prob = pd.DataFrame(Y_prob, columns=['0の確率', '1の確率'])\n",
    "df_c = pd.DataFrame(C, columns=['答え'])\n",
    "\n",
    "df = pd.concat([df_X, df_y, df_y_prob, df_c], axis=1)\n",
    "df"
   ]
  },
  {
   "cell_type": "code",
   "execution_count": 77,
   "metadata": {},
   "outputs": [],
   "source": [
    "import random"
   ]
  },
  {
   "cell_type": "code",
   "execution_count": 87,
   "metadata": {},
   "outputs": [],
   "source": []
  },
  {
   "cell_type": "code",
   "execution_count": 129,
   "metadata": {},
   "outputs": [
    {
     "data": {
      "text/plain": [
       "(0.20317542432026658, 0.0821895564355003, 0.053701191665621595)"
      ]
     },
     "execution_count": 129,
     "metadata": {},
     "output_type": "execute_result"
    }
   ],
   "source": [
    "seed = 375\n",
    "np.random.seed(seed)\n",
    "np.random.rand(), np.random.rand(), np.random.rand()"
   ]
  },
  {
   "cell_type": "code",
   "execution_count": null,
   "metadata": {},
   "outputs": [],
   "source": []
  },
  {
   "cell_type": "code",
   "execution_count": 130,
   "metadata": {},
   "outputs": [
    {
     "name": "stderr",
     "output_type": "stream",
     "text": [
      "/Users/yutaro_ikeda/.pyenv/versions/3.6.5/lib/python3.6/site-packages/h5py/__init__.py:36: FutureWarning: Conversion of the second argument of issubdtype from `float` to `np.floating` is deprecated. In future, it will be treated as `np.float64 == np.dtype(float).type`.\n",
      "  from ._conv import register_converters as _register_converters\n",
      "Using TensorFlow backend.\n"
     ]
    }
   ],
   "source": []
  },
  {
   "cell_type": "code",
   "execution_count": null,
   "metadata": {},
   "outputs": [],
   "source": []
  }
 ],
 "metadata": {
  "kernelspec": {
   "display_name": "Python 3",
   "language": "python",
   "name": "python3"
  },
  "language_info": {
   "codemirror_mode": {
    "name": "ipython",
    "version": 3
   },
   "file_extension": ".py",
   "mimetype": "text/x-python",
   "name": "python",
   "nbconvert_exporter": "python",
   "pygments_lexer": "ipython3",
   "version": "3.6.5"
  }
 },
 "nbformat": 4,
 "nbformat_minor": 2
}
