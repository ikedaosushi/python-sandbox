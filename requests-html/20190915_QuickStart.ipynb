{
 "cells": [
  {
   "cell_type": "code",
   "execution_count": 1,
   "metadata": {},
   "outputs": [],
   "source": [
    "import asyncio\n",
    "import nest_asyncio\n",
    "nest_asyncio.apply()"
   ]
  },
  {
   "cell_type": "markdown",
   "metadata": {},
   "source": [
    "# 環境"
   ]
  },
  {
   "cell_type": "code",
   "execution_count": 2,
   "metadata": {},
   "outputs": [
    {
     "name": "stdout",
     "output_type": "stream",
     "text": [
      "Python 3.6.5\n"
     ]
    }
   ],
   "source": [
    "%%bash\n",
    "python -V"
   ]
  },
  {
   "cell_type": "code",
   "execution_count": 3,
   "metadata": {},
   "outputs": [
    {
     "name": "stdout",
     "output_type": "stream",
     "text": [
      "requests-html==0.10.0\n"
     ]
    }
   ],
   "source": [
    "%%bash\n",
    "pip freeze | grep \"requests-html\""
   ]
  },
  {
   "cell_type": "markdown",
   "metadata": {},
   "source": [
    "# 基本の使い方"
   ]
  },
  {
   "cell_type": "code",
   "execution_count": 4,
   "metadata": {},
   "outputs": [
    {
     "data": {
      "text/plain": [
       "'https://www.python.jp/'"
      ]
     },
     "execution_count": 4,
     "metadata": {},
     "output_type": "execute_result"
    }
   ],
   "source": [
    "from requests_html import HTMLSession\n",
    "\n",
    "session = HTMLSession()\n",
    "\n",
    "resp = session.get(\"https://www.python.jp/\")\n",
    "resp.html.url"
   ]
  },
  {
   "cell_type": "markdown",
   "metadata": {},
   "source": [
    "# 要素の取得"
   ]
  },
  {
   "cell_type": "code",
   "execution_count": 5,
   "metadata": {},
   "outputs": [
    {
     "data": {
      "text/plain": [
       "'<h4 class=\"card-title\"><a href=\"pages/about.html\">Python'"
      ]
     },
     "execution_count": 5,
     "metadata": {},
     "output_type": "execute_result"
    }
   ],
   "source": [
    "# find()でCSS Selectorで要素を探します。first=Trueにすることで最初の要素を取得できる\n",
    "title = resp.html.find('h4.card-title', first=True)\n",
    "\n",
    "title.text # => Pythonとは\n",
    "title.attrs # => {'class': ('card-title',)}\n",
    "title.find('a') # => [<Element 'a' href='pages/about.html'>]\n",
    "title.search('{}とは')[0] # => Python"
   ]
  },
  {
   "cell_type": "code",
   "execution_count": 6,
   "metadata": {},
   "outputs": [
    {
     "name": "stdout",
     "output_type": "stream",
     "text": [
      "title.text => Pythonとは\n",
      "title.attrs => {'class': ('card-title',)}\n",
      "title.find('a') => [<Element 'a' href='pages/about.html'>]\n",
      "search result of '{}とは' => <h4 class=\"card-title\"><a href=\"pages/about.html\">Python\n"
     ]
    }
   ],
   "source": [
    "title = resp.html.find('h4.card-title', first=True)\n",
    "print(\"title.text =>\", title.text)\n",
    "print(\"title.attrs =>\", title.attrs)\n",
    "print(\"title.find('a') =>\", title.find('a'))\n",
    "print(\"search result of '{}とは' =>\", title.search('{}とは')[0])"
   ]
  },
  {
   "cell_type": "markdown",
   "metadata": {},
   "source": [
    "# 非同期処理の実行"
   ]
  },
  {
   "cell_type": "code",
   "execution_count": 11,
   "metadata": {},
   "outputs": [
    {
     "name": "stdout",
     "output_type": "stream",
     "text": [
      "https://pycon.jp/2017/ja/\n",
      "https://pycon.jp/2019/\n",
      "https://pycon.jp/2018/\n"
     ]
    }
   ],
   "source": [
    "from requests_html import AsyncHTMLSession\n",
    "asession = AsyncHTMLSession()\n",
    "\n",
    "async def get_pyconjp_2017():\n",
    "    r = await asession.get(f\"https://pycon.jp/2017/\")\n",
    "    return r\n",
    "\n",
    "async def get_pyconjp_2018():\n",
    "    r = await asession.get(f\"https://pycon.jp/2018/\")\n",
    "    return r\n",
    "\n",
    "async def get_pyconjp_2019():\n",
    "    r = await asession.get(f\"https://pycon.jp/2019/\")\n",
    "    return r\n",
    "\n",
    "results = asession.run(get_pyconjp_2017, get_pyconjp_2018, get_pyconjp_2019)\n",
    "\n",
    "for result in results:\n",
    "    print(result.html.url)\n",
    "# => https://pycon.jp/2018/\n",
    "# => https://pycon.jp/2019/\n",
    "# => https://pycon.jp/2017/ja/"
   ]
  },
  {
   "cell_type": "markdown",
   "metadata": {},
   "source": [
    "# Javascriptの実行"
   ]
  },
  {
   "cell_type": "code",
   "execution_count": 14,
   "metadata": {
    "scrolled": true
   },
   "outputs": [
    {
     "name": "stdout",
     "output_type": "stream",
     "text": [
      "before: None\n",
      "after: Conference\n"
     ]
    }
   ],
   "source": [
    "from requests_html import AsyncHTMLSession\n",
    "asession = AsyncHTMLSession()\n",
    "\n",
    "async def exec_js():\n",
    "    resp = await asession.get(\"https://pycon.jp/2019/\")\n",
    "    print(\"before:\", resp.html.find(\"h2\", first=True)) # => None\n",
    "    await resp.html.arender()\n",
    "    print(\"after:\", resp.html.find(\"h2\", first=True).text) # => {'https://pyconjp.connpass.com/event/139133/', ...}\n",
    "\n",
    "loop = asyncio.get_event_loop() \n",
    "loop.run_until_complete(exec_js())\n",
    "\n",
    "# before: None\n",
    "# after: Conference"
   ]
  },
  {
   "cell_type": "markdown",
   "metadata": {},
   "source": [
    "# その他便利機能"
   ]
  },
  {
   "cell_type": "code",
   "execution_count": 15,
   "metadata": {},
   "outputs": [
    {
     "data": {
      "text/plain": [
       "{'http://www.google.com/calendar/ical/kj670le78ju5alcbt1khect5ks%40group.calendar.google.com/public/basic.ics',\n",
       " 'http://www.sbcr.jp/products/4797395440.html',\n",
       " 'https://discordapp.com/',\n",
       " 'https://djangocongress.jp/',\n",
       " 'https://docs.python.jp',\n",
       " 'https://docs.python.org/ja/2.7/',\n",
       " 'https://docs.python.org/ja/3/',\n",
       " 'https://github.com/python-doc-ja/python-doc-ja',\n",
       " 'https://rcos.nii.ac.jp/',\n",
       " 'https://twitter.com/python_japan/',\n",
       " 'https://www.nii.ac.jp/about/recruit/2018/0709-2.html',\n",
       " 'https://www.nii.ac.jp/about/recruit/2018/1024.html',\n",
       " 'https://www.python.org/dev/peps/pep-0545/',\n",
       " 'https://www.python.org/downloads/release/python-2715/',\n",
       " 'https://www.python.org/downloads/release/python-372/',\n",
       " 'index.html',\n",
       " 'index_15.html',\n",
       " 'index_2.html',\n",
       " 'index_3.html',\n",
       " 'index_4.html',\n",
       " 'index_5.html',\n",
       " 'install/install.html',\n",
       " 'jobboard/index.html',\n",
       " 'jobboard/nii-2.html',\n",
       " 'jobboard/nii.html',\n",
       " 'news/20190227_docs_moved.html',\n",
       " 'news/djangocongressjp2019.html',\n",
       " 'news/index.html',\n",
       " 'news/wakarupython.html',\n",
       " 'pages/about.html',\n",
       " 'pages/community.html',\n",
       " 'pages/contact.html',\n",
       " 'pages/privacy.html',\n",
       " 'pages/pythonjp_discord.html'}"
      ]
     },
     "execution_count": 15,
     "metadata": {},
     "output_type": "execute_result"
    }
   ],
   "source": [
    "resp = session.get(\"https://www.python.jp/\")\n",
    "resp.html.links"
   ]
  },
  {
   "cell_type": "code",
   "execution_count": 8,
   "metadata": {},
   "outputs": [
    {
     "data": {
      "text/plain": [
       "{'https://pyconjp/2019'}"
      ]
     },
     "execution_count": 8,
     "metadata": {},
     "output_type": "execute_result"
    }
   ],
   "source": [
    "from requests_html import HTML\n",
    "doc = \"\"\"<a href='https://pyconjp/2019'>\"\"\"\n",
    "html = HTML(html=doc)\n",
    "html.links"
   ]
  },
  {
   "cell_type": "code",
   "execution_count": null,
   "metadata": {},
   "outputs": [],
   "source": []
  },
  {
   "cell_type": "code",
   "execution_count": null,
   "metadata": {},
   "outputs": [],
   "source": []
  },
  {
   "cell_type": "code",
   "execution_count": null,
   "metadata": {},
   "outputs": [],
   "source": []
  }
 ],
 "metadata": {
  "kernelspec": {
   "display_name": "Python 3",
   "language": "python",
   "name": "python3"
  },
  "language_info": {
   "codemirror_mode": {
    "name": "ipython",
    "version": 3
   },
   "file_extension": ".py",
   "mimetype": "text/x-python",
   "name": "python",
   "nbconvert_exporter": "python",
   "pygments_lexer": "ipython3",
   "version": "3.6.5"
  }
 },
 "nbformat": 4,
 "nbformat_minor": 2
}
