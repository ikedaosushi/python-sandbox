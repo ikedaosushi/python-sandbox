{
 "cells": [
  {
   "cell_type": "code",
   "execution_count": 72,
   "metadata": {},
   "outputs": [],
   "source": [
    "%load_ext autoreload\n",
    "%autoreload 2\n",
    "%matplotlib inline\n",
    "from IPython.display import Image\n",
    "\n",
    "import os, sys, re, datetime, time\n",
    "from pathlib import Path\n",
    "\n",
    "pj_dir = Path(os.getcwd()).parents[0]\n",
    "data_dir = pj_dir/'data'\n",
    "img_dir = pj_dir/'images'\n",
    "src_dir = pj_dir/'src'\n",
    "sys.path.append(str(src_dir))\n",
    "\n",
    "from matplotlib import pyplot as plt\n",
    "import japanize_matplotlib\n",
    "import seaborn as sns\n",
    "plt.style.use(\"bmh\")\n",
    "import numpy as np\n",
    "import pandas as pd\n",
    "import dask.dataframe as dd\n",
    "\n",
    "from tqdm import tqdm_notebook\n",
    "from dotenv import load_dotenv"
   ]
  },
  {
   "cell_type": "code",
   "execution_count": 21,
   "metadata": {},
   "outputs": [],
   "source": [
    "from requests_html import HTMLSession\n",
    "from urllib.parse import urlparse, urljoin"
   ]
  },
  {
   "cell_type": "code",
   "execution_count": 2,
   "metadata": {},
   "outputs": [],
   "source": [
    "session = HTMLSession()"
   ]
  },
  {
   "cell_type": "code",
   "execution_count": 3,
   "metadata": {},
   "outputs": [],
   "source": [
    "endpoint_top = 'https://qiita.com/advent-calendar/{}'"
   ]
  },
  {
   "cell_type": "code",
   "execution_count": 4,
   "metadata": {},
   "outputs": [],
   "source": [
    "year = 2017"
   ]
  },
  {
   "cell_type": "code",
   "execution_count": 9,
   "metadata": {},
   "outputs": [],
   "source": [
    "headers = {\n",
    "    'accept-language': 'ja',\n",
    "    'User-Agent': 'Mozilla/5.0 (Macintosh; Intel Mac OS X 10_14_0) AppleWebKit/537.36 (KHTML, like Gecko) Chrome/71.0.3578.98 Safari/537.36'\n",
    "}"
   ]
  },
  {
   "cell_type": "code",
   "execution_count": 71,
   "metadata": {},
   "outputs": [
    {
     "name": "stdout",
     "output_type": "stream",
     "text": [
      "url_base is: https://qiita.com/\n"
     ]
    }
   ],
   "source": [
    "endpoint = 'https://qiita.com/'\n",
    "resp = session.get(endpoint, headers=headers)\n",
    "url_base = '{uri.scheme}://{uri.netloc}/'.format(uri=urlparse(resp.url))\n",
    "print('url_base is:', url_base)"
   ]
  },
  {
   "cell_type": "markdown",
   "metadata": {},
   "source": [
    "# AdventCalendar TOPページ"
   ]
  },
  {
   "cell_type": "code",
   "execution_count": 5,
   "metadata": {},
   "outputs": [],
   "source": [
    "endpoint = endpoint_top.format(year)\n",
    "resp = session.get(endpoint, headers=headers)"
   ]
  },
  {
   "cell_type": "code",
   "execution_count": 6,
   "metadata": {},
   "outputs": [],
   "source": [
    "advent_calendar_cards = resp.html.find('.adventCalendarCard')"
   ]
  },
  {
   "cell_type": "code",
   "execution_count": 7,
   "metadata": {},
   "outputs": [],
   "source": [
    "advent_calendar_card = advent_calendar_cards[1]"
   ]
  },
  {
   "cell_type": "code",
   "execution_count": 22,
   "metadata": {},
   "outputs": [],
   "source": [
    "genre_name = advent_calendar_card.find('.adventCalendarCard_title-programming_languages', first=True).text\n",
    "showall_link = advent_calendar_card.find('.adventCalendarCard_block_showAll', first=True).attrs.get('href')\n",
    "calendar_num = advent_calendar_card.find('.adventCalendarCard_block_count', first=True)\n",
    "participant_num = advent_calendar_card.find('.adventCalendarCard_block_stocks', first=True)"
   ]
  },
  {
   "cell_type": "code",
   "execution_count": 23,
   "metadata": {},
   "outputs": [],
   "source": [
    "showall_link = urljoin(url_base, showall_link)"
   ]
  },
  {
   "cell_type": "code",
   "execution_count": 103,
   "metadata": {},
   "outputs": [
    {
     "data": {
      "application/vnd.jupyter.widget-view+json": {
       "model_id": "4f659c21ba53428cacb1436568029563",
       "version_major": 2,
       "version_minor": 0
      },
      "text/plain": [
       "HBox(children=(IntProgress(value=0, max=3), HTML(value='')))"
      ]
     },
     "metadata": {},
     "output_type": "display_data"
    },
    {
     "name": "stdout",
     "output_type": "stream",
     "text": [
      "\n"
     ]
    }
   ],
   "source": [
    "years = [2015, 2016, 2017]\n",
    "\n",
    "ls_top = []\n",
    "for year in tqdm_notebook(years):\n",
    "    endpoint = endpoint_top.format(year)\n",
    "    resp = session.get(endpoint, headers=headers)\n",
    "    time.sleep(1)\n",
    "    \n",
    "    advent_calendar_cards = resp.html.find('.adventCalendarCard')\n",
    "    \n",
    "    for advent_calendar_card in advent_calendar_cards:\n",
    "        genre_name = advent_calendar_card.find(':root > a', first=True).text\n",
    "        showall_link = advent_calendar_card.find(':root > a', first=True).attrs.get('href')\n",
    "        showall_link = urljoin(url_base, showall_link)\n",
    "        n_calendar = advent_calendar_card.find('.adventCalendarCard_block_count', first=True).text\n",
    "        n_participant = advent_calendar_card.find('.adventCalendarCard_block_stocks', first=True).text.replace('参加者数', '')\n",
    "        \n",
    "        dic_top = {\n",
    "            'year': year, 'name': genre_name, 'url': showall_link, 'n_calendar': n_calendar, 'n_participant': n_participant\n",
    "        }\n",
    "        ls_top.append(dic_top)"
   ]
  },
  {
   "cell_type": "code",
   "execution_count": 104,
   "metadata": {},
   "outputs": [],
   "source": [
    "df_top = pd.DataFrame(ls_top)"
   ]
  },
  {
   "cell_type": "code",
   "execution_count": 105,
   "metadata": {},
   "outputs": [
    {
     "data": {
      "text/html": [
       "<div>\n",
       "<style scoped>\n",
       "    .dataframe tbody tr th:only-of-type {\n",
       "        vertical-align: middle;\n",
       "    }\n",
       "\n",
       "    .dataframe tbody tr th {\n",
       "        vertical-align: top;\n",
       "    }\n",
       "\n",
       "    .dataframe thead th {\n",
       "        text-align: right;\n",
       "    }\n",
       "</style>\n",
       "<table border=\"1\" class=\"dataframe\">\n",
       "  <thead>\n",
       "    <tr style=\"text-align: right;\">\n",
       "      <th></th>\n",
       "      <th>n_calendar</th>\n",
       "      <th>n_participant</th>\n",
       "      <th>name</th>\n",
       "      <th>url</th>\n",
       "      <th>year</th>\n",
       "    </tr>\n",
       "  </thead>\n",
       "  <tbody>\n",
       "    <tr>\n",
       "      <th>0</th>\n",
       "      <td>23</td>\n",
       "      <td>144</td>\n",
       "      <td>未設定</td>\n",
       "      <td>https://qiita.com/advent-calendar/2015/categor...</td>\n",
       "      <td>2015</td>\n",
       "    </tr>\n",
       "    <tr>\n",
       "      <th>1</th>\n",
       "      <td>57</td>\n",
       "      <td>674</td>\n",
       "      <td>プログラミング言語</td>\n",
       "      <td>https://qiita.com/advent-calendar/2015/categor...</td>\n",
       "      <td>2015</td>\n",
       "    </tr>\n",
       "    <tr>\n",
       "      <th>2</th>\n",
       "      <td>54</td>\n",
       "      <td>517</td>\n",
       "      <td>ライブラリ・フレームワーク</td>\n",
       "      <td>https://qiita.com/advent-calendar/2015/categor...</td>\n",
       "      <td>2015</td>\n",
       "    </tr>\n",
       "    <tr>\n",
       "      <th>3</th>\n",
       "      <td>16</td>\n",
       "      <td>110</td>\n",
       "      <td>データベース</td>\n",
       "      <td>https://qiita.com/advent-calendar/2015/categor...</td>\n",
       "      <td>2015</td>\n",
       "    </tr>\n",
       "    <tr>\n",
       "      <th>4</th>\n",
       "      <td>25</td>\n",
       "      <td>282</td>\n",
       "      <td>Webテクノロジー</td>\n",
       "      <td>https://qiita.com/advent-calendar/2015/categor...</td>\n",
       "      <td>2015</td>\n",
       "    </tr>\n",
       "    <tr>\n",
       "      <th>5</th>\n",
       "      <td>11</td>\n",
       "      <td>138</td>\n",
       "      <td>モバイル</td>\n",
       "      <td>https://qiita.com/advent-calendar/2015/categor...</td>\n",
       "      <td>2015</td>\n",
       "    </tr>\n",
       "    <tr>\n",
       "      <th>6</th>\n",
       "      <td>11</td>\n",
       "      <td>163</td>\n",
       "      <td>DevOps・インフラ</td>\n",
       "      <td>https://qiita.com/advent-calendar/2015/categor...</td>\n",
       "      <td>2015</td>\n",
       "    </tr>\n",
       "    <tr>\n",
       "      <th>7</th>\n",
       "      <td>16</td>\n",
       "      <td>192</td>\n",
       "      <td>IoT・ハードウェア</td>\n",
       "      <td>https://qiita.com/advent-calendar/2015/categor...</td>\n",
       "      <td>2015</td>\n",
       "    </tr>\n",
       "    <tr>\n",
       "      <th>8</th>\n",
       "      <td>10</td>\n",
       "      <td>87</td>\n",
       "      <td>OS</td>\n",
       "      <td>https://qiita.com/advent-calendar/2015/categor...</td>\n",
       "      <td>2015</td>\n",
       "    </tr>\n",
       "    <tr>\n",
       "      <th>9</th>\n",
       "      <td>7</td>\n",
       "      <td>92</td>\n",
       "      <td>エディタ</td>\n",
       "      <td>https://qiita.com/advent-calendar/2015/categor...</td>\n",
       "      <td>2015</td>\n",
       "    </tr>\n",
       "    <tr>\n",
       "      <th>10</th>\n",
       "      <td>12</td>\n",
       "      <td>119</td>\n",
       "      <td>学術</td>\n",
       "      <td>https://qiita.com/advent-calendar/2015/categor...</td>\n",
       "      <td>2015</td>\n",
       "    </tr>\n",
       "    <tr>\n",
       "      <th>11</th>\n",
       "      <td>32</td>\n",
       "      <td>410</td>\n",
       "      <td>サービス・アプリケーション</td>\n",
       "      <td>https://qiita.com/advent-calendar/2015/categor...</td>\n",
       "      <td>2015</td>\n",
       "    </tr>\n",
       "    <tr>\n",
       "      <th>12</th>\n",
       "      <td>78</td>\n",
       "      <td>1168</td>\n",
       "      <td>企業・学校・団体</td>\n",
       "      <td>https://qiita.com/advent-calendar/2015/categor...</td>\n",
       "      <td>2015</td>\n",
       "    </tr>\n",
       "    <tr>\n",
       "      <th>13</th>\n",
       "      <td>25</td>\n",
       "      <td>199</td>\n",
       "      <td>その他</td>\n",
       "      <td>https://qiita.com/advent-calendar/2015/categor...</td>\n",
       "      <td>2015</td>\n",
       "    </tr>\n",
       "    <tr>\n",
       "      <th>14</th>\n",
       "      <td>2</td>\n",
       "      <td>6</td>\n",
       "      <td>未設定</td>\n",
       "      <td>https://qiita.com/advent-calendar/2016/categor...</td>\n",
       "      <td>2016</td>\n",
       "    </tr>\n",
       "    <tr>\n",
       "      <th>15</th>\n",
       "      <td>78</td>\n",
       "      <td>854</td>\n",
       "      <td>プログラミング言語</td>\n",
       "      <td>https://qiita.com/advent-calendar/2016/categor...</td>\n",
       "      <td>2016</td>\n",
       "    </tr>\n",
       "    <tr>\n",
       "      <th>16</th>\n",
       "      <td>54</td>\n",
       "      <td>658</td>\n",
       "      <td>ライブラリ・フレームワーク</td>\n",
       "      <td>https://qiita.com/advent-calendar/2016/categor...</td>\n",
       "      <td>2016</td>\n",
       "    </tr>\n",
       "    <tr>\n",
       "      <th>17</th>\n",
       "      <td>13</td>\n",
       "      <td>89</td>\n",
       "      <td>データベース</td>\n",
       "      <td>https://qiita.com/advent-calendar/2016/categor...</td>\n",
       "      <td>2016</td>\n",
       "    </tr>\n",
       "    <tr>\n",
       "      <th>18</th>\n",
       "      <td>27</td>\n",
       "      <td>247</td>\n",
       "      <td>Webテクノロジー</td>\n",
       "      <td>https://qiita.com/advent-calendar/2016/categor...</td>\n",
       "      <td>2016</td>\n",
       "    </tr>\n",
       "    <tr>\n",
       "      <th>19</th>\n",
       "      <td>17</td>\n",
       "      <td>221</td>\n",
       "      <td>モバイル</td>\n",
       "      <td>https://qiita.com/advent-calendar/2016/categor...</td>\n",
       "      <td>2016</td>\n",
       "    </tr>\n",
       "    <tr>\n",
       "      <th>20</th>\n",
       "      <td>10</td>\n",
       "      <td>161</td>\n",
       "      <td>DevOps・インフラ</td>\n",
       "      <td>https://qiita.com/advent-calendar/2016/categor...</td>\n",
       "      <td>2016</td>\n",
       "    </tr>\n",
       "    <tr>\n",
       "      <th>21</th>\n",
       "      <td>13</td>\n",
       "      <td>128</td>\n",
       "      <td>IoT・ハードウェア</td>\n",
       "      <td>https://qiita.com/advent-calendar/2016/categor...</td>\n",
       "      <td>2016</td>\n",
       "    </tr>\n",
       "    <tr>\n",
       "      <th>22</th>\n",
       "      <td>8</td>\n",
       "      <td>57</td>\n",
       "      <td>OS</td>\n",
       "      <td>https://qiita.com/advent-calendar/2016/categor...</td>\n",
       "      <td>2016</td>\n",
       "    </tr>\n",
       "    <tr>\n",
       "      <th>23</th>\n",
       "      <td>12</td>\n",
       "      <td>151</td>\n",
       "      <td>エディタ</td>\n",
       "      <td>https://qiita.com/advent-calendar/2016/categor...</td>\n",
       "      <td>2016</td>\n",
       "    </tr>\n",
       "    <tr>\n",
       "      <th>24</th>\n",
       "      <td>19</td>\n",
       "      <td>189</td>\n",
       "      <td>学術</td>\n",
       "      <td>https://qiita.com/advent-calendar/2016/categor...</td>\n",
       "      <td>2016</td>\n",
       "    </tr>\n",
       "    <tr>\n",
       "      <th>25</th>\n",
       "      <td>41</td>\n",
       "      <td>459</td>\n",
       "      <td>サービス・アプリケーション</td>\n",
       "      <td>https://qiita.com/advent-calendar/2016/categor...</td>\n",
       "      <td>2016</td>\n",
       "    </tr>\n",
       "    <tr>\n",
       "      <th>26</th>\n",
       "      <td>144</td>\n",
       "      <td>2237</td>\n",
       "      <td>企業・学校・団体</td>\n",
       "      <td>https://qiita.com/advent-calendar/2016/categor...</td>\n",
       "      <td>2016</td>\n",
       "    </tr>\n",
       "    <tr>\n",
       "      <th>27</th>\n",
       "      <td>61</td>\n",
       "      <td>549</td>\n",
       "      <td>その他</td>\n",
       "      <td>https://qiita.com/advent-calendar/2016/categor...</td>\n",
       "      <td>2016</td>\n",
       "    </tr>\n",
       "    <tr>\n",
       "      <th>28</th>\n",
       "      <td>0</td>\n",
       "      <td>0</td>\n",
       "      <td>未設定</td>\n",
       "      <td>https://qiita.com/advent-calendar/2017/categor...</td>\n",
       "      <td>2017</td>\n",
       "    </tr>\n",
       "    <tr>\n",
       "      <th>29</th>\n",
       "      <td>89</td>\n",
       "      <td>918</td>\n",
       "      <td>プログラミング言語</td>\n",
       "      <td>https://qiita.com/advent-calendar/2017/categor...</td>\n",
       "      <td>2017</td>\n",
       "    </tr>\n",
       "    <tr>\n",
       "      <th>30</th>\n",
       "      <td>61</td>\n",
       "      <td>676</td>\n",
       "      <td>ライブラリ・フレームワーク</td>\n",
       "      <td>https://qiita.com/advent-calendar/2017/categor...</td>\n",
       "      <td>2017</td>\n",
       "    </tr>\n",
       "    <tr>\n",
       "      <th>31</th>\n",
       "      <td>9</td>\n",
       "      <td>75</td>\n",
       "      <td>データベース</td>\n",
       "      <td>https://qiita.com/advent-calendar/2017/categor...</td>\n",
       "      <td>2017</td>\n",
       "    </tr>\n",
       "    <tr>\n",
       "      <th>32</th>\n",
       "      <td>40</td>\n",
       "      <td>408</td>\n",
       "      <td>Webテクノロジー</td>\n",
       "      <td>https://qiita.com/advent-calendar/2017/categor...</td>\n",
       "      <td>2017</td>\n",
       "    </tr>\n",
       "    <tr>\n",
       "      <th>33</th>\n",
       "      <td>13</td>\n",
       "      <td>194</td>\n",
       "      <td>モバイル</td>\n",
       "      <td>https://qiita.com/advent-calendar/2017/categor...</td>\n",
       "      <td>2017</td>\n",
       "    </tr>\n",
       "    <tr>\n",
       "      <th>34</th>\n",
       "      <td>19</td>\n",
       "      <td>184</td>\n",
       "      <td>DevOps・インフラ</td>\n",
       "      <td>https://qiita.com/advent-calendar/2017/categor...</td>\n",
       "      <td>2017</td>\n",
       "    </tr>\n",
       "    <tr>\n",
       "      <th>35</th>\n",
       "      <td>18</td>\n",
       "      <td>224</td>\n",
       "      <td>IoT・ハードウェア</td>\n",
       "      <td>https://qiita.com/advent-calendar/2017/categor...</td>\n",
       "      <td>2017</td>\n",
       "    </tr>\n",
       "    <tr>\n",
       "      <th>36</th>\n",
       "      <td>6</td>\n",
       "      <td>52</td>\n",
       "      <td>OS</td>\n",
       "      <td>https://qiita.com/advent-calendar/2017/categor...</td>\n",
       "      <td>2017</td>\n",
       "    </tr>\n",
       "    <tr>\n",
       "      <th>37</th>\n",
       "      <td>10</td>\n",
       "      <td>130</td>\n",
       "      <td>エディタ</td>\n",
       "      <td>https://qiita.com/advent-calendar/2017/categor...</td>\n",
       "      <td>2017</td>\n",
       "    </tr>\n",
       "    <tr>\n",
       "      <th>38</th>\n",
       "      <td>22</td>\n",
       "      <td>200</td>\n",
       "      <td>学術</td>\n",
       "      <td>https://qiita.com/advent-calendar/2017/categor...</td>\n",
       "      <td>2017</td>\n",
       "    </tr>\n",
       "    <tr>\n",
       "      <th>39</th>\n",
       "      <td>40</td>\n",
       "      <td>498</td>\n",
       "      <td>サービス・アプリケーション</td>\n",
       "      <td>https://qiita.com/advent-calendar/2017/categor...</td>\n",
       "      <td>2017</td>\n",
       "    </tr>\n",
       "    <tr>\n",
       "      <th>40</th>\n",
       "      <td>203</td>\n",
       "      <td>2946</td>\n",
       "      <td>企業・学校・団体</td>\n",
       "      <td>https://qiita.com/advent-calendar/2017/categor...</td>\n",
       "      <td>2017</td>\n",
       "    </tr>\n",
       "    <tr>\n",
       "      <th>41</th>\n",
       "      <td>62</td>\n",
       "      <td>510</td>\n",
       "      <td>その他</td>\n",
       "      <td>https://qiita.com/advent-calendar/2017/categor...</td>\n",
       "      <td>2017</td>\n",
       "    </tr>\n",
       "  </tbody>\n",
       "</table>\n",
       "</div>"
      ],
      "text/plain": [
       "   n_calendar n_participant           name  \\\n",
       "0          23           144            未設定   \n",
       "1          57           674      プログラミング言語   \n",
       "2          54           517  ライブラリ・フレームワーク   \n",
       "3          16           110         データベース   \n",
       "4          25           282      Webテクノロジー   \n",
       "5          11           138           モバイル   \n",
       "6          11           163    DevOps・インフラ   \n",
       "7          16           192     IoT・ハードウェア   \n",
       "8          10            87             OS   \n",
       "9           7            92           エディタ   \n",
       "10         12           119             学術   \n",
       "11         32           410  サービス・アプリケーション   \n",
       "12         78          1168       企業・学校・団体   \n",
       "13         25           199            その他   \n",
       "14          2             6            未設定   \n",
       "15         78           854      プログラミング言語   \n",
       "16         54           658  ライブラリ・フレームワーク   \n",
       "17         13            89         データベース   \n",
       "18         27           247      Webテクノロジー   \n",
       "19         17           221           モバイル   \n",
       "20         10           161    DevOps・インフラ   \n",
       "21         13           128     IoT・ハードウェア   \n",
       "22          8            57             OS   \n",
       "23         12           151           エディタ   \n",
       "24         19           189             学術   \n",
       "25         41           459  サービス・アプリケーション   \n",
       "26        144          2237       企業・学校・団体   \n",
       "27         61           549            その他   \n",
       "28          0             0            未設定   \n",
       "29         89           918      プログラミング言語   \n",
       "30         61           676  ライブラリ・フレームワーク   \n",
       "31          9            75         データベース   \n",
       "32         40           408      Webテクノロジー   \n",
       "33         13           194           モバイル   \n",
       "34         19           184    DevOps・インフラ   \n",
       "35         18           224     IoT・ハードウェア   \n",
       "36          6            52             OS   \n",
       "37         10           130           エディタ   \n",
       "38         22           200             学術   \n",
       "39         40           498  サービス・アプリケーション   \n",
       "40        203          2946       企業・学校・団体   \n",
       "41         62           510            その他   \n",
       "\n",
       "                                                  url  year  \n",
       "0   https://qiita.com/advent-calendar/2015/categor...  2015  \n",
       "1   https://qiita.com/advent-calendar/2015/categor...  2015  \n",
       "2   https://qiita.com/advent-calendar/2015/categor...  2015  \n",
       "3   https://qiita.com/advent-calendar/2015/categor...  2015  \n",
       "4   https://qiita.com/advent-calendar/2015/categor...  2015  \n",
       "5   https://qiita.com/advent-calendar/2015/categor...  2015  \n",
       "6   https://qiita.com/advent-calendar/2015/categor...  2015  \n",
       "7   https://qiita.com/advent-calendar/2015/categor...  2015  \n",
       "8   https://qiita.com/advent-calendar/2015/categor...  2015  \n",
       "9   https://qiita.com/advent-calendar/2015/categor...  2015  \n",
       "10  https://qiita.com/advent-calendar/2015/categor...  2015  \n",
       "11  https://qiita.com/advent-calendar/2015/categor...  2015  \n",
       "12  https://qiita.com/advent-calendar/2015/categor...  2015  \n",
       "13  https://qiita.com/advent-calendar/2015/categor...  2015  \n",
       "14  https://qiita.com/advent-calendar/2016/categor...  2016  \n",
       "15  https://qiita.com/advent-calendar/2016/categor...  2016  \n",
       "16  https://qiita.com/advent-calendar/2016/categor...  2016  \n",
       "17  https://qiita.com/advent-calendar/2016/categor...  2016  \n",
       "18  https://qiita.com/advent-calendar/2016/categor...  2016  \n",
       "19  https://qiita.com/advent-calendar/2016/categor...  2016  \n",
       "20  https://qiita.com/advent-calendar/2016/categor...  2016  \n",
       "21  https://qiita.com/advent-calendar/2016/categor...  2016  \n",
       "22  https://qiita.com/advent-calendar/2016/categor...  2016  \n",
       "23  https://qiita.com/advent-calendar/2016/categor...  2016  \n",
       "24  https://qiita.com/advent-calendar/2016/categor...  2016  \n",
       "25  https://qiita.com/advent-calendar/2016/categor...  2016  \n",
       "26  https://qiita.com/advent-calendar/2016/categor...  2016  \n",
       "27  https://qiita.com/advent-calendar/2016/categor...  2016  \n",
       "28  https://qiita.com/advent-calendar/2017/categor...  2017  \n",
       "29  https://qiita.com/advent-calendar/2017/categor...  2017  \n",
       "30  https://qiita.com/advent-calendar/2017/categor...  2017  \n",
       "31  https://qiita.com/advent-calendar/2017/categor...  2017  \n",
       "32  https://qiita.com/advent-calendar/2017/categor...  2017  \n",
       "33  https://qiita.com/advent-calendar/2017/categor...  2017  \n",
       "34  https://qiita.com/advent-calendar/2017/categor...  2017  \n",
       "35  https://qiita.com/advent-calendar/2017/categor...  2017  \n",
       "36  https://qiita.com/advent-calendar/2017/categor...  2017  \n",
       "37  https://qiita.com/advent-calendar/2017/categor...  2017  \n",
       "38  https://qiita.com/advent-calendar/2017/categor...  2017  \n",
       "39  https://qiita.com/advent-calendar/2017/categor...  2017  \n",
       "40  https://qiita.com/advent-calendar/2017/categor...  2017  \n",
       "41  https://qiita.com/advent-calendar/2017/categor...  2017  "
      ]
     },
     "execution_count": 105,
     "metadata": {},
     "output_type": "execute_result"
    }
   ],
   "source": [
    "df_top"
   ]
  },
  {
   "cell_type": "markdown",
   "metadata": {},
   "source": [
    "# カテゴリページ"
   ]
  },
  {
   "cell_type": "code",
   "execution_count": 111,
   "metadata": {},
   "outputs": [],
   "source": [
    "resp = session.get(url, headers=headers)"
   ]
  },
  {
   "cell_type": "code",
   "execution_count": 112,
   "metadata": {},
   "outputs": [],
   "source": [
    "calendars = resp.html.find('.adventCalendarList_calendarTitle')"
   ]
  },
  {
   "cell_type": "code",
   "execution_count": 113,
   "metadata": {},
   "outputs": [],
   "source": [
    "calendar = calendars[0]"
   ]
  },
  {
   "cell_type": "code",
   "execution_count": 114,
   "metadata": {},
   "outputs": [
    {
     "data": {
      "text/plain": [
       "'#学生LT'"
      ]
     },
     "execution_count": 114,
     "metadata": {},
     "output_type": "execute_result"
    }
   ],
   "source": [
    "calendar.text"
   ]
  },
  {
   "cell_type": "code",
   "execution_count": 41,
   "metadata": {},
   "outputs": [],
   "source": [
    "calendar_url = calendar.find('a', first=True).attrs.get('href')"
   ]
  },
  {
   "cell_type": "code",
   "execution_count": 42,
   "metadata": {},
   "outputs": [],
   "source": [
    "progresses = resp.html.find('.adventCalendarList_progress')"
   ]
  },
  {
   "cell_type": "code",
   "execution_count": 43,
   "metadata": {},
   "outputs": [],
   "source": [
    "progress = progresses[0]"
   ]
  },
  {
   "cell_type": "code",
   "execution_count": 44,
   "metadata": {},
   "outputs": [
    {
     "data": {
      "text/plain": [
       "'25/25'"
      ]
     },
     "execution_count": 44,
     "metadata": {},
     "output_type": "execute_result"
    }
   ],
   "source": [
    "progress.text"
   ]
  },
  {
   "cell_type": "code",
   "execution_count": 46,
   "metadata": {},
   "outputs": [],
   "source": [
    "calendar_url = urljoin(url_base, calendar_url)"
   ]
  },
  {
   "cell_type": "code",
   "execution_count": 117,
   "metadata": {},
   "outputs": [
    {
     "data": {
      "application/vnd.jupyter.widget-view+json": {
       "model_id": "4e3eb68d73b04fa982df238773ed60e0",
       "version_major": 2,
       "version_minor": 0
      },
      "text/plain": [
       "HBox(children=(IntProgress(value=1, bar_style='info', max=1), HTML(value='')))"
      ]
     },
     "metadata": {},
     "output_type": "display_data"
    },
    {
     "name": "stdout",
     "output_type": "stream",
     "text": [
      "\n"
     ]
    }
   ],
   "source": [
    "ls_category = []\n",
    "\n",
    "for i, row in tqdm_notebook(df_top.iterrows()):\n",
    "    url = row['url']\n",
    "    category_name = row['name']\n",
    "    year = row['year']\n",
    "    \n",
    "    resp = session.get(url, headers=headers)\n",
    "    time.sleep(1)\n",
    "    \n",
    "    calendars = resp.html.find('.adventCalendarList_calendarTitle')\n",
    "    progresses = resp.html.find('.adventCalendarList_progress')\n",
    "\n",
    "    for calendar, progress in zip(calendars, progresses):\n",
    "        calendar_title = calendar.text\n",
    "        calendar_url = calendar.find('a', first=True).attrs.get('href')\n",
    "        calendar_url = urljoin(url_base, calendar_url)\n",
    "\n",
    "        progress_text = progress.text\n",
    "        \n",
    "        dic_category = {\n",
    "            'year': year, 'category': category_name, 'name': calendar_title, 'url': calendar_url, 'progress': progress_text\n",
    "        }\n",
    "        ls_category.append(dic_category)"
   ]
  },
  {
   "cell_type": "code",
   "execution_count": 118,
   "metadata": {},
   "outputs": [],
   "source": [
    "df_category = pd.DataFrame(ls_category)"
   ]
  },
  {
   "cell_type": "code",
   "execution_count": 122,
   "metadata": {
    "scrolled": false
   },
   "outputs": [
    {
     "data": {
      "text/html": [
       "<div>\n",
       "<style scoped>\n",
       "    .dataframe tbody tr th:only-of-type {\n",
       "        vertical-align: middle;\n",
       "    }\n",
       "\n",
       "    .dataframe tbody tr th {\n",
       "        vertical-align: top;\n",
       "    }\n",
       "\n",
       "    .dataframe thead th {\n",
       "        text-align: right;\n",
       "    }\n",
       "</style>\n",
       "<table border=\"1\" class=\"dataframe\">\n",
       "  <thead>\n",
       "    <tr style=\"text-align: right;\">\n",
       "      <th></th>\n",
       "      <th>category</th>\n",
       "      <th>name</th>\n",
       "      <th>progress</th>\n",
       "      <th>url</th>\n",
       "      <th>year</th>\n",
       "    </tr>\n",
       "  </thead>\n",
       "  <tbody>\n",
       "    <tr>\n",
       "      <th>0</th>\n",
       "      <td>未設定</td>\n",
       "      <td>Apache Spark</td>\n",
       "      <td>21/25</td>\n",
       "      <td>https://qiita.com/advent-calendar/2015/apache-...</td>\n",
       "      <td>2015</td>\n",
       "    </tr>\n",
       "    <tr>\n",
       "      <th>1</th>\n",
       "      <td>未設定</td>\n",
       "      <td>Apache Spark,Impala,Presto..etc NextGen Distri...</td>\n",
       "      <td>8/25</td>\n",
       "      <td>https://qiita.com/advent-calendar/2015/nxdistr...</td>\n",
       "      <td>2015</td>\n",
       "    </tr>\n",
       "    <tr>\n",
       "      <th>2</th>\n",
       "      <td>未設定</td>\n",
       "      <td>Bython Chogo</td>\n",
       "      <td>0/25</td>\n",
       "      <td>https://qiita.com/advent-calendar/2015/chogo</td>\n",
       "      <td>2015</td>\n",
       "    </tr>\n",
       "    <tr>\n",
       "      <th>3</th>\n",
       "      <td>未設定</td>\n",
       "      <td>Civic Tech</td>\n",
       "      <td>25/25</td>\n",
       "      <td>https://qiita.com/advent-calendar/2015/civictech</td>\n",
       "      <td>2015</td>\n",
       "    </tr>\n",
       "    <tr>\n",
       "      <th>4</th>\n",
       "      <td>未設定</td>\n",
       "      <td>Dvorak</td>\n",
       "      <td>25/25</td>\n",
       "      <td>https://qiita.com/advent-calendar/2015/dvorak</td>\n",
       "      <td>2015</td>\n",
       "    </tr>\n",
       "  </tbody>\n",
       "</table>\n",
       "</div>"
      ],
      "text/plain": [
       "  category                                               name progress  \\\n",
       "0      未設定                                       Apache Spark    21/25   \n",
       "1      未設定  Apache Spark,Impala,Presto..etc NextGen Distri...     8/25   \n",
       "2      未設定                                       Bython Chogo     0/25   \n",
       "3      未設定                                         Civic Tech    25/25   \n",
       "4      未設定                                             Dvorak    25/25   \n",
       "\n",
       "                                                 url  year  \n",
       "0  https://qiita.com/advent-calendar/2015/apache-...  2015  \n",
       "1  https://qiita.com/advent-calendar/2015/nxdistr...  2015  \n",
       "2       https://qiita.com/advent-calendar/2015/chogo  2015  \n",
       "3   https://qiita.com/advent-calendar/2015/civictech  2015  \n",
       "4      https://qiita.com/advent-calendar/2015/dvorak  2015  "
      ]
     },
     "execution_count": 122,
     "metadata": {},
     "output_type": "execute_result"
    }
   ],
   "source": [
    "df_category.head()"
   ]
  },
  {
   "cell_type": "markdown",
   "metadata": {},
   "source": [
    "# カレンダーページ"
   ]
  },
  {
   "cell_type": "code",
   "execution_count": 51,
   "metadata": {},
   "outputs": [],
   "source": [
    "resp = session.get(calendar_url, headers=headers)"
   ]
  },
  {
   "cell_type": "code",
   "execution_count": 53,
   "metadata": {},
   "outputs": [],
   "source": [
    "title = resp.html.find('.adventCalendarJumbotron_heading', first=True).text\n",
    "participant = resp.html.find('.adventCalendarJumbotron_stats', first=True).text\n",
    "n_like = resp.html.find('.adventCalendarJumbotron_stats', first=True).text\n",
    "n_reader = resp.html.find('.adventCalendarJumbotron_stats', first=True).text"
   ]
  },
  {
   "cell_type": "code",
   "execution_count": 54,
   "metadata": {},
   "outputs": [],
   "source": [
    "articles = resp.html.find('.adventCalendarCalendar_comment')"
   ]
  },
  {
   "cell_type": "code",
   "execution_count": 55,
   "metadata": {},
   "outputs": [
    {
     "data": {
      "text/plain": [
       "25"
      ]
     },
     "execution_count": 55,
     "metadata": {},
     "output_type": "execute_result"
    }
   ],
   "source": [
    "len(articles)"
   ]
  },
  {
   "cell_type": "code",
   "execution_count": 56,
   "metadata": {},
   "outputs": [],
   "source": [
    "article = articles[0]"
   ]
  },
  {
   "cell_type": "code",
   "execution_count": 61,
   "metadata": {},
   "outputs": [],
   "source": [
    "article_url = article.find('a', first=True).attrs.get('href')"
   ]
  },
  {
   "cell_type": "code",
   "execution_count": 124,
   "metadata": {},
   "outputs": [
    {
     "data": {
      "application/vnd.jupyter.widget-view+json": {
       "model_id": "5ad102e288c445b091a27ae24c6db390",
       "version_major": 2,
       "version_minor": 0
      },
      "text/plain": [
       "HBox(children=(IntProgress(value=1, bar_style='info', max=1), HTML(value='')))"
      ]
     },
     "metadata": {},
     "output_type": "display_data"
    },
    {
     "name": "stdout",
     "output_type": "stream",
     "text": [
      "\n"
     ]
    }
   ],
   "source": [
    "ls_calendar = []\n",
    "\n",
    "for i, row in tqdm_notebook(df_category.iterrows()):\n",
    "    url = row['url']\n",
    "    category_name = row['category']\n",
    "    year = row['year']\n",
    "    \n",
    "    resp = session.get(url, headers=headers)\n",
    "    time.sleep(1)\n",
    "    \n",
    "#     title = resp.html.find('.adventCalendarJumbotron_heading', first=True).text\n",
    "    n_participant = resp.html.find('.adventCalendarJumbotron_stats', first=True).text\n",
    "    n_like = resp.html.find('.adventCalendarJumbotron_stats', first=True).text\n",
    "    n_reader = resp.html.find('.adventCalendarJumbotron_stats', first=True).text\n",
    "    \n",
    "    articles = resp.html.find('.adventCalendarCalendar_comment')\n",
    "    dic_calendar = {\n",
    "        'n_participant': n_participant, 'n_like': n_like, 'n_reader': n_reader\n",
    "    }\n",
    "    ls_calendar.append(dic_calendar)"
   ]
  },
  {
   "cell_type": "code",
   "execution_count": 125,
   "metadata": {},
   "outputs": [],
   "source": [
    "df_calendar = pd.DataFrame(ls_calendar)"
   ]
  },
  {
   "cell_type": "code",
   "execution_count": 130,
   "metadata": {},
   "outputs": [],
   "source": [
    "df_calendar = pd.concat([df_category, df_calendar], axis=1)"
   ]
  },
  {
   "cell_type": "markdown",
   "metadata": {},
   "source": [
    "# 記事ページ"
   ]
  },
  {
   "cell_type": "code",
   "execution_count": 62,
   "metadata": {},
   "outputs": [],
   "source": [
    "resp = session.get(article_url, headers=headers)"
   ]
  },
  {
   "cell_type": "code",
   "execution_count": 67,
   "metadata": {},
   "outputs": [],
   "source": [
    "title = resp.html.find('.it-Header_title', first=True).text\n",
    "author = resp.html.find('.it-Header_authorName', first=True).text\n",
    "like = resp.html.find('.it-Actions_likeCount', first=True).text\n",
    "comment = resp.html.find('.it-Actions_commentCount', first=True).text\n",
    "content = resp.html.find('.it-MdContent', first=True).text"
   ]
  },
  {
   "cell_type": "code",
   "execution_count": 149,
   "metadata": {},
   "outputs": [
    {
     "data": {
      "application/vnd.jupyter.widget-view+json": {
       "model_id": "2ed333bafc7947f69eaa7fe4ff3821da",
       "version_major": 2,
       "version_minor": 0
      },
      "text/plain": [
       "HBox(children=(IntProgress(value=1, bar_style='info', description='calendar', max=1), HTML(value='')))"
      ]
     },
     "metadata": {},
     "output_type": "display_data"
    },
    {
     "data": {
      "application/vnd.jupyter.widget-view+json": {
       "model_id": "48928f11c41f4fe698aa64c3454513f1",
       "version_major": 2,
       "version_minor": 0
      },
      "text/plain": [
       "HBox(children=(IntProgress(value=0, description='article', max=21), HTML(value='')))"
      ]
     },
     "metadata": {},
     "output_type": "display_data"
    },
    {
     "name": "stdout",
     "output_type": "stream",
     "text": [
      "\n"
     ]
    },
    {
     "data": {
      "application/vnd.jupyter.widget-view+json": {
       "model_id": "c03f277a1af64b3ebbbaec88b70b1d5f",
       "version_major": 2,
       "version_minor": 0
      },
      "text/plain": [
       "HBox(children=(IntProgress(value=0, description='article', max=8), HTML(value='')))"
      ]
     },
     "metadata": {},
     "output_type": "display_data"
    },
    {
     "data": {
      "application/vnd.jupyter.widget-view+json": {
       "model_id": "398140308ade4fc3a5a49a09debd6187",
       "version_major": 2,
       "version_minor": 0
      },
      "text/plain": [
       "HBox(children=(IntProgress(value=1, bar_style='info', description='article', max=1), HTML(value='')))"
      ]
     },
     "metadata": {},
     "output_type": "display_data"
    },
    {
     "data": {
      "application/vnd.jupyter.widget-view+json": {
       "model_id": "d483278a320c4b81ac38be21339519e7",
       "version_major": 2,
       "version_minor": 0
      },
      "text/plain": [
       "HBox(children=(IntProgress(value=0, description='article', max=25), HTML(value='')))"
      ]
     },
     "metadata": {},
     "output_type": "display_data"
    },
    {
     "data": {
      "application/vnd.jupyter.widget-view+json": {
       "model_id": "15e8dfd9f2fb450d95eeaacfbe4b39aa",
       "version_major": 2,
       "version_minor": 0
      },
      "text/plain": [
       "HBox(children=(IntProgress(value=0, description='article', max=25), HTML(value='')))"
      ]
     },
     "metadata": {},
     "output_type": "display_data"
    },
    {
     "data": {
      "application/vnd.jupyter.widget-view+json": {
       "model_id": "11f4b4efc96048a9aa8587acbc6e962f",
       "version_major": 2,
       "version_minor": 0
      },
      "text/plain": [
       "HBox(children=(IntProgress(value=0, description='article', max=3), HTML(value='')))"
      ]
     },
     "metadata": {},
     "output_type": "display_data"
    },
    {
     "data": {
      "application/vnd.jupyter.widget-view+json": {
       "model_id": "1bc43403c5f448b79d298ba1d8271691",
       "version_major": 2,
       "version_minor": 0
      },
      "text/plain": [
       "HBox(children=(IntProgress(value=0, description='article', max=4), HTML(value='')))"
      ]
     },
     "metadata": {},
     "output_type": "display_data"
    },
    {
     "data": {
      "application/vnd.jupyter.widget-view+json": {
       "model_id": "b73188fdf5134c8cadf35b30995242f0",
       "version_major": 2,
       "version_minor": 0
      },
      "text/plain": [
       "HBox(children=(IntProgress(value=0, description='article', max=25), HTML(value='')))"
      ]
     },
     "metadata": {},
     "output_type": "display_data"
    },
    {
     "data": {
      "application/vnd.jupyter.widget-view+json": {
       "model_id": "89034b22378e4ef58dcf1eb57870c898",
       "version_major": 2,
       "version_minor": 0
      },
      "text/plain": [
       "HBox(children=(IntProgress(value=0, description='article', max=24), HTML(value='')))"
      ]
     },
     "metadata": {},
     "output_type": "display_data"
    },
    {
     "data": {
      "application/vnd.jupyter.widget-view+json": {
       "model_id": "a8718205099744398b73b137220a8f76",
       "version_major": 2,
       "version_minor": 0
      },
      "text/plain": [
       "HBox(children=(IntProgress(value=0, description='article', max=20), HTML(value='')))"
      ]
     },
     "metadata": {},
     "output_type": "display_data"
    },
    {
     "data": {
      "application/vnd.jupyter.widget-view+json": {
       "model_id": "a268fdb17f5641099d25846d90feaef0",
       "version_major": 2,
       "version_minor": 0
      },
      "text/plain": [
       "HBox(children=(IntProgress(value=0, description='article', max=25), HTML(value='')))"
      ]
     },
     "metadata": {},
     "output_type": "display_data"
    },
    {
     "data": {
      "application/vnd.jupyter.widget-view+json": {
       "model_id": "c22bf3b3c5a0413d984042ae8a21ab08",
       "version_major": 2,
       "version_minor": 0
      },
      "text/plain": [
       "HBox(children=(IntProgress(value=0, description='article', max=5), HTML(value='')))"
      ]
     },
     "metadata": {},
     "output_type": "display_data"
    },
    {
     "data": {
      "application/vnd.jupyter.widget-view+json": {
       "model_id": "9ec839705c8a40e483fd288c2ef55de3",
       "version_major": 2,
       "version_minor": 0
      },
      "text/plain": [
       "HBox(children=(IntProgress(value=0, description='article', max=18), HTML(value='')))"
      ]
     },
     "metadata": {},
     "output_type": "display_data"
    },
    {
     "data": {
      "application/vnd.jupyter.widget-view+json": {
       "model_id": "7c6875833fc749a2b6e6c6e774b1f586",
       "version_major": 2,
       "version_minor": 0
      },
      "text/plain": [
       "HBox(children=(IntProgress(value=0, description='article', max=5), HTML(value='')))"
      ]
     },
     "metadata": {},
     "output_type": "display_data"
    },
    {
     "data": {
      "application/vnd.jupyter.widget-view+json": {
       "model_id": "5c36a1a9855a4957af48f095e293eec1",
       "version_major": 2,
       "version_minor": 0
      },
      "text/plain": [
       "HBox(children=(IntProgress(value=0, description='article', max=8), HTML(value='')))"
      ]
     },
     "metadata": {},
     "output_type": "display_data"
    },
    {
     "data": {
      "application/vnd.jupyter.widget-view+json": {
       "model_id": "e3b0f02a64f84c2f89f2b48c8aac5cfd",
       "version_major": 2,
       "version_minor": 0
      },
      "text/plain": [
       "HBox(children=(IntProgress(value=0, description='article', max=9), HTML(value='')))"
      ]
     },
     "metadata": {},
     "output_type": "display_data"
    },
    {
     "data": {
      "application/vnd.jupyter.widget-view+json": {
       "model_id": "84b4211ad7a34acaa92afbe2898adf6f",
       "version_major": 2,
       "version_minor": 0
      },
      "text/plain": [
       "HBox(children=(IntProgress(value=0, description='article', max=6), HTML(value='')))"
      ]
     },
     "metadata": {},
     "output_type": "display_data"
    },
    {
     "data": {
      "application/vnd.jupyter.widget-view+json": {
       "model_id": "3328e276897341faab39192240449cdd",
       "version_major": 2,
       "version_minor": 0
      },
      "text/plain": [
       "HBox(children=(IntProgress(value=0, description='article', max=25), HTML(value='')))"
      ]
     },
     "metadata": {},
     "output_type": "display_data"
    },
    {
     "data": {
      "application/vnd.jupyter.widget-view+json": {
       "model_id": "b36a41c7f5f8422abb6291098e877768",
       "version_major": 2,
       "version_minor": 0
      },
      "text/plain": [
       "HBox(children=(IntProgress(value=0, description='article', max=25), HTML(value='')))"
      ]
     },
     "metadata": {},
     "output_type": "display_data"
    },
    {
     "data": {
      "application/vnd.jupyter.widget-view+json": {
       "model_id": "c44e3ecb287a499aa80a11335d6f394a",
       "version_major": 2,
       "version_minor": 0
      },
      "text/plain": [
       "HBox(children=(IntProgress(value=0, description='article', max=6), HTML(value='')))"
      ]
     },
     "metadata": {},
     "output_type": "display_data"
    },
    {
     "data": {
      "application/vnd.jupyter.widget-view+json": {
       "model_id": "e24b576199c64f84bfa2f025751d08cb",
       "version_major": 2,
       "version_minor": 0
      },
      "text/plain": [
       "HBox(children=(IntProgress(value=0, description='article', max=25), HTML(value='')))"
      ]
     },
     "metadata": {},
     "output_type": "display_data"
    },
    {
     "data": {
      "application/vnd.jupyter.widget-view+json": {
       "model_id": "130d2bb24f394c4086099f637d3a78d5",
       "version_major": 2,
       "version_minor": 0
      },
      "text/plain": [
       "HBox(children=(IntProgress(value=0, description='article', max=8), HTML(value='')))"
      ]
     },
     "metadata": {},
     "output_type": "display_data"
    },
    {
     "data": {
      "application/vnd.jupyter.widget-view+json": {
       "model_id": "61a214141b394039b4c13d4996b916bd",
       "version_major": 2,
       "version_minor": 0
      },
      "text/plain": [
       "HBox(children=(IntProgress(value=0, description='article', max=10), HTML(value='')))"
      ]
     },
     "metadata": {},
     "output_type": "display_data"
    },
    {
     "data": {
      "application/vnd.jupyter.widget-view+json": {
       "model_id": "b1a4317322c84071ae346f0948f349cc",
       "version_major": 2,
       "version_minor": 0
      },
      "text/plain": [
       "HBox(children=(IntProgress(value=1, bar_style='info', description='article', max=1), HTML(value='')))"
      ]
     },
     "metadata": {},
     "output_type": "display_data"
    },
    {
     "data": {
      "application/vnd.jupyter.widget-view+json": {
       "model_id": "1ddab65527da4d4eb5d07c143b2c6041",
       "version_major": 2,
       "version_minor": 0
      },
      "text/plain": [
       "HBox(children=(IntProgress(value=0, description='article', max=25), HTML(value='')))"
      ]
     },
     "metadata": {},
     "output_type": "display_data"
    },
    {
     "data": {
      "application/vnd.jupyter.widget-view+json": {
       "model_id": "1c1f94302d9f480bbe662f86337377bc",
       "version_major": 2,
       "version_minor": 0
      },
      "text/plain": [
       "HBox(children=(IntProgress(value=0, description='article', max=9), HTML(value='')))"
      ]
     },
     "metadata": {},
     "output_type": "display_data"
    },
    {
     "data": {
      "application/vnd.jupyter.widget-view+json": {
       "model_id": "500bca6d9edb4d51b81719365d34ea86",
       "version_major": 2,
       "version_minor": 0
      },
      "text/plain": [
       "HBox(children=(IntProgress(value=0, description='article', max=24), HTML(value='')))"
      ]
     },
     "metadata": {},
     "output_type": "display_data"
    },
    {
     "data": {
      "application/vnd.jupyter.widget-view+json": {
       "model_id": "b6d37942f96e4a0d970d191832a0b066",
       "version_major": 2,
       "version_minor": 0
      },
      "text/plain": [
       "HBox(children=(IntProgress(value=0, description='article', max=25), HTML(value='')))"
      ]
     },
     "metadata": {},
     "output_type": "display_data"
    },
    {
     "data": {
      "application/vnd.jupyter.widget-view+json": {
       "model_id": "3914ac28984843b2816ee23acba7a712",
       "version_major": 2,
       "version_minor": 0
      },
      "text/plain": [
       "HBox(children=(IntProgress(value=0, description='article', max=24), HTML(value='')))"
      ]
     },
     "metadata": {},
     "output_type": "display_data"
    },
    {
     "data": {
      "application/vnd.jupyter.widget-view+json": {
       "model_id": "caf8f211e8be47a481c2410a9fc81126",
       "version_major": 2,
       "version_minor": 0
      },
      "text/plain": [
       "HBox(children=(IntProgress(value=0, description='article', max=23), HTML(value='')))"
      ]
     },
     "metadata": {},
     "output_type": "display_data"
    },
    {
     "data": {
      "application/vnd.jupyter.widget-view+json": {
       "model_id": "900a967982d64c65a1a10e6b124cce19",
       "version_major": 2,
       "version_minor": 0
      },
      "text/plain": [
       "HBox(children=(IntProgress(value=0, description='article', max=25), HTML(value='')))"
      ]
     },
     "metadata": {},
     "output_type": "display_data"
    },
    {
     "data": {
      "application/vnd.jupyter.widget-view+json": {
       "model_id": "95dc06e85ed3494ca4d0a9e8509088a5",
       "version_major": 2,
       "version_minor": 0
      },
      "text/plain": [
       "HBox(children=(IntProgress(value=0, description='article', max=24), HTML(value='')))"
      ]
     },
     "metadata": {},
     "output_type": "display_data"
    },
    {
     "data": {
      "application/vnd.jupyter.widget-view+json": {
       "model_id": "e691a37b792d45d79428887864368ea6",
       "version_major": 2,
       "version_minor": 0
      },
      "text/plain": [
       "HBox(children=(IntProgress(value=0, description='article', max=22), HTML(value='')))"
      ]
     },
     "metadata": {},
     "output_type": "display_data"
    },
    {
     "data": {
      "application/vnd.jupyter.widget-view+json": {
       "model_id": "fbaaecb583a54b76908da5fe5d6e07d1",
       "version_major": 2,
       "version_minor": 0
      },
      "text/plain": [
       "HBox(children=(IntProgress(value=0, description='article', max=8), HTML(value='')))"
      ]
     },
     "metadata": {},
     "output_type": "display_data"
    },
    {
     "data": {
      "application/vnd.jupyter.widget-view+json": {
       "model_id": "683588d987aa40808ea4eac0e1635254",
       "version_major": 2,
       "version_minor": 0
      },
      "text/plain": [
       "HBox(children=(IntProgress(value=0, description='article', max=24), HTML(value='')))"
      ]
     },
     "metadata": {},
     "output_type": "display_data"
    },
    {
     "data": {
      "application/vnd.jupyter.widget-view+json": {
       "model_id": "4a00c231a8e1401b9ac5592aaa74b9dc",
       "version_major": 2,
       "version_minor": 0
      },
      "text/plain": [
       "HBox(children=(IntProgress(value=0, description='article', max=25), HTML(value='')))"
      ]
     },
     "metadata": {},
     "output_type": "display_data"
    },
    {
     "data": {
      "application/vnd.jupyter.widget-view+json": {
       "model_id": "79ca1835fa2c4c6db4689330c2f4fc4c",
       "version_major": 2,
       "version_minor": 0
      },
      "text/plain": [
       "HBox(children=(IntProgress(value=0, description='article', max=24), HTML(value='')))"
      ]
     },
     "metadata": {},
     "output_type": "display_data"
    },
    {
     "data": {
      "application/vnd.jupyter.widget-view+json": {
       "model_id": "d0169b45eae24af59357016e7123b900",
       "version_major": 2,
       "version_minor": 0
      },
      "text/plain": [
       "HBox(children=(IntProgress(value=0, description='article', max=25), HTML(value='')))"
      ]
     },
     "metadata": {},
     "output_type": "display_data"
    },
    {
     "data": {
      "application/vnd.jupyter.widget-view+json": {
       "model_id": "b646e16eca454204baa2363afc82b580",
       "version_major": 2,
       "version_minor": 0
      },
      "text/plain": [
       "HBox(children=(IntProgress(value=0, description='article', max=25), HTML(value='')))"
      ]
     },
     "metadata": {},
     "output_type": "display_data"
    },
    {
     "data": {
      "application/vnd.jupyter.widget-view+json": {
       "model_id": "8f90e6cf8f674d6dbbb021972d1dcb29",
       "version_major": 2,
       "version_minor": 0
      },
      "text/plain": [
       "HBox(children=(IntProgress(value=0, description='article', max=25), HTML(value='')))"
      ]
     },
     "metadata": {},
     "output_type": "display_data"
    },
    {
     "data": {
      "application/vnd.jupyter.widget-view+json": {
       "model_id": "04a1852bf98d49ad9ac0385fcec4f2a9",
       "version_major": 2,
       "version_minor": 0
      },
      "text/plain": [
       "HBox(children=(IntProgress(value=0, description='article', max=16), HTML(value='')))"
      ]
     },
     "metadata": {},
     "output_type": "display_data"
    },
    {
     "data": {
      "application/vnd.jupyter.widget-view+json": {
       "model_id": "65963fa645e847a1a2717e2640d2639d",
       "version_major": 2,
       "version_minor": 0
      },
      "text/plain": [
       "HBox(children=(IntProgress(value=0, description='article', max=6), HTML(value='')))"
      ]
     },
     "metadata": {},
     "output_type": "display_data"
    },
    {
     "data": {
      "application/vnd.jupyter.widget-view+json": {
       "model_id": "38dee82d16274a5884debe48a5813c92",
       "version_major": 2,
       "version_minor": 0
      },
      "text/plain": [
       "HBox(children=(IntProgress(value=0, description='article', max=25), HTML(value='')))"
      ]
     },
     "metadata": {},
     "output_type": "display_data"
    },
    {
     "data": {
      "application/vnd.jupyter.widget-view+json": {
       "model_id": "229d715ff7bc44cf9a1d01c48f220427",
       "version_major": 2,
       "version_minor": 0
      },
      "text/plain": [
       "HBox(children=(IntProgress(value=1, bar_style='info', description='article', max=1), HTML(value='')))"
      ]
     },
     "metadata": {},
     "output_type": "display_data"
    },
    {
     "data": {
      "application/vnd.jupyter.widget-view+json": {
       "model_id": "4c503de15de54259a56a440baef98da5",
       "version_major": 2,
       "version_minor": 0
      },
      "text/plain": [
       "HBox(children=(IntProgress(value=0, description='article', max=11), HTML(value='')))"
      ]
     },
     "metadata": {},
     "output_type": "display_data"
    },
    {
     "data": {
      "application/vnd.jupyter.widget-view+json": {
       "model_id": "6a4f656dff4a41429fa9391e1ece6b46",
       "version_major": 2,
       "version_minor": 0
      },
      "text/plain": [
       "HBox(children=(IntProgress(value=0, description='article', max=25), HTML(value='')))"
      ]
     },
     "metadata": {},
     "output_type": "display_data"
    },
    {
     "data": {
      "application/vnd.jupyter.widget-view+json": {
       "model_id": "7deed4eb2b3d4f09b950e99fabdee2e2",
       "version_major": 2,
       "version_minor": 0
      },
      "text/plain": [
       "HBox(children=(IntProgress(value=0, description='article', max=22), HTML(value='')))"
      ]
     },
     "metadata": {},
     "output_type": "display_data"
    },
    {
     "data": {
      "application/vnd.jupyter.widget-view+json": {
       "model_id": "fef0a2c1e36b4f0aae43f15df4c5a041",
       "version_major": 2,
       "version_minor": 0
      },
      "text/plain": [
       "HBox(children=(IntProgress(value=0, description='article', max=8), HTML(value='')))"
      ]
     },
     "metadata": {},
     "output_type": "display_data"
    },
    {
     "data": {
      "application/vnd.jupyter.widget-view+json": {
       "model_id": "08a46747e0664f988effd206dbc40944",
       "version_major": 2,
       "version_minor": 0
      },
      "text/plain": [
       "HBox(children=(IntProgress(value=0, description='article', max=3), HTML(value='')))"
      ]
     },
     "metadata": {},
     "output_type": "display_data"
    },
    {
     "data": {
      "application/vnd.jupyter.widget-view+json": {
       "model_id": "e2ed4fd361024d80ad4a1e49af848183",
       "version_major": 2,
       "version_minor": 0
      },
      "text/plain": [
       "HBox(children=(IntProgress(value=0, description='article', max=25), HTML(value='')))"
      ]
     },
     "metadata": {},
     "output_type": "display_data"
    },
    {
     "data": {
      "application/vnd.jupyter.widget-view+json": {
       "model_id": "5c74cabacb26486b8327451eed1459ba",
       "version_major": 2,
       "version_minor": 0
      },
      "text/plain": [
       "HBox(children=(IntProgress(value=0, description='article', max=25), HTML(value='')))"
      ]
     },
     "metadata": {},
     "output_type": "display_data"
    },
    {
     "data": {
      "application/vnd.jupyter.widget-view+json": {
       "model_id": "133cbb3d0ff94b0d963a2bc390f16786",
       "version_major": 2,
       "version_minor": 0
      },
      "text/plain": [
       "HBox(children=(IntProgress(value=0, description='article', max=25), HTML(value='')))"
      ]
     },
     "metadata": {},
     "output_type": "display_data"
    },
    {
     "data": {
      "application/vnd.jupyter.widget-view+json": {
       "model_id": "6dab2df37b5f45f3a3b37b7ef1a0cd89",
       "version_major": 2,
       "version_minor": 0
      },
      "text/plain": [
       "HBox(children=(IntProgress(value=0, description='article', max=6), HTML(value='')))"
      ]
     },
     "metadata": {},
     "output_type": "display_data"
    },
    {
     "data": {
      "application/vnd.jupyter.widget-view+json": {
       "model_id": "c0ebebbd21004e5bb7fd329ec947c29e",
       "version_major": 2,
       "version_minor": 0
      },
      "text/plain": [
       "HBox(children=(IntProgress(value=0, description='article', max=25), HTML(value='')))"
      ]
     },
     "metadata": {},
     "output_type": "display_data"
    },
    {
     "data": {
      "application/vnd.jupyter.widget-view+json": {
       "model_id": "3d2f399782744fa59b401fb5a77e19bd",
       "version_major": 2,
       "version_minor": 0
      },
      "text/plain": [
       "HBox(children=(IntProgress(value=0, description='article', max=24), HTML(value='')))"
      ]
     },
     "metadata": {},
     "output_type": "display_data"
    },
    {
     "data": {
      "application/vnd.jupyter.widget-view+json": {
       "model_id": "d0c5b5fe9f204bd7a9d6f4eaae0a1072",
       "version_major": 2,
       "version_minor": 0
      },
      "text/plain": [
       "HBox(children=(IntProgress(value=0, description='article', max=7), HTML(value='')))"
      ]
     },
     "metadata": {},
     "output_type": "display_data"
    },
    {
     "data": {
      "application/vnd.jupyter.widget-view+json": {
       "model_id": "4c2b27465309434c8e915ab0cad9b75c",
       "version_major": 2,
       "version_minor": 0
      },
      "text/plain": [
       "HBox(children=(IntProgress(value=0, description='article', max=25), HTML(value='')))"
      ]
     },
     "metadata": {},
     "output_type": "display_data"
    },
    {
     "data": {
      "application/vnd.jupyter.widget-view+json": {
       "model_id": "63caf66b55074b088771523366e138b6",
       "version_major": 2,
       "version_minor": 0
      },
      "text/plain": [
       "HBox(children=(IntProgress(value=0, description='article', max=25), HTML(value='')))"
      ]
     },
     "metadata": {},
     "output_type": "display_data"
    },
    {
     "data": {
      "application/vnd.jupyter.widget-view+json": {
       "model_id": "51d5433761f84032a7a484613fb193e5",
       "version_major": 2,
       "version_minor": 0
      },
      "text/plain": [
       "HBox(children=(IntProgress(value=0, description='article', max=24), HTML(value='')))"
      ]
     },
     "metadata": {},
     "output_type": "display_data"
    },
    {
     "data": {
      "application/vnd.jupyter.widget-view+json": {
       "model_id": "a7069c80d8f14cf4a72269216fb6da35",
       "version_major": 2,
       "version_minor": 0
      },
      "text/plain": [
       "HBox(children=(IntProgress(value=0, description='article', max=23), HTML(value='')))"
      ]
     },
     "metadata": {},
     "output_type": "display_data"
    },
    {
     "data": {
      "application/vnd.jupyter.widget-view+json": {
       "model_id": "350ea751aebd44d4849f5a9b0162540c",
       "version_major": 2,
       "version_minor": 0
      },
      "text/plain": [
       "HBox(children=(IntProgress(value=0, description='article', max=23), HTML(value='')))"
      ]
     },
     "metadata": {},
     "output_type": "display_data"
    },
    {
     "data": {
      "application/vnd.jupyter.widget-view+json": {
       "model_id": "5563da257de9481cbb38040554bf5725",
       "version_major": 2,
       "version_minor": 0
      },
      "text/plain": [
       "HBox(children=(IntProgress(value=0, description='article', max=25), HTML(value='')))"
      ]
     },
     "metadata": {},
     "output_type": "display_data"
    },
    {
     "data": {
      "application/vnd.jupyter.widget-view+json": {
       "model_id": "a20a07f1176f4ca1a0fc3dde62d94971",
       "version_major": 2,
       "version_minor": 0
      },
      "text/plain": [
       "HBox(children=(IntProgress(value=0, description='article', max=25), HTML(value='')))"
      ]
     },
     "metadata": {},
     "output_type": "display_data"
    },
    {
     "data": {
      "application/vnd.jupyter.widget-view+json": {
       "model_id": "7419ee335d5b4fe7b3b4d337c2adc4cf",
       "version_major": 2,
       "version_minor": 0
      },
      "text/plain": [
       "HBox(children=(IntProgress(value=0, description='article', max=25), HTML(value='')))"
      ]
     },
     "metadata": {},
     "output_type": "display_data"
    },
    {
     "data": {
      "application/vnd.jupyter.widget-view+json": {
       "model_id": "1ac69eb6b6e74e6eabf2d170a15c02da",
       "version_major": 2,
       "version_minor": 0
      },
      "text/plain": [
       "HBox(children=(IntProgress(value=0, description='article', max=25), HTML(value='')))"
      ]
     },
     "metadata": {},
     "output_type": "display_data"
    },
    {
     "data": {
      "application/vnd.jupyter.widget-view+json": {
       "model_id": "bb4891ce2942409ab48ea7b36dd2449d",
       "version_major": 2,
       "version_minor": 0
      },
      "text/plain": [
       "HBox(children=(IntProgress(value=0, description='article', max=25), HTML(value='')))"
      ]
     },
     "metadata": {},
     "output_type": "display_data"
    },
    {
     "data": {
      "application/vnd.jupyter.widget-view+json": {
       "model_id": "6387acfca653494aa29f60a116e68ca4",
       "version_major": 2,
       "version_minor": 0
      },
      "text/plain": [
       "HBox(children=(IntProgress(value=0, description='article', max=25), HTML(value='')))"
      ]
     },
     "metadata": {},
     "output_type": "display_data"
    },
    {
     "data": {
      "application/vnd.jupyter.widget-view+json": {
       "model_id": "32dc2dbf350546b5a905c193093072dc",
       "version_major": 2,
       "version_minor": 0
      },
      "text/plain": [
       "HBox(children=(IntProgress(value=0, description='article', max=22), HTML(value='')))"
      ]
     },
     "metadata": {},
     "output_type": "display_data"
    },
    {
     "data": {
      "application/vnd.jupyter.widget-view+json": {
       "model_id": "689fb9fcb7de47d19b1cf837f6779449",
       "version_major": 2,
       "version_minor": 0
      },
      "text/plain": [
       "HBox(children=(IntProgress(value=0, description='article', max=25), HTML(value='')))"
      ]
     },
     "metadata": {},
     "output_type": "display_data"
    },
    {
     "data": {
      "application/vnd.jupyter.widget-view+json": {
       "model_id": "923955ffaf824856afe4f33fec0c6fb7",
       "version_major": 2,
       "version_minor": 0
      },
      "text/plain": [
       "HBox(children=(IntProgress(value=0, description='article', max=25), HTML(value='')))"
      ]
     },
     "metadata": {},
     "output_type": "display_data"
    },
    {
     "data": {
      "application/vnd.jupyter.widget-view+json": {
       "model_id": "fc48150057204d71aedc88a3f9bc4051",
       "version_major": 2,
       "version_minor": 0
      },
      "text/plain": [
       "HBox(children=(IntProgress(value=0, description='article', max=19), HTML(value='')))"
      ]
     },
     "metadata": {},
     "output_type": "display_data"
    },
    {
     "data": {
      "application/vnd.jupyter.widget-view+json": {
       "model_id": "161f7a1331634e1bb2150695605a5ca1",
       "version_major": 2,
       "version_minor": 0
      },
      "text/plain": [
       "HBox(children=(IntProgress(value=0, description='article', max=25), HTML(value='')))"
      ]
     },
     "metadata": {},
     "output_type": "display_data"
    },
    {
     "data": {
      "application/vnd.jupyter.widget-view+json": {
       "model_id": "4c2cd9b830fe47eea97a1203b742d758",
       "version_major": 2,
       "version_minor": 0
      },
      "text/plain": [
       "HBox(children=(IntProgress(value=1, bar_style='info', description='article', max=1), HTML(value='')))"
      ]
     },
     "metadata": {},
     "output_type": "display_data"
    },
    {
     "data": {
      "application/vnd.jupyter.widget-view+json": {
       "model_id": "6bf0c14ea5bd494980dce25ce8db41f5",
       "version_major": 2,
       "version_minor": 0
      },
      "text/plain": [
       "HBox(children=(IntProgress(value=0, description='article', max=12), HTML(value='')))"
      ]
     },
     "metadata": {},
     "output_type": "display_data"
    },
    {
     "data": {
      "application/vnd.jupyter.widget-view+json": {
       "model_id": "c62b54c4995b44438912d60614a90871",
       "version_major": 2,
       "version_minor": 0
      },
      "text/plain": [
       "HBox(children=(IntProgress(value=0, description='article', max=9), HTML(value='')))"
      ]
     },
     "metadata": {},
     "output_type": "display_data"
    },
    {
     "data": {
      "application/vnd.jupyter.widget-view+json": {
       "model_id": "dc4272ade19f4eba9fb8d65cdc2d9c6f",
       "version_major": 2,
       "version_minor": 0
      },
      "text/plain": [
       "HBox(children=(IntProgress(value=0, description='article', max=7), HTML(value='')))"
      ]
     },
     "metadata": {},
     "output_type": "display_data"
    },
    {
     "data": {
      "application/vnd.jupyter.widget-view+json": {
       "model_id": "951c430641ed4b469808d3907f328fd7",
       "version_major": 2,
       "version_minor": 0
      },
      "text/plain": [
       "HBox(children=(IntProgress(value=0, description='article', max=13), HTML(value='')))"
      ]
     },
     "metadata": {},
     "output_type": "display_data"
    },
    {
     "data": {
      "application/vnd.jupyter.widget-view+json": {
       "model_id": "da18fa14c44a4c2297bf2c06beba8a22",
       "version_major": 2,
       "version_minor": 0
      },
      "text/plain": [
       "HBox(children=(IntProgress(value=0, description='article', max=25), HTML(value='')))"
      ]
     },
     "metadata": {},
     "output_type": "display_data"
    },
    {
     "data": {
      "application/vnd.jupyter.widget-view+json": {
       "model_id": "056c3cb656cb4ce7b2218616e3141312",
       "version_major": 2,
       "version_minor": 0
      },
      "text/plain": [
       "HBox(children=(IntProgress(value=0, description='article', max=15), HTML(value='')))"
      ]
     },
     "metadata": {},
     "output_type": "display_data"
    },
    {
     "data": {
      "application/vnd.jupyter.widget-view+json": {
       "model_id": "0933111e87274c8e9e961e62f269ae81",
       "version_major": 2,
       "version_minor": 0
      },
      "text/plain": [
       "HBox(children=(IntProgress(value=0, description='article', max=16), HTML(value='')))"
      ]
     },
     "metadata": {},
     "output_type": "display_data"
    },
    {
     "data": {
      "application/vnd.jupyter.widget-view+json": {
       "model_id": "644a488214ef44b6ba8b447c3eac81c3",
       "version_major": 2,
       "version_minor": 0
      },
      "text/plain": [
       "HBox(children=(IntProgress(value=0, description='article', max=25), HTML(value='')))"
      ]
     },
     "metadata": {},
     "output_type": "display_data"
    },
    {
     "data": {
      "application/vnd.jupyter.widget-view+json": {
       "model_id": "e699aaea921340e3a89e6b6a7d87f6ae",
       "version_major": 2,
       "version_minor": 0
      },
      "text/plain": [
       "HBox(children=(IntProgress(value=0, description='article', max=25), HTML(value='')))"
      ]
     },
     "metadata": {},
     "output_type": "display_data"
    },
    {
     "data": {
      "application/vnd.jupyter.widget-view+json": {
       "model_id": "fad9d5ed2f9f41aeb7d85572db48ef9b",
       "version_major": 2,
       "version_minor": 0
      },
      "text/plain": [
       "HBox(children=(IntProgress(value=0, description='article', max=4), HTML(value='')))"
      ]
     },
     "metadata": {},
     "output_type": "display_data"
    },
    {
     "data": {
      "application/vnd.jupyter.widget-view+json": {
       "model_id": "b940d437fc2f41b99c67dec9a58336f6",
       "version_major": 2,
       "version_minor": 0
      },
      "text/plain": [
       "HBox(children=(IntProgress(value=0, description='article', max=12), HTML(value='')))"
      ]
     },
     "metadata": {},
     "output_type": "display_data"
    },
    {
     "data": {
      "application/vnd.jupyter.widget-view+json": {
       "model_id": "1e0f3a3c8ef348d3be3ead52d1918e4a",
       "version_major": 2,
       "version_minor": 0
      },
      "text/plain": [
       "HBox(children=(IntProgress(value=0, description='article', max=7), HTML(value='')))"
      ]
     },
     "metadata": {},
     "output_type": "display_data"
    },
    {
     "data": {
      "application/vnd.jupyter.widget-view+json": {
       "model_id": "e2da64fb5082463f9b0d59ac3aeb374d",
       "version_major": 2,
       "version_minor": 0
      },
      "text/plain": [
       "HBox(children=(IntProgress(value=0, description='article', max=23), HTML(value='')))"
      ]
     },
     "metadata": {},
     "output_type": "display_data"
    },
    {
     "ename": "AttributeError",
     "evalue": "'NoneType' object has no attribute 'text'",
     "output_type": "error",
     "traceback": [
      "\u001b[0;31m---------------------------------------------------------------------------\u001b[0m",
      "\u001b[0;31mAttributeError\u001b[0m                            Traceback (most recent call last)",
      "\u001b[0;32m<ipython-input-149-131d363949f6>\u001b[0m in \u001b[0;36m<module>\u001b[0;34m()\u001b[0m\n\u001b[1;32m     36\u001b[0m \u001b[0;34m\u001b[0m\u001b[0m\n\u001b[1;32m     37\u001b[0m \u001b[0;31m#         title = resp.html.find('.it-Header_title', first=True).text\u001b[0m\u001b[0;34m\u001b[0m\u001b[0;34m\u001b[0m\u001b[0m\n\u001b[0;32m---> 38\u001b[0;31m         \u001b[0mauthor\u001b[0m \u001b[0;34m=\u001b[0m \u001b[0mresp\u001b[0m\u001b[0;34m.\u001b[0m\u001b[0mhtml\u001b[0m\u001b[0;34m.\u001b[0m\u001b[0mfind\u001b[0m\u001b[0;34m(\u001b[0m\u001b[0;34m'.it-Header_authorName'\u001b[0m\u001b[0;34m,\u001b[0m \u001b[0mfirst\u001b[0m\u001b[0;34m=\u001b[0m\u001b[0;32mTrue\u001b[0m\u001b[0;34m)\u001b[0m\u001b[0;34m.\u001b[0m\u001b[0mtext\u001b[0m\u001b[0;34m\u001b[0m\u001b[0m\n\u001b[0m\u001b[1;32m     39\u001b[0m         \u001b[0mn_like\u001b[0m \u001b[0;34m=\u001b[0m \u001b[0mresp\u001b[0m\u001b[0;34m.\u001b[0m\u001b[0mhtml\u001b[0m\u001b[0;34m.\u001b[0m\u001b[0mfind\u001b[0m\u001b[0;34m(\u001b[0m\u001b[0;34m'.it-Actions_likeCount'\u001b[0m\u001b[0;34m,\u001b[0m \u001b[0mfirst\u001b[0m\u001b[0;34m=\u001b[0m\u001b[0;32mTrue\u001b[0m\u001b[0;34m)\u001b[0m\u001b[0;34m.\u001b[0m\u001b[0mtext\u001b[0m\u001b[0;34m\u001b[0m\u001b[0m\n\u001b[1;32m     40\u001b[0m         \u001b[0mn_comment\u001b[0m \u001b[0;34m=\u001b[0m \u001b[0mresp\u001b[0m\u001b[0;34m.\u001b[0m\u001b[0mhtml\u001b[0m\u001b[0;34m.\u001b[0m\u001b[0mfind\u001b[0m\u001b[0;34m(\u001b[0m\u001b[0;34m'.it-Actions_commentCount'\u001b[0m\u001b[0;34m,\u001b[0m \u001b[0mfirst\u001b[0m\u001b[0;34m=\u001b[0m\u001b[0;32mTrue\u001b[0m\u001b[0;34m)\u001b[0m\u001b[0;34m.\u001b[0m\u001b[0mtext\u001b[0m\u001b[0;34m\u001b[0m\u001b[0m\n",
      "\u001b[0;31mAttributeError\u001b[0m: 'NoneType' object has no attribute 'text'"
     ]
    }
   ],
   "source": [
    "ls_article = []\n",
    "\n",
    "for i, row in tqdm_notebook(df_calendar.query('year == 2015').iterrows(), 'calendar'):\n",
    "    url = row['url']\n",
    "    category_name = row['category']\n",
    "    year = row['year']\n",
    "    calendar_name = row['name']\n",
    "\n",
    "    resp = session.get(url, headers=headers)\n",
    "    time.sleep(0.1)\n",
    "    \n",
    "    articles = resp.html.find('.adventCalendarCalendar_comment')\n",
    "    for article in tqdm_notebook(articles, 'article'):\n",
    "        el = article.find('a', first=True)\n",
    "        if el is None:\n",
    "            continue\n",
    "\n",
    "        url = el.attrs.get('href')\n",
    "        title = el.text\n",
    "\n",
    "        if urlparse(url)[1] != 'qiita.com' or 'draft' in url: # http://qiita.com/drafts/'\n",
    "            dic_article = {\n",
    "                'url': url, 'title': title,\n",
    "                'year': year, 'category': category_name, 'calendar': calendar_name\n",
    "            }\n",
    "            ls_article.append(dic_article) \n",
    "            continue\n",
    "        \n",
    "        resp = session.get(url, headers=headers)\n",
    "        time.sleep(0.5)\n",
    "\n",
    "        if resp.status_code != 200:\n",
    "            continue\n",
    "        \n",
    "\n",
    "#         title = resp.html.find('.it-Header_title', first=True).text\n",
    "        author = resp.html.find('.it-Header_authorName', first=True).text\n",
    "        n_like = resp.html.find('.it-Actions_likeCount', first=True).text\n",
    "        n_comment = resp.html.find('.it-Actions_commentCount', first=True).text\n",
    "        content = resp.html.find('.it-MdContent', first=True).text\n",
    "        \n",
    "        dic_article = {\n",
    "            'url': url, 'title': title, 'author': author, 'n_like': n_like, 'n_comment': n_comment, 'content': content,\n",
    "            'year': year, 'category': category_name, 'calendar': calendar_name\n",
    "        }\n",
    "        ls_article.append(dic_article)"
   ]
  },
  {
   "cell_type": "code",
   "execution_count": 152,
   "metadata": {},
   "outputs": [],
   "source": [
    "df = pd.DataFrame(ls_article)"
   ]
  },
  {
   "cell_type": "code",
   "execution_count": 155,
   "metadata": {},
   "outputs": [],
   "source": [
    "import requests"
   ]
  },
  {
   "cell_type": "code",
   "execution_count": 156,
   "metadata": {},
   "outputs": [],
   "source": [
    "dic_url_hatebu = {}\n",
    "for i, url in df['url'].items():\n",
    "    count = requests.get(hatena_endpoint.format(url)).json()\n",
    "    dic_url_hatebu[url] = count"
   ]
  },
  {
   "cell_type": "code",
   "execution_count": 158,
   "metadata": {},
   "outputs": [],
   "source": []
  },
  {
   "cell_type": "code",
   "execution_count": 154,
   "metadata": {},
   "outputs": [],
   "source": [
    "hatena_endpoint = 'http://api.b.st-hatena.com/entry.count?url={}'"
   ]
  },
  {
   "cell_type": "code",
   "execution_count": null,
   "metadata": {},
   "outputs": [],
   "source": []
  }
 ],
 "metadata": {
  "kernelspec": {
   "display_name": "Python 3",
   "language": "python",
   "name": "python3"
  },
  "language_info": {
   "codemirror_mode": {
    "name": "ipython",
    "version": 3
   },
   "file_extension": ".py",
   "mimetype": "text/x-python",
   "name": "python",
   "nbconvert_exporter": "python",
   "pygments_lexer": "ipython3",
   "version": "3.6.5"
  }
 },
 "nbformat": 4,
 "nbformat_minor": 2
}
