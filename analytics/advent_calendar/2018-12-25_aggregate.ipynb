{
 "cells": [
  {
   "cell_type": "code",
   "execution_count": 2,
   "metadata": {},
   "outputs": [
    {
     "name": "stdout",
     "output_type": "stream",
     "text": [
      "The autoreload extension is already loaded. To reload it, use:\n",
      "  %reload_ext autoreload\n"
     ]
    }
   ],
   "source": [
    "%load_ext autoreload\n",
    "%autoreload 2\n",
    "%matplotlib inline\n",
    "from IPython.display import Image\n",
    "\n",
    "import os, sys, re, datetime, time\n",
    "from pathlib import Path\n",
    "\n",
    "pj_dir = Path(os.getcwd()).parents[0]\n",
    "data_dir = pj_dir/'data'\n",
    "img_dir = pj_dir/'images'\n",
    "src_dir = pj_dir/'src'\n",
    "sys.path.append(str(src_dir))\n",
    "\n",
    "from matplotlib import pyplot as plt\n",
    "import japanize_matplotlib\n",
    "import seaborn as sns\n",
    "plt.style.use(\"bmh\")\n",
    "import numpy as np\n",
    "import pandas as pd\n",
    "import dask.dataframe as dd\n",
    "\n",
    "from requests_html import HTMLSession\n",
    "from urllib.parse import urlparse, urljoin\n",
    "\n",
    "from tqdm import tqdm_notebook\n",
    "from dotenv import load_dotenv"
   ]
  },
  {
   "cell_type": "markdown",
   "metadata": {},
   "source": [
    "# requests_htmlセットアップ"
   ]
  },
  {
   "cell_type": "code",
   "execution_count": 3,
   "metadata": {},
   "outputs": [],
   "source": [
    "session = HTMLSession()\n",
    "headers = {\n",
    "    'accept-language': 'ja',\n",
    "    'User-Agent': 'Mozilla/5.0 (Macintosh; Intel Mac OS X 10_14_0) AppleWebKit/537.36 (KHTML, like Gecko) Chrome/71.0.3578.98 Safari/537.36'\n",
    "}"
   ]
  },
  {
   "cell_type": "markdown",
   "metadata": {},
   "source": [
    "# 準備"
   ]
  },
  {
   "cell_type": "code",
   "execution_count": 4,
   "metadata": {},
   "outputs": [
    {
     "name": "stdout",
     "output_type": "stream",
     "text": [
      "url_base is: https://qiita.com/\n"
     ]
    }
   ],
   "source": [
    "endpoint = 'https://qiita.com/'\n",
    "resp = session.get(endpoint, headers=headers)\n",
    "url_base = '{uri.scheme}://{uri.netloc}/'.format(uri=urlparse(resp.url))\n",
    "print('url_base is:', url_base)"
   ]
  },
  {
   "cell_type": "markdown",
   "metadata": {},
   "source": [
    "# Advent Calendar TOP"
   ]
  },
  {
   "cell_type": "code",
   "execution_count": 5,
   "metadata": {},
   "outputs": [],
   "source": [
    "endpoint_top = 'https://qiita.com/advent-calendar/{}'\n",
    "\n",
    "years = [2015, 2016, 2017, 2018]\n",
    "\n",
    "ls_category = []\n",
    "for year in tqdm_notebook(years):\n",
    "    endpoint = endpoint_top.format(year)\n",
    "    resp = session.get(endpoint, headers=headers)\n",
    "    time.sleep(1)\n",
    "    \n",
    "    advent_calendar_cards = resp.html.find('.adventCalendarCard')\n",
    "    \n",
    "    for advent_calendar_card in advent_calendar_cards:\n",
    "        genre_name = advent_calendar_card.find(':root > a', first=True).text\n",
    "        showall_link = advent_calendar_card.find(':root > a', first=True).attrs.get('href')\n",
    "        showall_link = urljoin(url_base, showall_link)\n",
    "        n_calendar = advent_calendar_card.find('.adventCalendarCard_block_count', first=True).text\n",
    "        n_participant = advent_calendar_card.find('.adventCalendarCard_block_stocks', first=True).text.replace('参加者数', '')\n",
    "        \n",
    "        dic_category = {\n",
    "            'year': year, 'name': genre_name, 'url': showall_link, 'n_calendar': n_calendar, 'n_participant': n_participant\n",
    "        }\n",
    "        ls_category.append(dic_category)\n",
    "\n",
    "df_cat = pd.DataFrame(ls_category)"
   ]
  },
  {
   "cell_type": "markdown",
   "metadata": {},
   "source": [
    "# カレンダー"
   ]
  },
  {
   "cell_type": "code",
   "execution_count": null,
   "metadata": {},
   "outputs": [],
   "source": [
    "ls_calendar = []\n",
    "\n",
    "for i, row in tqdm_notebook(df_top.iterrows()):\n",
    "    url = row['url']\n",
    "    category_name = row['name']\n",
    "    year = row['year']\n",
    "    \n",
    "    resp = session.get(url, headers=headers)\n",
    "    time.sleep(1)\n",
    "    \n",
    "    calendars = resp.html.find('.adventCalendarList_calendarTitle')\n",
    "    progresses = resp.html.find('.adventCalendarList_progress')\n",
    "\n",
    "    for calendar, progress in zip(calendars, progresses):\n",
    "        calendar_title = calendar.text\n",
    "        calendar_url = calendar.find('a', first=True).attrs.get('href')\n",
    "        calendar_url = urljoin(url_base, calendar_url)\n",
    "\n",
    "        progress_text = progress.text\n",
    "        \n",
    "        dic_calendar = {\n",
    "            'year': year, 'category': category_name, 'name': calendar_title, \n",
    "            'url': calendar_url, 'progress': progress_text\n",
    "        }\n",
    "        ls_calendar.append(dic_calendar)\n",
    "\n",
    "df_calendar = pd.DataFrame(ls_calendar)"
   ]
  },
  {
   "cell_type": "markdown",
   "metadata": {},
   "source": [
    "# カレンダー情報"
   ]
  },
  {
   "cell_type": "code",
   "execution_count": null,
   "metadata": {},
   "outputs": [],
   "source": [
    "ls_calendar_info = []\n",
    "\n",
    "for i, row in tqdm_notebook(df_category.iterrows()):\n",
    "    url = row['url']\n",
    "    category_name = row['category']\n",
    "    year = row['year']\n",
    "    \n",
    "    resp = session.get(url, headers=headers)\n",
    "    time.sleep(1)\n",
    "    \n",
    "    n_participant = resp.html.find('.adventCalendarJumbotron_stats', first=True).text\n",
    "    n_like = resp.html.find('.adventCalendarJumbotron_stats', first=True).text\n",
    "    n_reader = resp.html.find('.adventCalendarJumbotron_stats', first=True).text\n",
    "    \n",
    "    articles = resp.html.find('.adventCalendarCalendar_comment')\n",
    "    dic_calendar_info = {\n",
    "        'n_participant': n_participant, 'n_like': n_like, 'n_reader': n_reader\n",
    "    }\n",
    "    ls_calendar_info.append(dic_calendar_info)\n",
    "    \n",
    "df_calendar_info = pd.DataFrame(ls_calendar_info)"
   ]
  },
  {
   "cell_type": "markdown",
   "metadata": {},
   "source": [
    "# マージ"
   ]
  },
  {
   "cell_type": "code",
   "execution_count": null,
   "metadata": {},
   "outputs": [],
   "source": [
    "df_calendar = pd.concat([df_calendar, df_calendar_info], axis=1)"
   ]
  },
  {
   "cell_type": "markdown",
   "metadata": {},
   "source": [
    "# 記事"
   ]
  },
  {
   "cell_type": "code",
   "execution_count": null,
   "metadata": {},
   "outputs": [],
   "source": [
    "ls_article = []\n",
    "\n",
    "for i, row in tqdm_notebook(df_calendar.iterrows(), 'calendar'):\n",
    "    url = row['url']\n",
    "    category_name = row['category']\n",
    "    year = row['year']\n",
    "    calendar_name = row['name']\n",
    "\n",
    "    resp = session.get(url, headers=headers)\n",
    "    time.sleep(1)\n",
    "    \n",
    "    articles = resp.html.find('.adventCalendarCalendar_comment')\n",
    "    for article in articles:\n",
    "        url = article.find('a', first=True).attrs.get('href')\n",
    "        resp = session.get(url, headers=headers)\n",
    "        time.sleep(1)\n",
    "\n",
    "        title = resp.html.find('.it-Header_title', first=True).text\n",
    "        author = resp.html.find('.it-Header_authorName', first=True).text\n",
    "        n_like = resp.html.find('.it-Actions_likeCount', first=True).text\n",
    "        n_comment = resp.html.find('.it-Actions_commentCount', first=True).text\n",
    "        content = resp.html.find('.it-MdContent', first=True).text\n",
    "        \n",
    "        dic_article = {\n",
    "            'url': url, 'title': title, 'author': author, 'n_like': n_like, 'n_comment': n_comment, 'content': content,\n",
    "            'year': year, 'category': category_name, 'calendar': calendar_name\n",
    "        }\n",
    "        ls_article.append(dic_article)\n",
    "        \n",
    "df_article = pd.DataFrame(ls_article)"
   ]
  }
 ],
 "metadata": {
  "kernelspec": {
   "display_name": "Python 3",
   "language": "python",
   "name": "python3"
  },
  "language_info": {
   "codemirror_mode": {
    "name": "ipython",
    "version": 3
   },
   "file_extension": ".py",
   "mimetype": "text/x-python",
   "name": "python",
   "nbconvert_exporter": "python",
   "pygments_lexer": "ipython3",
   "version": "3.6.5"
  }
 },
 "nbformat": 4,
 "nbformat_minor": 2
}
